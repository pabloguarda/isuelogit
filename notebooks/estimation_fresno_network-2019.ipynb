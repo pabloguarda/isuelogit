{
 "cells": [
  {
   "cell_type": "markdown",
   "metadata": {},
   "source": [
    "## Setup"
   ]
  },
  {
   "cell_type": "code",
   "execution_count": 1,
   "metadata": {},
   "outputs": [],
   "source": [
    "%matplotlib inline\n",
    "\n",
    "import warnings\n",
    "warnings.simplefilter(action = \"ignore\", category = RuntimeWarning)\n",
    "\n",
    "# External modules\n",
    "import ast\n",
    "import numpy as np\n",
    "import pandas as pd\n",
    "from sklearn import preprocessing\n",
    "import matplotlib.pyplot as plt\n",
    "import os\n",
    "from pathlib import Path"
   ]
  },
  {
   "cell_type": "code",
   "execution_count": 2,
   "metadata": {},
   "outputs": [
    {
     "name": "stdout",
     "output_type": "stream",
     "text": [
      "main dir: /Users/pablo/OneDrive/data-science/github/isuelogit\n"
     ]
    }
   ],
   "source": [
    "# Path management\n",
    "main_dir = str(Path(os.path.abspath('')).parents[0])\n",
    "os.chdir(main_dir)\n",
    "print('main dir:',main_dir)"
   ]
  },
  {
   "cell_type": "code",
   "execution_count": 3,
   "metadata": {},
   "outputs": [],
   "source": [
    "# Internal modules\n",
    "from src import isuelogit as isl"
   ]
  },
  {
   "cell_type": "code",
   "execution_count": 4,
   "metadata": {},
   "outputs": [],
   "source": [
    "# Seed for reproducibility\n",
    "_SEED = 2022"
   ]
  },
  {
   "cell_type": "markdown",
   "metadata": {},
   "source": [
    "### Read data on links and nodes of Fresno network"
   ]
  },
  {
   "cell_type": "code",
   "execution_count": 5,
   "metadata": {},
   "outputs": [
    {
     "name": "stdout",
     "output_type": "stream",
     "text": [
      "\n",
      "Selected date is 2019-10-01, Tuesday at 16:00\n"
     ]
    }
   ],
   "source": [
    "network_name = 'Fresno'\n",
    "\n",
    "# To write estimation report and set seed for all algorithms involving some randomness  \n",
    "estimation_reporter = isl.writer.Reporter(\n",
    "    folderpath = isl.config.dirs['output_folder'] + 'estimations/' + network_name, seed = _SEED)\n",
    "\n",
    "# Reader of geospatial and spatio-temporal data\n",
    "data_reader = isl.etl.DataReader(network_key=network_name)\n",
    "\n",
    "# First Tuesday of October, 2019\n",
    "data_reader.select_period(date='2019-10-01', hour=16)\n",
    "\n",
    "# Read nodes data\n",
    "nodes_df = pd.read_csv(isl.dirs['input_folder'] + '/network-data/nodes/'  + 'fresno-nodes-data.csv')\n",
    "\n",
    "# Read spatiotemporal link data\n",
    "links_df = pd.read_csv(\n",
    "    isl.dirs['input_folder'] + 'network-data/links/' + str(data_reader.options['selected_date'])+ '-fresno-link-data.csv',\n",
    "    converters={\"link_key\": ast.literal_eval,\"pems_id\": ast.literal_eval})"
   ]
  },
  {
   "cell_type": "markdown",
   "metadata": {},
   "source": [
    "### Build network"
   ]
  },
  {
   "cell_type": "code",
   "execution_count": 6,
   "metadata": {},
   "outputs": [
    {
     "name": "stdout",
     "output_type": "stream",
     "text": [
      "\n",
      "Creating Fresno network\n",
      "\n",
      "Nodes: 1789, Links: 2413\n"
     ]
    }
   ],
   "source": [
    "network_generator = isl.factory.NetworkGenerator()\n",
    "\n",
    "fresno_network = \\\n",
    "    network_generator.build_fresno_network(A=network_generator.generate_adjacency_matrix(links_keys=list(links_df['link_key'].values)),\n",
    "                                           links_df=links_df, nodes_df=nodes_df, network_name= network_name)"
   ]
  },
  {
   "cell_type": "markdown",
   "metadata": {},
   "source": [
    "### Read OD matrix"
   ]
  },
  {
   "cell_type": "code",
   "execution_count": 7,
   "metadata": {},
   "outputs": [
    {
     "name": "stdout",
     "output_type": "stream",
     "text": [
      "Matrix Q (1789, 1789) read in 0.0[s] with sparse format\n",
      "66266.3 trips were loaded among 6970 o-d pairs\n"
     ]
    }
   ],
   "source": [
    "network_generator.read_OD(network=fresno_network, sparse=True)"
   ]
  },
  {
   "cell_type": "markdown",
   "metadata": {},
   "source": [
    "### Load link performance functions"
   ]
  },
  {
   "cell_type": "code",
   "execution_count": 8,
   "metadata": {},
   "outputs": [],
   "source": [
    "bpr_parameters_df = pd.DataFrame({'link_key': links_df['link_key'],\n",
    "                                  'alpha': links_df['alpha'],\n",
    "                                  'beta': links_df['beta'],\n",
    "                                  'tf': links_df['tf_inrix'],\n",
    "                                  #'tf': links_df['tf'],\n",
    "                                  'k': pd.to_numeric(links_df['k'], errors='coerce', downcast='float')\n",
    "                                  })\n",
    "\n",
    "# Normalize free flow travel time between 0 and 1\n",
    "bpr_parameters_df['tf'] = pd.DataFrame(preprocessing.MinMaxScaler().fit_transform(np.array(bpr_parameters_df['tf']).reshape(-1, 1)))\n",
    "\n",
    "fresno_network.set_bpr_functions(bprdata=bpr_parameters_df)"
   ]
  },
  {
   "cell_type": "markdown",
   "metadata": {},
   "source": [
    "### Generate exogenous link features"
   ]
  },
  {
   "cell_type": "code",
   "execution_count": 9,
   "metadata": {},
   "outputs": [
    {
     "name": "stdout",
     "output_type": "stream",
     "text": [
      "Features values of links with a type different than LWRLK were set to 0\n",
      "New features: ['low_inc', 'high_inc', 'no_incidents', 'no_bus_stops', 'no_intersections', 'tt_sd_adj', 'speed_reliability']\n"
     ]
    }
   ],
   "source": [
    "fresno_network.load_features_data(links_df, link_key = 'link_key')\n",
    "\n",
    "isl.etl.feature_engineering_fresno(links=fresno_network.links, network=fresno_network)"
   ]
  },
  {
   "cell_type": "code",
   "execution_count": 10,
   "metadata": {},
   "outputs": [],
   "source": [
    "# Normalization of features to range [0,1]\n",
    "\n",
    "features_list = ['median_inc', 'intersections', 'incidents', 'bus_stops', 'median_age',\n",
    "                 'tt_avg', 'tt_sd','tt_var', 'tt_cv', 'tt_sd_adj','speed_reliability',\n",
    "                 'speed_ref_avg', 'speed_avg', 'speed_hist_avg','speed_sd','speed_hist_sd','speed_cv']\n",
    "\n",
    "linkdata = pd.DataFrame(preprocessing.MinMaxScaler().fit_transform(fresno_network.Z_data[features_list].values))\n",
    "linkdata.columns = features_list\n",
    "linkdata.insert(0, 'link_key', fresno_network.links_keys)\n",
    "\n",
    "fresno_network.load_features_data(linkdata)\n",
    "\n",
    "del linkdata"
   ]
  },
  {
   "cell_type": "markdown",
   "metadata": {},
   "source": [
    "### Read and load traffic counts"
   ]
  },
  {
   "cell_type": "code",
   "execution_count": 11,
   "metadata": {},
   "outputs": [],
   "source": [
    "counts_df = pd.read_csv(isl.dirs['input_folder'] + '/network-data/links/' \\\n",
    "                            + str(data_reader.options['selected_date']) + '-fresno-link-counts' + '.csv',\n",
    "                        converters={'link_key': ast.literal_eval})\n",
    "\n",
    "fresno_network.load_traffic_counts(counts=dict(zip(counts_df['link_key'].values, counts_df['counts'].values)))"
   ]
  },
  {
   "cell_type": "markdown",
   "metadata": {
    "jupyter": {
     "outputs_hidden": false
    },
    "pycharm": {
     "name": "#%% md\n"
    }
   },
   "source": [
    "### Load and write initial paths"
   ]
  },
  {
   "cell_type": "code",
   "execution_count": 12,
   "metadata": {
    "collapsed": false,
    "jupyter": {
     "outputs_hidden": false
    },
    "pycharm": {
     "name": "#%%\n"
    }
   },
   "outputs": [
    {
     "name": "stdout",
     "output_type": "stream",
     "text": [
      "13905 paths were read in 10.3[s]              \n",
      "\n",
      "13905 paths were loaded in the network\n",
      "\n",
      "Updating incidence matrices\n",
      "\n",
      "Matrix D (2413, 13905) generated in 17.2[s]               \n",
      "\n",
      "Matrix M (6970, 13905) generated in 4.9[s]               \n",
      "\n",
      "Matrix C (13905, 13905) generated in 1.9[s]               \n",
      "\n"
     ]
    }
   ],
   "source": [
    "paths_generator = isl.factory.PathsGenerator()\n",
    "\n",
    "# Generate and Load paths in network\n",
    "paths_generator.load_k_shortest_paths(network = fresno_network, k=2)\n",
    "\n",
    "#Write paths\n",
    "paths_generator.write_paths(network=fresno_network, overwrite_input=False, filename = 'paths-fresno.csv')\n",
    "\n",
    "# Read and load paths in network\n",
    "# paths_generator.read_paths(network=fresno_network, update_incidence_matrices=True)"
   ]
  },
  {
   "cell_type": "markdown",
   "metadata": {},
   "source": [
    "## Descriptive statistics"
   ]
  },
  {
   "cell_type": "markdown",
   "metadata": {},
   "source": [
    "### Networks topology"
   ]
  },
  {
   "cell_type": "code",
   "execution_count": 13,
   "metadata": {},
   "outputs": [
    {
     "data": {
      "text/html": [
       "<div>\n",
       "<style scoped>\n",
       "    .dataframe tbody tr th:only-of-type {\n",
       "        vertical-align: middle;\n",
       "    }\n",
       "\n",
       "    .dataframe tbody tr th {\n",
       "        vertical-align: top;\n",
       "    }\n",
       "\n",
       "    .dataframe thead th {\n",
       "        text-align: right;\n",
       "    }\n",
       "</style>\n",
       "<table border=\"1\" class=\"dataframe\">\n",
       "  <thead>\n",
       "    <tr style=\"text-align: right;\">\n",
       "      <th></th>\n",
       "      <th>network</th>\n",
       "      <th>nodes</th>\n",
       "      <th>links</th>\n",
       "      <th>ods</th>\n",
       "      <th>paths</th>\n",
       "    </tr>\n",
       "  </thead>\n",
       "  <tbody>\n",
       "    <tr>\n",
       "      <th>0</th>\n",
       "      <td>Fresno</td>\n",
       "      <td>1789</td>\n",
       "      <td>2413</td>\n",
       "      <td>6970</td>\n",
       "      <td>13905</td>\n",
       "    </tr>\n",
       "  </tbody>\n",
       "</table>\n",
       "</div>"
      ],
      "text/plain": [
       "  network  nodes  links   ods  paths\n",
       "0  Fresno   1789   2413  6970  13905"
      ]
     },
     "execution_count": 13,
     "metadata": {},
     "output_type": "execute_result"
    }
   ],
   "source": [
    "isl.descriptive_statistics.summary_table_networks([fresno_network])"
   ]
  },
  {
   "cell_type": "markdown",
   "metadata": {
    "pycharm": {
     "name": "#%% md\n"
    }
   },
   "source": [
    "### Travel demand"
   ]
  },
  {
   "cell_type": "code",
   "execution_count": 14,
   "metadata": {
    "pycharm": {
     "name": "#%%\n"
    }
   },
   "outputs": [
    {
     "data": {
      "image/png": "[encoded data removed]",
      "text/plain": [
       "<Figure size 648x288 with 2 Axes>"
      ]
     },
     "metadata": {
      "needs_background": "light"
     },
     "output_type": "display_data"
    }
   ],
   "source": [
    "isl.visualization.Artist().cumulative_demand(\n",
    "    Q= fresno_network.Q,\n",
    "    threshold = 0.2,\n",
    "    folderpath = estimation_reporter.dirs['estimation_folder'],\n",
    "    filename = 'cumulative_OD_matrix.pdf')"
   ]
  },
  {
   "cell_type": "markdown",
   "metadata": {
    "pycharm": {
     "name": "#%% md\n"
    }
   },
   "source": [
    "### Link coverage"
   ]
  },
  {
   "cell_type": "code",
   "execution_count": 15,
   "metadata": {
    "pycharm": {
     "name": "#%%\n"
    }
   },
   "outputs": [
    {
     "name": "stdout",
     "output_type": "stream",
     "text": [
      "\n",
      "Total link counts observations: 141\n",
      "Link coverage: 5.8%\n"
     ]
    }
   ],
   "source": [
    "total_counts_observations = np.count_nonzero(~np.isnan(fresno_network.observed_counts_vector))\n",
    "\n",
    "print('\\nTotal link counts observations: ' + str(total_counts_observations))\n",
    "print('Link coverage: ' + \"{:.1%}\".format(round(total_counts_observations / len(fresno_network.links), 4)))"
   ]
  },
  {
   "cell_type": "markdown",
   "metadata": {
    "pycharm": {
     "name": "#%% md\n"
    }
   },
   "source": [
    "### Links performance functions"
   ]
  },
  {
   "cell_type": "code",
   "execution_count": 16,
   "metadata": {
    "pycharm": {
     "name": "#%%\n"
    }
   },
   "outputs": [
    {
     "data": {
      "text/html": [
       "<div>\n",
       "<style scoped>\n",
       "    .dataframe tbody tr th:only-of-type {\n",
       "        vertical-align: middle;\n",
       "    }\n",
       "\n",
       "    .dataframe tbody tr th {\n",
       "        vertical-align: top;\n",
       "    }\n",
       "\n",
       "    .dataframe thead th {\n",
       "        text-align: right;\n",
       "    }\n",
       "</style>\n",
       "<table border=\"1\" class=\"dataframe\">\n",
       "  <thead>\n",
       "    <tr style=\"text-align: right;\">\n",
       "      <th></th>\n",
       "      <th>alpha</th>\n",
       "      <th>beta</th>\n",
       "      <th>tf</th>\n",
       "      <th>k</th>\n",
       "    </tr>\n",
       "  </thead>\n",
       "  <tbody>\n",
       "    <tr>\n",
       "      <th>count</th>\n",
       "      <td>2.413000e+03</td>\n",
       "      <td>2413.0</td>\n",
       "      <td>2413.000000</td>\n",
       "      <td>2.413000e+03</td>\n",
       "    </tr>\n",
       "    <tr>\n",
       "      <th>mean</th>\n",
       "      <td>1.500000e-01</td>\n",
       "      <td>4.0</td>\n",
       "      <td>0.075482</td>\n",
       "      <td>1.439305e+09</td>\n",
       "    </tr>\n",
       "    <tr>\n",
       "      <th>std</th>\n",
       "      <td>2.776133e-17</td>\n",
       "      <td>0.0</td>\n",
       "      <td>0.085996</td>\n",
       "      <td>2.261116e+09</td>\n",
       "    </tr>\n",
       "    <tr>\n",
       "      <th>min</th>\n",
       "      <td>1.500000e-01</td>\n",
       "      <td>4.0</td>\n",
       "      <td>0.000000</td>\n",
       "      <td>1.800000e+03</td>\n",
       "    </tr>\n",
       "    <tr>\n",
       "      <th>25%</th>\n",
       "      <td>1.500000e-01</td>\n",
       "      <td>4.0</td>\n",
       "      <td>0.000000</td>\n",
       "      <td>1.800000e+03</td>\n",
       "    </tr>\n",
       "    <tr>\n",
       "      <th>50%</th>\n",
       "      <td>1.500000e-01</td>\n",
       "      <td>4.0</td>\n",
       "      <td>0.057738</td>\n",
       "      <td>1.800000e+03</td>\n",
       "    </tr>\n",
       "    <tr>\n",
       "      <th>75%</th>\n",
       "      <td>1.500000e-01</td>\n",
       "      <td>4.0</td>\n",
       "      <td>0.106484</td>\n",
       "      <td>4.990000e+09</td>\n",
       "    </tr>\n",
       "    <tr>\n",
       "      <th>max</th>\n",
       "      <td>1.500000e-01</td>\n",
       "      <td>4.0</td>\n",
       "      <td>1.000000</td>\n",
       "      <td>4.990000e+09</td>\n",
       "    </tr>\n",
       "  </tbody>\n",
       "</table>\n",
       "</div>"
      ],
      "text/plain": [
       "              alpha    beta           tf             k\n",
       "count  2.413000e+03  2413.0  2413.000000  2.413000e+03\n",
       "mean   1.500000e-01     4.0     0.075482  1.439305e+09\n",
       "std    2.776133e-17     0.0     0.085996  2.261116e+09\n",
       "min    1.500000e-01     4.0     0.000000  1.800000e+03\n",
       "25%    1.500000e-01     4.0     0.000000  1.800000e+03\n",
       "50%    1.500000e-01     4.0     0.057738  1.800000e+03\n",
       "75%    1.500000e-01     4.0     0.106484  4.990000e+09\n",
       "max    1.500000e-01     4.0     1.000000  4.990000e+09"
      ]
     },
     "execution_count": 16,
     "metadata": {},
     "output_type": "execute_result"
    }
   ],
   "source": [
    "bpr_parameters_df.describe()"
   ]
  },
  {
   "cell_type": "markdown",
   "metadata": {},
   "source": [
    "### Links features"
   ]
  },
  {
   "cell_type": "code",
   "execution_count": 17,
   "metadata": {},
   "outputs": [
    {
     "data": {
      "text/html": [
       "<div>\n",
       "<style scoped>\n",
       "    .dataframe tbody tr th:only-of-type {\n",
       "        vertical-align: middle;\n",
       "    }\n",
       "\n",
       "    .dataframe tbody tr th {\n",
       "        vertical-align: top;\n",
       "    }\n",
       "\n",
       "    .dataframe thead th {\n",
       "        text-align: right;\n",
       "    }\n",
       "</style>\n",
       "<table border=\"1\" class=\"dataframe\">\n",
       "  <thead>\n",
       "    <tr style=\"text-align: right;\">\n",
       "      <th></th>\n",
       "      <th>link_type</th>\n",
       "      <th>alpha</th>\n",
       "      <th>beta</th>\n",
       "      <th>tf</th>\n",
       "      <th>k</th>\n",
       "      <th>observed</th>\n",
       "      <th>counts</th>\n",
       "      <th>capacity [veh]</th>\n",
       "      <th>tt_ff [min]</th>\n",
       "      <th>speed_ff[mi/hr]</th>\n",
       "      <th>...</th>\n",
       "      <th>bus_stops</th>\n",
       "      <th>intersections</th>\n",
       "      <th>tf_inrix</th>\n",
       "      <th>high_inc</th>\n",
       "      <th>low_inc</th>\n",
       "      <th>no_incidents</th>\n",
       "      <th>no_bus_stops</th>\n",
       "      <th>no_intersections</th>\n",
       "      <th>tt_sd_adj</th>\n",
       "      <th>speed_reliability</th>\n",
       "    </tr>\n",
       "  </thead>\n",
       "  <tbody>\n",
       "    <tr>\n",
       "      <th>0</th>\n",
       "      <td>LWRLK</td>\n",
       "      <td>0.15</td>\n",
       "      <td>4.0</td>\n",
       "      <td>0.104591</td>\n",
       "      <td>1.800000e+03</td>\n",
       "      <td>0</td>\n",
       "      <td>NaN</td>\n",
       "      <td>1800.0</td>\n",
       "      <td>0.098</td>\n",
       "      <td>45</td>\n",
       "      <td>...</td>\n",
       "      <td>0.0</td>\n",
       "      <td>0.111111</td>\n",
       "      <td>0.221</td>\n",
       "      <td>1</td>\n",
       "      <td>0</td>\n",
       "      <td>1</td>\n",
       "      <td>1</td>\n",
       "      <td>0</td>\n",
       "      <td>0.109299</td>\n",
       "      <td>0.703026</td>\n",
       "    </tr>\n",
       "    <tr>\n",
       "      <th>1</th>\n",
       "      <td>LWRLK</td>\n",
       "      <td>0.15</td>\n",
       "      <td>4.0</td>\n",
       "      <td>0.096072</td>\n",
       "      <td>1.800000e+03</td>\n",
       "      <td>0</td>\n",
       "      <td>NaN</td>\n",
       "      <td>1800.0</td>\n",
       "      <td>0.169</td>\n",
       "      <td>50</td>\n",
       "      <td>...</td>\n",
       "      <td>0.0</td>\n",
       "      <td>0.000000</td>\n",
       "      <td>0.203</td>\n",
       "      <td>1</td>\n",
       "      <td>0</td>\n",
       "      <td>0</td>\n",
       "      <td>1</td>\n",
       "      <td>1</td>\n",
       "      <td>0.071056</td>\n",
       "      <td>0.760686</td>\n",
       "    </tr>\n",
       "    <tr>\n",
       "      <th>2</th>\n",
       "      <td>LWRLK</td>\n",
       "      <td>0.15</td>\n",
       "      <td>4.0</td>\n",
       "      <td>0.187411</td>\n",
       "      <td>2.400000e+03</td>\n",
       "      <td>0</td>\n",
       "      <td>NaN</td>\n",
       "      <td>2400.0</td>\n",
       "      <td>0.396</td>\n",
       "      <td>65</td>\n",
       "      <td>...</td>\n",
       "      <td>0.0</td>\n",
       "      <td>0.000000</td>\n",
       "      <td>0.396</td>\n",
       "      <td>1</td>\n",
       "      <td>0</td>\n",
       "      <td>0</td>\n",
       "      <td>1</td>\n",
       "      <td>1</td>\n",
       "      <td>0.000000</td>\n",
       "      <td>0.000000</td>\n",
       "    </tr>\n",
       "    <tr>\n",
       "      <th>3</th>\n",
       "      <td>LWRLK</td>\n",
       "      <td>0.15</td>\n",
       "      <td>4.0</td>\n",
       "      <td>0.066257</td>\n",
       "      <td>2.000000e+03</td>\n",
       "      <td>0</td>\n",
       "      <td>NaN</td>\n",
       "      <td>2000.0</td>\n",
       "      <td>0.192</td>\n",
       "      <td>25</td>\n",
       "      <td>...</td>\n",
       "      <td>0.0</td>\n",
       "      <td>0.111111</td>\n",
       "      <td>0.140</td>\n",
       "      <td>1</td>\n",
       "      <td>0</td>\n",
       "      <td>1</td>\n",
       "      <td>1</td>\n",
       "      <td>0</td>\n",
       "      <td>0.017797</td>\n",
       "      <td>0.873536</td>\n",
       "    </tr>\n",
       "    <tr>\n",
       "      <th>4</th>\n",
       "      <td>LWRLK</td>\n",
       "      <td>0.15</td>\n",
       "      <td>4.0</td>\n",
       "      <td>0.049692</td>\n",
       "      <td>1.800000e+03</td>\n",
       "      <td>0</td>\n",
       "      <td>NaN</td>\n",
       "      <td>1800.0</td>\n",
       "      <td>0.105</td>\n",
       "      <td>35</td>\n",
       "      <td>...</td>\n",
       "      <td>0.0</td>\n",
       "      <td>0.111111</td>\n",
       "      <td>0.105</td>\n",
       "      <td>1</td>\n",
       "      <td>0</td>\n",
       "      <td>1</td>\n",
       "      <td>1</td>\n",
       "      <td>0</td>\n",
       "      <td>0.000000</td>\n",
       "      <td>0.000000</td>\n",
       "    </tr>\n",
       "    <tr>\n",
       "      <th>...</th>\n",
       "      <td>...</td>\n",
       "      <td>...</td>\n",
       "      <td>...</td>\n",
       "      <td>...</td>\n",
       "      <td>...</td>\n",
       "      <td>...</td>\n",
       "      <td>...</td>\n",
       "      <td>...</td>\n",
       "      <td>...</td>\n",
       "      <td>...</td>\n",
       "      <td>...</td>\n",
       "      <td>...</td>\n",
       "      <td>...</td>\n",
       "      <td>...</td>\n",
       "      <td>...</td>\n",
       "      <td>...</td>\n",
       "      <td>...</td>\n",
       "      <td>...</td>\n",
       "      <td>...</td>\n",
       "      <td>...</td>\n",
       "      <td>...</td>\n",
       "    </tr>\n",
       "    <tr>\n",
       "      <th>2408</th>\n",
       "      <td>PQULK</td>\n",
       "      <td>0.15</td>\n",
       "      <td>4.0</td>\n",
       "      <td>0.000000</td>\n",
       "      <td>4.990000e+09</td>\n",
       "      <td>0</td>\n",
       "      <td>NaN</td>\n",
       "      <td>inf</td>\n",
       "      <td>0.000</td>\n",
       "      <td>99999</td>\n",
       "      <td>...</td>\n",
       "      <td>0.0</td>\n",
       "      <td>0.000000</td>\n",
       "      <td>0.000</td>\n",
       "      <td>0</td>\n",
       "      <td>0</td>\n",
       "      <td>0</td>\n",
       "      <td>0</td>\n",
       "      <td>0</td>\n",
       "      <td>0.000000</td>\n",
       "      <td>0.000000</td>\n",
       "    </tr>\n",
       "    <tr>\n",
       "      <th>2409</th>\n",
       "      <td>PQULK</td>\n",
       "      <td>0.15</td>\n",
       "      <td>4.0</td>\n",
       "      <td>0.000000</td>\n",
       "      <td>4.990000e+09</td>\n",
       "      <td>0</td>\n",
       "      <td>NaN</td>\n",
       "      <td>inf</td>\n",
       "      <td>0.000</td>\n",
       "      <td>99999</td>\n",
       "      <td>...</td>\n",
       "      <td>0.0</td>\n",
       "      <td>0.000000</td>\n",
       "      <td>0.000</td>\n",
       "      <td>0</td>\n",
       "      <td>0</td>\n",
       "      <td>0</td>\n",
       "      <td>0</td>\n",
       "      <td>0</td>\n",
       "      <td>0.000000</td>\n",
       "      <td>0.000000</td>\n",
       "    </tr>\n",
       "    <tr>\n",
       "      <th>2410</th>\n",
       "      <td>LWRLK</td>\n",
       "      <td>0.15</td>\n",
       "      <td>4.0</td>\n",
       "      <td>0.018930</td>\n",
       "      <td>1.800000e+03</td>\n",
       "      <td>0</td>\n",
       "      <td>NaN</td>\n",
       "      <td>1800.0</td>\n",
       "      <td>0.045</td>\n",
       "      <td>65</td>\n",
       "      <td>...</td>\n",
       "      <td>0.0</td>\n",
       "      <td>0.111111</td>\n",
       "      <td>0.040</td>\n",
       "      <td>1</td>\n",
       "      <td>0</td>\n",
       "      <td>1</td>\n",
       "      <td>1</td>\n",
       "      <td>0</td>\n",
       "      <td>0.005085</td>\n",
       "      <td>0.902381</td>\n",
       "    </tr>\n",
       "    <tr>\n",
       "      <th>2411</th>\n",
       "      <td>LWRLK</td>\n",
       "      <td>0.15</td>\n",
       "      <td>4.0</td>\n",
       "      <td>0.046853</td>\n",
       "      <td>2.400000e+03</td>\n",
       "      <td>0</td>\n",
       "      <td>NaN</td>\n",
       "      <td>2400.0</td>\n",
       "      <td>0.107</td>\n",
       "      <td>65</td>\n",
       "      <td>...</td>\n",
       "      <td>0.0</td>\n",
       "      <td>0.222222</td>\n",
       "      <td>0.099</td>\n",
       "      <td>0</td>\n",
       "      <td>1</td>\n",
       "      <td>0</td>\n",
       "      <td>1</td>\n",
       "      <td>0</td>\n",
       "      <td>0.004827</td>\n",
       "      <td>0.921643</td>\n",
       "    </tr>\n",
       "    <tr>\n",
       "      <th>2412</th>\n",
       "      <td>PQULK</td>\n",
       "      <td>0.15</td>\n",
       "      <td>4.0</td>\n",
       "      <td>0.000000</td>\n",
       "      <td>4.990000e+09</td>\n",
       "      <td>0</td>\n",
       "      <td>NaN</td>\n",
       "      <td>inf</td>\n",
       "      <td>0.000</td>\n",
       "      <td>99999</td>\n",
       "      <td>...</td>\n",
       "      <td>0.0</td>\n",
       "      <td>0.000000</td>\n",
       "      <td>0.000</td>\n",
       "      <td>0</td>\n",
       "      <td>0</td>\n",
       "      <td>0</td>\n",
       "      <td>0</td>\n",
       "      <td>0</td>\n",
       "      <td>0.000000</td>\n",
       "      <td>0.000000</td>\n",
       "    </tr>\n",
       "  </tbody>\n",
       "</table>\n",
       "<p>2413 rows × 44 columns</p>\n",
       "</div>"
      ],
      "text/plain": [
       "     link_type  alpha  beta        tf             k  observed  counts  \\\n",
       "0        LWRLK   0.15   4.0  0.104591  1.800000e+03         0     NaN   \n",
       "1        LWRLK   0.15   4.0  0.096072  1.800000e+03         0     NaN   \n",
       "2        LWRLK   0.15   4.0  0.187411  2.400000e+03         0     NaN   \n",
       "3        LWRLK   0.15   4.0  0.066257  2.000000e+03         0     NaN   \n",
       "4        LWRLK   0.15   4.0  0.049692  1.800000e+03         0     NaN   \n",
       "...        ...    ...   ...       ...           ...       ...     ...   \n",
       "2408     PQULK   0.15   4.0  0.000000  4.990000e+09         0     NaN   \n",
       "2409     PQULK   0.15   4.0  0.000000  4.990000e+09         0     NaN   \n",
       "2410     LWRLK   0.15   4.0  0.018930  1.800000e+03         0     NaN   \n",
       "2411     LWRLK   0.15   4.0  0.046853  2.400000e+03         0     NaN   \n",
       "2412     PQULK   0.15   4.0  0.000000  4.990000e+09         0     NaN   \n",
       "\n",
       "      capacity [veh]  tt_ff [min]  speed_ff[mi/hr]  ...  bus_stops  \\\n",
       "0             1800.0        0.098               45  ...        0.0   \n",
       "1             1800.0        0.169               50  ...        0.0   \n",
       "2             2400.0        0.396               65  ...        0.0   \n",
       "3             2000.0        0.192               25  ...        0.0   \n",
       "4             1800.0        0.105               35  ...        0.0   \n",
       "...              ...          ...              ...  ...        ...   \n",
       "2408             inf        0.000            99999  ...        0.0   \n",
       "2409             inf        0.000            99999  ...        0.0   \n",
       "2410          1800.0        0.045               65  ...        0.0   \n",
       "2411          2400.0        0.107               65  ...        0.0   \n",
       "2412             inf        0.000            99999  ...        0.0   \n",
       "\n",
       "     intersections  tf_inrix  high_inc  low_inc  no_incidents  no_bus_stops  \\\n",
       "0         0.111111     0.221         1        0             1             1   \n",
       "1         0.000000     0.203         1        0             0             1   \n",
       "2         0.000000     0.396         1        0             0             1   \n",
       "3         0.111111     0.140         1        0             1             1   \n",
       "4         0.111111     0.105         1        0             1             1   \n",
       "...            ...       ...       ...      ...           ...           ...   \n",
       "2408      0.000000     0.000         0        0             0             0   \n",
       "2409      0.000000     0.000         0        0             0             0   \n",
       "2410      0.111111     0.040         1        0             1             1   \n",
       "2411      0.222222     0.099         0        1             0             1   \n",
       "2412      0.000000     0.000         0        0             0             0   \n",
       "\n",
       "      no_intersections  tt_sd_adj  speed_reliability  \n",
       "0                    0   0.109299           0.703026  \n",
       "1                    1   0.071056           0.760686  \n",
       "2                    1   0.000000           0.000000  \n",
       "3                    0   0.017797           0.873536  \n",
       "4                    0   0.000000           0.000000  \n",
       "...                ...        ...                ...  \n",
       "2408                 0   0.000000           0.000000  \n",
       "2409                 0   0.000000           0.000000  \n",
       "2410                 0   0.005085           0.902381  \n",
       "2411                 0   0.004827           0.921643  \n",
       "2412                 0   0.000000           0.000000  \n",
       "\n",
       "[2413 rows x 44 columns]"
      ]
     },
     "execution_count": 17,
     "metadata": {},
     "output_type": "execute_result"
    }
   ],
   "source": [
    "summary_table_links_df = fresno_network.Z_data\n",
    "\n",
    "summary_table_links_df['tf'] = bpr_parameters_df['tf']\n",
    "\n",
    "estimation_reporter.write_table(df = fresno_network.Z_data, filename = 'links_data.csv', float_format = '%.3f')\n",
    "\n",
    "summary_table_links_df"
   ]
  },
  {
   "cell_type": "code",
   "execution_count": 18,
   "metadata": {},
   "outputs": [
    {
     "data": {
      "text/html": [
       "<div>\n",
       "<style scoped>\n",
       "    .dataframe tbody tr th:only-of-type {\n",
       "        vertical-align: middle;\n",
       "    }\n",
       "\n",
       "    .dataframe tbody tr th {\n",
       "        vertical-align: top;\n",
       "    }\n",
       "\n",
       "    .dataframe thead th {\n",
       "        text-align: right;\n",
       "    }\n",
       "</style>\n",
       "<table border=\"1\" class=\"dataframe\">\n",
       "  <thead>\n",
       "    <tr style=\"text-align: right;\">\n",
       "      <th></th>\n",
       "      <th>alpha</th>\n",
       "      <th>beta</th>\n",
       "      <th>tf</th>\n",
       "      <th>k</th>\n",
       "      <th>observed</th>\n",
       "      <th>counts</th>\n",
       "      <th>capacity [veh]</th>\n",
       "      <th>tt_ff [min]</th>\n",
       "      <th>speed_ff[mi/hr]</th>\n",
       "      <th>inrix_id</th>\n",
       "      <th>...</th>\n",
       "      <th>bus_stops</th>\n",
       "      <th>intersections</th>\n",
       "      <th>tf_inrix</th>\n",
       "      <th>high_inc</th>\n",
       "      <th>low_inc</th>\n",
       "      <th>no_incidents</th>\n",
       "      <th>no_bus_stops</th>\n",
       "      <th>no_intersections</th>\n",
       "      <th>tt_sd_adj</th>\n",
       "      <th>speed_reliability</th>\n",
       "    </tr>\n",
       "  </thead>\n",
       "  <tbody>\n",
       "    <tr>\n",
       "      <th>count</th>\n",
       "      <td>2.413000e+03</td>\n",
       "      <td>2413.0</td>\n",
       "      <td>2413.000000</td>\n",
       "      <td>2.413000e+03</td>\n",
       "      <td>2413.000000</td>\n",
       "      <td>141.000000</td>\n",
       "      <td>2413.0</td>\n",
       "      <td>2413.000000</td>\n",
       "      <td>2413.000000</td>\n",
       "      <td>1.468000e+03</td>\n",
       "      <td>...</td>\n",
       "      <td>2413.000000</td>\n",
       "      <td>2413.000000</td>\n",
       "      <td>2413.000000</td>\n",
       "      <td>2413.000000</td>\n",
       "      <td>2413.000000</td>\n",
       "      <td>2413.000000</td>\n",
       "      <td>2413.000000</td>\n",
       "      <td>2413.000000</td>\n",
       "      <td>2413.000000</td>\n",
       "      <td>2413.000000</td>\n",
       "    </tr>\n",
       "    <tr>\n",
       "      <th>mean</th>\n",
       "      <td>1.500000e-01</td>\n",
       "      <td>4.0</td>\n",
       "      <td>0.075482</td>\n",
       "      <td>1.439305e+09</td>\n",
       "      <td>0.058433</td>\n",
       "      <td>2213.607801</td>\n",
       "      <td>inf</td>\n",
       "      <td>0.150823</td>\n",
       "      <td>28872.664318</td>\n",
       "      <td>9.131292e+08</td>\n",
       "      <td>...</td>\n",
       "      <td>0.037505</td>\n",
       "      <td>0.097389</td>\n",
       "      <td>0.159494</td>\n",
       "      <td>0.525073</td>\n",
       "      <td>0.186490</td>\n",
       "      <td>0.639867</td>\n",
       "      <td>0.587236</td>\n",
       "      <td>0.239536</td>\n",
       "      <td>0.046804</td>\n",
       "      <td>0.457985</td>\n",
       "    </tr>\n",
       "    <tr>\n",
       "      <th>std</th>\n",
       "      <td>2.776133e-17</td>\n",
       "      <td>0.0</td>\n",
       "      <td>0.085996</td>\n",
       "      <td>2.261116e+09</td>\n",
       "      <td>0.234610</td>\n",
       "      <td>849.965115</td>\n",
       "      <td>NaN</td>\n",
       "      <td>0.172458</td>\n",
       "      <td>45293.922006</td>\n",
       "      <td>6.019207e+08</td>\n",
       "      <td>...</td>\n",
       "      <td>0.110321</td>\n",
       "      <td>0.146641</td>\n",
       "      <td>0.181710</td>\n",
       "      <td>0.499474</td>\n",
       "      <td>0.389582</td>\n",
       "      <td>0.480138</td>\n",
       "      <td>0.492433</td>\n",
       "      <td>0.426889</td>\n",
       "      <td>0.071903</td>\n",
       "      <td>0.392510</td>\n",
       "    </tr>\n",
       "    <tr>\n",
       "      <th>min</th>\n",
       "      <td>1.500000e-01</td>\n",
       "      <td>4.0</td>\n",
       "      <td>0.000000</td>\n",
       "      <td>1.800000e+03</td>\n",
       "      <td>0.000000</td>\n",
       "      <td>111.000000</td>\n",
       "      <td>1800.0</td>\n",
       "      <td>0.000000</td>\n",
       "      <td>15.000000</td>\n",
       "      <td>1.685461e+08</td>\n",
       "      <td>...</td>\n",
       "      <td>0.000000</td>\n",
       "      <td>0.000000</td>\n",
       "      <td>0.000000</td>\n",
       "      <td>0.000000</td>\n",
       "      <td>0.000000</td>\n",
       "      <td>0.000000</td>\n",
       "      <td>0.000000</td>\n",
       "      <td>0.000000</td>\n",
       "      <td>0.000000</td>\n",
       "      <td>0.000000</td>\n",
       "    </tr>\n",
       "    <tr>\n",
       "      <th>25%</th>\n",
       "      <td>1.500000e-01</td>\n",
       "      <td>4.0</td>\n",
       "      <td>0.000000</td>\n",
       "      <td>1.800000e+03</td>\n",
       "      <td>0.000000</td>\n",
       "      <td>1698.000000</td>\n",
       "      <td>1800.0</td>\n",
       "      <td>0.000000</td>\n",
       "      <td>40.000000</td>\n",
       "      <td>4.416712e+08</td>\n",
       "      <td>...</td>\n",
       "      <td>0.000000</td>\n",
       "      <td>0.000000</td>\n",
       "      <td>0.000000</td>\n",
       "      <td>0.000000</td>\n",
       "      <td>0.000000</td>\n",
       "      <td>0.000000</td>\n",
       "      <td>0.000000</td>\n",
       "      <td>0.000000</td>\n",
       "      <td>0.000000</td>\n",
       "      <td>0.000000</td>\n",
       "    </tr>\n",
       "    <tr>\n",
       "      <th>50%</th>\n",
       "      <td>1.500000e-01</td>\n",
       "      <td>4.0</td>\n",
       "      <td>0.057738</td>\n",
       "      <td>1.800000e+03</td>\n",
       "      <td>0.000000</td>\n",
       "      <td>2101.000000</td>\n",
       "      <td>1800.0</td>\n",
       "      <td>0.121000</td>\n",
       "      <td>45.000000</td>\n",
       "      <td>4.498919e+08</td>\n",
       "      <td>...</td>\n",
       "      <td>0.000000</td>\n",
       "      <td>0.000000</td>\n",
       "      <td>0.122000</td>\n",
       "      <td>1.000000</td>\n",
       "      <td>0.000000</td>\n",
       "      <td>1.000000</td>\n",
       "      <td>1.000000</td>\n",
       "      <td>0.000000</td>\n",
       "      <td>0.017366</td>\n",
       "      <td>0.674230</td>\n",
       "    </tr>\n",
       "    <tr>\n",
       "      <th>75%</th>\n",
       "      <td>1.500000e-01</td>\n",
       "      <td>4.0</td>\n",
       "      <td>0.106484</td>\n",
       "      <td>4.990000e+09</td>\n",
       "      <td>0.000000</td>\n",
       "      <td>2717.000000</td>\n",
       "      <td>NaN</td>\n",
       "      <td>0.205000</td>\n",
       "      <td>99999.000000</td>\n",
       "      <td>1.626675e+09</td>\n",
       "      <td>...</td>\n",
       "      <td>0.000000</td>\n",
       "      <td>0.111111</td>\n",
       "      <td>0.225000</td>\n",
       "      <td>1.000000</td>\n",
       "      <td>0.000000</td>\n",
       "      <td>1.000000</td>\n",
       "      <td>1.000000</td>\n",
       "      <td>0.000000</td>\n",
       "      <td>0.071056</td>\n",
       "      <td>0.809949</td>\n",
       "    </tr>\n",
       "    <tr>\n",
       "      <th>max</th>\n",
       "      <td>1.500000e-01</td>\n",
       "      <td>4.0</td>\n",
       "      <td>1.000000</td>\n",
       "      <td>4.990000e+09</td>\n",
       "      <td>1.000000</td>\n",
       "      <td>4807.000000</td>\n",
       "      <td>inf</td>\n",
       "      <td>2.113000</td>\n",
       "      <td>99999.000000</td>\n",
       "      <td>1.626774e+09</td>\n",
       "      <td>...</td>\n",
       "      <td>1.000000</td>\n",
       "      <td>1.000000</td>\n",
       "      <td>2.113000</td>\n",
       "      <td>1.000000</td>\n",
       "      <td>1.000000</td>\n",
       "      <td>1.000000</td>\n",
       "      <td>1.000000</td>\n",
       "      <td>1.000000</td>\n",
       "      <td>1.000000</td>\n",
       "      <td>1.000000</td>\n",
       "    </tr>\n",
       "  </tbody>\n",
       "</table>\n",
       "<p>8 rows × 42 columns</p>\n",
       "</div>"
      ],
      "text/plain": [
       "              alpha    beta           tf             k     observed  \\\n",
       "count  2.413000e+03  2413.0  2413.000000  2.413000e+03  2413.000000   \n",
       "mean   1.500000e-01     4.0     0.075482  1.439305e+09     0.058433   \n",
       "std    2.776133e-17     0.0     0.085996  2.261116e+09     0.234610   \n",
       "min    1.500000e-01     4.0     0.000000  1.800000e+03     0.000000   \n",
       "25%    1.500000e-01     4.0     0.000000  1.800000e+03     0.000000   \n",
       "50%    1.500000e-01     4.0     0.057738  1.800000e+03     0.000000   \n",
       "75%    1.500000e-01     4.0     0.106484  4.990000e+09     0.000000   \n",
       "max    1.500000e-01     4.0     1.000000  4.990000e+09     1.000000   \n",
       "\n",
       "            counts  capacity [veh]  tt_ff [min]  speed_ff[mi/hr]  \\\n",
       "count   141.000000          2413.0  2413.000000      2413.000000   \n",
       "mean   2213.607801             inf     0.150823     28872.664318   \n",
       "std     849.965115             NaN     0.172458     45293.922006   \n",
       "min     111.000000          1800.0     0.000000        15.000000   \n",
       "25%    1698.000000          1800.0     0.000000        40.000000   \n",
       "50%    2101.000000          1800.0     0.121000        45.000000   \n",
       "75%    2717.000000             NaN     0.205000     99999.000000   \n",
       "max    4807.000000             inf     2.113000     99999.000000   \n",
       "\n",
       "           inrix_id  ...    bus_stops  intersections     tf_inrix  \\\n",
       "count  1.468000e+03  ...  2413.000000    2413.000000  2413.000000   \n",
       "mean   9.131292e+08  ...     0.037505       0.097389     0.159494   \n",
       "std    6.019207e+08  ...     0.110321       0.146641     0.181710   \n",
       "min    1.685461e+08  ...     0.000000       0.000000     0.000000   \n",
       "25%    4.416712e+08  ...     0.000000       0.000000     0.000000   \n",
       "50%    4.498919e+08  ...     0.000000       0.000000     0.122000   \n",
       "75%    1.626675e+09  ...     0.000000       0.111111     0.225000   \n",
       "max    1.626774e+09  ...     1.000000       1.000000     2.113000   \n",
       "\n",
       "          high_inc      low_inc  no_incidents  no_bus_stops  no_intersections  \\\n",
       "count  2413.000000  2413.000000   2413.000000   2413.000000       2413.000000   \n",
       "mean      0.525073     0.186490      0.639867      0.587236          0.239536   \n",
       "std       0.499474     0.389582      0.480138      0.492433          0.426889   \n",
       "min       0.000000     0.000000      0.000000      0.000000          0.000000   \n",
       "25%       0.000000     0.000000      0.000000      0.000000          0.000000   \n",
       "50%       1.000000     0.000000      1.000000      1.000000          0.000000   \n",
       "75%       1.000000     0.000000      1.000000      1.000000          0.000000   \n",
       "max       1.000000     1.000000      1.000000      1.000000          1.000000   \n",
       "\n",
       "         tt_sd_adj  speed_reliability  \n",
       "count  2413.000000        2413.000000  \n",
       "mean      0.046804           0.457985  \n",
       "std       0.071903           0.392510  \n",
       "min       0.000000           0.000000  \n",
       "25%       0.000000           0.000000  \n",
       "50%       0.017366           0.674230  \n",
       "75%       0.071056           0.809949  \n",
       "max       1.000000           1.000000  \n",
       "\n",
       "[8 rows x 42 columns]"
      ]
     },
     "execution_count": 18,
     "metadata": {},
     "output_type": "execute_result"
    }
   ],
   "source": [
    "summary_table_links_df.describe()"
   ]
  },
  {
   "cell_type": "markdown",
   "metadata": {
    "pycharm": {
     "name": "#%% md\n"
    }
   },
   "source": [
    "### Correlation between features"
   ]
  },
  {
   "cell_type": "code",
   "execution_count": 19,
   "metadata": {
    "pycharm": {
     "name": "#%%\n"
    }
   },
   "outputs": [
    {
     "data": {
      "image/png": "[encoded data removed]",
      "text/plain": [
       "<Figure size 1008x864 with 27 Axes>"
      ]
     },
     "metadata": {
      "needs_background": "light"
     },
     "output_type": "display_data"
    }
   ],
   "source": [
    "scatter_fig = isl.descriptive_statistics.scatter_plots_features(\n",
    "    links_df= summary_table_links_df,\n",
    "    features = {'tf': 'travel time', 'speed_sd': 'std of speed',\n",
    "                'median_inc': 'median income', 'incidents': 'incidents', 'bus_stops': 'bus stops',\n",
    "                'intersections': 'intersections'})\n",
    "\n",
    "scatter_fig.savefig(estimation_reporter.dirs['estimation_folder'] + '/' + 'features_correlations_plot.pdf',\n",
    "            pad_inches=0.1, bbox_inches=\"tight\")"
   ]
  },
  {
   "cell_type": "markdown",
   "metadata": {
    "pycharm": {
     "name": "#%% md\n"
    }
   },
   "source": [
    "### Release memory"
   ]
  },
  {
   "cell_type": "code",
   "execution_count": 20,
   "metadata": {
    "pycharm": {
     "name": "#%%\n"
    }
   },
   "outputs": [],
   "source": [
    "del counts_df\n",
    "del bpr_parameters_df\n",
    "del summary_table_links_df\n",
    "del scatter_fig"
   ]
  },
  {
   "cell_type": "markdown",
   "metadata": {},
   "source": [
    "## Bilevel Estimation"
   ]
  },
  {
   "cell_type": "code",
   "execution_count": 21,
   "metadata": {},
   "outputs": [],
   "source": [
    "utility_function = isl.estimation.UtilityFunction(\n",
    "    features_Y=['tt'],\n",
    "    initial_values={'tt': 0},\n",
    ")\n",
    "\n",
    "equilibrator_norefined = isl.equilibrium.LUE_Equilibrator(\n",
    "    network=fresno_network,\n",
    "    paths_generator=paths_generator,\n",
    "    utility_function=utility_function,\n",
    "    max_iters=100,\n",
    "    method='fw',\n",
    "    iters_fw=10,\n",
    "    column_generation={'n_paths': 28, 'ods_coverage': 0.2, 'paths_selection': 7, 'ods_sampling': 'sequential'},\n",
    "    path_size_correction=5\n",
    ")\n",
    "\n",
    "outer_optimizer_norefined = isl.estimation.OuterOptimizer(\n",
    "    method='ngd',\n",
    "    iters=1,\n",
    "    eta=5e-1,\n",
    ")\n",
    "\n",
    "learner_norefined = isl.estimation.Learner(\n",
    "    equilibrator=equilibrator_norefined,\n",
    "    outer_optimizer=outer_optimizer_norefined,\n",
    "    utility_function=utility_function,\n",
    "    network=fresno_network,\n",
    "    name = 'norefined'\n",
    ")\n",
    "\n",
    "equilibrator_refined = isl.equilibrium.LUE_Equilibrator(\n",
    "    network=fresno_network,\n",
    "    paths_generator=paths_generator,\n",
    "    utility_function=utility_function,\n",
    "    max_iters=100,\n",
    "    method='fw',\n",
    "    iters_fw=10,\n",
    "    column_generation={'n_paths': 28, 'ods_coverage': 0.2, 'paths_selection': 7, 'ods_sampling': 'sequential'},\n",
    "    path_size_correction=5\n",
    ")\n",
    "\n",
    "outer_optimizer_refined = isl.estimation.OuterOptimizer(\n",
    "    method='lm',\n",
    "    iters=1,\n",
    ")\n",
    "\n",
    "learner_refined = isl.estimation.Learner(\n",
    "    network=fresno_network,\n",
    "    equilibrator=equilibrator_refined,\n",
    "    outer_optimizer=outer_optimizer_refined,\n",
    "    utility_function=utility_function,\n",
    "    name = 'refined'\n",
    ")"
   ]
  },
  {
   "cell_type": "markdown",
   "metadata": {},
   "source": [
    "### a) Benchmark predictions"
   ]
  },
  {
   "cell_type": "markdown",
   "metadata": {},
   "source": [
    "#### Naive prediction using mean counts"
   ]
  },
  {
   "cell_type": "code",
   "execution_count": 22,
   "metadata": {},
   "outputs": [
    {
     "name": "stdout",
     "output_type": "stream",
     "text": [
      "\n",
      "Objective function under mean count prediction: 101,141,667.7\n"
     ]
    }
   ],
   "source": [
    "mean_counts_prediction_loss, mean_count_benchmark_model \\\n",
    "    = isl.estimation.mean_count_prediction(counts=fresno_network.observed_counts_vector)\n",
    "\n",
    "print('\\nObjective function under mean count prediction: ' + '{:,}'.format(round(mean_counts_prediction_loss, 1)))"
   ]
  },
  {
   "cell_type": "markdown",
   "metadata": {},
   "source": [
    "#### Naive prediction where travelers make equilikely choices"
   ]
  },
  {
   "cell_type": "code",
   "execution_count": 23,
   "metadata": {},
   "outputs": [
    {
     "name": "stdout",
     "output_type": "stream",
     "text": [
      "Objective function under equilikely route choices: 279,378,072.3\n"
     ]
    }
   ],
   "source": [
    "equilikely_prediction_loss, predicted_counts_equilikely \\\n",
    "    = isl.estimation.loss_counts_equilikely_choices(\n",
    "    network = fresno_network,\n",
    "    equilibrator=equilibrator_norefined,\n",
    "    counts=fresno_network.observed_counts_vector,\n",
    "    utility_function=utility_function)\n",
    "\n",
    "print('Objective function under equilikely route choices: ' + '{:,}'.format(round(equilikely_prediction_loss, 1)))"
   ]
  },
  {
   "cell_type": "markdown",
   "metadata": {},
   "source": [
    "### b) Model with travel time feature only"
   ]
  },
  {
   "cell_type": "markdown",
   "metadata": {},
   "source": [
    "#### No refined stage"
   ]
  },
  {
   "cell_type": "code",
   "execution_count": 24,
   "metadata": {},
   "outputs": [
    {
     "name": "stdout",
     "output_type": "stream",
     "text": [
      "\n",
      "Bilevel optimization for Fresno network \n",
      "\n",
      "Iteration : 1/10\n",
      "\n",
      "Initial theta: {'tt': '0.0E+00'}\n",
      "\n",
      "SUE via fw (max iters: 100)\n",
      "Path size correction with factor 1\n",
      "\n",
      "Equilibrium gaps: ['0E+00']\n",
      "Initial Fisk Objective: -204,356.25\n",
      "Final Fisk Objective: -204,356.25\n",
      "Improvement Fisk Objective: 0.00%\n",
      "Final gap: 0E+00. Acc. bound: 1E-04. Time: 46.8 [s]\n",
      "Initial objective: 278,924,807\n",
      "Initial RMSE: 1406.5\n",
      "Initial Normalized RMSE: 0.635\n",
      "\n",
      "Iteration : 2/10\n",
      "\n",
      "Estimating parameters via ngd (1 iters, eta = 5.0E-01)\n",
      "\n",
      "theta: {'tt': '-5.0E-01'}\n",
      "time: 20.9[s]\n",
      "\n",
      "SUE via fw (max iters: 100)\n",
      "\n",
      "Column generation: 28 paths per od, 2.0% od coverage, sequential sampling\n",
      "3198 paths added/replaced among 123 ods (New total paths: 17103)\n",
      "Path size correction with factor 1\n",
      "\n",
      "Path selection: probability_weight: 1, maximum number of paths per od: 7\n",
      "2583 paths removed among 123 ods (New total paths: 14520)\n",
      "Path size correction with factor 1\n",
      "\n",
      "Equilibrium gaps: ['2E-04', '0E+00']\n",
      "Initial Fisk Objective: -198,648.35\n",
      "Final Fisk Objective: -196,859.22\n",
      "Improvement Fisk Objective: 0.90%\n",
      "Final gap: 0E+00. Acc. bound: 1E-04. Time: 133.6 [s]\n",
      "\n",
      "Time current iteration: 154.6 [s]\n",
      "Current objective_value: 252,022,422\n",
      "Current objective improvement: 9.65%\n",
      "Current RMSE: 1336.9\n",
      "Current Normalized RMSE: 0.604\n",
      "Marginal objective improvement: 9.65%\n",
      "Marginal objective improvement value: 26,902,384.6\n",
      "\n",
      "\n",
      "Iteration : 3/10\n",
      "\n",
      "Estimating parameters via ngd (1 iters, eta = 5.0E-01)\n",
      "\n",
      "theta: {'tt': '-1.0E+00'}\n",
      "time: 24.7[s]\n",
      "\n",
      "SUE via fw (max iters: 100)\n",
      "\n",
      "Column generation: 28 paths per od, 2.0% od coverage, sequential sampling\n",
      "3614 paths added/replaced among 139 ods (New total paths: 18134)\n",
      "Path size correction with factor 1\n",
      "\n",
      "Path selection: probability_weight: 1, maximum number of paths per od: 7\n",
      "2919 paths removed among 139 ods (New total paths: 15215)\n",
      "Path size correction with factor 1\n",
      "\n",
      "Equilibrium gaps: ['2E-04', '0E+00']\n",
      "Initial Fisk Objective: -210,146.79\n",
      "Final Fisk Objective: -207,860.65\n",
      "Improvement Fisk Objective: 1.09%\n",
      "Final gap: 0E+00. Acc. bound: 1E-04. Time: 151.5 [s]\n",
      "\n",
      "Time current iteration: 176.2 [s]\n",
      "Current objective_value: 227,913,700\n",
      "Current objective improvement: 18.29%\n",
      "Current RMSE: 1271.4\n",
      "Current Normalized RMSE: 0.574\n",
      "Marginal objective improvement: 9.57%\n",
      "Marginal objective improvement value: 24,108,721.9\n",
      "\n",
      "\n",
      "Iteration : 4/10\n",
      "\n",
      "Estimating parameters via ngd (1 iters, eta = 5.0E-01)\n",
      "\n",
      "theta: {'tt': '-1.5E+00'}\n",
      "time: 29.9[s]\n",
      "\n",
      "SUE via fw (max iters: 100)\n",
      "\n",
      "Column generation: 28 paths per od, 2.0% od coverage, sequential sampling\n",
      "3588 paths added/replaced among 138 ods (New total paths: 18803)\n",
      "Path size correction with factor 1\n",
      "\n",
      "Path selection: probability_weight: 1, maximum number of paths per od: 7\n",
      "2898 paths removed among 138 ods (New total paths: 15905)\n",
      "Path size correction with factor 1\n",
      "\n",
      "Equilibrium gaps: ['3E-04', '1E-05']\n",
      "Initial Fisk Objective: -223,944.94\n",
      "Final Fisk Objective: -220,506.26\n",
      "Improvement Fisk Objective: 1.54%\n",
      "Final gap: 1E-05. Acc. bound: 1E-04. Time: 161.9 [s]\n",
      "\n",
      "Time current iteration: 191.9 [s]\n",
      "Current objective_value: 214,312,766\n",
      "Current objective improvement: 23.16%\n",
      "Current RMSE: 1232.9\n",
      "Current Normalized RMSE: 0.557\n",
      "Marginal objective improvement: 5.97%\n",
      "Marginal objective improvement value: 13,600,934.8\n",
      "\n",
      "\n",
      "Iteration : 5/10\n",
      "\n",
      "Estimating parameters via ngd (1 iters, eta = 5.0E-01)\n",
      "\n",
      "theta: {'tt': '-2.0E+00'}\n",
      "time: 33.7[s]\n",
      "\n",
      "SUE via fw (max iters: 100)\n",
      "\n",
      "Column generation: 28 paths per od, 2.0% od coverage, sequential sampling\n",
      "3614 paths added/replaced among 139 ods (New total paths: 19519)\n",
      "Path size correction with factor 1\n",
      "\n",
      "Path selection: probability_weight: 1, maximum number of paths per od: 7\n",
      "2919 paths removed among 139 ods (New total paths: 16600)\n",
      "Path size correction with factor 1\n",
      "\n",
      "Equilibrium gaps: ['2E-04', '8E-06']\n",
      "Initial Fisk Objective: -238,675.14\n",
      "Final Fisk Objective: -232,830.02\n",
      "Improvement Fisk Objective: 2.45%\n",
      "Final gap: 8E-06. Acc. bound: 1E-04. Time: 172.7 [s]\n",
      "\n",
      "Time current iteration: 206.5 [s]\n",
      "Current objective_value: 207,534,353\n",
      "Current objective improvement: 25.59%\n",
      "Current RMSE: 1213.2\n",
      "Current Normalized RMSE: 0.548\n",
      "Marginal objective improvement: 3.16%\n",
      "Marginal objective improvement value: 6,778,412.5\n",
      "\n",
      "\n",
      "Iteration : 6/10\n",
      "\n",
      "Estimating parameters via ngd (1 iters, eta = 5.0E-01)\n",
      "\n",
      "theta: {'tt': '-2.5E+00'}\n",
      "time: 35.3[s]\n",
      "\n",
      "SUE via fw (max iters: 100)\n",
      "\n",
      "Column generation: 28 paths per od, 2.0% od coverage, sequential sampling\n",
      "3640 paths added/replaced among 140 ods (New total paths: 20240)\n",
      "Path size correction with factor 1\n",
      "\n",
      "Path selection: probability_weight: 1, maximum number of paths per od: 7\n",
      "2940 paths removed among 140 ods (New total paths: 17300)\n",
      "Path size correction with factor 1\n",
      "\n",
      "Equilibrium gaps: ['4E-04', '9E-06']\n",
      "Initial Fisk Objective: -253,269.14\n",
      "Final Fisk Objective: -243,591.11\n",
      "Improvement Fisk Objective: 3.82%\n",
      "Final gap: 9E-06. Acc. bound: 1E-04. Time: 178.7 [s]\n",
      "\n",
      "Time current iteration: 214.1 [s]\n",
      "Current objective_value: 203,400,326\n",
      "Current objective improvement: 27.08%\n",
      "Current RMSE: 1201.1\n",
      "Current Normalized RMSE: 0.543\n",
      "Marginal objective improvement: 1.99%\n",
      "Marginal objective improvement value: 4,134,026.7\n",
      "\n",
      "\n",
      "Iteration : 7/10\n",
      "\n",
      "Estimating parameters via ngd (1 iters, eta = 5.0E-01)\n",
      "\n",
      "theta: {'tt': '-2.0E+00'}\n",
      "time: 40.5[s]\n",
      "\n",
      "SUE via fw (max iters: 100)\n",
      "\n",
      "Column generation: 28 paths per od, 2.0% od coverage, sequential sampling\n",
      "3614 paths added/replaced among 139 ods (New total paths: 20914)\n",
      "Path size correction with factor 1\n",
      "\n",
      "Path selection: probability_weight: 1, maximum number of paths per od: 7\n",
      "2919 paths removed among 139 ods (New total paths: 17995)\n",
      "Path size correction with factor 1\n",
      "\n",
      "Equilibrium gaps: ['5E-04', '5E-05']\n",
      "Initial Fisk Objective: -232,823.87\n",
      "Final Fisk Objective: -225,674.29\n",
      "Improvement Fisk Objective: 3.07%\n",
      "Final gap: 5E-05. Acc. bound: 1E-04. Time: 182.9 [s]\n",
      "\n",
      "Time current iteration: 223.6 [s]\n",
      "Current objective_value: 201,978,759\n",
      "Current objective improvement: 27.59%\n",
      "Current RMSE: 1196.9\n",
      "Current Normalized RMSE: 0.541\n",
      "Marginal objective improvement: 0.70%\n",
      "Marginal objective improvement value: 1,421,567.5\n",
      "\n",
      "\n",
      "Iteration : 8/10\n",
      "\n",
      "Estimating parameters via ngd (1 iters, eta = 5.0E-01)\n",
      "\n",
      "theta: {'tt': '-1.5E+00'}\n",
      "time: 42.9[s]\n",
      "\n",
      "SUE via fw (max iters: 100)\n",
      "\n",
      "Column generation: 28 paths per od, 2.0% od coverage, sequential sampling\n",
      "3588 paths added/replaced among 138 ods (New total paths: 21583)\n",
      "Path size correction with factor 1\n",
      "\n",
      "Path selection: probability_weight: 1, maximum number of paths per od: 7\n",
      "2898 paths removed among 138 ods (New total paths: 18685)\n",
      "Path size correction with factor 1\n",
      "\n",
      "Equilibrium gaps: ['4E-04', '2E-06']\n",
      "Initial Fisk Objective: -210,980.45\n",
      "Final Fisk Objective: -206,051.15\n",
      "Improvement Fisk Objective: 2.34%\n",
      "Final gap: 2E-06. Acc. bound: 1E-04. Time: 190.0 [s]\n",
      "\n",
      "Time current iteration: 233.0 [s]\n",
      "Current objective_value: 202,475,646\n",
      "Current objective improvement: 27.59%\n",
      "Current RMSE: 1198.3\n",
      "Current Normalized RMSE: 0.541\n",
      "Marginal objective improvement: -0.25%\n",
      "Marginal objective improvement value: -496,887.4\n",
      "\n",
      "\n",
      "Iteration : 9/10\n",
      "\n",
      "Estimating parameters via ngd (1 iters, eta = 5.0E-01)\n",
      "\n",
      "theta: {'tt': '-2.0E+00'}\n",
      "time: 52.0[s]\n",
      "\n",
      "SUE via fw (max iters: 100)\n",
      "\n",
      "Column generation: 28 paths per od, 2.0% od coverage, sequential sampling\n",
      "3640 paths added/replaced among 140 ods (New total paths: 22325)\n",
      "Path size correction with factor 1\n",
      "\n",
      "Path selection: probability_weight: 1, maximum number of paths per od: 7\n",
      "2940 paths removed among 140 ods (New total paths: 19385)\n",
      "Path size correction with factor 1\n",
      "\n",
      "Equilibrium gaps: ['8E-04', '3E-05']\n",
      "Initial Fisk Objective: -228,782.97\n",
      "Final Fisk Objective: -220,756.33\n",
      "Improvement Fisk Objective: 3.51%\n",
      "Final gap: 3E-05. Acc. bound: 1E-04. Time: 206.9 [s]\n",
      "\n",
      "Time current iteration: 259.1 [s]\n",
      "Current objective_value: 200,642,964\n",
      "Current objective improvement: 28.07%\n",
      "Current RMSE: 1192.9\n",
      "Current Normalized RMSE: 0.539\n",
      "Marginal objective improvement: 0.91%\n",
      "Marginal objective improvement value: 1,832,682.4\n",
      "\n",
      "\n",
      "Iteration : 10/10\n",
      "\n",
      "Estimating parameters via ngd (1 iters, eta = 5.0E-01)\n",
      "\n",
      "theta: {'tt': '-1.5E+00'}\n",
      "time: 56.6[s]\n",
      "\n",
      "SUE via fw (max iters: 100)\n",
      "Path size correction with factor 1\n",
      "\n",
      "Equilibrium gaps: ['7E-04', '3E-05']\n",
      "Initial Fisk Objective: -209,159.48\n",
      "Final Fisk Objective: -203,965.2\n",
      "Improvement Fisk Objective: 2.48%\n",
      "Final gap: 3E-05. Acc. bound: 1E-04. Time: 90.3 [s]\n",
      "\n",
      "Time current iteration: 147.1 [s]\n",
      "Current objective_value: 202,557,210\n",
      "Current objective improvement: 28.07%\n",
      "Current RMSE: 1198.6\n",
      "Current Normalized RMSE: 0.541\n",
      "Marginal objective improvement: -0.95%\n",
      "Marginal objective improvement value: -1,914,245.6\n",
      "\n",
      "Summary results of bilevel optimization\n",
      "best iter: 9\n",
      "best theta: {'tt': '-2.0E+00'}\n",
      "best objective_value: 200,642,964\n",
      "Final best objective improvement: 28.07%\n",
      "Final best objective improvement value: 78,281,843.0\n",
      "Best RMSE: 1192.9\n",
      "Best Normalized RMSE: 0.539\n",
      "Total time: 1808.8 [s]\n",
      "\n",
      "Hypothesis testing (H0: theta = 0, alpha = 0.05, n = 141)\n",
      "\n",
      "Hessian approximated as J^T J\n",
      "\n",
      " parameter    est               CI  width_CI  t-test  p-value\n",
      "       tt -2.000 [-3.924, -0.076]     1.924  -2.055    0.042\n",
      "\n",
      "Computing F-test\n",
      "     F  critical-F     p  dof_m1  dof_m2        sse_m1        sse_m2   n\n",
      "46.797       3.909 0.000       0       1 270476080.246 202715311.680 141\n",
      "Time: 71.2[s]\n"
     ]
    }
   ],
   "source": [
    "learning_results_norefined_traveltime_model, inference_results_norefined_traveltime_model, best_iter_norefined_traveltime_model = \\\n",
    "    learner_norefined.statistical_inference(h0=0, bilevel_iters=10, alpha=0.05, link_report=False, iteration_report = True)\n",
    "\n",
    "theta_norefined_traveltime_model = learning_results_norefined_traveltime_model[best_iter_norefined_traveltime_model]['theta']"
   ]
  },
  {
   "cell_type": "markdown",
   "metadata": {},
   "source": [
    "#### Refined stage"
   ]
  },
  {
   "cell_type": "code",
   "execution_count": 25,
   "metadata": {},
   "outputs": [
    {
     "name": "stdout",
     "output_type": "stream",
     "text": [
      "\n",
      "Bilevel optimization for Fresno network \n",
      "\n",
      "Iteration : 1/10\n",
      "\n",
      "Initial theta: {'tt': '-2.0E+00'}\n",
      "\n",
      "SUE via fw (max iters: 100)\n",
      "Path size correction with factor 1\n",
      "\n",
      "Equilibrium gaps: ['8E-04', '3E-05']\n",
      "Initial Fisk Objective: -228,782.97\n",
      "Final Fisk Objective: -220,756.33\n",
      "Improvement Fisk Objective: 3.51%\n",
      "Final gap: 3E-05. Acc. bound: 1E-04. Time: 90.3 [s]\n",
      "Initial objective: 200,642,964\n",
      "Initial RMSE: 1192.9\n",
      "Initial Normalized RMSE: 0.539\n",
      "\n",
      "Iteration : 2/10\n",
      "\n",
      "Estimating parameters via lm (1 iters)\n",
      "\n",
      "Damping factors: ['1.0E-02']\n",
      "theta: {'tt': '-1.8E+00'}\n",
      "time: 63.9[s]\n",
      "\n",
      "SUE via fw (max iters: 100)\n",
      "\n",
      "Column generation: 28 paths per od, 2.0% od coverage, sequential sampling\n",
      "2583 paths added/replaced among 123 ods (New total paths: 21968)\n",
      "Path size correction with factor 1\n",
      "\n",
      "Path selection: probability_weight: 1, maximum number of paths per od: 7\n",
      "2583 paths removed among 123 ods (New total paths: 19385)\n",
      "Path size correction with factor 1\n",
      "\n",
      "Equilibrium gaps: ['4E-04', '5E-05']\n",
      "Initial Fisk Objective: -220,086.39\n",
      "Final Fisk Objective: -212,378.95\n",
      "Improvement Fisk Objective: 3.50%\n",
      "Final gap: 5E-05. Acc. bound: 1E-04. Time: 179.1 [s]\n",
      "\n",
      "Time current iteration: 243.2 [s]\n",
      "Current objective_value: 203,055,796\n",
      "Current objective improvement: 0.00%\n",
      "Current RMSE: 1200.0\n",
      "Current Normalized RMSE: 0.542\n",
      "Marginal objective improvement: -1.20%\n",
      "Marginal objective improvement value: -2,412,832.0\n",
      "\n",
      "\n",
      "Iteration : 3/10\n",
      "\n",
      "Estimating parameters via lm (1 iters)\n",
      "\n",
      "Damping factors: ['1.0E-02']\n",
      "theta: {'tt': '-1.7E+00'}\n",
      "time: 62.0[s]\n",
      "\n",
      "SUE via fw (max iters: 100)\n",
      "\n",
      "Column generation: 28 paths per od, 2.0% od coverage, sequential sampling\n",
      "2919 paths added/replaced among 139 ods (New total paths: 22304)\n",
      "Path size correction with factor 1\n",
      "\n",
      "Path selection: probability_weight: 1, maximum number of paths per od: 7\n",
      "2919 paths removed among 139 ods (New total paths: 19385)\n",
      "Path size correction with factor 1\n",
      "\n",
      "Equilibrium gaps: ['4E-04', '1E-05']\n",
      "Initial Fisk Objective: -214,320.67\n",
      "Final Fisk Objective: -207,441.03\n",
      "Improvement Fisk Objective: 3.21%\n",
      "Final gap: 1E-05. Acc. bound: 1E-04. Time: 185.0 [s]\n",
      "\n",
      "Time current iteration: 247.1 [s]\n",
      "Current objective_value: 203,705,963\n",
      "Current objective improvement: 0.00%\n",
      "Current RMSE: 1202.0\n",
      "Current Normalized RMSE: 0.543\n",
      "Marginal objective improvement: -0.32%\n",
      "Marginal objective improvement value: -650,167.1\n",
      "\n",
      "\n",
      "Iteration : 4/10\n",
      "\n",
      "Estimating parameters via lm (1 iters)\n",
      "\n",
      "Damping factors: ['1.0E-02']\n",
      "theta: {'tt': '-1.8E+00'}\n",
      "time: 57.2[s]\n",
      "\n",
      "SUE via fw (max iters: 100)\n",
      "\n",
      "Column generation: 28 paths per od, 2.0% od coverage, sequential sampling\n",
      "2898 paths added/replaced among 138 ods (New total paths: 22283)\n",
      "Path size correction with factor 1\n",
      "\n",
      "Path selection: probability_weight: 1, maximum number of paths per od: 7\n",
      "2898 paths removed among 138 ods (New total paths: 19385)\n",
      "Path size correction with factor 1\n",
      "\n",
      "Equilibrium gaps: ['5E-04', '2E-05']\n",
      "Initial Fisk Objective: -218,349.94\n",
      "Final Fisk Objective: -211,012.15\n",
      "Improvement Fisk Objective: 3.36%\n",
      "Final gap: 2E-05. Acc. bound: 1E-04. Time: 187.7 [s]\n",
      "\n",
      "Time current iteration: 245.1 [s]\n",
      "Current objective_value: 203,885,227\n",
      "Current objective improvement: 0.00%\n",
      "Current RMSE: 1202.5\n",
      "Current Normalized RMSE: 0.543\n",
      "Marginal objective improvement: -0.09%\n",
      "Marginal objective improvement value: -179,263.9\n",
      "\n",
      "\n",
      "Iteration : 5/10\n",
      "\n",
      "Estimating parameters via lm (1 iters)\n",
      "\n",
      "Damping factors: ['1.0E-02']\n",
      "theta: {'tt': '-1.9E+00'}\n",
      "time: 60.8[s]\n",
      "\n",
      "SUE via fw (max iters: 100)\n",
      "\n",
      "Column generation: 28 paths per od, 2.0% od coverage, sequential sampling\n",
      "2919 paths added/replaced among 139 ods (New total paths: 22304)\n",
      "Path size correction with factor 1\n",
      "\n",
      "Path selection: probability_weight: 1, maximum number of paths per od: 7\n",
      "2919 paths removed among 139 ods (New total paths: 19385)\n",
      "Path size correction with factor 1\n",
      "\n",
      "Equilibrium gaps: ['5E-04', '3E-05']\n",
      "Initial Fisk Objective: -220,990.03\n",
      "Final Fisk Objective: -213,324.47\n",
      "Improvement Fisk Objective: 3.47%\n",
      "Final gap: 3E-05. Acc. bound: 1E-04. Time: 186.1 [s]\n",
      "\n",
      "Time current iteration: 247.0 [s]\n",
      "Current objective_value: 203,836,074\n",
      "Current objective improvement: 0.00%\n",
      "Current RMSE: 1202.4\n",
      "Current Normalized RMSE: 0.543\n",
      "Marginal objective improvement: 0.02%\n",
      "Marginal objective improvement value: 49,152.6\n",
      "\n",
      "\n",
      "Iteration : 6/10\n",
      "\n",
      "Estimating parameters via lm (1 iters)\n",
      "\n",
      "Damping factors: ['1.0E-02']\n",
      "theta: {'tt': '-1.9E+00'}\n",
      "time: 57.2[s]\n",
      "\n",
      "SUE via fw (max iters: 100)\n",
      "\n",
      "Column generation: 28 paths per od, 2.0% od coverage, sequential sampling\n",
      "2940 paths added/replaced among 140 ods (New total paths: 22325)\n",
      "Path size correction with factor 1\n",
      "\n",
      "Path selection: probability_weight: 1, maximum number of paths per od: 7\n",
      "2940 paths removed among 140 ods (New total paths: 19385)\n",
      "Path size correction with factor 1\n",
      "\n",
      "Equilibrium gaps: ['5E-04', '3E-05']\n",
      "Initial Fisk Objective: -222,548.7\n",
      "Final Fisk Objective: -214,637.71\n",
      "Improvement Fisk Objective: 3.55%\n",
      "Final gap: 3E-05. Acc. bound: 1E-04. Time: 188.4 [s]\n",
      "\n",
      "Time current iteration: 245.7 [s]\n",
      "Current objective_value: 203,479,993\n",
      "Current objective improvement: 0.00%\n",
      "Current RMSE: 1201.3\n",
      "Current Normalized RMSE: 0.543\n",
      "Marginal objective improvement: 0.17%\n",
      "Marginal objective improvement value: 356,081.1\n",
      "\n",
      "\n",
      "Iteration : 7/10\n",
      "\n",
      "Estimating parameters via lm (1 iters)\n",
      "\n",
      "Damping factors: ['1.0E-02']\n",
      "theta: {'tt': '-1.9E+00'}\n",
      "time: 57.3[s]\n",
      "\n",
      "SUE via fw (max iters: 100)\n",
      "\n",
      "Column generation: 28 paths per od, 2.0% od coverage, sequential sampling\n",
      "2919 paths added/replaced among 139 ods (New total paths: 22304)\n",
      "Path size correction with factor 1\n",
      "\n",
      "Path selection: probability_weight: 1, maximum number of paths per od: 7\n",
      "2919 paths removed among 139 ods (New total paths: 19385)\n",
      "Path size correction with factor 1\n",
      "\n",
      "Equilibrium gaps: ['5E-04', '3E-05']\n",
      "Initial Fisk Objective: -223,352.31\n",
      "Final Fisk Objective: -215,335.18\n",
      "Improvement Fisk Objective: 3.59%\n",
      "Final gap: 3E-05. Acc. bound: 1E-04. Time: 193.5 [s]\n",
      "\n",
      "Time current iteration: 251.0 [s]\n",
      "Current objective_value: 203,459,228\n",
      "Current objective improvement: 0.00%\n",
      "Current RMSE: 1201.2\n",
      "Current Normalized RMSE: 0.543\n",
      "Marginal objective improvement: 0.01%\n",
      "Marginal objective improvement value: 20,765.6\n",
      "\n",
      "\n",
      "Iteration : 8/10\n",
      "\n",
      "Estimating parameters via lm (1 iters)\n",
      "\n",
      "Damping factors: ['1.0E-02']\n",
      "theta: {'tt': '-1.9E+00'}\n",
      "time: 61.2[s]\n",
      "\n",
      "SUE via fw (max iters: 100)\n",
      "\n",
      "Column generation: 28 paths per od, 2.0% od coverage, sequential sampling\n",
      "2898 paths added/replaced among 138 ods (New total paths: 22283)\n",
      "Path size correction with factor 1\n",
      "\n",
      "Path selection: probability_weight: 1, maximum number of paths per od: 7\n",
      "2898 paths removed among 138 ods (New total paths: 19385)\n",
      "Path size correction with factor 1\n",
      "\n",
      "Equilibrium gaps: ['6E-04', '3E-05']\n",
      "Initial Fisk Objective: -224,009.11\n",
      "Final Fisk Objective: -215,901.71\n",
      "Improvement Fisk Objective: 3.62%\n",
      "Final gap: 3E-05. Acc. bound: 1E-04. Time: 189.0 [s]\n",
      "\n",
      "Time current iteration: 250.3 [s]\n",
      "Current objective_value: 203,568,818\n",
      "Current objective improvement: 0.00%\n",
      "Current RMSE: 1201.6\n",
      "Current Normalized RMSE: 0.543\n",
      "Marginal objective improvement: -0.05%\n",
      "Marginal objective improvement value: -109,590.2\n",
      "\n",
      "\n",
      "Iteration : 9/10\n",
      "\n",
      "Estimating parameters via lm (1 iters)\n",
      "\n",
      "Damping factors: ['1.0E-02']\n",
      "theta: {'tt': '-2.0E+00'}\n",
      "time: 59.1[s]\n",
      "\n",
      "SUE via fw (max iters: 100)\n",
      "\n",
      "Column generation: 28 paths per od, 2.0% od coverage, sequential sampling\n",
      "2940 paths added/replaced among 140 ods (New total paths: 22325)\n",
      "Path size correction with factor 1\n",
      "\n",
      "Path selection: probability_weight: 1, maximum number of paths per od: 7\n",
      "2940 paths removed among 140 ods (New total paths: 19385)\n",
      "Path size correction with factor 1\n",
      "\n",
      "Equilibrium gaps: ['6E-04', '4E-05']\n",
      "Initial Fisk Objective: -224,701.83\n",
      "Final Fisk Objective: -216,506.58\n",
      "Improvement Fisk Objective: 3.65%\n",
      "Final gap: 4E-05. Acc. bound: 1E-04. Time: 186.8 [s]\n",
      "\n",
      "Time current iteration: 246.1 [s]\n",
      "Current objective_value: 203,555,454\n",
      "Current objective improvement: 0.00%\n",
      "Current RMSE: 1201.5\n",
      "Current Normalized RMSE: 0.543\n",
      "Marginal objective improvement: 0.01%\n",
      "Marginal objective improvement value: 13,364.4\n",
      "\n",
      "\n",
      "Iteration : 10/10\n",
      "\n",
      "Estimating parameters via lm (1 iters)\n",
      "\n",
      "Damping factors: ['1.0E-02']\n",
      "theta: {'tt': '-2.0E+00'}\n",
      "time: 59.0[s]\n",
      "\n",
      "SUE via fw (max iters: 100)\n",
      "Path size correction with factor 1\n",
      "\n",
      "Equilibrium gaps: ['6E-04', '4E-05']\n",
      "Initial Fisk Objective: -225,075.44\n",
      "Final Fisk Objective: -216,827.74\n",
      "Improvement Fisk Objective: 3.66%\n",
      "Final gap: 4E-05. Acc. bound: 1E-04. Time: 85.1 [s]\n",
      "\n",
      "Time current iteration: 144.2 [s]\n",
      "Current objective_value: 203,550,494\n",
      "Current objective improvement: 0.00%\n",
      "Current RMSE: 1201.5\n",
      "Current Normalized RMSE: 0.543\n",
      "Marginal objective improvement: 0.00%\n",
      "Marginal objective improvement value: 4,959.0\n",
      "\n",
      "Summary results of bilevel optimization\n",
      "best iter: 1\n",
      "best theta: {'tt': '-2.0E+00'}\n",
      "best objective_value: 200,642,964\n",
      "Final best objective improvement: 0.00%\n",
      "Final best objective improvement value: 0.0\n",
      "Best RMSE: 1192.9\n",
      "Best Normalized RMSE: 0.539\n",
      "Total time: 2122.5 [s]\n",
      "\n",
      "Hypothesis testing (H0: theta = 0, alpha = 0.05, n = 141)\n",
      "\n",
      "Hessian approximated as J^T J\n",
      "\n",
      " parameter    est               CI  width_CI  t-test  p-value\n",
      "       tt -2.000 [-3.804, -0.196]     1.804  -2.191    0.030\n",
      "\n",
      "Computing F-test\n",
      "     F  critical-F     p  dof_m1  dof_m2        sse_m1        sse_m2   n\n",
      "53.039       3.909 0.000       0       1 284596994.449 206401582.640 141\n",
      "Time: 65.9[s]\n"
     ]
    }
   ],
   "source": [
    "learner_refined.utility_function.initial_values = theta_norefined_traveltime_model\n",
    "\n",
    "learning_results_refined_traveltime_model, inference_results_refined_traveltime_model, best_iter_refined_traveltime_model = \\\n",
    "    learner_refined.statistical_inference(h0=0, bilevel_iters=10, alpha=0.05, link_report=False, iteration_report = True)\n",
    "\n",
    "theta_refined_traveltime_model = learning_results_refined_traveltime_model[best_iter_refined_traveltime_model]['theta']"
   ]
  },
  {
   "cell_type": "markdown",
   "metadata": {
    "pycharm": {
     "name": "#%% md\n"
    }
   },
   "source": [
    "#### Write paths"
   ]
  },
  {
   "cell_type": "code",
   "execution_count": 26,
   "metadata": {
    "pycharm": {
     "name": "#%%\n"
    }
   },
   "outputs": [
    {
     "name": "stdout",
     "output_type": "stream",
     "text": [
      "Writing paths: |###################-| 97.0% 19385 paths were written in 15.1[s]                 \n"
     ]
    }
   ],
   "source": [
    "paths_generator.write_paths(network=fresno_network, overwrite_input=False, filename = 'paths-traveltime-model-fresno.csv')"
   ]
  },
  {
   "cell_type": "markdown",
   "metadata": {},
   "source": [
    "#### Report"
   ]
  },
  {
   "cell_type": "code",
   "execution_count": 27,
   "metadata": {},
   "outputs": [],
   "source": [
    "estimation_reporter.add_items_report(\n",
    "    selected_date = data_reader.options['selected_date'],\n",
    "    selected_hour = data_reader.options['selected_hour'],\n",
    "    selected_od_periods = data_reader.options['od_periods'],\n",
    "    mean_counts=round(mean_count_benchmark_model,1),\n",
    "    mean_counts_prediction_loss = round(mean_counts_prediction_loss,1),\n",
    "    equilikely_prediction_loss = round(equilikely_prediction_loss,1)\n",
    ")\n",
    "\n",
    "estimation_reporter.add_items_report(\n",
    "    theta_norefined=theta_norefined_traveltime_model,\n",
    "    theta_refined= theta_refined_traveltime_model,\n",
    "    best_objective_norefined = round(learning_results_norefined_traveltime_model[best_iter_norefined_traveltime_model]['objective'],1),\n",
    "    best_objective_refined = round(learning_results_refined_traveltime_model[best_iter_refined_traveltime_model]['objective'],1),\n",
    ")\n",
    "\n",
    "# Summary with most relevant options, prediction error, initial parameters, etc\n",
    "estimation_reporter.write_estimation_report(\n",
    "    network=fresno_network,\n",
    "    learners=[learner_norefined, learner_refined],\n",
    "    utility_function=utility_function)\n",
    "\n",
    "# Write tables with results on learning and inference\n",
    "estimation_reporter.write_learning_tables(\n",
    "    results_norefined=learning_results_norefined_traveltime_model,\n",
    "    results_refined=learning_results_refined_traveltime_model,\n",
    "    network = fresno_network,\n",
    "    utility_function = utility_function)\n",
    "\n",
    "estimation_reporter.write_inference_tables(\n",
    "    results_norefined=inference_results_norefined_traveltime_model,\n",
    "    results_refined=inference_results_refined_traveltime_model,\n",
    "    float_format = '%.3f')"
   ]
  },
  {
   "cell_type": "markdown",
   "metadata": {},
   "source": [
    "#### Visualizations"
   ]
  },
  {
   "cell_type": "markdown",
   "metadata": {},
   "source": [
    "##### Convergence"
   ]
  },
  {
   "cell_type": "code",
   "execution_count": 28,
   "metadata": {},
   "outputs": [
    {
     "data": {
      "image/png": "[encoded data removed]",
      "text/plain": [
       "<Figure size 504x432 with 4 Axes>"
      ]
     },
     "metadata": {
      "needs_background": "light"
     },
     "output_type": "display_data"
    }
   ],
   "source": [
    "results_traveltime_model_df = isl.descriptive_statistics \\\n",
    "    .get_loss_and_estimates_over_iterations(results_norefined=learning_results_norefined_traveltime_model\n",
    "                                            , results_refined=learning_results_refined_traveltime_model)\n",
    "\n",
    "fig = isl.visualization.Artist().convergence(\n",
    "    results_norefined_df=results_traveltime_model_df[results_traveltime_model_df['stage'] == 'norefined'],\n",
    "    results_refined_df=results_traveltime_model_df[results_traveltime_model_df['stage'] == 'refined'],\n",
    "    filename='convergence_' + fresno_network.key,\n",
    "    methods=[outer_optimizer_norefined.method.key, outer_optimizer_refined.method.key],\n",
    "    folder = estimation_reporter.dirs['estimation_folder'],\n",
    "    simulated_data = False\n",
    ")"
   ]
  },
  {
   "cell_type": "markdown",
   "metadata": {},
   "source": [
    "##### Distribution of errors"
   ]
  },
  {
   "cell_type": "code",
   "execution_count": 31,
   "metadata": {},
   "outputs": [
    {
     "ename": "ValueError",
     "evalue": "arange: cannot compute length",
     "output_type": "error",
     "traceback": [
      "\u001B[0;31m---------------------------------------------------------------------------\u001B[0m",
      "\u001B[0;31mValueError\u001B[0m                                Traceback (most recent call last)",
      "\u001B[0;32m/var/folders/mg/t5yt0b_d1cg4ykytg0c22xcc0000gn/T/ipykernel_17458/1084756499.py\u001B[0m in \u001B[0;36m<module>\u001B[0;34m\u001B[0m\n\u001B[1;32m      4\u001B[0m     \u001B[0mobserved_counts\u001B[0m\u001B[0;34m=\u001B[0m \u001B[0mfresno_network\u001B[0m\u001B[0;34m.\u001B[0m\u001B[0mobserved_counts_vector\u001B[0m\u001B[0;34m,\u001B[0m\u001B[0;34m\u001B[0m\u001B[0;34m\u001B[0m\u001B[0m\n\u001B[1;32m      5\u001B[0m     \u001B[0mfilename\u001B[0m \u001B[0;34m=\u001B[0m \u001B[0;34m'distribution_predicted_count_error_traveltime_model.pdf'\u001B[0m\u001B[0;34m,\u001B[0m\u001B[0;34m\u001B[0m\u001B[0;34m\u001B[0m\u001B[0m\n\u001B[0;32m----> 6\u001B[0;31m     folder = estimation_reporter.dirs['estimation_folder'])\n\u001B[0m",
      "\u001B[0;32m~/OneDrive/data-science/github/isuelogit/src/isuelogit/visualization.py\u001B[0m in \u001B[0;36mhistogram_errors\u001B[0;34m(self, best_results_norefined, best_results_refined, observed_counts, filename, folder)\u001B[0m\n\u001B[1;32m   1207\u001B[0m         \u001B[0mbound\u001B[0m \u001B[0;34m=\u001B[0m \u001B[0mmax\u001B[0m\u001B[0;34m(\u001B[0m\u001B[0mnp\u001B[0m\u001B[0;34m.\u001B[0m\u001B[0mmaximum\u001B[0m\u001B[0;34m(\u001B[0m\u001B[0mabs\u001B[0m\u001B[0;34m(\u001B[0m\u001B[0mx\u001B[0m\u001B[0;34m)\u001B[0m\u001B[0;34m,\u001B[0m\u001B[0mabs\u001B[0m\u001B[0;34m(\u001B[0m\u001B[0my\u001B[0m\u001B[0;34m)\u001B[0m\u001B[0;34m)\u001B[0m\u001B[0;34m)\u001B[0m\u001B[0;34m\u001B[0m\u001B[0;34m\u001B[0m\u001B[0m\n\u001B[1;32m   1208\u001B[0m \u001B[0;34m\u001B[0m\u001B[0m\n\u001B[0;32m-> 1209\u001B[0;31m         \u001B[0mbins\u001B[0m \u001B[0;34m=\u001B[0m \u001B[0mnp\u001B[0m\u001B[0;34m.\u001B[0m\u001B[0marange\u001B[0m\u001B[0;34m(\u001B[0m\u001B[0;34m-\u001B[0m\u001B[0mbound\u001B[0m\u001B[0;34m,\u001B[0m \u001B[0mbound\u001B[0m\u001B[0;34m+\u001B[0m\u001B[0;36m1\u001B[0m\u001B[0;34m,\u001B[0m \u001B[0;36m500\u001B[0m\u001B[0;34m)\u001B[0m\u001B[0;34m\u001B[0m\u001B[0;34m\u001B[0m\u001B[0m\n\u001B[0m\u001B[1;32m   1210\u001B[0m \u001B[0;34m\u001B[0m\u001B[0m\n\u001B[1;32m   1211\u001B[0m         \u001B[0maxs\u001B[0m\u001B[0;34m.\u001B[0m\u001B[0mhist\u001B[0m\u001B[0;34m(\u001B[0m\u001B[0mx\u001B[0m\u001B[0;34m,\u001B[0m \u001B[0mbins\u001B[0m\u001B[0;34m,\u001B[0m \u001B[0malpha\u001B[0m\u001B[0;34m=\u001B[0m\u001B[0;36m0.5\u001B[0m\u001B[0;34m,\u001B[0m \u001B[0mlabel\u001B[0m\u001B[0;34m=\u001B[0m\u001B[0;34m'non-refined'\u001B[0m\u001B[0;34m)\u001B[0m\u001B[0;34m\u001B[0m\u001B[0;34m\u001B[0m\u001B[0m\n",
      "\u001B[0;31mValueError\u001B[0m: arange: cannot compute length"
     ]
    },
    {
     "data": {
      "image/png": "[encoded data removed]",
      "text/plain": [
       "<Figure size 360x360 with 1 Axes>"
      ]
     },
     "metadata": {
      "needs_background": "light"
     },
     "output_type": "display_data"
    }
   ],
   "source": [
    "fig = isl.visualization.Artist().histogram_errors(\n",
    "    best_results_norefined = learning_results_norefined_traveltime_model[best_iter_norefined_traveltime_model],\n",
    "    best_results_refined = learning_results_refined_traveltime_model[best_iter_refined_traveltime_model],\n",
    "    observed_counts= fresno_network.observed_counts_vector,\n",
    "    filename = 'distribution_predicted_count_error_traveltime_model.pdf',\n",
    "    folder = estimation_reporter.dirs['estimation_folder'])"
   ]
  },
  {
   "cell_type": "markdown",
   "metadata": {
    "pycharm": {
     "name": "#%% md\n"
    }
   },
   "source": [
    "### c) Model with all features"
   ]
  },
  {
   "cell_type": "code",
   "execution_count": 32,
   "metadata": {
    "pycharm": {
     "name": "#%%\n"
    }
   },
   "outputs": [],
   "source": [
    "utility_function_full_model = isl.estimation.UtilityFunction(\n",
    "    features_Y=['tt'],\n",
    "#    features_Z= ['incidents'],\n",
    "    features_Z= ['incidents', 'speed_sd','median_inc', 'bus_stops', 'intersections'],\n",
    "    # initial_values = {'median_inc': 1.5, 'bus_stops':0},\n",
    "    signs = {'tt': '-', 'speed_sd':'-', 'incidents':'-', 'intersections':'-', 'bus_stops':'-', 'median_inc':'+'},\n",
    "    fixed = {'tt': True}\n",
    ")\n",
    "\n",
    "# Update utility functions of no refined and refined learners\n",
    "learner_norefined.utility_function = utility_function_full_model\n",
    "learner_refined.utility_function = utility_function_full_model\n",
    "\n",
    "#Initialize value with the estimate obtained from b)\n",
    "# learner_norefined.utility_function.initial_values = theta_refined_traveltime_model\n",
    "learner_norefined.utility_function.zero_initializer()\n",
    "\n",
    "# learner_norefined.outer_optimizer.method.eta = 5e-1\n",
    "# learner_refined.outer_optimizer.method.eta = 5e-1"
   ]
  },
  {
   "cell_type": "markdown",
   "metadata": {
    "pycharm": {
     "is_executing": true,
     "name": "#%% md\n"
    }
   },
   "source": [
    "#### Read paths generated by travel time model"
   ]
  },
  {
   "cell_type": "code",
   "execution_count": 33,
   "metadata": {
    "pycharm": {
     "name": "#%%\n"
    }
   },
   "outputs": [
    {
     "name": "stdout",
     "output_type": "stream",
     "text": [
      "19385 paths were read in 15.9[s]              \n",
      "\n",
      "19385 paths were loaded in the network\n",
      "\n",
      "Updating incidence matrices\n",
      "\n",
      "Matrix D (2413, 19385) generated in 27.6[s]               \n",
      "\n",
      "Matrix M (6970, 19385) generated in 5.1[s]               \n",
      "\n",
      "Matrix C (19385, 19385) generated in 3.5[s]               \n",
      "\n"
     ]
    }
   ],
   "source": [
    "paths_generator.read_paths(network=fresno_network, update_incidence_matrices=True,\n",
    "                           filename = 'paths-traveltime-model-fresno.csv',\n",
    "                           folderpath = isl.config.dirs['write_network_data'] + 'paths/'\n",
    "                           )"
   ]
  },
  {
   "cell_type": "markdown",
   "metadata": {
    "pycharm": {
     "name": "#%% md\n"
    }
   },
   "source": [
    "#### No refined stage"
   ]
  },
  {
   "cell_type": "code",
   "execution_count": 34,
   "metadata": {
    "pycharm": {
     "name": "#%%\n"
    }
   },
   "outputs": [
    {
     "name": "stdout",
     "output_type": "stream",
     "text": [
      "\n",
      "Bilevel optimization for Fresno network \n",
      "\n",
      "Iteration : 1/10\n",
      "\n",
      "Initial theta: {'tt': '-2.0E+00', 'incidents': '0.0E+00', 'speed_sd': '0.0E+00', 'median_inc': '0.0E+00', 'bus_stops': '0.0E+00', 'intersections': '0.0E+00'}\n",
      "\n",
      "SUE via fw (max iters: 100)\n",
      "Path size correction with factor 1\n",
      "\n",
      "Equilibrium gaps: ['6E-04', '4E-05']\n",
      "Initial Fisk Objective: -226,350.84\n",
      "Final Fisk Objective: -217,920.58\n",
      "Improvement Fisk Objective: 3.72%\n",
      "Final gap: 4E-05. Acc. bound: 1E-04. Time: 144.8 [s]\n",
      "Initial objective: 203,534,101\n",
      "Initial RMSE: 1201.5\n",
      "Initial Normalized RMSE: 0.543\n",
      "\n",
      "Iteration : 2/10\n",
      "\n",
      "Estimating parameters via ngd (1 iters, eta = 5.0E-01)\n",
      "\n",
      "theta: {'tt': '-2.0E+00', 'incidents': '-4.6E-02', 'speed_sd': '0.0E+00', 'median_inc': '2.4E-01', 'bus_stops': '0.0E+00', 'intersections': '0.0E+00'}\n",
      "time: 323.6[s]\n",
      "\n",
      "SUE via fw (max iters: 100)\n",
      "\n",
      "Column generation: 28 paths per od, 2.0% od coverage, sequential sampling\n",
      "2587 paths added/replaced among 123 ods (New total paths: 21972)\n",
      "Path size correction with factor 1\n",
      "\n",
      "Path selection: probability_weight: 1, maximum number of paths per od: 7\n",
      "2587 paths removed among 123 ods (New total paths: 19385)\n",
      "Path size correction with factor 1\n",
      "\n",
      "Equilibrium gaps: ['3E-03', '3E-04', '0E+00']\n",
      "Initial Fisk Objective: -78,605.9\n",
      "Final Fisk Objective: -69,914.14\n",
      "Improvement Fisk Objective: 11.06%\n",
      "Final gap: 0E+00. Acc. bound: 1E-04. Time: 224.0 [s]\n",
      "\n",
      "Time current iteration: 547.9 [s]\n",
      "Current objective_value: 200,344,704\n",
      "Current objective improvement: 1.57%\n",
      "Current RMSE: 1192.0\n",
      "Current Normalized RMSE: 0.538\n",
      "Marginal objective improvement: 1.57%\n",
      "Marginal objective improvement value: 3,189,397.5\n",
      "\n",
      "\n",
      "Iteration : 3/10\n",
      "\n",
      "Estimating parameters via ngd (1 iters, eta = 5.0E-01)\n",
      "\n",
      "theta: {'tt': '-2.0E+00', 'incidents': '-6.3E-02', 'speed_sd': '0.0E+00', 'median_inc': '4.9E-01', 'bus_stops': '0.0E+00', 'intersections': '0.0E+00'}\n",
      "time: 286.8[s]\n",
      "\n",
      "SUE via fw (max iters: 100)\n",
      "\n",
      "Column generation: 28 paths per od, 2.0% od coverage, sequential sampling\n",
      "2933 paths added/replaced among 139 ods (New total paths: 22318)\n",
      "Path size correction with factor 1\n",
      "\n",
      "Path selection: probability_weight: 1, maximum number of paths per od: 7\n",
      "2933 paths removed among 139 ods (New total paths: 19385)\n",
      "Path size correction with factor 1\n",
      "\n",
      "Equilibrium gaps: ['1E-02', '4E-04', '0E+00']\n",
      "Initial Fisk Objective: 110,002.09\n",
      "Final Fisk Objective: 124,829.79\n",
      "Improvement Fisk Objective: 13.48%\n",
      "Final gap: 0E+00. Acc. bound: 1E-04. Time: 241.4 [s]\n",
      "\n",
      "Time current iteration: 528.4 [s]\n",
      "Current objective_value: 202,152,420\n",
      "Current objective improvement: 1.57%\n",
      "Current RMSE: 1197.4\n",
      "Current Normalized RMSE: 0.541\n",
      "Marginal objective improvement: -0.90%\n",
      "Marginal objective improvement value: -1,807,716.0\n",
      "\n",
      "\n",
      "Iteration : 4/10\n",
      "\n",
      "Estimating parameters via ngd (1 iters, eta = 5.0E-01)\n",
      "\n"
     ]
    },
    {
     "ename": "KeyboardInterrupt",
     "evalue": "",
     "output_type": "error",
     "traceback": [
      "\u001B[0;31m---------------------------------------------------------------------------\u001B[0m",
      "\u001B[0;31mKeyboardInterrupt\u001B[0m                         Traceback (most recent call last)",
      "\u001B[0;32m/var/folders/mg/t5yt0b_d1cg4ykytg0c22xcc0000gn/T/ipykernel_17458/3244372886.py\u001B[0m in \u001B[0;36m<module>\u001B[0;34m\u001B[0m\n\u001B[1;32m      1\u001B[0m \u001B[0mlearning_results_norefined_full_model\u001B[0m\u001B[0;34m,\u001B[0m \u001B[0minference_results_norefined_full_model\u001B[0m\u001B[0;34m,\u001B[0m \u001B[0mbest_iter_norefined_full_model\u001B[0m \u001B[0;34m=\u001B[0m\u001B[0;31m \u001B[0m\u001B[0;31m\\\u001B[0m\u001B[0;34m\u001B[0m\u001B[0;34m\u001B[0m\u001B[0m\n\u001B[1;32m      2\u001B[0m     learner_norefined.statistical_inference(h0=0, bilevel_iters=10, alpha=0.05, link_report=False, iteration_report = True,\n\u001B[0;32m----> 3\u001B[0;31m                                             parameters_constraints = {'fixed': False, 'sign': True})\n\u001B[0m\u001B[1;32m      4\u001B[0m \u001B[0;34m\u001B[0m\u001B[0m\n\u001B[1;32m      5\u001B[0m \u001B[0mtheta_norefined_full_model\u001B[0m \u001B[0;34m=\u001B[0m \u001B[0mlearning_results_norefined_full_model\u001B[0m\u001B[0;34m[\u001B[0m\u001B[0mbest_iter_norefined_full_model\u001B[0m\u001B[0;34m]\u001B[0m\u001B[0;34m[\u001B[0m\u001B[0;34m'theta'\u001B[0m\u001B[0;34m]\u001B[0m\u001B[0;34m\u001B[0m\u001B[0;34m\u001B[0m\u001B[0m\n",
      "\u001B[0;32m~/OneDrive/data-science/github/isuelogit/src/isuelogit/estimation.py\u001B[0m in \u001B[0;36mstatistical_inference\u001B[0;34m(self, **kwargs)\u001B[0m\n\u001B[1;32m   2173\u001B[0m         \u001B[0;31m# self.network.set_Y_attr_links(Y={'tt': true_traveltimes_dict})\u001B[0m\u001B[0;34m\u001B[0m\u001B[0;34m\u001B[0m\u001B[0;34m\u001B[0m\u001B[0m\n\u001B[1;32m   2174\u001B[0m \u001B[0;34m\u001B[0m\u001B[0m\n\u001B[0;32m-> 2175\u001B[0;31m         \u001B[0mlearning_results\u001B[0m\u001B[0;34m,\u001B[0m \u001B[0mbest_iter\u001B[0m \u001B[0;34m=\u001B[0m \u001B[0mself\u001B[0m\u001B[0;34m.\u001B[0m\u001B[0mbilevel_optimization\u001B[0m\u001B[0;34m(\u001B[0m\u001B[0;34m**\u001B[0m\u001B[0mkwargs\u001B[0m\u001B[0;34m)\u001B[0m\u001B[0;34m\u001B[0m\u001B[0;34m\u001B[0m\u001B[0m\n\u001B[0m\u001B[1;32m   2176\u001B[0m \u001B[0;34m\u001B[0m\u001B[0m\n\u001B[1;32m   2177\u001B[0m         \u001B[0minference_results\u001B[0m \u001B[0;34m=\u001B[0m \u001B[0;34m{\u001B[0m\u001B[0;34m}\u001B[0m\u001B[0;34m\u001B[0m\u001B[0;34m\u001B[0m\u001B[0m\n",
      "\u001B[0;32m~/OneDrive/data-science/github/isuelogit/src/isuelogit/estimation.py\u001B[0m in \u001B[0;36mbilevel_optimization\u001B[0;34m(self, network, q0, q_bar, link_report, iteration_report, convergence_report, **kwargs)\u001B[0m\n\u001B[1;32m   1629\u001B[0m                     \u001B[0mq_0\u001B[0m\u001B[0;34m=\u001B[0m\u001B[0mq_current\u001B[0m\u001B[0;34m,\u001B[0m\u001B[0;34m\u001B[0m\u001B[0;34m\u001B[0m\u001B[0m\n\u001B[1;32m   1630\u001B[0m                     \u001B[0mq_bar\u001B[0m\u001B[0;34m=\u001B[0m\u001B[0mq_bar\u001B[0m\u001B[0;34m,\u001B[0m\u001B[0;34m\u001B[0m\u001B[0;34m\u001B[0m\u001B[0m\n\u001B[0;32m-> 1631\u001B[0;31m                     \u001B[0mparameters_constraints\u001B[0m\u001B[0;34m=\u001B[0m\u001B[0moptions\u001B[0m\u001B[0;34m.\u001B[0m\u001B[0mget\u001B[0m\u001B[0;34m(\u001B[0m\u001B[0;34m'parameters_constraints'\u001B[0m\u001B[0;34m)\u001B[0m\u001B[0;34m\u001B[0m\u001B[0;34m\u001B[0m\u001B[0m\n\u001B[0m\u001B[1;32m   1632\u001B[0m                 )\n\u001B[1;32m   1633\u001B[0m \u001B[0;34m\u001B[0m\u001B[0m\n",
      "\u001B[0;32m~/OneDrive/data-science/github/isuelogit/src/isuelogit/estimation.py\u001B[0m in \u001B[0;36msolve_outer_problem\u001B[0;34m(self, Y, Z, theta_0, paths_specific_utility, paths_probabilities, q_0, q_bar, **kwargs)\u001B[0m\n\u001B[1;32m   1085\u001B[0m                     \u001B[0;31m# numeric = True,\u001B[0m\u001B[0;34m\u001B[0m\u001B[0;34m\u001B[0m\u001B[0;34m\u001B[0m\u001B[0m\n\u001B[1;32m   1086\u001B[0m                     \u001B[0mpaths_probabilities\u001B[0m\u001B[0;34m=\u001B[0m\u001B[0mpaths_probabilities\u001B[0m\u001B[0;34m,\u001B[0m\u001B[0;34m\u001B[0m\u001B[0;34m\u001B[0m\u001B[0m\n\u001B[0;32m-> 1087\u001B[0;31m                     paths_specific_utility=paths_specific_utility)  # /total_no_nans\n\u001B[0m\u001B[1;32m   1088\u001B[0m \u001B[0;34m\u001B[0m\u001B[0m\n\u001B[1;32m   1089\u001B[0m                 \u001B[0;31m# # TODO: debug momentum\u001B[0m\u001B[0;34m\u001B[0m\u001B[0;34m\u001B[0m\u001B[0;34m\u001B[0m\u001B[0m\n",
      "\u001B[0;32m~/OneDrive/data-science/github/isuelogit/src/isuelogit/estimation.py\u001B[0m in \u001B[0;36mcompute_gradient_objective_function\u001B[0;34m(self, network, **kwargs)\u001B[0m\n\u001B[1;32m    827\u001B[0m             \u001B[0mq\u001B[0m\u001B[0;34m=\u001B[0m\u001B[0mnetwork\u001B[0m\u001B[0;34m.\u001B[0m\u001B[0mq\u001B[0m\u001B[0;34m,\u001B[0m\u001B[0;34m\u001B[0m\u001B[0;34m\u001B[0m\u001B[0m\n\u001B[1;32m    828\u001B[0m             \u001B[0mcounts\u001B[0m\u001B[0;34m=\u001B[0m\u001B[0mnetwork\u001B[0m\u001B[0;34m.\u001B[0m\u001B[0mobserved_counts_vector\u001B[0m\u001B[0;34m,\u001B[0m\u001B[0;34m\u001B[0m\u001B[0;34m\u001B[0m\u001B[0m\n\u001B[0;32m--> 829\u001B[0;31m             **kwargs)\n\u001B[0m\u001B[1;32m    830\u001B[0m \u001B[0;34m\u001B[0m\u001B[0m\n\u001B[1;32m    831\u001B[0m         \u001B[0;32mreturn\u001B[0m \u001B[0mgradient\u001B[0m\u001B[0;34m\u001B[0m\u001B[0;34m\u001B[0m\u001B[0m\n",
      "\u001B[0;32m~/OneDrive/data-science/github/isuelogit/src/isuelogit/estimation.py\u001B[0m in \u001B[0;36mgradient_objective_function\u001B[0;34m(theta, design_matrix, counts, q, D, M, C, numeric, paths_probabilities, features_idxs, standardization, paths_specific_utility)\u001B[0m\n\u001B[1;32m   3561\u001B[0m                             np.multiply(C,\n\u001B[1;32m   3562\u001B[0m                                         np.multiply(grad_m_terms[1],\n\u001B[0;32m-> 3563\u001B[0;31m                                                     grad_m_terms[2]-grad_m_terms[2].T)))).dot(np.ones(Zk_f.shape))\n\u001B[0m\u001B[1;32m   3564\u001B[0m \u001B[0;34m\u001B[0m\u001B[0m\n\u001B[1;32m   3565\u001B[0m             \u001B[0mgradient\u001B[0m\u001B[0;34m[\u001B[0m\u001B[0mcounter\u001B[0m\u001B[0;34m]\u001B[0m \u001B[0;34m=\u001B[0m \u001B[0mfloat\u001B[0m\u001B[0;34m(\u001B[0m\u001B[0;36m2\u001B[0m \u001B[0;34m*\u001B[0m \u001B[0mgrad_m\u001B[0m\u001B[0;34m.\u001B[0m\u001B[0mT\u001B[0m\u001B[0;34m.\u001B[0m\u001B[0mdot\u001B[0m\u001B[0;34m(\u001B[0m\u001B[0mm\u001B[0m \u001B[0;34m-\u001B[0m \u001B[0mcounts\u001B[0m\u001B[0;34m)\u001B[0m\u001B[0;34m)\u001B[0m\u001B[0;34m\u001B[0m\u001B[0;34m\u001B[0m\u001B[0m\n",
      "\u001B[0;31mKeyboardInterrupt\u001B[0m: "
     ]
    }
   ],
   "source": [
    "learning_results_norefined_full_model, inference_results_norefined_full_model, best_iter_norefined_full_model = \\\n",
    "    learner_norefined.statistical_inference(h0=0, bilevel_iters=10, alpha=0.05, link_report=False, iteration_report = True,\n",
    "                                            parameters_constraints = {'fixed': False, 'sign': True})\n",
    "\n",
    "theta_norefined_full_model = learning_results_norefined_full_model[best_iter_norefined_full_model]['theta']"
   ]
  },
  {
   "cell_type": "markdown",
   "metadata": {
    "pycharm": {
     "name": "#%% md\n"
    }
   },
   "source": [
    "#### Refined stage"
   ]
  },
  {
   "cell_type": "code",
   "execution_count": null,
   "metadata": {
    "pycharm": {
     "name": "#%%\n"
    }
   },
   "outputs": [],
   "source": [
    "features_Y,features_Z = isl.estimation.feature_selection(utility_function_full_model,\n",
    "                                                          theta = theta_norefined_full_model,\n",
    "                                                          criterion = 'sign')\n",
    "\n",
    "utility_function_full_model = isl.estimation.UtilityFunction(\n",
    "    features_Y = features_Y,\n",
    "    features_Z = features_Z,\n",
    "    fixed = {'tt': True},\n",
    "    signs = {'tt': '-', 'speed_sd':'-', 'incidents':'-', 'intersections':'-', 'bus_stops':'-', 'median_inc':'+'},\n",
    ")\n",
    "\n",
    "learner_norefined.utility_function = utility_function_full_model\n",
    "learner_refined.utility_function = utility_function_full_model\n",
    "\n",
    "learner_refined.utility_function.initial_values = theta_norefined_full_model\n",
    "\n",
    "learning_results_refined_full_model, inference_results_refined_full_model, best_iter_refined_full_model = \\\n",
    "    learner_refined.statistical_inference(h0=0, bilevel_iters=10, alpha=0.05, link_report=False, iteration_report = True,\n",
    "                                            parameters_constraints = {'fixed': False, 'sign': True})\n",
    "\n",
    "theta_refined_full_model = learning_results_refined_full_model[best_iter_refined_full_model]['theta']"
   ]
  },
  {
   "cell_type": "markdown",
   "metadata": {
    "pycharm": {
     "name": "#%% md\n"
    }
   },
   "source": [
    "#### Write paths"
   ]
  },
  {
   "cell_type": "code",
   "execution_count": null,
   "metadata": {
    "pycharm": {
     "name": "#%%\n"
    }
   },
   "outputs": [],
   "source": [
    "paths_generator.write_paths(network=fresno_network, overwrite_input=False, filename = 'paths-full-model-fresno.csv')"
   ]
  },
  {
   "cell_type": "markdown",
   "metadata": {
    "pycharm": {
     "name": "#%% md\n"
    }
   },
   "source": [
    "#### Report"
   ]
  },
  {
   "cell_type": "code",
   "execution_count": null,
   "metadata": {
    "pycharm": {
     "name": "#%%\n"
    }
   },
   "outputs": [],
   "source": [
    "estimation_reporter = isl.writer.Reporter(folderpath = isl.config.dirs['output_folder'] + 'estimations/' + network_name, seed =_SEED)\n",
    "\n",
    "estimation_reporter.add_items_report(\n",
    "    selected_date = data_reader.options['selected_date'],\n",
    "    selected_hour = data_reader.options['selected_hour'],\n",
    "    selected_od_periods = data_reader.options['od_periods'],\n",
    "    mean_counts=round(mean_count_benchmark_model,1),\n",
    "    mean_counts_prediction_loss = round(mean_counts_prediction_loss,1),\n",
    "    equilikely_prediction_loss = round(equilikely_prediction_loss,1)\n",
    ")\n",
    "\n",
    "estimation_reporter.add_items_report(\n",
    "    theta_norefined=theta_norefined_full_model,\n",
    "    theta_refined= theta_refined_full_model,\n",
    "    best_objective_norefined = round(learning_results_norefined_full_model[best_iter_norefined_full_model]['objective'],1),\n",
    "    best_objective_refined = round(learning_results_refined_full_model[best_iter_refined_full_model]['objective'],1),\n",
    ")\n",
    "\n",
    "estimation_reporter.write_estimation_report(\n",
    "    network=fresno_network,\n",
    "    learners=[learner_norefined, learner_refined],\n",
    "    utility_function=utility_function_full_model)\n",
    "\n",
    "estimation_reporter.write_learning_tables(\n",
    "    results_norefined=learning_results_norefined_full_model,\n",
    "    results_refined=learning_results_refined_full_model,\n",
    "    network = fresno_network,\n",
    "    utility_function = utility_function_full_model)\n",
    "\n",
    "estimation_reporter.write_inference_tables(\n",
    "    results_norefined=inference_results_norefined_full_model,\n",
    "    results_refined=inference_results_refined_full_model,\n",
    "    float_format = '%.3f')"
   ]
  },
  {
   "cell_type": "markdown",
   "metadata": {
    "pycharm": {
     "name": "#%% md\n"
    }
   },
   "source": [
    "### Visualizations"
   ]
  },
  {
   "cell_type": "markdown",
   "metadata": {
    "pycharm": {
     "name": "#%% md\n"
    }
   },
   "source": [
    "##### Distribution of errors"
   ]
  },
  {
   "cell_type": "code",
   "execution_count": null,
   "metadata": {
    "collapsed": false,
    "jupyter": {
     "outputs_hidden": false
    },
    "pycharm": {
     "name": "#%%\n"
    }
   },
   "outputs": [],
   "source": [
    "fig = isl.visualization.Artist().histogram_errors(\n",
    "    best_results_norefined = learning_results_norefined_full_model[best_iter_norefined_full_model],\n",
    "    best_results_refined = learning_results_refined_full_model[best_iter_refined_full_model],\n",
    "    observed_counts= fresno_network.observed_counts_vector,\n",
    "    filename = 'distribution_predicted_count_error_full_model.pdf',\n",
    "    folder = estimation_reporter.dirs['estimation_folder'])"
   ]
  },
  {
   "cell_type": "markdown",
   "metadata": {
    "pycharm": {
     "name": "#%% md\n"
    }
   },
   "source": [
    "##### Convergence"
   ]
  },
  {
   "cell_type": "code",
   "execution_count": null,
   "metadata": {
    "pycharm": {
     "name": "#%%\n"
    }
   },
   "outputs": [],
   "source": [
    "results_full_model_df = isl.descriptive_statistics \\\n",
    "    .get_loss_and_estimates_over_iterations(results_norefined=learning_results_norefined_full_model,\n",
    "                                            results_refined=learning_results_refined_full_model)\n",
    "\n",
    "\n",
    "# Convergence with curves for each parameter and comparing the travel time and full models\n",
    "fig = isl.visualization.Artist().convergence_models(\n",
    "    results_dfs={'traveltime_model': results_traveltime_model_df, 'full_model': results_full_model_df},\n",
    "    features= {'tt': 'travel time', 'tt_cv':'cv of travel time', 'incidents':'incidents', 'intersections':'intersections', 'bus_stops':'bus stops', 'median_inc':'median income'},\n",
    "    filename='convergence_traveltime_and_full_models_' + fresno_network.key,\n",
    "    folder=estimation_reporter.dirs['estimation_folder']\n",
    ")"
   ]
  },
  {
   "cell_type": "markdown",
   "metadata": {},
   "source": [
    "### d) Model with feature engineering"
   ]
  },
  {
   "cell_type": "code",
   "execution_count": null,
   "metadata": {},
   "outputs": [],
   "source": [
    "utility_function_feature_engineering_model = isl.estimation.UtilityFunction(\n",
    "    features_Y=['tt'],\n",
    "    features_Z= ['reliable_tt', 'no_incidents', 'no_bus_stops', 'no_intersections', 'low_inc'],\n",
    "    signs = {'tt': '-', 'reliable_tt':'+', 'no_incidents':'+', 'no_bus_stops':'+', 'no_intersections':'+', 'low_inc':'-'},\n",
    "    fixed = {'tt': True}\n",
    ")\n",
    "\n",
    "# Update utility functions of no refined and refined learners\n",
    "learner_norefined.utility_function = utility_function_feature_engineering_model\n",
    "learner_refined.utility_function = utility_function_feature_engineering_model\n",
    "\n",
    "#Initialize travel time estimate with the one obtained from b) and load those paths as well\n",
    "#learner_norefined.utility_function.initial_values = theta_refined_traveltime_model\n",
    "learner_norefined.utility_function.zero_initializer()\n",
    "\n",
    "# learner_norefined.outer_optimizer.method.eta = 5e-1\n",
    "# learner_refined.outer_optimizer.method.eta = 5e-1"
   ]
  },
  {
   "cell_type": "markdown",
   "metadata": {
    "pycharm": {
     "name": "#%% md\n"
    }
   },
   "source": [
    "#### Read paths generated by travel time model"
   ]
  },
  {
   "cell_type": "code",
   "execution_count": null,
   "metadata": {
    "pycharm": {
     "name": "#%%\n"
    }
   },
   "outputs": [],
   "source": [
    "paths_generator.read_paths(network=fresno_network, update_incidence_matrices=True,\n",
    "                           filename = 'paths-traveltime-model-fresno.csv',\n",
    "                           folderpath = isl.config.dirs['write_network_data'] + 'paths/'\n",
    "                           )"
   ]
  },
  {
   "cell_type": "markdown",
   "metadata": {},
   "source": [
    "#### No refined stage"
   ]
  },
  {
   "cell_type": "code",
   "execution_count": null,
   "metadata": {},
   "outputs": [],
   "source": [
    "learning_results_norefined_feature_engineering_model, inference_results_norefined_feature_engineering_model, best_iter_norefined_feature_engineering_model = \\\n",
    "    learner_norefined.statistical_inference(h0=0, bilevel_iters=10, alpha=0.05, link_report=False, iteration_report = True,\n",
    "                            parameters_constraints = {'fixed': False, 'sign': True})\n",
    "\n",
    "theta_norefined_feature_engineering_model = learning_results_norefined_feature_engineering_model[best_iter_norefined_feature_engineering_model]['theta']"
   ]
  },
  {
   "cell_type": "markdown",
   "metadata": {},
   "source": [
    "#### Refined stage"
   ]
  },
  {
   "cell_type": "code",
   "execution_count": null,
   "metadata": {},
   "outputs": [],
   "source": [
    "features_Y,features_Z = isl.estimation.feature_selection(\n",
    "    utility_function_feature_engineering_model,\n",
    "    theta = theta_norefined_feature_engineering_model,\n",
    "    criterion = 'sign')\n",
    "\n",
    "utility_function_feature_engineering_model = isl.estimation.UtilityFunction(\n",
    "    features_Y = features_Y,\n",
    "    features_Z = features_Z,\n",
    "    fixed = {'tt': True},\n",
    "    signs = {'tt': '-', 'reliable_tt':'+', 'no_incidents':'+', 'no_bus_stops':'+', 'no_intersections':'+', 'low_inc':'-'},\n",
    ")\n",
    "\n",
    "learner_norefined.utility_function = utility_function_feature_engineering_model\n",
    "learner_refined.utility_function = utility_function_feature_engineering_model\n",
    "\n",
    "learner_refined.utility_function.initial_values = theta_norefined_feature_engineering_model\n",
    "\n",
    "learning_results_refined_feature_engineering_model, inference_results_refined_feature_engineering_model, best_iter_refined_feature_engineering_model = \\\n",
    "    learner_refined.statistical_inference(\n",
    "        h0=0, bilevel_iters=10, alpha=0.05, link_report=False, iteration_report = True,\n",
    "        parameters_constraints = {'fixed': False, 'sign': True})\n",
    "\n",
    "theta_refined_feature_engineering_model = learning_results_refined_feature_engineering_model[best_iter_refined_feature_engineering_model]['theta']"
   ]
  },
  {
   "cell_type": "markdown",
   "source": [
    "#### Write paths"
   ],
   "metadata": {
    "collapsed": false,
    "pycharm": {
     "name": "#%% md\n"
    }
   }
  },
  {
   "cell_type": "code",
   "execution_count": null,
   "outputs": [],
   "source": [
    "paths_generator.write_paths(network=fresno_network, overwrite_input=False, filename = 'paths-feature-engineering-model-fresno.csv')"
   ],
   "metadata": {
    "collapsed": false,
    "pycharm": {
     "name": "#%%\n"
    }
   }
  },
  {
   "cell_type": "markdown",
   "metadata": {},
   "source": [
    "#### Report"
   ]
  },
  {
   "cell_type": "code",
   "execution_count": null,
   "metadata": {
    "pycharm": {
     "name": "#%%\n"
    }
   },
   "outputs": [],
   "source": [
    "estimation_reporter = isl.writer.Reporter(folderpath = isl.config.dirs['output_folder'] + 'estimations/' + network_name, seed =_SEED)\n",
    "\n",
    "estimation_reporter.add_items_report(\n",
    "    selected_date = data_reader.options['selected_date'],\n",
    "    selected_hour = data_reader.options['selected_hour'],\n",
    "    selected_od_periods = data_reader.options['od_periods'],\n",
    "    mean_counts=round(mean_count_benchmark_model,1),\n",
    "    mean_counts_prediction_loss = round(mean_counts_prediction_loss,1),\n",
    "    equilikely_prediction_loss = round(equilikely_prediction_loss,1)\n",
    ")\n",
    "\n",
    "estimation_reporter.add_items_report(\n",
    "    theta_norefined=theta_norefined_feature_engineering_model,\n",
    "    theta_refined= theta_refined_feature_engineering_model,\n",
    "    best_objective_norefined = round(learning_results_norefined_feature_engineering_model[best_iter_norefined_feature_engineering_model]['objective'],1),\n",
    "    best_objective_refined = round(learning_results_refined_feature_engineering_model[best_iter_refined_feature_engineering_model]['objective'],1),\n",
    ")\n",
    "\n",
    "estimation_reporter.write_estimation_report(\n",
    "    network=fresno_network,\n",
    "    learners=[learner_norefined, learner_refined],\n",
    "    utility_function=utility_function_feature_engineering_model)\n",
    "\n",
    "estimation_reporter.write_learning_tables(\n",
    "    results_norefined=learning_results_norefined_feature_engineering_model,\n",
    "    results_refined=learning_results_refined_feature_engineering_model,\n",
    "    network = fresno_network,\n",
    "    utility_function = utility_function_feature_engineering_model)\n",
    "\n",
    "estimation_reporter.write_inference_tables(\n",
    "    results_norefined=inference_results_norefined_feature_engineering_model,\n",
    "    results_refined=inference_results_refined_feature_engineering_model,\n",
    "    float_format = '%.3f')"
   ]
  },
  {
   "cell_type": "markdown",
   "metadata": {
    "pycharm": {
     "name": "#%% md\n"
    }
   },
   "source": [
    "#### Visualization"
   ]
  },
  {
   "cell_type": "markdown",
   "metadata": {
    "pycharm": {
     "name": "#%% md\n"
    }
   },
   "source": [
    "##### Distribution of errors"
   ]
  },
  {
   "cell_type": "code",
   "execution_count": null,
   "metadata": {
    "collapsed": false,
    "jupyter": {
     "outputs_hidden": false
    },
    "pycharm": {
     "name": "#%%\n"
    }
   },
   "outputs": [],
   "source": [
    "fig = isl.visualization.Artist().histogram_errors(\n",
    "    best_results_norefined = learning_results_norefined_feature_engineering_model[best_iter_norefined_feature_engineering_model],\n",
    "    best_results_refined = learning_results_refined_feature_engineering_model[best_iter_refined_feature_engineering_model],\n",
    "    observed_counts= fresno_network.observed_counts_vector,\n",
    "    filename = 'distribution_predicted_count_error_feature_engineering_model.pdf',\n",
    "    folder = estimation_reporter.dirs['estimation_folder'])"
   ]
  },
  {
   "cell_type": "markdown",
   "metadata": {
    "pycharm": {
     "name": "#%% md\n"
    }
   },
   "source": [
    "##### Convergence"
   ]
  },
  {
   "cell_type": "code",
   "execution_count": null,
   "metadata": {
    "pycharm": {
     "name": "#%%\n"
    }
   },
   "outputs": [],
   "source": [
    "results_feature_engineering_model_df = isl.descriptive_statistics \\\n",
    "    .get_loss_and_estimates_over_iterations(results_norefined=learning_results_norefined_feature_engineering_model,\n",
    "                                            results_refined=learning_results_refined_feature_engineering_model)\n",
    "\n",
    "\n",
    "# Convergence with curves for each parameter and comparing the travel time and full models\n",
    "fig = isl.visualization.Artist().convergence_models(\n",
    "    results_dfs={'traveltime_model': results_traveltime_model_df, 'full_model': results_feature_engineering_model_df},\n",
    "    features= {'tt': 'travel time', 'reliable_tt':'reliable travel time', 'no_incidents':'no incidents', 'no_intersections':'no intersections', 'no_bus_stops':'no bus stops', 'low_inc':'low income area'},\n",
    "    filename='convergence_traveltime_and_full_models_' + fresno_network.key,\n",
    "    folder=estimation_reporter.dirs['estimation_folder']\n",
    ")"
   ]
  }
 ],
 "metadata": {
  "kernelspec": {
   "display_name": "venv-isuelogit",
   "language": "python",
   "name": "venv-isuelogit"
  },
  "language_info": {
   "codemirror_mode": {
    "name": "ipython",
    "version": 3
   },
   "file_extension": ".py",
   "mimetype": "text/x-python",
   "name": "python",
   "nbconvert_exporter": "python",
   "pygments_lexer": "ipython3",
   "version": "3.7.4"
  }
 },
 "nbformat": 4,
 "nbformat_minor": 4
}