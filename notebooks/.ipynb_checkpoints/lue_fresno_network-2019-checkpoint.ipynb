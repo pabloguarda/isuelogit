{
 "cells": [
  {
   "cell_type": "markdown",
   "metadata": {},
   "source": [
    "## Setup"
   ]
  },
  {
   "cell_type": "code",
   "execution_count": null,
   "metadata": {},
   "outputs": [],
   "source": [
    "%matplotlib inline\n",
    "\n",
    "import warnings\n",
    "warnings.simplefilter(action = \"ignore\", category = RuntimeWarning)\n",
    "\n",
    "# External modules\n",
    "import ast\n",
    "import numpy as np\n",
    "import pandas as pd\n",
    "from sklearn import preprocessing\n",
    "import matplotlib.pyplot as plt\n",
    "import os\n",
    "from pathlib import Path"
   ]
  },
  {
   "cell_type": "code",
   "execution_count": null,
   "metadata": {},
   "outputs": [],
   "source": [
    "# Path management\n",
    "main_dir = str(Path(os.path.abspath('')).parents[0])\n",
    "os.chdir(main_dir)\n",
    "print('main dir:',main_dir)"
   ]
  },
  {
   "cell_type": "code",
   "execution_count": null,
   "metadata": {},
   "outputs": [],
   "source": [
    "# Internal modules\n",
    "from src import isuelogit as isl"
   ]
  },
  {
   "cell_type": "code",
   "execution_count": null,
   "metadata": {},
   "outputs": [],
   "source": [
    "# Seed\n",
    "_SEED = 2022"
   ]
  },
  {
   "cell_type": "markdown",
   "metadata": {},
   "source": [
    "## Read network data from Fresno"
   ]
  },
  {
   "cell_type": "code",
   "execution_count": null,
   "metadata": {},
   "outputs": [],
   "source": [
    "network_name = 'Fresno'\n",
    "\n",
    "# To write estimation report and set seed for all algorithms involving some randomness  \n",
    "estimation_reporter = isl.writer.Reporter(\n",
    "    folderpath = isl.config.dirs['output_folder'] + 'estimations/' + network_name, seed = _SEED)\n",
    "\n",
    "# Reader of geospatial and spatio-temporal data\n",
    "data_reader = isl.etl.DataReader(network_key=network_name)\n",
    "\n",
    "# First Tuesday of October, 2019\n",
    "data_reader.select_period(date='2019-10-01', hour=16)\n",
    "\n",
    "# Read nodes data\n",
    "nodes_df = pd.read_csv(isl.dirs['input_folder'] + '/network-data/nodes/'  + 'fresno-nodes-data.csv')\n",
    "\n",
    "# Read spatiotemporal link data\n",
    "links_df = pd.read_csv(\n",
    "    isl.dirs['input_folder'] + 'network-data/links/' + str(data_reader.options['selected_date'])+ '-fresno-link-data.csv',\n",
    "    converters={\"link_key\": ast.literal_eval,\"pems_id\": ast.literal_eval})"
   ]
  },
  {
   "cell_type": "markdown",
   "metadata": {},
   "source": [
    "## Build network"
   ]
  },
  {
   "cell_type": "code",
   "execution_count": null,
   "metadata": {},
   "outputs": [],
   "source": [
    "network_generator = isl.factory.NetworkGenerator()\n",
    "\n",
    "A = network_generator.generate_adjacency_matrix(links_keys=list(links_df['link_key'].values))\n",
    "\n",
    "fresno_network = \\\n",
    "    network_generator.build_fresno_network(A=A, links_df=links_df, nodes_df=nodes_df, network_name= network_name)"
   ]
  },
  {
   "cell_type": "markdown",
   "metadata": {},
   "source": [
    "### OD matrix"
   ]
  },
  {
   "cell_type": "code",
   "execution_count": null,
   "metadata": {},
   "outputs": [],
   "source": [
    "network_generator.read_OD(network=fresno_network, sparse=True)"
   ]
  },
  {
   "cell_type": "markdown",
   "metadata": {},
   "source": [
    "### Paths"
   ]
  },
  {
   "cell_type": "code",
   "execution_count": null,
   "metadata": {},
   "outputs": [],
   "source": [
    "paths_generator = isl.factory.PathsGenerator()\n",
    "\n",
    "# # Generate and Load paths in network\n",
    "# paths_generator.load_k_shortest_paths(network = fresno_network, k=3)\n",
    "\n",
    "paths_generator.read_paths(network=fresno_network, update_incidence_matrices=True)"
   ]
  },
  {
   "cell_type": "markdown",
   "metadata": {},
   "source": [
    "### Link performance functions"
   ]
  },
  {
   "cell_type": "code",
   "execution_count": null,
   "metadata": {},
   "outputs": [],
   "source": [
    "bpr_parameters_df = pd.DataFrame({'link_key': links_df['link_key'],\n",
    "                                  'alpha': links_df['alpha'],\n",
    "                                  'beta': links_df['beta'],\n",
    "                                  'tf': links_df['tf'],\n",
    "                                  'k': pd.to_numeric(links_df['k'], errors='coerce', downcast='float')\n",
    "                                  })\n",
    "\n",
    "# Normalize free flow travel time between 0 and 1\n",
    "bpr_parameters_df['tf'] = pd.DataFrame(preprocessing.MinMaxScaler().fit_transform(np.array(bpr_parameters_df['tf']).reshape(-1, 1)))\n",
    "\n",
    "fresno_network.set_bpr_functions(bprdata=bpr_parameters_df)"
   ]
  },
  {
   "cell_type": "markdown",
   "metadata": {},
   "source": [
    "### Feature Engineering"
   ]
  },
  {
   "cell_type": "code",
   "execution_count": null,
   "metadata": {},
   "outputs": [],
   "source": [
    "fresno_network.load_features_data(links_df, link_key = 'link_key')\n",
    "\n",
    "isl.etl.feature_engineering_fresno(links=fresno_network.links, network=fresno_network)"
   ]
  },
  {
   "cell_type": "code",
   "execution_count": null,
   "metadata": {},
   "outputs": [],
   "source": [
    "features_list = ['median_inc', 'intersections', 'incidents', 'bus_stops', 'median_age',\n",
    "                 'tt_avg', 'tt_sd','tt_var', 'tt_cv', 'tt_sd_adj','tt_reliability',\n",
    "                 'speed_ref_avg', 'speed_avg', 'speed_hist_avg','speed_sd','speed_hist_sd','speed_cv']\n",
    "\n",
    "\n",
    "# Normalization of features to range [0,1]\n",
    "linkdata = pd.DataFrame(preprocessing.MinMaxScaler().fit_transform(fresno_network.Z_data[features_list].values))\n",
    "linkdata.columns = features_list\n",
    "linkdata.insert(0, 'link_key', fresno_network.links_keys)\n",
    "\n",
    "fresno_network.load_features_data(linkdata)"
   ]
  },
  {
   "cell_type": "markdown",
   "metadata": {},
   "source": [
    "### Traffic counts"
   ]
  },
  {
   "cell_type": "code",
   "execution_count": null,
   "metadata": {},
   "outputs": [],
   "source": [
    "counts_df = pd.read_csv(isl.dirs['input_folder'] + '/network-data/links/' \\\n",
    "                            + str(data_reader.options['selected_date']) + '-fresno-link-counts' + '.csv',\n",
    "                        converters={'link_key': ast.literal_eval})\n",
    "\n",
    "counts = dict(zip(counts_df['link_key'].values, counts_df['counts'].values))\n",
    "\n",
    "fresno_network.load_traffic_counts(counts=counts)"
   ]
  },
  {
   "cell_type": "markdown",
   "metadata": {},
   "source": [
    "## Descriptive statistics"
   ]
  },
  {
   "cell_type": "markdown",
   "metadata": {},
   "source": [
    "### Link coverage"
   ]
  },
  {
   "cell_type": "code",
   "execution_count": null,
   "metadata": {},
   "outputs": [],
   "source": [
    "total_counts_observations = np.count_nonzero(~np.isnan(np.array(list(counts.values()))))\n",
    "\n",
    "total_links = np.array(list(counts.values())).shape[0]\n",
    "\n",
    "print('\\nTotal link counts observations: ' + str(total_counts_observations))\n",
    "print('Link coverage: ' + \"{:.1%}\".format(round(total_counts_observations / total_links, 4)))"
   ]
  },
  {
   "cell_type": "markdown",
   "metadata": {},
   "source": [
    "### Networks topology"
   ]
  },
  {
   "cell_type": "code",
   "execution_count": null,
   "metadata": {},
   "outputs": [],
   "source": [
    "isl.descriptive_statistics.summary_table_networks([fresno_network])"
   ]
  },
  {
   "cell_type": "markdown",
   "metadata": {},
   "source": [
    "### Links data"
   ]
  },
  {
   "cell_type": "code",
   "execution_count": null,
   "metadata": {},
   "outputs": [],
   "source": [
    "summary_table_links_df = fresno_network.Z_data\n",
    "estimation_reporter.write_table(df = summary_table_links_df, filename = 'links_data.csv', float_format = '%.3f')\n",
    "summary_table_links_df"
   ]
  },
  {
   "cell_type": "code",
   "execution_count": null,
   "metadata": {},
   "outputs": [],
   "source": [
    "summary_table_links_df.describe()"
   ]
  },
  {
   "cell_type": "markdown",
   "metadata": {},
   "source": [
    "## Bilevel Estimation"
   ]
  },
  {
   "cell_type": "code",
   "execution_count": null,
   "metadata": {},
   "outputs": [],
   "source": [
    "utility_function = isl.estimation.UtilityFunction(\n",
    "    features_Y=['tt'],\n",
    "    initial_values={'tt': 0},\n",
    ")\n",
    "\n",
    "equilibrator_norefined = isl.equilibrium.LUE_Equilibrator(\n",
    "    network=fresno_network,\n",
    "    paths_generator=paths_generator,\n",
    "    utility_function=utility_function,\n",
    "    max_iters=100,\n",
    "    method='fw',\n",
    "    iters_fw=10,\n",
    "#     column_generation={'n_paths': 6,\n",
    "#                        'ods_coverage': 0.1,\n",
    "#                        'paths_selection': 6},\n",
    "    path_size_correction=1\n",
    ")\n",
    "\n",
    "outer_optimizer_norefined = isl.estimation.OuterOptimizer(\n",
    "    method='ngd',\n",
    "    iters=1,\n",
    "    eta=1e-1,\n",
    ")\n",
    "\n",
    "learner_norefined = isl.estimation.Learner(\n",
    "    equilibrator=equilibrator_norefined,\n",
    "    outer_optimizer=outer_optimizer_norefined,\n",
    "    utility_function=utility_function,\n",
    "    network=fresno_network,\n",
    "    name = 'norefined'\n",
    ")\n",
    "\n",
    "equilibrator_refined = isl.equilibrium.LUE_Equilibrator(\n",
    "    network=fresno_network,\n",
    "    paths_generator=paths_generator,\n",
    "    utility_function=utility_function,\n",
    "    max_iters=100,\n",
    "    method='fw',\n",
    "    iters_fw=10,\n",
    "    path_size_correction=1\n",
    ")\n",
    "\n",
    "outer_optimizer_refined = isl.estimation.OuterOptimizer(\n",
    "    method='lm',\n",
    "    # method='ngd',\n",
    "    iters=1,\n",
    "    # eta=5e-1,\n",
    ")\n",
    "\n",
    "learner_refined = isl.estimation.Learner(\n",
    "    network=fresno_network,\n",
    "    equilibrator=equilibrator_refined,\n",
    "    outer_optimizer=outer_optimizer_refined,\n",
    "    utility_function=utility_function,\n",
    "    name = 'refined'\n",
    ")"
   ]
  },
  {
   "cell_type": "markdown",
   "metadata": {},
   "source": [
    "### a) Benchmark predictions"
   ]
  },
  {
   "cell_type": "markdown",
   "metadata": {},
   "source": [
    "#### Naive prediction using mean counts"
   ]
  },
  {
   "cell_type": "code",
   "execution_count": null,
   "metadata": {},
   "outputs": [],
   "source": [
    "mean_counts_prediction_loss, mean_count_benchmark_model \\\n",
    "    = isl.estimation.mean_count_prediction(counts=np.array(list(counts.values()))[:, np.newaxis])\n",
    "\n",
    "print('\\nObjective function under mean count prediction: ' + '{:,}'.format(round(mean_counts_prediction_loss, 1)))"
   ]
  },
  {
   "cell_type": "markdown",
   "metadata": {},
   "source": [
    "#### Naive prediction where travelers make equilikely choices"
   ]
  },
  {
   "cell_type": "code",
   "execution_count": null,
   "metadata": {},
   "outputs": [],
   "source": [
    "equilikely_prediction_loss, predicted_counts_equilikely \\\n",
    "    = isl.estimation.loss_counts_equilikely_choices(\n",
    "    network = fresno_network,\n",
    "    equilibrator=equilibrator_norefined,\n",
    "    counts=fresno_network.counts_vector,\n",
    "    utility_function=utility_function)\n",
    "\n",
    "print('Objective function under equilikely route choices: ' + '{:,}'.format(round(equilikely_prediction_loss, 1)))"
   ]
  },
  {
   "cell_type": "markdown",
   "metadata": {},
   "source": [
    "### b) Model with travel time feature only"
   ]
  },
  {
   "cell_type": "markdown",
   "metadata": {},
   "source": [
    "#### No refined stage"
   ]
  },
  {
   "cell_type": "code",
   "execution_count": null,
   "metadata": {},
   "outputs": [],
   "source": [
    "learning_results_norefined, inference_results_norefined, best_iter_norefined = \\\n",
    "    learner_norefined.statistical_inference(h0=0, bilevel_iters=10, alpha=0.05, link_report=False, iteration_report = True)\n",
    "\n",
    "theta_norefined = learning_results_norefined[best_iter_norefined]['theta']"
   ]
  },
  {
   "cell_type": "markdown",
   "metadata": {},
   "source": [
    "#### Remove traffic count observations of links where flows do not change over iterations "
   ]
  },
  {
   "cell_type": "code",
   "execution_count": null,
   "metadata": {},
   "outputs": [],
   "source": [
    "# new_counts, removed_links_keys = isl.etl.get_informative_links_fresno(\n",
    "#     learning_results=learning_results_norefined,\n",
    "#     network=fresno_network)\n",
    "\n",
    "# fresno_network.load_traffic_counts(new_counts)"
   ]
  },
  {
   "cell_type": "markdown",
   "metadata": {},
   "source": [
    "#### Refined stage"
   ]
  },
  {
   "cell_type": "code",
   "execution_count": null,
   "metadata": {},
   "outputs": [],
   "source": [
    "learner_refined.utility_function.initial_values = theta_norefined\n",
    "\n",
    "learning_results_refined, inference_results_refined, best_iter_refined = \\\n",
    "    learner_refined.statistical_inference(h0=0, bilevel_iters=10, alpha=0.05, link_report=False, iteration_report = True)\n",
    "\n",
    "theta_refined = learning_results_refined[best_iter_refined]['theta']"
   ]
  },
  {
   "cell_type": "markdown",
   "metadata": {},
   "source": [
    "#### Report"
   ]
  },
  {
   "cell_type": "code",
   "execution_count": null,
   "metadata": {},
   "outputs": [],
   "source": [
    "estimation_reporter.add_items_report(\n",
    "    selected_date = data_reader.options['selected_date'],\n",
    "    selected_hour = data_reader.options['selected_hour'],\n",
    "    selected_od_periods = data_reader.options['od_periods'],\n",
    "    mean_counts=round(mean_count_benchmark_model,1),\n",
    "    mean_counts_prediction_loss = round(mean_counts_prediction_loss,1),\n",
    "    equilikely_prediction_loss = round(equilikely_prediction_loss,1)\n",
    ")\n",
    "\n",
    "estimation_reporter.add_items_report(\n",
    "    theta_norefined=theta_norefined,\n",
    "    theta_refined= theta_refined,\n",
    "    best_objective_norefined = round(learning_results_norefined[best_iter_norefined]['objective'],1),\n",
    "    best_objective_refined = round(learning_results_refined[best_iter_refined]['objective'],1),\n",
    ")\n",
    "\n",
    "# Summary with most relevant options, prediction error, initial parameters, etc\n",
    "estimation_reporter.write_estimation_report(\n",
    "    network=fresno_network,\n",
    "    learners=[learner_norefined, learner_refined],\n",
    "    utility_function=utility_function)\n",
    "\n",
    "# Write tables with results on learning and inference\n",
    "estimation_reporter.write_learning_tables(\n",
    "    results_norefined=learning_results_norefined,\n",
    "    results_refined=learning_results_refined,\n",
    "    network = fresno_network,\n",
    "    utility_function = utility_function)\n",
    "\n",
    "estimation_reporter.write_inference_tables(\n",
    "    results_norefined=inference_results_norefined,\n",
    "    results_refined=inference_results_refined,\n",
    "    float_format = '%.3f')"
   ]
  },
  {
   "cell_type": "markdown",
   "metadata": {},
   "source": [
    "#### Visualizations"
   ]
  },
  {
   "cell_type": "markdown",
   "metadata": {},
   "source": [
    "##### Convergence"
   ]
  },
  {
   "cell_type": "code",
   "execution_count": null,
   "metadata": {},
   "outputs": [],
   "source": [
    "results_df = isl.descriptive_statistics \\\n",
    "    .get_loss_and_estimates_over_iterations(results_norefined=learning_results_norefined\n",
    "                                            , results_refined=learning_results_refined)\n",
    "\n",
    "fig = isl.visualization.Artist().convergence(\n",
    "    results_norefined_df=results_df[results_df['stage'] == 'norefined'],\n",
    "    results_refined_df=results_df[results_df['stage'] == 'refined'],\n",
    "    filename='convergence_' + fresno_network.key,\n",
    "    methods=[outer_optimizer_norefined.method.key, outer_optimizer_refined.method.key],\n",
    "    folder = estimation_reporter.dirs['estimation_folder'],\n",
    "    simulated_data = False\n",
    ")"
   ]
  },
  {
   "cell_type": "markdown",
   "metadata": {},
   "source": [
    "##### Distribution of errors across link counts"
   ]
  },
  {
   "cell_type": "code",
   "execution_count": null,
   "metadata": {},
   "outputs": [],
   "source": [
    "best_predicted_counts_norefined = np.array(list(learning_results_norefined[best_iter_norefined]['x'].values()))[:, np.newaxis]\n",
    "best_predicted_counts_refined = np.array(list(learning_results_refined[best_iter_refined]['x'].values()))[:, np.newaxis]\n",
    "\n",
    "fig, axs = plt.subplots(1, 2, sharey='all', tight_layout=True, figsize=(8, 4))\n",
    "\n",
    "axs[0].hist(isl.estimation.error_by_link(observed_counts=np.array(list(counts.values()))[:, np.newaxis],\n",
    "                                         predicted_counts=best_predicted_counts_norefined))\n",
    "axs[1].hist(isl.estimation.error_by_link(observed_counts=np.array(list(counts.values()))[:, np.newaxis],\n",
    "                                         predicted_counts=best_predicted_counts_refined))\n",
    "\n",
    "for axi in [axs[0], axs[1]]:\n",
    "    axi.tick_params(axis='x', labelsize=16)\n",
    "    axi.tick_params(axis='y', labelsize=16)\n",
    "\n",
    "plt.show()\n",
    "\n",
    "fig.savefig(estimation_reporter.dirs['estimation_folder'] + '/' + 'distribution_predicted_error_counts.pdf',\n",
    "            pad_inches=0.1, bbox_inches=\"tight\")"
   ]
  },
  {
   "cell_type": "markdown",
   "metadata": {},
   "source": [
    "### c) Model with all features"
   ]
  },
  {
   "cell_type": "code",
   "execution_count": null,
   "metadata": {},
   "outputs": [],
   "source": [
    "utility_function_full_model = isl.estimation.UtilityFunction(\n",
    "    features_Y=['tt'],\n",
    "    features_Z= ['tt_cv', 'incidents', 'intersections', 'bus_stops', 'median_inc'],\n",
    "    fixed = {'tt':True},\n",
    "    parameters_constraints = {'fixed':True},\n",
    "    signs = {'tt': '-', 'tt_cv':'-', 'incidents':'-', 'intersections':'-', 'bus_stops':'-', 'median_inc':'+'}\n",
    ")\n",
    "\n",
    "# Update utility functions of no refined and refined learners\n",
    "learner_norefined.utility_function = utility_function_full_model\n",
    "learner_refined.utility_function = utility_function_full_model\n",
    "\n",
    "#Initialize value with the estimate obtained from b)\n",
    "learner_norefined.utility_function.initial_values = theta_refined\n",
    "\n",
    "estimation_reporter = isl.writer.Reporter(\n",
    "    folderpath = isl.config.dirs['output_folder'] + 'estimations/' + network_name, seed =_SEED)"
   ]
  },
  {
   "cell_type": "markdown",
   "metadata": {},
   "source": [
    "#### No refined stage"
   ]
  },
  {
   "cell_type": "code",
   "execution_count": null,
   "metadata": {},
   "outputs": [],
   "source": [
    "learning_results_norefined, inference_results_norefined, best_iter_norefined = \\\n",
    "    learner_norefined.statistical_inference(h0=0, bilevel_iters=10, alpha=0.05, link_report=False, iteration_report = True)\n",
    "\n",
    "theta_norefined_full_model = learning_results_norefined[best_iter_norefined]['theta']"
   ]
  },
  {
   "cell_type": "markdown",
   "metadata": {},
   "source": [
    "#### Refined stage"
   ]
  },
  {
   "cell_type": "code",
   "execution_count": null,
   "metadata": {},
   "outputs": [],
   "source": [
    "learner_refined.utility_function.initial_values = theta_norefined_full_model\n",
    "\n",
    "learning_results_refined, inference_results_refined, best_iter_refined = \\\n",
    "    learner_refined.statistical_inference(h0=0, bilevel_iters=10, alpha=0.05, link_report=False, iteration_report = True)\n",
    "\n",
    "theta_refined_full_model = learning_results_refined[best_iter_refined]['theta']"
   ]
  },
  {
   "cell_type": "markdown",
   "metadata": {},
   "source": [
    "#### Report"
   ]
  },
  {
   "cell_type": "code",
   "execution_count": null,
   "metadata": {},
   "outputs": [],
   "source": [
    "estimation_reporter.add_items_report(\n",
    "    selected_date = data_reader.options['selected_date'],\n",
    "    selected_hour = data_reader.options['selected_hour'],\n",
    "    selected_od_periods = data_reader.options['od_periods'],\n",
    "    mean_counts=round(mean_count_benchmark_model,1),\n",
    "    mean_counts_prediction_loss = round(mean_counts_prediction_loss,1),\n",
    "    equilikely_prediction_loss = round(equilikely_prediction_loss,1)\n",
    ")\n",
    "\n",
    "estimation_reporter.add_items_report(\n",
    "    theta_norefined=theta_norefined_full_model,\n",
    "    theta_refined= theta_refined_full_model,\n",
    "    best_objective_norefined = round(learning_results_norefined[best_iter_norefined]['objective'],1),\n",
    "    best_objective_refined = round(learning_results_refined[best_iter_refined]['objective'],1),\n",
    ")\n",
    "\n",
    "estimation_reporter.write_estimation_report(\n",
    "    network=fresno_network,\n",
    "    learners=[learner_norefined, learner_refined],\n",
    "    utility_function=utility_function_full_model)\n",
    "\n",
    "estimation_reporter.write_learning_tables(\n",
    "    results_norefined=learning_results_norefined,\n",
    "    results_refined=learning_results_refined,\n",
    "    network = fresno_network,\n",
    "    utility_function = utility_function_full_model)\n",
    "\n",
    "estimation_reporter.write_inference_tables(\n",
    "    results_norefined=inference_results_norefined,\n",
    "    results_refined=inference_results_refined,\n",
    "    float_format = '%.3f')"
   ]
  },
  {
   "cell_type": "markdown",
   "metadata": {},
   "source": [
    "### d) Model including features with parameters with expected sign"
   ]
  },
  {
   "cell_type": "code",
   "execution_count": null,
   "metadata": {},
   "outputs": [],
   "source": [
    "features_Y,features_Z = isl.estimation.feature_selection(utility_function_full_model,\n",
    "                                                          theta = theta_refined_full_model,\n",
    "                                                          criterion = 'sign')\n",
    "\n",
    "utility_function_feature_selection_model = isl.estimation.UtilityFunction(\n",
    "    features_Y = features_Y,\n",
    "    features_Z = features_Z\n",
    ")\n",
    "\n",
    "learner_norefined.utility_function = utility_function_feature_selection_model\n",
    "learner_refined.utility_function = utility_function_feature_selection_model\n",
    "\n",
    "learner_norefined.utility_function.initial_values = theta_refined_full_model\n",
    "\n",
    "estimation_reporter = isl.writer.Reporter(\n",
    "    folderpath = isl.config.dirs['output_folder'] + 'estimations/' + network_name, seed = _SEED)"
   ]
  },
  {
   "cell_type": "markdown",
   "metadata": {},
   "source": [
    "#### No refined stage"
   ]
  },
  {
   "cell_type": "code",
   "execution_count": null,
   "metadata": {},
   "outputs": [],
   "source": [
    "learning_results_norefined, inference_results_norefined, best_iter_norefined = \\\n",
    "    learner_norefined.statistical_inference(h0=0, bilevel_iters=10, alpha=0.05, \n",
    "                                            link_report=False, iteration_report = True)\n",
    "\n",
    "theta_norefined_feature_selection_model = learning_results_norefined[best_iter_norefined]['theta']"
   ]
  },
  {
   "cell_type": "markdown",
   "metadata": {},
   "source": [
    "#### Refined stage"
   ]
  },
  {
   "cell_type": "code",
   "execution_count": null,
   "metadata": {},
   "outputs": [],
   "source": [
    "learner_refined.utility_function.initial_values = theta_norefined_feature_selection_model\n",
    "\n",
    "learning_results_refined, inference_results_refined, best_iter_refined = \\\n",
    "    learner_refined.statistical_inference(h0=0, bilevel_iters=10, alpha=0.05, \n",
    "                                          link_report=False, iteration_report = True)\n",
    "\n",
    "theta_refined_feature_selection_model = learning_results_refined[best_iter_refined]['theta']"
   ]
  },
  {
   "cell_type": "markdown",
   "metadata": {},
   "source": [
    "#### Report"
   ]
  },
  {
   "cell_type": "code",
   "execution_count": null,
   "metadata": {},
   "outputs": [],
   "source": [
    "estimation_reporter.add_items_report(\n",
    "    selected_date = data_reader.options['selected_date'],\n",
    "    selected_hour = data_reader.options['selected_hour'],\n",
    "    selected_od_periods = data_reader.options['od_periods'],\n",
    "    mean_counts=round(mean_count_benchmark_model,1),\n",
    "    mean_counts_prediction_loss = round(mean_counts_prediction_loss,1),\n",
    "    equilikely_prediction_loss = round(equilikely_prediction_loss,1)\n",
    ")\n",
    "\n",
    "estimation_reporter.add_items_report(\n",
    "    theta_norefined=theta_norefined_feature_selection_model,\n",
    "    theta_refined= theta_refined_feature_selection_model,\n",
    "    best_objective_norefined = round(learning_results_norefined[best_iter_norefined]['objective'],1),\n",
    "    best_objective_refined = round(learning_results_refined[best_iter_refined]['objective'],1),\n",
    ")\n",
    "\n",
    "estimation_reporter.write_estimation_report(\n",
    "    network=fresno_network,\n",
    "    learners=[learner_norefined, learner_refined],\n",
    "    utility_function=utility_function_feature_selection_model)\n",
    "\n",
    "estimation_reporter.write_learning_tables(\n",
    "    results_norefined=learning_results_norefined,\n",
    "    results_refined=learning_results_refined,\n",
    "    network = fresno_network,\n",
    "    utility_function = utility_function_feature_selection_model)\n",
    "\n",
    "estimation_reporter.write_inference_tables(\n",
    "    results_norefined=inference_results_norefined,\n",
    "    results_refined=inference_results_refined,\n",
    "    float_format = '%.3f')"
   ]
  },
  {
   "cell_type": "markdown",
   "metadata": {},
   "source": [
    "### e) Model with all features and constrained optimization on expected signs of parameters"
   ]
  },
  {
   "cell_type": "code",
   "execution_count": null,
   "metadata": {},
   "outputs": [],
   "source": [
    "utility_function_constrained_model = isl.estimation.UtilityFunction(\n",
    "    features_Y=['tt'],\n",
    "#    features_Z= ['incidents'],\n",
    "    features_Z= ['median_inc', 'bus_stops', 'intersections'],\n",
    "    initial_values = {'median_inc': 1.5, 'bus_stops':0},\n",
    "    signs = {'tt': '-', 'incidents':'-'},\n",
    "    fixed = {'tt': True,  'median_inc': True,'incidents':False, 'bus_stops':True}\n",
    ")\n",
    "\n",
    "# Update utility functions of no refined and refined learners\n",
    "learner_norefined.utility_function = utility_function_constrained_model\n",
    "learner_refined.utility_function = utility_function_constrained_model\n",
    "\n",
    "#Initialize value with the estimate obtained from b)\n",
    "learner_norefined.utility_function.initial_values = theta_refined\n",
    "\n",
    "learner_norefined.outer_optimizer.method.eta = 1e-1"
   ]
  },
  {
   "cell_type": "markdown",
   "metadata": {},
   "source": [
    "#### No refined stage"
   ]
  },
  {
   "cell_type": "code",
   "execution_count": null,
   "metadata": {},
   "outputs": [],
   "source": [
    "learning_results_norefined, inference_results_norefined, best_iter_norefined = \\\n",
    "    learner_norefined.statistical_inference(h0=0, bilevel_iters=5, alpha=0.05, link_report=False, iteration_report = True, \n",
    "                                            parameters_constraints = {'fixed': True, 'sign': False})\n",
    "\n",
    "theta_norefined_constrained_model = learning_results_norefined[best_iter_norefined]['theta']"
   ]
  },
  {
   "cell_type": "markdown",
   "metadata": {},
   "source": [
    "#### Refined stage"
   ]
  },
  {
   "cell_type": "code",
   "execution_count": null,
   "metadata": {},
   "outputs": [],
   "source": []
  }
 ],
 "metadata": {
  "kernelspec": {
   "display_name": "venv-isuelogit",
   "language": "python",
   "name": "venv-isuelogit"
  },
  "language_info": {
   "codemirror_mode": {
    "name": "ipython",
    "version": 3
   },
   "file_extension": ".py",
   "mimetype": "text/x-python",
   "name": "python",
   "nbconvert_exporter": "python",
   "pygments_lexer": "ipython3",
   "version": "3.7.4"
  }
 },
 "nbformat": 4,
 "nbformat_minor": 4
}
