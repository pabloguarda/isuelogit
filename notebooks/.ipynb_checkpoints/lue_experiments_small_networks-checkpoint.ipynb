{
 "cells": [
  {
   "cell_type": "markdown",
   "metadata": {},
   "source": [
    "## Setup"
   ]
  },
  {
   "cell_type": "code",
   "execution_count": null,
   "metadata": {},
   "outputs": [],
   "source": [
    "%matplotlib inline\n",
    "\n",
    "# External modules\n",
    "import numpy as np\n",
    "import os\n",
    "from pathlib import Path\n",
    "\n",
    "# Path management\n",
    "main_dir = str(Path(os.path.abspath('')).parents[0])\n",
    "os.chdir(main_dir)\n",
    "print('main dir:',main_dir)"
   ]
  },
  {
   "cell_type": "code",
   "execution_count": null,
   "metadata": {},
   "outputs": [],
   "source": [
    "# Internal modules\n",
    "from src import transportAI as tai"
   ]
  },
  {
   "cell_type": "code",
   "execution_count": null,
   "metadata": {},
   "outputs": [],
   "source": [
    "# Common parameters\n",
    "_BILEVEL_ITERS = 10\n",
    "_SD_X = 0\n",
    "_SEED = 2022"
   ]
  },
  {
   "cell_type": "code",
   "execution_count": null,
   "metadata": {},
   "outputs": [],
   "source": [
    "list_experiments  = ['monotonicity','pseudoconvexity','convergence','biased_reference_od']\n",
    "run_experiment = dict.fromkeys(list_experiments,True)"
   ]
  },
  {
   "cell_type": "markdown",
   "metadata": {},
   "source": [
    "## Build small networks"
   ]
  },
  {
   "cell_type": "code",
   "execution_count": null,
   "metadata": {},
   "outputs": [],
   "source": [
    "small_networks = []\n",
    "\n",
    "network_generator = tai.factory.NetworkGenerator()\n",
    "\n",
    "network_names = ['Toy', 'Yang', 'Lo', 'Wang']\n",
    "\n",
    "# Get dictionaries with adjacency and O-D matrices for a set of custom networks.\n",
    "As,Qs = network_generator.get_A_Q_custom_networks(network_names)\n",
    "\n",
    "# Create transportation network using adjacency matrices\n",
    "for i in network_names:\n",
    "    small_networks.append(network_generator.build_network(A = As[i], network_name= i))"
   ]
  },
  {
   "cell_type": "markdown",
   "metadata": {},
   "source": [
    "## Link performance functions"
   ]
  },
  {
   "cell_type": "code",
   "execution_count": null,
   "metadata": {},
   "outputs": [],
   "source": [
    "# Create data generator to generate link attributes\n",
    "linkdata_generator = tai.factory.LinkDataGenerator()\n",
    "\n",
    "for small_network in small_networks:\n",
    "    if small_network.key == 'Yang':\n",
    "        bpr_parameters_df = linkdata_generator.generate_Yang_bpr_parameters()\n",
    "    elif small_network.key == 'Lo':\n",
    "        bpr_parameters_df=linkdata_generator.generate_LoChan_bpr_parameters()\n",
    "    elif small_network.key == 'Wang':\n",
    "        bpr_parameters_df=linkdata_generator.generate_Wang_bpr_parameters()\n",
    "    elif small_network.key == 'Toy':\n",
    "        bpr_parameters_df = linkdata_generator.generate_toy_bpr_parameters()\n",
    "\n",
    "    # Set BPR parameters\n",
    "    small_network.set_bpr_functions(bpr_parameters_df)"
   ]
  },
  {
   "cell_type": "markdown",
   "metadata": {},
   "source": [
    "## OD matrix"
   ]
  },
  {
   "cell_type": "code",
   "execution_count": null,
   "metadata": {},
   "outputs": [],
   "source": [
    "for small_network in small_networks:\n",
    "    small_network.load_OD(Q  = Qs[small_network.key])"
   ]
  },
  {
   "cell_type": "markdown",
   "metadata": {},
   "source": [
    "## Paths"
   ]
  },
  {
   "cell_type": "code",
   "execution_count": null,
   "metadata": {},
   "outputs": [],
   "source": [
    "paths_generator = tai.factory.PathsGenerator()\n",
    "\n",
    "for small_network in small_networks:\n",
    "    print('\\n'+small_network.key, 'network', '\\n')\n",
    "    # With k>=4 shortest paths, all acyclic path of the networks are included in the path sets\n",
    "    paths_generator.load_k_shortest_paths(network = small_network, k=4)"
   ]
  },
  {
   "cell_type": "markdown",
   "metadata": {},
   "source": [
    "## Descriptive statistics"
   ]
  },
  {
   "cell_type": "code",
   "execution_count": null,
   "metadata": {},
   "outputs": [],
   "source": [
    "tai.descriptive_statistics.summary_table_networks(small_networks)"
   ]
  },
  {
   "cell_type": "markdown",
   "metadata": {},
   "source": [
    "## Experiments"
   ]
  },
  {
   "cell_type": "markdown",
   "metadata": {},
   "source": [
    "### Monotonicity of traffic count functions"
   ]
  },
  {
   "cell_type": "code",
   "execution_count": null,
   "metadata": {},
   "outputs": [],
   "source": [
    "if run_experiment['monotonicity']:\n",
    "\n",
    "    equilibrator = tai.equilibrium.LUE_Equilibrator(\n",
    "        max_iters=100,\n",
    "        method='fw',\n",
    "        iters_fw=100,\n",
    "        accuracy=1e-10,\n",
    "        uncongested_mode = True\n",
    "    )\n",
    "\n",
    "    utility_parameters = tai.estimation.Parameters(features_Y=['tt'],\n",
    "                                                   true_values={'tt': -1},\n",
    "                                                   initial_values={'tt': 0})\n",
    "\n",
    "    monotonicity_experiments = tai.experiments.MonotonicityExperiments(\n",
    "        seed = _SEED,\n",
    "        name = 'Monotonicity Experiment',\n",
    "        utility_function = tai.estimation.UtilityFunction(utility_parameters),\n",
    "        linkdata_generator=tai.factory.LinkDataGenerator(noise_params={'mu_x': 0, 'sd_x': _SD_X}),\n",
    "        equilibrator = equilibrator,\n",
    "        networks = small_networks)\n",
    "\n",
    "    monotonicity_experiments.run(grid=list(np.arange(-15, 15, 0.1)), feature='tt')"
   ]
  },
  {
   "cell_type": "markdown",
   "metadata": {},
   "source": [
    "### Pseudoconvexity of objective function"
   ]
  },
  {
   "cell_type": "code",
   "execution_count": null,
   "metadata": {},
   "outputs": [],
   "source": [
    "    equilibrator = tai.equilibrium.LUE_Equilibrator(\n",
    "        max_iters=100,\n",
    "        method='fw',\n",
    "        iters_fw=100,\n",
    "        accuracy=1e-10,\n",
    "        uncongested_mode = True\n",
    "    )\n",
    "\n",
    "    utility_parameters = tai.estimation.Parameters(features_Y=['tt'],\n",
    "                                                   true_values={'tt': -1})\n",
    "\n",
    "    pseudoconvexity_experiments = tai.experiments.PseudoconvexityExperiments(\n",
    "        seed = _SEED,\n",
    "        name = 'Pseudo-convexity Experiment',\n",
    "        utility_function = tai.estimation.UtilityFunction(utility_parameters),\n",
    "        linkdata_generator = tai.factory.LinkDataGenerator(noise_params={'mu_x': 0, 'sd_x': _SD_X}),\n",
    "        equilibrator = equilibrator,\n",
    "        networks = small_networks)\n",
    "\n",
    "    pseudoconvexity_experiments.run(grid = list(np.arange(-15, 15+0.1, 0.5)), feature = 'tt')"
   ]
  },
  {
   "cell_type": "markdown",
   "metadata": {},
   "source": [
    "## Convergence Experiment"
   ]
  },
  {
   "cell_type": "code",
   "execution_count": null,
   "metadata": {},
   "outputs": [],
   "source": [
    "if run_experiment['convergence']:\n",
    "\n",
    "    equilibrator = tai.equilibrium.LUE_Equilibrator(\n",
    "        max_iters=100,\n",
    "        method='fw',\n",
    "        iters_fw=100,\n",
    "        accuracy=1e-10,\n",
    "        uncongested_mode = False,\n",
    "        paths_generator=paths_generator\n",
    "    )\n",
    "\n",
    "    utility_parameters = tai.estimation.Parameters(\n",
    "        features_Y=['tt'],\n",
    "        initial_values={'tt': -14},\n",
    "        true_values={'tt': -1e-0}\n",
    "    )\n",
    "\n",
    "    outer_optimizer_norefined = tai.estimation.OuterOptimizer(\n",
    "        method='ngd',\n",
    "        iters=1,\n",
    "        eta=2\n",
    "    )\n",
    "\n",
    "    outer_optimizer_refined = tai.estimation.OuterOptimizer(\n",
    "        # method='gauss-newton',\n",
    "        method='lm',\n",
    "        # lambda_lm=0,\n",
    "        iters=1,\n",
    "    )\n",
    "\n",
    "    convergence_experiments = tai.experiments.ConvergenceExperiments(\n",
    "        seed=_SEED,\n",
    "        name='Convergence Experiment',\n",
    "        outer_optimizers=[outer_optimizer_norefined, outer_optimizer_refined],\n",
    "        utility_function= tai.estimation.UtilityFunction(utility_parameters),\n",
    "        linkdata_generator=tai.factory.LinkDataGenerator(noise_params={'mu_x': 0, 'sd_x':_SD_X}),\n",
    "        equilibrator=equilibrator,\n",
    "        bilevel_iters=_BILEVEL_ITERS,\n",
    "        networks=small_networks)\n",
    "\n",
    "    convergence_experiments.run()"
   ]
  },
  {
   "cell_type": "markdown",
   "metadata": {},
   "source": [
    "## Bias in Reference OD matrix"
   ]
  },
  {
   "cell_type": "code",
   "execution_count": null,
   "metadata": {},
   "outputs": [],
   "source": [
    "if run_experiment['biased_reference_od']:\n",
    "\n",
    "    equilibrator = tai.equilibrium.LUE_Equilibrator(\n",
    "        max_iters=100,\n",
    "        method='fw',\n",
    "        iters_fw=100,\n",
    "        accuracy=1e-100,\n",
    "        uncongested_mode = False,\n",
    "        paths_generator=paths_generator\n",
    "    )\n",
    "\n",
    "    utility_parameters = tai.estimation.Parameters(features_Y=['tt'],\n",
    "                                                   initial_values={'tt': -14},\n",
    "                                                   true_values={'tt': -1.5})\n",
    "\n",
    "    outer_optimizer_norefined = tai.estimation.OuterOptimizer(\n",
    "        method='ngd',\n",
    "        iters=1,\n",
    "        eta=2e0\n",
    "    )\n",
    "\n",
    "    outer_optimizer_refined = tai.estimation.OuterOptimizer(\n",
    "        # method='gauss-newton',\n",
    "        method='lm',\n",
    "        # lambda_lm = 0,\n",
    "        iters=1\n",
    "    )\n",
    "\n",
    "    Yang_network = [network for network in small_networks if network.key == 'Yang'][0]\n",
    "\n",
    "    # As in Yang paper, coverage is set to 0.35, i.e. traffic counts from 5 links are considered for estimation\n",
    "\n",
    "    bias_reference_od_experiment = tai.experiments.BiasReferenceODExperiment(\n",
    "        seed=_SEED,\n",
    "        name='Bias OD Experiment',\n",
    "        outer_optimizers=[outer_optimizer_norefined, outer_optimizer_refined],\n",
    "        utility_function=tai.estimation.UtilityFunction(utility_parameters),\n",
    "        linkdata_generator=tai.factory.LinkDataGenerator(coverage = 0.35, noise_params={'mu_x': 0, 'sd_x': _SD_X}),\n",
    "        equilibrator= equilibrator,\n",
    "        bilevel_iters = _BILEVEL_ITERS,\n",
    "        network= Yang_network)\n",
    "\n",
    "    bias_reference_od_experiment.run(distorted_Q = network_generator.get_A_Q_custom_networks(['Yang2'])[1]['Yang2'])"
   ]
  }
 ],
 "metadata": {
  "kernelspec": {
   "display_name": "venv-transportAI",
   "language": "python",
   "name": "venv-transportai"
  },
  "language_info": {
   "codemirror_mode": {
    "name": "ipython",
    "version": 3
   },
   "file_extension": ".py",
   "mimetype": "text/x-python",
   "name": "python",
   "nbconvert_exporter": "python",
   "pygments_lexer": "ipython3",
   "version": "3.7.11"
  }
 },
 "nbformat": 4,
 "nbformat_minor": 4
}
