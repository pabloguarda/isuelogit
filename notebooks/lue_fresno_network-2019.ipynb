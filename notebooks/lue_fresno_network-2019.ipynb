{
 "cells": [
  {
   "cell_type": "markdown",
   "metadata": {},
   "source": [
    "## Setup"
   ]
  },
  {
   "cell_type": "code",
   "execution_count": 1,
   "metadata": {},
   "outputs": [],
   "source": [
    "%matplotlib inline\n",
    "\n",
    "import warnings\n",
    "warnings.simplefilter(action = \"ignore\", category = RuntimeWarning)\n",
    "\n",
    "# External modules\n",
    "import ast\n",
    "import numpy as np\n",
    "import pandas as pd\n",
    "from sklearn import preprocessing\n",
    "import matplotlib.pyplot as plt\n",
    "import os\n",
    "from pathlib import Path"
   ]
  },
  {
   "cell_type": "code",
   "execution_count": 2,
   "metadata": {},
   "outputs": [
    {
     "name": "stdout",
     "output_type": "stream",
     "text": [
      "main dir: /Users/pablo/OneDrive/data-science/github/isuelogit\n"
     ]
    }
   ],
   "source": [
    "# Path management\n",
    "main_dir = str(Path(os.path.abspath('')).parents[0])\n",
    "os.chdir(main_dir)\n",
    "print('main dir:',main_dir)"
   ]
  },
  {
   "cell_type": "code",
   "execution_count": 3,
   "metadata": {},
   "outputs": [],
   "source": [
    "# Internal modules\n",
    "from src import isuelogit as isl"
   ]
  },
  {
   "cell_type": "code",
   "execution_count": 4,
   "metadata": {},
   "outputs": [],
   "source": [
    "# Seed for reproducibility\n",
    "_SEED = 2022"
   ]
  },
  {
   "cell_type": "markdown",
   "metadata": {},
   "source": [
    "### Read data on links and nodes of Fresno network"
   ]
  },
  {
   "cell_type": "code",
   "execution_count": 5,
   "metadata": {},
   "outputs": [
    {
     "name": "stdout",
     "output_type": "stream",
     "text": [
      "\n",
      "Selected date is 2019-10-01, Tuesday at 16:00\n"
     ]
    }
   ],
   "source": [
    "network_name = 'Fresno'\n",
    "\n",
    "# To write estimation report and set seed for all algorithms involving some randomness  \n",
    "estimation_reporter = isl.writer.Reporter(\n",
    "    folderpath = isl.config.dirs['output_folder'] + 'estimations/' + network_name, seed = _SEED)\n",
    "\n",
    "# Reader of geospatial and spatio-temporal data\n",
    "data_reader = isl.etl.DataReader(network_key=network_name)\n",
    "\n",
    "# First Tuesday of October, 2019\n",
    "data_reader.select_period(date='2019-10-01', hour=16)\n",
    "\n",
    "# Read nodes data\n",
    "nodes_df = pd.read_csv(isl.dirs['input_folder'] + '/network-data/nodes/'  + 'fresno-nodes-data.csv')\n",
    "\n",
    "# Read spatiotemporal link data\n",
    "links_df = pd.read_csv(\n",
    "    isl.dirs['input_folder'] + 'network-data/links/' + str(data_reader.options['selected_date'])+ '-fresno-link-data.csv',\n",
    "    converters={\"link_key\": ast.literal_eval,\"pems_id\": ast.literal_eval})"
   ]
  },
  {
   "cell_type": "markdown",
   "metadata": {},
   "source": [
    "### Build network"
   ]
  },
  {
   "cell_type": "code",
   "execution_count": 6,
   "metadata": {},
   "outputs": [
    {
     "name": "stdout",
     "output_type": "stream",
     "text": [
      "\n",
      "Creating Fresno network\n",
      "\n",
      "Nodes: 1789, Links: 2413\n"
     ]
    }
   ],
   "source": [
    "network_generator = isl.factory.NetworkGenerator()\n",
    "\n",
    "fresno_network = \\\n",
    "    network_generator.build_fresno_network(A=network_generator.generate_adjacency_matrix(links_keys=list(links_df['link_key'].values)),\n",
    "                                           links_df=links_df, nodes_df=nodes_df, network_name= network_name)"
   ]
  },
  {
   "cell_type": "markdown",
   "metadata": {},
   "source": [
    "### Read OD matrix"
   ]
  },
  {
   "cell_type": "code",
   "execution_count": 7,
   "metadata": {},
   "outputs": [
    {
     "name": "stdout",
     "output_type": "stream",
     "text": [
      "Matrix Q (1789, 1789) read in 0.0[s] with sparse format\n",
      "66266.3 trips were loaded among 6970 o-d pairs\n"
     ]
    }
   ],
   "source": [
    "network_generator.read_OD(network=fresno_network, sparse=True)"
   ]
  },
  {
   "cell_type": "markdown",
   "metadata": {},
   "source": [
    "### Load link performance functions"
   ]
  },
  {
   "cell_type": "code",
   "execution_count": 8,
   "metadata": {},
   "outputs": [],
   "source": [
    "bpr_parameters_df = pd.DataFrame({'link_key': links_df['link_key'],\n",
    "                                  'alpha': links_df['alpha'],\n",
    "                                  'beta': links_df['beta'],\n",
    "                                  'tf': links_df['tf_inrix'],\n",
    "                                  #'tf': links_df['tf'],\n",
    "                                  'k': pd.to_numeric(links_df['k'], errors='coerce', downcast='float')\n",
    "                                  })\n",
    "\n",
    "# Normalize free flow travel time between 0 and 1\n",
    "bpr_parameters_df['tf'] = pd.DataFrame(preprocessing.MinMaxScaler().fit_transform(np.array(bpr_parameters_df['tf']).reshape(-1, 1)))\n",
    "\n",
    "fresno_network.set_bpr_functions(bprdata=bpr_parameters_df)"
   ]
  },
  {
   "cell_type": "markdown",
   "metadata": {},
   "source": [
    "### Generate exogenous link features"
   ]
  },
  {
   "cell_type": "code",
   "execution_count": 9,
   "metadata": {},
   "outputs": [
    {
     "name": "stdout",
     "output_type": "stream",
     "text": [
      "Features values of links with a type different than LWRLK were set to 0\n",
      "New features: ['low_inc', 'high_inc', 'no_incidents', 'no_bus_stops', 'no_intersections', 'tt_sd_adj', 'speed_reliability']\n"
     ]
    }
   ],
   "source": [
    "fresno_network.load_features_data(links_df, link_key = 'link_key')\n",
    "\n",
    "isl.etl.feature_engineering_fresno(links=fresno_network.links, network=fresno_network)"
   ]
  },
  {
   "cell_type": "code",
   "execution_count": 10,
   "metadata": {},
   "outputs": [],
   "source": [
    "# Normalization of features to range [0,1]\n",
    "\n",
    "features_list = ['median_inc', 'intersections', 'incidents', 'bus_stops', 'median_age',\n",
    "                 'tt_avg', 'tt_sd','tt_var', 'tt_cv', 'tt_sd_adj','speed_reliability',\n",
    "                 'speed_ref_avg', 'speed_avg', 'speed_hist_avg','speed_sd','speed_hist_sd','speed_cv']\n",
    "\n",
    "linkdata = pd.DataFrame(preprocessing.MinMaxScaler().fit_transform(fresno_network.Z_data[features_list].values))\n",
    "linkdata.columns = features_list\n",
    "linkdata.insert(0, 'link_key', fresno_network.links_keys)\n",
    "\n",
    "fresno_network.load_features_data(linkdata)\n",
    "\n",
    "del linkdata"
   ]
  },
  {
   "cell_type": "markdown",
   "metadata": {},
   "source": [
    "### Read and load traffic counts"
   ]
  },
  {
   "cell_type": "code",
   "execution_count": 11,
   "metadata": {},
   "outputs": [],
   "source": [
    "counts_df = pd.read_csv(isl.dirs['input_folder'] + '/network-data/links/' \\\n",
    "                            + str(data_reader.options['selected_date']) + '-fresno-link-counts' + '.csv',\n",
    "                        converters={'link_key': ast.literal_eval})\n",
    "\n",
    "fresno_network.load_traffic_counts(counts=dict(zip(counts_df['link_key'].values, counts_df['counts'].values)))"
   ]
  },
  {
   "cell_type": "markdown",
   "metadata": {
    "jupyter": {
     "outputs_hidden": false
    },
    "pycharm": {
     "name": "#%% md\n"
    }
   },
   "source": [
    "### Read and load paths"
   ]
  },
  {
   "cell_type": "code",
   "execution_count": 12,
   "metadata": {
    "jupyter": {
     "outputs_hidden": false
    },
    "pycharm": {
     "name": "#%%\n"
    }
   },
   "outputs": [
    {
     "name": "stdout",
     "output_type": "stream",
     "text": [
      "13905 paths were read in 11.7[s]              \n",
      "\n",
      "13905 paths were loaded in the network\n",
      "\n",
      "Updating incidence matrices\n",
      "\n",
      "Matrix D (2413, 13905) generated in 29.9[s]               \n",
      "\n",
      "Matrix M (6970, 13905) generated in 11.0[s]               \n",
      "\n",
      "Matrix C (13905, 13905) generated in 3.0[s]               \n",
      "\n"
     ]
    }
   ],
   "source": [
    "paths_generator = isl.factory.PathsGenerator()\n",
    "\n",
    "# # Generate and Load paths in network\n",
    "# paths_generator.load_k_shortest_paths(network = fresno_network, k=2)\n",
    "\n",
    "# Read and load paths in network\n",
    "paths_generator.read_paths(network=fresno_network, update_incidence_matrices=True)"
   ]
  },
  {
   "cell_type": "markdown",
   "metadata": {},
   "source": [
    "## Descriptive statistics"
   ]
  },
  {
   "cell_type": "markdown",
   "metadata": {},
   "source": [
    "### Networks topology"
   ]
  },
  {
   "cell_type": "code",
   "execution_count": 13,
   "metadata": {},
   "outputs": [
    {
     "data": {
      "text/html": [
       "<div>\n",
       "<style scoped>\n",
       "    .dataframe tbody tr th:only-of-type {\n",
       "        vertical-align: middle;\n",
       "    }\n",
       "\n",
       "    .dataframe tbody tr th {\n",
       "        vertical-align: top;\n",
       "    }\n",
       "\n",
       "    .dataframe thead th {\n",
       "        text-align: right;\n",
       "    }\n",
       "</style>\n",
       "<table border=\"1\" class=\"dataframe\">\n",
       "  <thead>\n",
       "    <tr style=\"text-align: right;\">\n",
       "      <th></th>\n",
       "      <th>network</th>\n",
       "      <th>nodes</th>\n",
       "      <th>links</th>\n",
       "      <th>ods</th>\n",
       "      <th>paths</th>\n",
       "    </tr>\n",
       "  </thead>\n",
       "  <tbody>\n",
       "    <tr>\n",
       "      <th>0</th>\n",
       "      <td>Fresno</td>\n",
       "      <td>1789</td>\n",
       "      <td>2413</td>\n",
       "      <td>6970</td>\n",
       "      <td>13905</td>\n",
       "    </tr>\n",
       "  </tbody>\n",
       "</table>\n",
       "</div>"
      ],
      "text/plain": [
       "  network  nodes  links   ods  paths\n",
       "0  Fresno   1789   2413  6970  13905"
      ]
     },
     "execution_count": 13,
     "metadata": {},
     "output_type": "execute_result"
    }
   ],
   "source": [
    "isl.descriptive_statistics.summary_table_networks([fresno_network])"
   ]
  },
  {
   "cell_type": "markdown",
   "metadata": {
    "pycharm": {
     "name": "#%% md\n"
    }
   },
   "source": [
    "### Travel demand"
   ]
  },
  {
   "cell_type": "code",
   "execution_count": 14,
   "metadata": {
    "pycharm": {
     "name": "#%%\n"
    }
   },
   "outputs": [
    {
     "data": {
      "image/png": "[encoded data removed]",
      "text/plain": [
       "<Figure size 648x288 with 2 Axes>"
      ]
     },
     "metadata": {
      "needs_background": "light"
     },
     "output_type": "display_data"
    }
   ],
   "source": [
    "isl.visualization.Artist().cumulative_demand(\n",
    "    Q= fresno_network.Q,\n",
    "    threshold = 0.2,\n",
    "    folderpath = estimation_reporter.dirs['estimation_folder'],\n",
    "    filename = 'cumulative_OD_matrix.pdf')"
   ]
  },
  {
   "cell_type": "markdown",
   "metadata": {
    "pycharm": {
     "name": "#%% md\n"
    }
   },
   "source": [
    "### Link coverage"
   ]
  },
  {
   "cell_type": "code",
   "execution_count": 15,
   "metadata": {
    "pycharm": {
     "name": "#%%\n"
    }
   },
   "outputs": [
    {
     "name": "stdout",
     "output_type": "stream",
     "text": [
      "\n",
      "Total link counts observations: 141\n",
      "Link coverage: 5.8%\n"
     ]
    }
   ],
   "source": [
    "total_counts_observations = np.count_nonzero(~np.isnan(fresno_network.observed_counts_vector))\n",
    "\n",
    "print('\\nTotal link counts observations: ' + str(total_counts_observations))\n",
    "print('Link coverage: ' + \"{:.1%}\".format(round(total_counts_observations / len(fresno_network.links), 4)))"
   ]
  },
  {
   "cell_type": "markdown",
   "metadata": {
    "pycharm": {
     "name": "#%% md\n"
    }
   },
   "source": [
    "### Links performance functions"
   ]
  },
  {
   "cell_type": "code",
   "execution_count": 16,
   "metadata": {
    "pycharm": {
     "name": "#%%\n"
    }
   },
   "outputs": [
    {
     "data": {
      "text/html": [
       "<div>\n",
       "<style scoped>\n",
       "    .dataframe tbody tr th:only-of-type {\n",
       "        vertical-align: middle;\n",
       "    }\n",
       "\n",
       "    .dataframe tbody tr th {\n",
       "        vertical-align: top;\n",
       "    }\n",
       "\n",
       "    .dataframe thead th {\n",
       "        text-align: right;\n",
       "    }\n",
       "</style>\n",
       "<table border=\"1\" class=\"dataframe\">\n",
       "  <thead>\n",
       "    <tr style=\"text-align: right;\">\n",
       "      <th></th>\n",
       "      <th>alpha</th>\n",
       "      <th>beta</th>\n",
       "      <th>tf</th>\n",
       "      <th>k</th>\n",
       "    </tr>\n",
       "  </thead>\n",
       "  <tbody>\n",
       "    <tr>\n",
       "      <th>count</th>\n",
       "      <td>2.413000e+03</td>\n",
       "      <td>2413.0</td>\n",
       "      <td>2413.000000</td>\n",
       "      <td>2.413000e+03</td>\n",
       "    </tr>\n",
       "    <tr>\n",
       "      <th>mean</th>\n",
       "      <td>1.500000e-01</td>\n",
       "      <td>4.0</td>\n",
       "      <td>0.075482</td>\n",
       "      <td>1.439305e+09</td>\n",
       "    </tr>\n",
       "    <tr>\n",
       "      <th>std</th>\n",
       "      <td>2.776133e-17</td>\n",
       "      <td>0.0</td>\n",
       "      <td>0.085996</td>\n",
       "      <td>2.261116e+09</td>\n",
       "    </tr>\n",
       "    <tr>\n",
       "      <th>min</th>\n",
       "      <td>1.500000e-01</td>\n",
       "      <td>4.0</td>\n",
       "      <td>0.000000</td>\n",
       "      <td>1.800000e+03</td>\n",
       "    </tr>\n",
       "    <tr>\n",
       "      <th>25%</th>\n",
       "      <td>1.500000e-01</td>\n",
       "      <td>4.0</td>\n",
       "      <td>0.000000</td>\n",
       "      <td>1.800000e+03</td>\n",
       "    </tr>\n",
       "    <tr>\n",
       "      <th>50%</th>\n",
       "      <td>1.500000e-01</td>\n",
       "      <td>4.0</td>\n",
       "      <td>0.057738</td>\n",
       "      <td>1.800000e+03</td>\n",
       "    </tr>\n",
       "    <tr>\n",
       "      <th>75%</th>\n",
       "      <td>1.500000e-01</td>\n",
       "      <td>4.0</td>\n",
       "      <td>0.106484</td>\n",
       "      <td>4.990000e+09</td>\n",
       "    </tr>\n",
       "    <tr>\n",
       "      <th>max</th>\n",
       "      <td>1.500000e-01</td>\n",
       "      <td>4.0</td>\n",
       "      <td>1.000000</td>\n",
       "      <td>4.990000e+09</td>\n",
       "    </tr>\n",
       "  </tbody>\n",
       "</table>\n",
       "</div>"
      ],
      "text/plain": [
       "              alpha    beta           tf             k\n",
       "count  2.413000e+03  2413.0  2413.000000  2.413000e+03\n",
       "mean   1.500000e-01     4.0     0.075482  1.439305e+09\n",
       "std    2.776133e-17     0.0     0.085996  2.261116e+09\n",
       "min    1.500000e-01     4.0     0.000000  1.800000e+03\n",
       "25%    1.500000e-01     4.0     0.000000  1.800000e+03\n",
       "50%    1.500000e-01     4.0     0.057738  1.800000e+03\n",
       "75%    1.500000e-01     4.0     0.106484  4.990000e+09\n",
       "max    1.500000e-01     4.0     1.000000  4.990000e+09"
      ]
     },
     "execution_count": 16,
     "metadata": {},
     "output_type": "execute_result"
    }
   ],
   "source": [
    "bpr_parameters_df.describe()"
   ]
  },
  {
   "cell_type": "markdown",
   "metadata": {},
   "source": [
    "### Links features"
   ]
  },
  {
   "cell_type": "code",
   "execution_count": 17,
   "metadata": {},
   "outputs": [
    {
     "data": {
      "text/html": [
       "<div>\n",
       "<style scoped>\n",
       "    .dataframe tbody tr th:only-of-type {\n",
       "        vertical-align: middle;\n",
       "    }\n",
       "\n",
       "    .dataframe tbody tr th {\n",
       "        vertical-align: top;\n",
       "    }\n",
       "\n",
       "    .dataframe thead th {\n",
       "        text-align: right;\n",
       "    }\n",
       "</style>\n",
       "<table border=\"1\" class=\"dataframe\">\n",
       "  <thead>\n",
       "    <tr style=\"text-align: right;\">\n",
       "      <th></th>\n",
       "      <th>link_type</th>\n",
       "      <th>alpha</th>\n",
       "      <th>beta</th>\n",
       "      <th>tf</th>\n",
       "      <th>k</th>\n",
       "      <th>observed</th>\n",
       "      <th>counts</th>\n",
       "      <th>capacity [veh]</th>\n",
       "      <th>tt_ff [min]</th>\n",
       "      <th>speed_ff[mi/hr]</th>\n",
       "      <th>...</th>\n",
       "      <th>bus_stops</th>\n",
       "      <th>intersections</th>\n",
       "      <th>tf_inrix</th>\n",
       "      <th>high_inc</th>\n",
       "      <th>low_inc</th>\n",
       "      <th>no_incidents</th>\n",
       "      <th>no_bus_stops</th>\n",
       "      <th>no_intersections</th>\n",
       "      <th>tt_sd_adj</th>\n",
       "      <th>speed_reliability</th>\n",
       "    </tr>\n",
       "  </thead>\n",
       "  <tbody>\n",
       "    <tr>\n",
       "      <th>0</th>\n",
       "      <td>LWRLK</td>\n",
       "      <td>0.15</td>\n",
       "      <td>4.0</td>\n",
       "      <td>0.104591</td>\n",
       "      <td>1.800000e+03</td>\n",
       "      <td>0</td>\n",
       "      <td>NaN</td>\n",
       "      <td>1800.0</td>\n",
       "      <td>0.098</td>\n",
       "      <td>45</td>\n",
       "      <td>...</td>\n",
       "      <td>0.0</td>\n",
       "      <td>0.111111</td>\n",
       "      <td>0.221</td>\n",
       "      <td>1</td>\n",
       "      <td>0</td>\n",
       "      <td>1</td>\n",
       "      <td>1</td>\n",
       "      <td>0</td>\n",
       "      <td>0.109299</td>\n",
       "      <td>0.703026</td>\n",
       "    </tr>\n",
       "    <tr>\n",
       "      <th>1</th>\n",
       "      <td>LWRLK</td>\n",
       "      <td>0.15</td>\n",
       "      <td>4.0</td>\n",
       "      <td>0.096072</td>\n",
       "      <td>1.800000e+03</td>\n",
       "      <td>0</td>\n",
       "      <td>NaN</td>\n",
       "      <td>1800.0</td>\n",
       "      <td>0.169</td>\n",
       "      <td>50</td>\n",
       "      <td>...</td>\n",
       "      <td>0.0</td>\n",
       "      <td>0.000000</td>\n",
       "      <td>0.203</td>\n",
       "      <td>1</td>\n",
       "      <td>0</td>\n",
       "      <td>0</td>\n",
       "      <td>1</td>\n",
       "      <td>1</td>\n",
       "      <td>0.071056</td>\n",
       "      <td>0.760686</td>\n",
       "    </tr>\n",
       "    <tr>\n",
       "      <th>2</th>\n",
       "      <td>LWRLK</td>\n",
       "      <td>0.15</td>\n",
       "      <td>4.0</td>\n",
       "      <td>0.187411</td>\n",
       "      <td>2.400000e+03</td>\n",
       "      <td>0</td>\n",
       "      <td>NaN</td>\n",
       "      <td>2400.0</td>\n",
       "      <td>0.396</td>\n",
       "      <td>65</td>\n",
       "      <td>...</td>\n",
       "      <td>0.0</td>\n",
       "      <td>0.000000</td>\n",
       "      <td>0.396</td>\n",
       "      <td>1</td>\n",
       "      <td>0</td>\n",
       "      <td>0</td>\n",
       "      <td>1</td>\n",
       "      <td>1</td>\n",
       "      <td>0.000000</td>\n",
       "      <td>0.000000</td>\n",
       "    </tr>\n",
       "    <tr>\n",
       "      <th>3</th>\n",
       "      <td>LWRLK</td>\n",
       "      <td>0.15</td>\n",
       "      <td>4.0</td>\n",
       "      <td>0.066257</td>\n",
       "      <td>2.000000e+03</td>\n",
       "      <td>0</td>\n",
       "      <td>NaN</td>\n",
       "      <td>2000.0</td>\n",
       "      <td>0.192</td>\n",
       "      <td>25</td>\n",
       "      <td>...</td>\n",
       "      <td>0.0</td>\n",
       "      <td>0.111111</td>\n",
       "      <td>0.140</td>\n",
       "      <td>1</td>\n",
       "      <td>0</td>\n",
       "      <td>1</td>\n",
       "      <td>1</td>\n",
       "      <td>0</td>\n",
       "      <td>0.017797</td>\n",
       "      <td>0.873536</td>\n",
       "    </tr>\n",
       "    <tr>\n",
       "      <th>4</th>\n",
       "      <td>LWRLK</td>\n",
       "      <td>0.15</td>\n",
       "      <td>4.0</td>\n",
       "      <td>0.049692</td>\n",
       "      <td>1.800000e+03</td>\n",
       "      <td>0</td>\n",
       "      <td>NaN</td>\n",
       "      <td>1800.0</td>\n",
       "      <td>0.105</td>\n",
       "      <td>35</td>\n",
       "      <td>...</td>\n",
       "      <td>0.0</td>\n",
       "      <td>0.111111</td>\n",
       "      <td>0.105</td>\n",
       "      <td>1</td>\n",
       "      <td>0</td>\n",
       "      <td>1</td>\n",
       "      <td>1</td>\n",
       "      <td>0</td>\n",
       "      <td>0.000000</td>\n",
       "      <td>0.000000</td>\n",
       "    </tr>\n",
       "    <tr>\n",
       "      <th>...</th>\n",
       "      <td>...</td>\n",
       "      <td>...</td>\n",
       "      <td>...</td>\n",
       "      <td>...</td>\n",
       "      <td>...</td>\n",
       "      <td>...</td>\n",
       "      <td>...</td>\n",
       "      <td>...</td>\n",
       "      <td>...</td>\n",
       "      <td>...</td>\n",
       "      <td>...</td>\n",
       "      <td>...</td>\n",
       "      <td>...</td>\n",
       "      <td>...</td>\n",
       "      <td>...</td>\n",
       "      <td>...</td>\n",
       "      <td>...</td>\n",
       "      <td>...</td>\n",
       "      <td>...</td>\n",
       "      <td>...</td>\n",
       "      <td>...</td>\n",
       "    </tr>\n",
       "    <tr>\n",
       "      <th>2408</th>\n",
       "      <td>PQULK</td>\n",
       "      <td>0.15</td>\n",
       "      <td>4.0</td>\n",
       "      <td>0.000000</td>\n",
       "      <td>4.990000e+09</td>\n",
       "      <td>0</td>\n",
       "      <td>NaN</td>\n",
       "      <td>inf</td>\n",
       "      <td>0.000</td>\n",
       "      <td>99999</td>\n",
       "      <td>...</td>\n",
       "      <td>0.0</td>\n",
       "      <td>0.000000</td>\n",
       "      <td>0.000</td>\n",
       "      <td>0</td>\n",
       "      <td>0</td>\n",
       "      <td>0</td>\n",
       "      <td>0</td>\n",
       "      <td>0</td>\n",
       "      <td>0.000000</td>\n",
       "      <td>0.000000</td>\n",
       "    </tr>\n",
       "    <tr>\n",
       "      <th>2409</th>\n",
       "      <td>PQULK</td>\n",
       "      <td>0.15</td>\n",
       "      <td>4.0</td>\n",
       "      <td>0.000000</td>\n",
       "      <td>4.990000e+09</td>\n",
       "      <td>0</td>\n",
       "      <td>NaN</td>\n",
       "      <td>inf</td>\n",
       "      <td>0.000</td>\n",
       "      <td>99999</td>\n",
       "      <td>...</td>\n",
       "      <td>0.0</td>\n",
       "      <td>0.000000</td>\n",
       "      <td>0.000</td>\n",
       "      <td>0</td>\n",
       "      <td>0</td>\n",
       "      <td>0</td>\n",
       "      <td>0</td>\n",
       "      <td>0</td>\n",
       "      <td>0.000000</td>\n",
       "      <td>0.000000</td>\n",
       "    </tr>\n",
       "    <tr>\n",
       "      <th>2410</th>\n",
       "      <td>LWRLK</td>\n",
       "      <td>0.15</td>\n",
       "      <td>4.0</td>\n",
       "      <td>0.018930</td>\n",
       "      <td>1.800000e+03</td>\n",
       "      <td>0</td>\n",
       "      <td>NaN</td>\n",
       "      <td>1800.0</td>\n",
       "      <td>0.045</td>\n",
       "      <td>65</td>\n",
       "      <td>...</td>\n",
       "      <td>0.0</td>\n",
       "      <td>0.111111</td>\n",
       "      <td>0.040</td>\n",
       "      <td>1</td>\n",
       "      <td>0</td>\n",
       "      <td>1</td>\n",
       "      <td>1</td>\n",
       "      <td>0</td>\n",
       "      <td>0.005085</td>\n",
       "      <td>0.902381</td>\n",
       "    </tr>\n",
       "    <tr>\n",
       "      <th>2411</th>\n",
       "      <td>LWRLK</td>\n",
       "      <td>0.15</td>\n",
       "      <td>4.0</td>\n",
       "      <td>0.046853</td>\n",
       "      <td>2.400000e+03</td>\n",
       "      <td>0</td>\n",
       "      <td>NaN</td>\n",
       "      <td>2400.0</td>\n",
       "      <td>0.107</td>\n",
       "      <td>65</td>\n",
       "      <td>...</td>\n",
       "      <td>0.0</td>\n",
       "      <td>0.222222</td>\n",
       "      <td>0.099</td>\n",
       "      <td>0</td>\n",
       "      <td>1</td>\n",
       "      <td>0</td>\n",
       "      <td>1</td>\n",
       "      <td>0</td>\n",
       "      <td>0.004827</td>\n",
       "      <td>0.921643</td>\n",
       "    </tr>\n",
       "    <tr>\n",
       "      <th>2412</th>\n",
       "      <td>PQULK</td>\n",
       "      <td>0.15</td>\n",
       "      <td>4.0</td>\n",
       "      <td>0.000000</td>\n",
       "      <td>4.990000e+09</td>\n",
       "      <td>0</td>\n",
       "      <td>NaN</td>\n",
       "      <td>inf</td>\n",
       "      <td>0.000</td>\n",
       "      <td>99999</td>\n",
       "      <td>...</td>\n",
       "      <td>0.0</td>\n",
       "      <td>0.000000</td>\n",
       "      <td>0.000</td>\n",
       "      <td>0</td>\n",
       "      <td>0</td>\n",
       "      <td>0</td>\n",
       "      <td>0</td>\n",
       "      <td>0</td>\n",
       "      <td>0.000000</td>\n",
       "      <td>0.000000</td>\n",
       "    </tr>\n",
       "  </tbody>\n",
       "</table>\n",
       "<p>2413 rows × 44 columns</p>\n",
       "</div>"
      ],
      "text/plain": [
       "     link_type  alpha  beta        tf             k  observed  counts  \\\n",
       "0        LWRLK   0.15   4.0  0.104591  1.800000e+03         0     NaN   \n",
       "1        LWRLK   0.15   4.0  0.096072  1.800000e+03         0     NaN   \n",
       "2        LWRLK   0.15   4.0  0.187411  2.400000e+03         0     NaN   \n",
       "3        LWRLK   0.15   4.0  0.066257  2.000000e+03         0     NaN   \n",
       "4        LWRLK   0.15   4.0  0.049692  1.800000e+03         0     NaN   \n",
       "...        ...    ...   ...       ...           ...       ...     ...   \n",
       "2408     PQULK   0.15   4.0  0.000000  4.990000e+09         0     NaN   \n",
       "2409     PQULK   0.15   4.0  0.000000  4.990000e+09         0     NaN   \n",
       "2410     LWRLK   0.15   4.0  0.018930  1.800000e+03         0     NaN   \n",
       "2411     LWRLK   0.15   4.0  0.046853  2.400000e+03         0     NaN   \n",
       "2412     PQULK   0.15   4.0  0.000000  4.990000e+09         0     NaN   \n",
       "\n",
       "      capacity [veh]  tt_ff [min]  speed_ff[mi/hr]  ...  bus_stops  \\\n",
       "0             1800.0        0.098               45  ...        0.0   \n",
       "1             1800.0        0.169               50  ...        0.0   \n",
       "2             2400.0        0.396               65  ...        0.0   \n",
       "3             2000.0        0.192               25  ...        0.0   \n",
       "4             1800.0        0.105               35  ...        0.0   \n",
       "...              ...          ...              ...  ...        ...   \n",
       "2408             inf        0.000            99999  ...        0.0   \n",
       "2409             inf        0.000            99999  ...        0.0   \n",
       "2410          1800.0        0.045               65  ...        0.0   \n",
       "2411          2400.0        0.107               65  ...        0.0   \n",
       "2412             inf        0.000            99999  ...        0.0   \n",
       "\n",
       "     intersections  tf_inrix  high_inc  low_inc  no_incidents  no_bus_stops  \\\n",
       "0         0.111111     0.221         1        0             1             1   \n",
       "1         0.000000     0.203         1        0             0             1   \n",
       "2         0.000000     0.396         1        0             0             1   \n",
       "3         0.111111     0.140         1        0             1             1   \n",
       "4         0.111111     0.105         1        0             1             1   \n",
       "...            ...       ...       ...      ...           ...           ...   \n",
       "2408      0.000000     0.000         0        0             0             0   \n",
       "2409      0.000000     0.000         0        0             0             0   \n",
       "2410      0.111111     0.040         1        0             1             1   \n",
       "2411      0.222222     0.099         0        1             0             1   \n",
       "2412      0.000000     0.000         0        0             0             0   \n",
       "\n",
       "      no_intersections  tt_sd_adj  speed_reliability  \n",
       "0                    0   0.109299           0.703026  \n",
       "1                    1   0.071056           0.760686  \n",
       "2                    1   0.000000           0.000000  \n",
       "3                    0   0.017797           0.873536  \n",
       "4                    0   0.000000           0.000000  \n",
       "...                ...        ...                ...  \n",
       "2408                 0   0.000000           0.000000  \n",
       "2409                 0   0.000000           0.000000  \n",
       "2410                 0   0.005085           0.902381  \n",
       "2411                 0   0.004827           0.921643  \n",
       "2412                 0   0.000000           0.000000  \n",
       "\n",
       "[2413 rows x 44 columns]"
      ]
     },
     "execution_count": 17,
     "metadata": {},
     "output_type": "execute_result"
    }
   ],
   "source": [
    "summary_table_links_df = fresno_network.Z_data\n",
    "\n",
    "summary_table_links_df['tf'] = bpr_parameters_df['tf']\n",
    "\n",
    "estimation_reporter.write_table(df = fresno_network.Z_data, filename = 'links_data.csv', float_format = '%.3f')\n",
    "\n",
    "summary_table_links_df"
   ]
  },
  {
   "cell_type": "code",
   "execution_count": 18,
   "metadata": {},
   "outputs": [
    {
     "data": {
      "text/html": [
       "<div>\n",
       "<style scoped>\n",
       "    .dataframe tbody tr th:only-of-type {\n",
       "        vertical-align: middle;\n",
       "    }\n",
       "\n",
       "    .dataframe tbody tr th {\n",
       "        vertical-align: top;\n",
       "    }\n",
       "\n",
       "    .dataframe thead th {\n",
       "        text-align: right;\n",
       "    }\n",
       "</style>\n",
       "<table border=\"1\" class=\"dataframe\">\n",
       "  <thead>\n",
       "    <tr style=\"text-align: right;\">\n",
       "      <th></th>\n",
       "      <th>alpha</th>\n",
       "      <th>beta</th>\n",
       "      <th>tf</th>\n",
       "      <th>k</th>\n",
       "      <th>observed</th>\n",
       "      <th>counts</th>\n",
       "      <th>capacity [veh]</th>\n",
       "      <th>tt_ff [min]</th>\n",
       "      <th>speed_ff[mi/hr]</th>\n",
       "      <th>inrix_id</th>\n",
       "      <th>...</th>\n",
       "      <th>bus_stops</th>\n",
       "      <th>intersections</th>\n",
       "      <th>tf_inrix</th>\n",
       "      <th>high_inc</th>\n",
       "      <th>low_inc</th>\n",
       "      <th>no_incidents</th>\n",
       "      <th>no_bus_stops</th>\n",
       "      <th>no_intersections</th>\n",
       "      <th>tt_sd_adj</th>\n",
       "      <th>speed_reliability</th>\n",
       "    </tr>\n",
       "  </thead>\n",
       "  <tbody>\n",
       "    <tr>\n",
       "      <th>count</th>\n",
       "      <td>2.413000e+03</td>\n",
       "      <td>2413.0</td>\n",
       "      <td>2413.000000</td>\n",
       "      <td>2.413000e+03</td>\n",
       "      <td>2413.000000</td>\n",
       "      <td>141.000000</td>\n",
       "      <td>2413.0</td>\n",
       "      <td>2413.000000</td>\n",
       "      <td>2413.000000</td>\n",
       "      <td>1.468000e+03</td>\n",
       "      <td>...</td>\n",
       "      <td>2413.000000</td>\n",
       "      <td>2413.000000</td>\n",
       "      <td>2413.000000</td>\n",
       "      <td>2413.000000</td>\n",
       "      <td>2413.000000</td>\n",
       "      <td>2413.000000</td>\n",
       "      <td>2413.000000</td>\n",
       "      <td>2413.000000</td>\n",
       "      <td>2413.000000</td>\n",
       "      <td>2413.000000</td>\n",
       "    </tr>\n",
       "    <tr>\n",
       "      <th>mean</th>\n",
       "      <td>1.500000e-01</td>\n",
       "      <td>4.0</td>\n",
       "      <td>0.075482</td>\n",
       "      <td>1.439305e+09</td>\n",
       "      <td>0.058433</td>\n",
       "      <td>2213.607801</td>\n",
       "      <td>inf</td>\n",
       "      <td>0.150823</td>\n",
       "      <td>28872.664318</td>\n",
       "      <td>9.131292e+08</td>\n",
       "      <td>...</td>\n",
       "      <td>0.037505</td>\n",
       "      <td>0.097389</td>\n",
       "      <td>0.159494</td>\n",
       "      <td>0.525073</td>\n",
       "      <td>0.186490</td>\n",
       "      <td>0.639867</td>\n",
       "      <td>0.587236</td>\n",
       "      <td>0.239536</td>\n",
       "      <td>0.046804</td>\n",
       "      <td>0.457985</td>\n",
       "    </tr>\n",
       "    <tr>\n",
       "      <th>std</th>\n",
       "      <td>2.776133e-17</td>\n",
       "      <td>0.0</td>\n",
       "      <td>0.085996</td>\n",
       "      <td>2.261116e+09</td>\n",
       "      <td>0.234610</td>\n",
       "      <td>849.965115</td>\n",
       "      <td>NaN</td>\n",
       "      <td>0.172458</td>\n",
       "      <td>45293.922006</td>\n",
       "      <td>6.019207e+08</td>\n",
       "      <td>...</td>\n",
       "      <td>0.110321</td>\n",
       "      <td>0.146641</td>\n",
       "      <td>0.181710</td>\n",
       "      <td>0.499474</td>\n",
       "      <td>0.389582</td>\n",
       "      <td>0.480138</td>\n",
       "      <td>0.492433</td>\n",
       "      <td>0.426889</td>\n",
       "      <td>0.071903</td>\n",
       "      <td>0.392510</td>\n",
       "    </tr>\n",
       "    <tr>\n",
       "      <th>min</th>\n",
       "      <td>1.500000e-01</td>\n",
       "      <td>4.0</td>\n",
       "      <td>0.000000</td>\n",
       "      <td>1.800000e+03</td>\n",
       "      <td>0.000000</td>\n",
       "      <td>111.000000</td>\n",
       "      <td>1800.0</td>\n",
       "      <td>0.000000</td>\n",
       "      <td>15.000000</td>\n",
       "      <td>1.685461e+08</td>\n",
       "      <td>...</td>\n",
       "      <td>0.000000</td>\n",
       "      <td>0.000000</td>\n",
       "      <td>0.000000</td>\n",
       "      <td>0.000000</td>\n",
       "      <td>0.000000</td>\n",
       "      <td>0.000000</td>\n",
       "      <td>0.000000</td>\n",
       "      <td>0.000000</td>\n",
       "      <td>0.000000</td>\n",
       "      <td>0.000000</td>\n",
       "    </tr>\n",
       "    <tr>\n",
       "      <th>25%</th>\n",
       "      <td>1.500000e-01</td>\n",
       "      <td>4.0</td>\n",
       "      <td>0.000000</td>\n",
       "      <td>1.800000e+03</td>\n",
       "      <td>0.000000</td>\n",
       "      <td>1698.000000</td>\n",
       "      <td>1800.0</td>\n",
       "      <td>0.000000</td>\n",
       "      <td>40.000000</td>\n",
       "      <td>4.416712e+08</td>\n",
       "      <td>...</td>\n",
       "      <td>0.000000</td>\n",
       "      <td>0.000000</td>\n",
       "      <td>0.000000</td>\n",
       "      <td>0.000000</td>\n",
       "      <td>0.000000</td>\n",
       "      <td>0.000000</td>\n",
       "      <td>0.000000</td>\n",
       "      <td>0.000000</td>\n",
       "      <td>0.000000</td>\n",
       "      <td>0.000000</td>\n",
       "    </tr>\n",
       "    <tr>\n",
       "      <th>50%</th>\n",
       "      <td>1.500000e-01</td>\n",
       "      <td>4.0</td>\n",
       "      <td>0.057738</td>\n",
       "      <td>1.800000e+03</td>\n",
       "      <td>0.000000</td>\n",
       "      <td>2101.000000</td>\n",
       "      <td>1800.0</td>\n",
       "      <td>0.121000</td>\n",
       "      <td>45.000000</td>\n",
       "      <td>4.498919e+08</td>\n",
       "      <td>...</td>\n",
       "      <td>0.000000</td>\n",
       "      <td>0.000000</td>\n",
       "      <td>0.122000</td>\n",
       "      <td>1.000000</td>\n",
       "      <td>0.000000</td>\n",
       "      <td>1.000000</td>\n",
       "      <td>1.000000</td>\n",
       "      <td>0.000000</td>\n",
       "      <td>0.017366</td>\n",
       "      <td>0.674230</td>\n",
       "    </tr>\n",
       "    <tr>\n",
       "      <th>75%</th>\n",
       "      <td>1.500000e-01</td>\n",
       "      <td>4.0</td>\n",
       "      <td>0.106484</td>\n",
       "      <td>4.990000e+09</td>\n",
       "      <td>0.000000</td>\n",
       "      <td>2717.000000</td>\n",
       "      <td>NaN</td>\n",
       "      <td>0.205000</td>\n",
       "      <td>99999.000000</td>\n",
       "      <td>1.626675e+09</td>\n",
       "      <td>...</td>\n",
       "      <td>0.000000</td>\n",
       "      <td>0.111111</td>\n",
       "      <td>0.225000</td>\n",
       "      <td>1.000000</td>\n",
       "      <td>0.000000</td>\n",
       "      <td>1.000000</td>\n",
       "      <td>1.000000</td>\n",
       "      <td>0.000000</td>\n",
       "      <td>0.071056</td>\n",
       "      <td>0.809949</td>\n",
       "    </tr>\n",
       "    <tr>\n",
       "      <th>max</th>\n",
       "      <td>1.500000e-01</td>\n",
       "      <td>4.0</td>\n",
       "      <td>1.000000</td>\n",
       "      <td>4.990000e+09</td>\n",
       "      <td>1.000000</td>\n",
       "      <td>4807.000000</td>\n",
       "      <td>inf</td>\n",
       "      <td>2.113000</td>\n",
       "      <td>99999.000000</td>\n",
       "      <td>1.626774e+09</td>\n",
       "      <td>...</td>\n",
       "      <td>1.000000</td>\n",
       "      <td>1.000000</td>\n",
       "      <td>2.113000</td>\n",
       "      <td>1.000000</td>\n",
       "      <td>1.000000</td>\n",
       "      <td>1.000000</td>\n",
       "      <td>1.000000</td>\n",
       "      <td>1.000000</td>\n",
       "      <td>1.000000</td>\n",
       "      <td>1.000000</td>\n",
       "    </tr>\n",
       "  </tbody>\n",
       "</table>\n",
       "<p>8 rows × 42 columns</p>\n",
       "</div>"
      ],
      "text/plain": [
       "              alpha    beta           tf             k     observed  \\\n",
       "count  2.413000e+03  2413.0  2413.000000  2.413000e+03  2413.000000   \n",
       "mean   1.500000e-01     4.0     0.075482  1.439305e+09     0.058433   \n",
       "std    2.776133e-17     0.0     0.085996  2.261116e+09     0.234610   \n",
       "min    1.500000e-01     4.0     0.000000  1.800000e+03     0.000000   \n",
       "25%    1.500000e-01     4.0     0.000000  1.800000e+03     0.000000   \n",
       "50%    1.500000e-01     4.0     0.057738  1.800000e+03     0.000000   \n",
       "75%    1.500000e-01     4.0     0.106484  4.990000e+09     0.000000   \n",
       "max    1.500000e-01     4.0     1.000000  4.990000e+09     1.000000   \n",
       "\n",
       "            counts  capacity [veh]  tt_ff [min]  speed_ff[mi/hr]  \\\n",
       "count   141.000000          2413.0  2413.000000      2413.000000   \n",
       "mean   2213.607801             inf     0.150823     28872.664318   \n",
       "std     849.965115             NaN     0.172458     45293.922006   \n",
       "min     111.000000          1800.0     0.000000        15.000000   \n",
       "25%    1698.000000          1800.0     0.000000        40.000000   \n",
       "50%    2101.000000          1800.0     0.121000        45.000000   \n",
       "75%    2717.000000             NaN     0.205000     99999.000000   \n",
       "max    4807.000000             inf     2.113000     99999.000000   \n",
       "\n",
       "           inrix_id  ...    bus_stops  intersections     tf_inrix  \\\n",
       "count  1.468000e+03  ...  2413.000000    2413.000000  2413.000000   \n",
       "mean   9.131292e+08  ...     0.037505       0.097389     0.159494   \n",
       "std    6.019207e+08  ...     0.110321       0.146641     0.181710   \n",
       "min    1.685461e+08  ...     0.000000       0.000000     0.000000   \n",
       "25%    4.416712e+08  ...     0.000000       0.000000     0.000000   \n",
       "50%    4.498919e+08  ...     0.000000       0.000000     0.122000   \n",
       "75%    1.626675e+09  ...     0.000000       0.111111     0.225000   \n",
       "max    1.626774e+09  ...     1.000000       1.000000     2.113000   \n",
       "\n",
       "          high_inc      low_inc  no_incidents  no_bus_stops  no_intersections  \\\n",
       "count  2413.000000  2413.000000   2413.000000   2413.000000       2413.000000   \n",
       "mean      0.525073     0.186490      0.639867      0.587236          0.239536   \n",
       "std       0.499474     0.389582      0.480138      0.492433          0.426889   \n",
       "min       0.000000     0.000000      0.000000      0.000000          0.000000   \n",
       "25%       0.000000     0.000000      0.000000      0.000000          0.000000   \n",
       "50%       1.000000     0.000000      1.000000      1.000000          0.000000   \n",
       "75%       1.000000     0.000000      1.000000      1.000000          0.000000   \n",
       "max       1.000000     1.000000      1.000000      1.000000          1.000000   \n",
       "\n",
       "         tt_sd_adj  speed_reliability  \n",
       "count  2413.000000        2413.000000  \n",
       "mean      0.046804           0.457985  \n",
       "std       0.071903           0.392510  \n",
       "min       0.000000           0.000000  \n",
       "25%       0.000000           0.000000  \n",
       "50%       0.017366           0.674230  \n",
       "75%       0.071056           0.809949  \n",
       "max       1.000000           1.000000  \n",
       "\n",
       "[8 rows x 42 columns]"
      ]
     },
     "execution_count": 18,
     "metadata": {},
     "output_type": "execute_result"
    }
   ],
   "source": [
    "summary_table_links_df.describe()"
   ]
  },
  {
   "cell_type": "markdown",
   "metadata": {
    "pycharm": {
     "name": "#%% md\n"
    }
   },
   "source": [
    "### Correlation between features"
   ]
  },
  {
   "cell_type": "code",
   "execution_count": 19,
   "metadata": {
    "pycharm": {
     "name": "#%%\n"
    }
   },
   "outputs": [
    {
     "data": {
      "image/png": "[encoded data removed]",
      "text/plain": [
       "<Figure size 1008x864 with 27 Axes>"
      ]
     },
     "metadata": {
      "needs_background": "light"
     },
     "output_type": "display_data"
    }
   ],
   "source": [
    "scatter_fig = isl.descriptive_statistics.scatter_plots_features(\n",
    "    links_df= summary_table_links_df,\n",
    "    features = {'tf': 'travel time', 'tt_cv': 'cv of travel time',\n",
    "                'median_inc': 'median income', 'incidents': 'incidents', 'bus_stops': 'bus stops',\n",
    "                'intersections': 'intersections'})\n",
    "\n",
    "scatter_fig.savefig(estimation_reporter.dirs['estimation_folder'] + '/' + 'features_correlations_plot.pdf',\n",
    "            pad_inches=0.1, bbox_inches=\"tight\")"
   ]
  },
  {
   "cell_type": "markdown",
   "metadata": {
    "pycharm": {
     "name": "#%% md\n"
    }
   },
   "source": [
    "### Release memory"
   ]
  },
  {
   "cell_type": "code",
   "execution_count": 20,
   "metadata": {
    "pycharm": {
     "name": "#%%\n"
    }
   },
   "outputs": [],
   "source": [
    "del counts_df\n",
    "del bpr_parameters_df\n",
    "del summary_table_links_df\n",
    "del scatter_fig"
   ]
  },
  {
   "cell_type": "markdown",
   "metadata": {},
   "source": [
    "## Bilevel Estimation"
   ]
  },
  {
   "cell_type": "code",
   "execution_count": 21,
   "metadata": {},
   "outputs": [],
   "source": [
    "utility_function = isl.estimation.UtilityFunction(\n",
    "    features_Y=['tt'],\n",
    "    initial_values={'tt': 0},\n",
    ")\n",
    "\n",
    "equilibrator_norefined = isl.equilibrium.LUE_Equilibrator(\n",
    "    network=fresno_network,\n",
    "    paths_generator=paths_generator,\n",
    "    utility_function=utility_function,\n",
    "    max_iters=100,\n",
    "    method='fw',\n",
    "    iters_fw=10,\n",
    "    column_generation={'n_paths': 28, 'ods_coverage': 0.2, 'paths_selection': 7, 'ods_sampling': 'sequential'},\n",
    "    # column_generation={'n_paths': 18, 'ods_coverage': 0.25, 'paths_selection': None, 'ods_sampling': 'demand'},\n",
    "    path_size_correction=10\n",
    ")\n",
    "\n",
    "outer_optimizer_norefined = isl.estimation.OuterOptimizer(\n",
    "    method='ngd',\n",
    "    iters=1,\n",
    "    eta=5e-1,\n",
    ")\n",
    "\n",
    "learner_norefined = isl.estimation.Learner(\n",
    "    equilibrator=equilibrator_norefined,\n",
    "    outer_optimizer=outer_optimizer_norefined,\n",
    "    utility_function=utility_function,\n",
    "    network=fresno_network,\n",
    "    name = 'norefined'\n",
    ")\n",
    "\n",
    "equilibrator_refined = isl.equilibrium.LUE_Equilibrator(\n",
    "    network=fresno_network,\n",
    "    paths_generator=paths_generator,\n",
    "    utility_function=utility_function,\n",
    "    max_iters=100,\n",
    "    method='fw',\n",
    "    iters_fw=10,\n",
    "    column_generation={'n_paths': 28, 'ods_coverage': 0.2, 'paths_selection': 7, 'ods_sampling': 'sequential'},\n",
    "    # column_generation={'n_paths': 12, 'ods_coverage': 0.1, 'paths_selection': None},\n",
    "    path_size_correction=10\n",
    ")\n",
    "\n",
    "outer_optimizer_refined = isl.estimation.OuterOptimizer(\n",
    "    method='lm',\n",
    "    # method='ngd',\n",
    "    iters=1,\n",
    "    # eta=1e-1,\n",
    ")\n",
    "\n",
    "learner_refined = isl.estimation.Learner(\n",
    "    network=fresno_network,\n",
    "    equilibrator=equilibrator_refined,\n",
    "    outer_optimizer=outer_optimizer_refined,\n",
    "    utility_function=utility_function,\n",
    "    name = 'refined'\n",
    ")"
   ]
  },
  {
   "cell_type": "markdown",
   "metadata": {},
   "source": [
    "### a) Benchmark predictions"
   ]
  },
  {
   "cell_type": "markdown",
   "metadata": {},
   "source": [
    "#### Naive prediction using mean counts"
   ]
  },
  {
   "cell_type": "code",
   "execution_count": 22,
   "metadata": {},
   "outputs": [
    {
     "name": "stdout",
     "output_type": "stream",
     "text": [
      "\n",
      "Objective function under mean count prediction: 101,141,667.7\n"
     ]
    }
   ],
   "source": [
    "mean_counts_prediction_loss, mean_count_benchmark_model \\\n",
    "    = isl.estimation.mean_count_prediction(counts=fresno_network.observed_counts_vector)\n",
    "\n",
    "print('\\nObjective function under mean count prediction: ' + '{:,}'.format(round(mean_counts_prediction_loss, 1)))"
   ]
  },
  {
   "cell_type": "markdown",
   "metadata": {},
   "source": [
    "#### Naive prediction where travelers make equilikely choices"
   ]
  },
  {
   "cell_type": "code",
   "execution_count": 23,
   "metadata": {},
   "outputs": [
    {
     "name": "stdout",
     "output_type": "stream",
     "text": [
      "Objective function under equilikely route choices: 279,378,072.3\n"
     ]
    }
   ],
   "source": [
    "equilikely_prediction_loss, predicted_counts_equilikely \\\n",
    "    = isl.estimation.loss_counts_equilikely_choices(\n",
    "    network = fresno_network,\n",
    "    equilibrator=equilibrator_norefined,\n",
    "    counts=fresno_network.observed_counts_vector,\n",
    "    utility_function=utility_function)\n",
    "\n",
    "print('Objective function under equilikely route choices: ' + '{:,}'.format(round(equilikely_prediction_loss, 1)))"
   ]
  },
  {
   "cell_type": "markdown",
   "metadata": {},
   "source": [
    "### b) Model with travel time feature only"
   ]
  },
  {
   "cell_type": "markdown",
   "metadata": {},
   "source": [
    "#### No refined stage"
   ]
  },
  {
   "cell_type": "code",
   "execution_count": 24,
   "metadata": {},
   "outputs": [
    {
     "name": "stdout",
     "output_type": "stream",
     "text": [
      "\n",
      "Bilevel optimization for Fresno network \n",
      "\n",
      "Iteration : 1/10\n",
      "\n",
      "Initial theta: {'tt': '0.0E+00'}\n",
      "\n",
      "SUE via fw (max iters: 100)\n",
      "Path size correction with factor 5\n",
      "\n",
      "Equilibrium gaps: ['0E+00']\n",
      "Initial Fisk Objective: -206,280.13\n",
      "Final Fisk Objective: -206,280.13\n",
      "Improvement Fisk Objective: 0.00%\n",
      "Final gap: 0E+00. Acc. bound: 1E-04. Time: 40.7 [s]\n",
      "Initial objective: 277,478,858\n",
      "Initial RMSE: 1402.8\n",
      "Initial Normalized RMSE: 0.634\n",
      "\n",
      "Iteration : 2/10\n",
      "\n",
      "Estimating parameters via ngd (1 iters, eta = 5.0E-01)\n",
      "\n",
      "theta: {'tt': '-5.0E-01'}\n",
      "time: 25.3[s]\n",
      "\n",
      "SUE via fw (max iters: 100)\n",
      "\n",
      "Column generation: 28 paths per od, 2.0% od coverage, sequential sampling\n",
      "3198 paths added/replaced among 123 ods (New total paths: 17103)\n",
      "Path size correction with factor 5\n",
      "\n",
      "Path selection: probability_weight: 1, maximum number of paths per od: 8\n",
      "2460 paths removed among 123 ods (New total paths: 14643)\n",
      "Path size correction with factor 5\n",
      "\n",
      "Equilibrium gaps: ['3E-03', '2E-03', '7E-04', '0E+00']\n",
      "Initial Fisk Objective: -220,984.7\n",
      "Final Fisk Objective: -210,868.49\n",
      "Improvement Fisk Objective: 4.58%\n",
      "Final gap: 0E+00. Acc. bound: 1E-04. Time: 192.4 [s]\n",
      "\n",
      "Time current iteration: 217.8 [s]\n",
      "Current objective_value: 270,201,001\n",
      "Current objective improvement: 2.62%\n",
      "Current RMSE: 1384.3\n",
      "Current Normalized RMSE: 0.625\n",
      "Marginal objective improvement: 2.62%\n",
      "Marginal objective improvement value: 7,277,856.9\n",
      "\n",
      "\n",
      "Iteration : 3/10\n",
      "\n",
      "Estimating parameters via ngd (1 iters, eta = 5.0E-01)\n",
      "\n",
      "theta: {'tt': '-1.0E+00'}\n",
      "time: 29.2[s]\n",
      "\n",
      "SUE via fw (max iters: 100)\n",
      "\n",
      "Column generation: 28 paths per od, 2.0% od coverage, sequential sampling\n",
      "3614 paths added/replaced among 139 ods (New total paths: 18257)\n",
      "Path size correction with factor 5\n",
      "\n",
      "Path selection: probability_weight: 1, maximum number of paths per od: 8\n",
      "2780 paths removed among 139 ods (New total paths: 15477)\n",
      "Path size correction with factor 5\n",
      "\n",
      "Equilibrium gaps: ['9E-03', '4E-03', '5E-04', '5E-04', '6E-04', '0E+00']\n",
      "Initial Fisk Objective: -249,808.05\n",
      "Final Fisk Objective: -224,537.47\n",
      "Improvement Fisk Objective: 10.12%\n",
      "Final gap: 0E+00. Acc. bound: 1E-04. Time: 246.7 [s]\n",
      "\n",
      "Time current iteration: 276.1 [s]\n",
      "Current objective_value: 237,435,214\n",
      "Current objective improvement: 14.43%\n",
      "Current RMSE: 1297.7\n",
      "Current Normalized RMSE: 0.586\n",
      "Marginal objective improvement: 12.13%\n",
      "Marginal objective improvement value: 32,765,787.2\n",
      "\n",
      "\n",
      "Iteration : 4/10\n",
      "\n",
      "Estimating parameters via ngd (1 iters, eta = 5.0E-01)\n",
      "\n",
      "theta: {'tt': '-1.5E+00'}\n",
      "time: 34.9[s]\n",
      "\n",
      "SUE via fw (max iters: 100)\n",
      "\n",
      "Column generation: 28 paths per od, 2.0% od coverage, sequential sampling\n",
      "3588 paths added/replaced among 138 ods (New total paths: 19065)\n",
      "Path size correction with factor 5\n",
      "\n",
      "Path selection: probability_weight: 1, maximum number of paths per od: 8\n",
      "2760 paths removed among 138 ods (New total paths: 16305)\n",
      "Path size correction with factor 5\n",
      "\n",
      "Equilibrium gaps: ['1E-02', '5E-03', '1E-03', '1E-03', '9E-04', '0E+00']\n",
      "Initial Fisk Objective: -281,659.04\n",
      "Final Fisk Objective: -237,143.96\n",
      "Improvement Fisk Objective: 15.80%\n",
      "Final gap: 0E+00. Acc. bound: 1E-04. Time: 254.4 [s]\n",
      "\n",
      "Time current iteration: 289.5 [s]\n",
      "Current objective_value: 221,916,577\n",
      "Current objective improvement: 20.02%\n",
      "Current RMSE: 1254.5\n",
      "Current Normalized RMSE: 0.567\n",
      "Marginal objective improvement: 6.54%\n",
      "Marginal objective improvement value: 15,518,637.0\n",
      "\n",
      "\n",
      "Iteration : 5/10\n",
      "\n",
      "Estimating parameters via ngd (1 iters, eta = 5.0E-01)\n",
      "\n",
      "theta: {'tt': '-2.0E+00'}\n",
      "time: 45.0[s]\n",
      "\n",
      "SUE via fw (max iters: 100)\n",
      "\n",
      "Column generation: 28 paths per od, 2.0% od coverage, sequential sampling\n",
      "3614 paths added/replaced among 139 ods (New total paths: 19919)\n",
      "Path size correction with factor 5\n",
      "\n",
      "Path selection: probability_weight: 1, maximum number of paths per od: 8\n",
      "2780 paths removed among 139 ods (New total paths: 17139)\n",
      "Path size correction with factor 5\n",
      "\n",
      "Equilibrium gaps: ['1E-02', '2E-02', '1E-03', '0E+00']\n",
      "Initial Fisk Objective: -316,994.04\n",
      "Final Fisk Objective: -248,663.33\n",
      "Improvement Fisk Objective: 21.56%\n",
      "Final gap: 0E+00. Acc. bound: 1E-04. Time: 217.8 [s]\n",
      "\n",
      "Time current iteration: 263.1 [s]\n",
      "Current objective_value: 211,410,975\n",
      "Current objective improvement: 23.81%\n",
      "Current RMSE: 1224.5\n",
      "Current Normalized RMSE: 0.553\n",
      "Marginal objective improvement: 4.73%\n",
      "Marginal objective improvement value: 10,505,602.0\n",
      "\n",
      "\n",
      "Iteration : 6/10\n",
      "\n",
      "Estimating parameters via ngd (1 iters, eta = 5.0E-01)\n",
      "\n",
      "theta: {'tt': '-2.5E+00'}\n",
      "time: 37.6[s]\n",
      "\n",
      "SUE via fw (max iters: 100)\n",
      "\n",
      "Column generation: 28 paths per od, 2.0% od coverage, sequential sampling\n",
      "3640 paths added/replaced among 140 ods (New total paths: 20779)\n",
      "Path size correction with factor 5\n",
      "\n",
      "Path selection: probability_weight: 1, maximum number of paths per od: 8\n",
      "2800 paths removed among 140 ods (New total paths: 17979)\n",
      "Path size correction with factor 5\n",
      "\n",
      "Equilibrium gaps: ['2E-02', '2E-02', '1E-03', '0E+00']\n",
      "Initial Fisk Objective: -355,113.59\n",
      "Final Fisk Objective: -259,418.98\n",
      "Improvement Fisk Objective: 26.95%\n",
      "Final gap: 0E+00. Acc. bound: 1E-04. Time: 234.1 [s]\n",
      "\n",
      "Time current iteration: 272.0 [s]\n",
      "Current objective_value: 203,343,508\n",
      "Current objective improvement: 26.72%\n",
      "Current RMSE: 1200.9\n",
      "Current Normalized RMSE: 0.543\n",
      "Marginal objective improvement: 3.82%\n",
      "Marginal objective improvement value: 8,067,467.3\n",
      "\n",
      "\n",
      "Iteration : 7/10\n",
      "\n",
      "Estimating parameters via ngd (1 iters, eta = 5.0E-01)\n",
      "\n",
      "theta: {'tt': '-3.0E+00'}\n",
      "time: 48.3[s]\n",
      "\n",
      "SUE via fw (max iters: 100)\n",
      "\n",
      "Column generation: 28 paths per od, 2.0% od coverage, sequential sampling\n",
      "3614 paths added/replaced among 139 ods (New total paths: 21593)\n",
      "Path size correction with factor 5\n",
      "\n",
      "Path selection: probability_weight: 1, maximum number of paths per od: 8\n",
      "2780 paths removed among 139 ods (New total paths: 18813)\n",
      "Path size correction with factor 5\n",
      "\n",
      "Equilibrium gaps: ['2E-02', '2E-02', '2E-03', '0E+00']\n",
      "Initial Fisk Objective: -398,851.53\n",
      "Final Fisk Objective: -270,565.64\n",
      "Improvement Fisk Objective: 32.16%\n",
      "Final gap: 0E+00. Acc. bound: 1E-04. Time: 244.4 [s]\n",
      "\n",
      "Time current iteration: 292.9 [s]\n",
      "Current objective_value: 200,515,909\n",
      "Current objective improvement: 27.74%\n",
      "Current RMSE: 1192.5\n",
      "Current Normalized RMSE: 0.539\n",
      "Marginal objective improvement: 1.39%\n",
      "Marginal objective improvement value: 2,827,598.9\n",
      "\n",
      "\n",
      "Iteration : 8/10\n",
      "\n",
      "Estimating parameters via ngd (1 iters, eta = 5.0E-01)\n",
      "\n",
      "theta: {'tt': '-3.5E+00'}\n",
      "time: 58.2[s]\n",
      "\n",
      "SUE via fw (max iters: 100)\n",
      "\n",
      "Column generation: 28 paths per od, 2.0% od coverage, sequential sampling\n",
      "3588 paths added/replaced among 138 ods (New total paths: 22401)\n",
      "Path size correction with factor 5\n",
      "\n",
      "Path selection: probability_weight: 1, maximum number of paths per od: 8\n",
      "2760 paths removed among 138 ods (New total paths: 19641)\n",
      "Path size correction with factor 5\n",
      "\n",
      "Equilibrium gaps: ['2E-02', '2E-02', '3E-03', '0E+00']\n",
      "Initial Fisk Objective: -448,064.97\n",
      "Final Fisk Objective: -281,096.94\n",
      "Improvement Fisk Objective: 37.26%\n",
      "Final gap: 0E+00. Acc. bound: 1E-04. Time: 272.2 [s]\n",
      "\n",
      "Time current iteration: 330.6 [s]\n",
      "Current objective_value: 198,524,131\n",
      "Current objective improvement: 28.45%\n",
      "Current RMSE: 1186.6\n",
      "Current Normalized RMSE: 0.536\n",
      "Marginal objective improvement: 0.99%\n",
      "Marginal objective improvement value: 1,991,778.0\n",
      "\n",
      "\n",
      "Iteration : 9/10\n",
      "\n",
      "Estimating parameters via ngd (1 iters, eta = 5.0E-01)\n",
      "\n",
      "theta: {'tt': '-4.0E+00'}\n",
      "time: 73.4[s]\n",
      "\n",
      "SUE via fw (max iters: 100)\n",
      "\n",
      "Column generation: 28 paths per od, 2.0% od coverage, sequential sampling\n",
      "3640 paths added/replaced among 140 ods (New total paths: 23281)\n",
      "Path size correction with factor 5\n",
      "\n",
      "Path selection: probability_weight: 1, maximum number of paths per od: 8\n",
      "2800 paths removed among 140 ods (New total paths: 20481)\n",
      "Path size correction with factor 5\n",
      "\n",
      "Equilibrium gaps: ['3E-02', '1E-02', '8E-03', '3E-03', '0E+00']\n",
      "Initial Fisk Objective: -500,314.69\n",
      "Final Fisk Objective: -292,026.55\n",
      "Improvement Fisk Objective: 41.63%\n",
      "Final gap: 0E+00. Acc. bound: 1E-04. Time: 322.2 [s]\n",
      "\n",
      "Time current iteration: 395.9 [s]\n",
      "Current objective_value: 196,827,453\n",
      "Current objective improvement: 29.07%\n",
      "Current RMSE: 1181.5\n",
      "Current Normalized RMSE: 0.534\n",
      "Marginal objective improvement: 0.85%\n",
      "Marginal objective improvement value: 1,696,677.7\n",
      "\n",
      "\n",
      "Iteration : 10/10\n",
      "\n",
      "Estimating parameters via ngd (1 iters, eta = 5.0E-01)\n",
      "\n",
      "theta: {'tt': '-4.5E+00'}\n",
      "time: 83.2[s]\n",
      "\n",
      "SUE via fw (max iters: 100)\n"
     ]
    },
    {
     "name": "stdout",
     "output_type": "stream",
     "text": [
      "Path size correction with factor 5\n",
      "\n",
      "Equilibrium gaps: ['4E-02', '9E-03', '6E-03', '2E-03', '3E-04', '1E-03', '0E+00']\n",
      "Initial Fisk Objective: -559,057.22\n",
      "Final Fisk Objective: -305,249.19\n",
      "Improvement Fisk Objective: 45.40%\n",
      "Final gap: 0E+00. Acc. bound: 1E-04. Time: 252.2 [s]\n",
      "\n",
      "Time current iteration: 335.7 [s]\n",
      "Current objective_value: 196,959,013\n",
      "Current objective improvement: 29.07%\n",
      "Current RMSE: 1181.9\n",
      "Current Normalized RMSE: 0.534\n",
      "Marginal objective improvement: -0.07%\n",
      "Marginal objective improvement value: -131,559.4\n",
      "\n",
      "Summary results of bilevel optimization\n",
      "best iter: 9\n",
      "best theta: {'tt': '-4.0E+00'}\n",
      "best objective_value: 196,827,453\n",
      "Final best objective improvement: 29.07%\n",
      "Final best objective improvement value: 80,651,405.1\n",
      "Best RMSE: 1181.5\n",
      "Best Normalized RMSE: 0.534\n",
      "Total time: 2676.9 [s]\n",
      "\n",
      "Hypothesis testing (H0: theta = 0, alpha = 0.05, n = 141)\n",
      "\n",
      "Hessian approximated as J^T J\n",
      "\n",
      " parameter    est               CI  width_CI  t-test  p-value\n",
      "       tt -4.000 [-7.299, -0.701]     3.299  -2.397    0.018\n",
      "\n",
      "Computing F-test\n",
      "      F  critical-F     p  dof_m1  dof_m2        sse_m1        sse_m2   n\n",
      "105.628       3.909 0.000       0       1 352592464.171 200966620.361 141\n",
      "Time: 102.7[s]\n"
     ]
    }
   ],
   "source": [
    "learning_results_norefined_traveltime_model, inference_results_norefined_traveltime_model, best_iter_norefined_traveltime_model = \\\n",
    "    learner_norefined.statistical_inference(h0=0, bilevel_iters=10, alpha=0.05, link_report=False, iteration_report = True)\n",
    "\n",
    "theta_norefined_traveltime_model = learning_results_norefined_traveltime_model[best_iter_norefined_traveltime_model]['theta']"
   ]
  },
  {
   "cell_type": "markdown",
   "metadata": {},
   "source": [
    "#### Refined stage"
   ]
  },
  {
   "cell_type": "code",
   "execution_count": 25,
   "metadata": {},
   "outputs": [
    {
     "name": "stdout",
     "output_type": "stream",
     "text": [
      "\n",
      "Bilevel optimization for Fresno network \n",
      "\n",
      "Iteration : 1/10\n",
      "\n",
      "Initial theta: {'tt': '-4.0E+00'}\n",
      "\n",
      "SUE via fw (max iters: 100)\n",
      "Path size correction with factor 5\n",
      "\n",
      "Equilibrium gaps: ['3E-02', '1E-02', '8E-03', '3E-03', '0E+00']\n",
      "Initial Fisk Objective: -500,314.69\n",
      "Final Fisk Objective: -292,026.55\n",
      "Improvement Fisk Objective: 41.63%\n",
      "Final gap: 0E+00. Acc. bound: 1E-04. Time: 209.7 [s]\n",
      "Initial objective: 196,827,453\n",
      "Initial RMSE: 1181.5\n",
      "Initial Normalized RMSE: 0.534\n",
      "\n",
      "Iteration : 2/10\n",
      "\n",
      "Estimating parameters via lm (1 iters)\n",
      "\n",
      "Damping factors: ['1.0E-02']\n",
      "theta: {'tt': '-5.0E+00'}\n",
      "time: 95.4[s]\n",
      "\n",
      "SUE via fw (max iters: 100)\n",
      "\n",
      "Column generation: 20 paths per od, 2.0% od coverage, sequential sampling\n",
      "1877 paths added/replaced among 123 ods (New total paths: 22358)\n",
      "Path size correction with factor 5\n",
      "\n",
      "Path selection: probability_weight: 1, maximum number of paths per od: 10\n",
      "1631 paths removed among 123 ods (New total paths: 20727)\n",
      "Path size correction with factor 5\n",
      "\n",
      "Equilibrium gaps: ['8E-03', '0E+00']\n",
      "Initial Fisk Objective: -314,224.78\n",
      "Final Fisk Objective: -286,224.24\n",
      "Improvement Fisk Objective: 8.91%\n",
      "Final gap: 0E+00. Acc. bound: 1E-04. Time: 228.1 [s]\n",
      "\n",
      "Time current iteration: 323.8 [s]\n",
      "Current objective_value: 190,609,237\n",
      "Current objective improvement: 3.16%\n",
      "Current RMSE: 1162.7\n",
      "Current Normalized RMSE: 0.525\n",
      "Marginal objective improvement: 3.16%\n",
      "Marginal objective improvement value: 6,218,216.5\n",
      "\n",
      "\n",
      "Iteration : 3/10\n",
      "\n",
      "Estimating parameters via lm (1 iters)\n",
      "\n",
      "Damping factors: ['1.0E-02']\n",
      "theta: {'tt': '-1.9E+00'}\n",
      "time: 96.9[s]\n",
      "\n",
      "SUE via fw (max iters: 100)\n",
      "\n",
      "Column generation: 20 paths per od, 2.0% od coverage, sequential sampling\n",
      "2125 paths added/replaced among 139 ods (New total paths: 22852)\n",
      "Path size correction with factor 5\n",
      "\n",
      "Path selection: probability_weight: 1, maximum number of paths per od: 10\n",
      "1847 paths removed among 139 ods (New total paths: 21005)\n",
      "Path size correction with factor 5\n",
      "\n",
      "Equilibrium gaps: ['3E-03', '1E-03', '0E+00']\n",
      "Initial Fisk Objective: -238,473.11\n",
      "Final Fisk Objective: -215,360.25\n",
      "Improvement Fisk Objective: 9.69%\n",
      "Final gap: 0E+00. Acc. bound: 1E-04. Time: 253.7 [s]\n",
      "\n",
      "Time current iteration: 350.9 [s]\n",
      "Current objective_value: 188,451,133\n",
      "Current objective improvement: 4.26%\n",
      "Current RMSE: 1156.1\n",
      "Current Normalized RMSE: 0.522\n",
      "Marginal objective improvement: 1.13%\n",
      "Marginal objective improvement value: 2,158,103.7\n",
      "\n",
      "\n",
      "Iteration : 4/10\n",
      "\n",
      "Estimating parameters via lm (1 iters)\n",
      "\n",
      "Damping factors: ['1.0E-02']\n",
      "theta: {'tt': '-1.9E+00'}\n",
      "time: 107.7[s]\n",
      "\n",
      "SUE via fw (max iters: 100)\n",
      "\n",
      "Column generation: 20 paths per od, 2.0% od coverage, sequential sampling\n",
      "2052 paths added/replaced among 138 ods (New total paths: 23057)\n",
      "Path size correction with factor 5\n",
      "\n",
      "Path selection: probability_weight: 1, maximum number of paths per od: 10\n",
      "1776 paths removed among 138 ods (New total paths: 21281)\n",
      "Path size correction with factor 5\n",
      "\n",
      "Equilibrium gaps: ['3E-03', '2E-03', '0E+00']\n",
      "Initial Fisk Objective: -239,161.15\n",
      "Final Fisk Objective: -216,148.52\n",
      "Improvement Fisk Objective: 9.62%\n",
      "Final gap: 0E+00. Acc. bound: 1E-04. Time: 291.1 [s]\n",
      "\n",
      "Time current iteration: 399.3 [s]\n",
      "Current objective_value: 188,055,621\n",
      "Current objective improvement: 4.46%\n",
      "Current RMSE: 1154.9\n",
      "Current Normalized RMSE: 0.522\n",
      "Marginal objective improvement: 0.21%\n",
      "Marginal objective improvement value: 395,512.2\n",
      "\n",
      "\n",
      "Iteration : 5/10\n",
      "\n",
      "Estimating parameters via lm (1 iters)\n",
      "\n",
      "Damping factors: ['1.0E-02']\n",
      "theta: {'tt': '-2.0E+00'}\n",
      "time: 136.7[s]\n",
      "\n",
      "SUE via fw (max iters: 100)\n",
      "\n",
      "Column generation: 20 paths per od, 2.0% od coverage, sequential sampling\n",
      "2061 paths added/replaced among 139 ods (New total paths: 23342)\n",
      "Path size correction with factor 5\n",
      "\n",
      "Path selection: probability_weight: 1, maximum number of paths per od: 10\n",
      "1783 paths removed among 139 ods (New total paths: 21559)\n",
      "Path size correction with factor 5\n",
      "\n",
      "Equilibrium gaps: ['4E-03', '2E-03', '0E+00']\n",
      "Initial Fisk Objective: -239,307.59\n",
      "Final Fisk Objective: -216,295.99\n",
      "Improvement Fisk Objective: 9.62%\n",
      "Final gap: 0E+00. Acc. bound: 1E-04. Time: 277.4 [s]\n",
      "\n",
      "Time current iteration: 414.5 [s]\n",
      "Current objective_value: 188,115,889\n",
      "Current objective improvement: 4.46%\n",
      "Current RMSE: 1155.1\n",
      "Current Normalized RMSE: 0.522\n",
      "Marginal objective improvement: -0.03%\n",
      "Marginal objective improvement value: -60,268.0\n",
      "\n",
      "\n",
      "Iteration : 6/10\n",
      "\n",
      "Estimating parameters via lm (1 iters)\n",
      "\n",
      "Damping factors: ['1.0E-02']\n",
      "theta: {'tt': '-2.0E+00'}\n",
      "time: 122.2[s]\n",
      "\n",
      "SUE via fw (max iters: 100)\n",
      "\n",
      "Column generation: 20 paths per od, 2.0% od coverage, sequential sampling\n",
      "2048 paths added/replaced among 140 ods (New total paths: 23607)\n",
      "Path size correction with factor 5\n",
      "\n",
      "Path selection: probability_weight: 1, maximum number of paths per od: 10\n",
      "1768 paths removed among 140 ods (New total paths: 21839)\n",
      "Path size correction with factor 5\n",
      "\n",
      "Equilibrium gaps: ['4E-03', '2E-03', '0E+00']\n",
      "Initial Fisk Objective: -239,790.79\n",
      "Final Fisk Objective: -216,472.51\n",
      "Improvement Fisk Objective: 9.72%\n",
      "Final gap: 0E+00. Acc. bound: 1E-04. Time: 278.3 [s]\n",
      "\n",
      "Time current iteration: 400.8 [s]\n",
      "Current objective_value: 188,300,768\n",
      "Current objective improvement: 4.46%\n",
      "Current RMSE: 1155.6\n",
      "Current Normalized RMSE: 0.522\n",
      "Marginal objective improvement: -0.10%\n",
      "Marginal objective improvement value: -184,879.3\n",
      "\n",
      "\n",
      "Iteration : 7/10\n",
      "\n",
      "Estimating parameters via lm (1 iters)\n",
      "\n",
      "Damping factors: ['1.0E-02']\n",
      "theta: {'tt': '-2.1E+00'}\n",
      "time: 128.3[s]\n",
      "\n",
      "SUE via fw (max iters: 100)\n",
      "\n",
      "Column generation: 20 paths per od, 2.0% od coverage, sequential sampling\n",
      "1965 paths added/replaced among 139 ods (New total paths: 23804)\n",
      "Path size correction with factor 5\n",
      "\n",
      "Path selection: probability_weight: 1, maximum number of paths per od: 10\n",
      "1687 paths removed among 139 ods (New total paths: 22117)\n",
      "Path size correction with factor 5\n",
      "\n",
      "Equilibrium gaps: ['4E-03', '2E-03', '0E+00']\n",
      "Initial Fisk Objective: -240,581.97\n",
      "Final Fisk Objective: -218,033.45\n",
      "Improvement Fisk Objective: 9.37%\n",
      "Final gap: 0E+00. Acc. bound: 1E-04. Time: 293.9 [s]\n",
      "\n",
      "Time current iteration: 422.6 [s]\n",
      "Current objective_value: 188,088,549\n",
      "Current objective improvement: 4.46%\n",
      "Current RMSE: 1155.0\n",
      "Current Normalized RMSE: 0.522\n",
      "Marginal objective improvement: 0.11%\n",
      "Marginal objective improvement value: 212,218.8\n",
      "\n",
      "\n",
      "Iteration : 8/10\n",
      "\n",
      "Estimating parameters via lm (1 iters)\n",
      "\n",
      "Damping factors: ['1.0E-02']\n",
      "theta: {'tt': '-2.1E+00'}\n",
      "time: 119.4[s]\n",
      "\n",
      "SUE via fw (max iters: 100)\n",
      "\n",
      "Column generation: 20 paths per od, 2.0% od coverage, sequential sampling\n",
      "1960 paths added/replaced among 138 ods (New total paths: 24077)\n",
      "Path size correction with factor 5\n",
      "\n",
      "Path selection: probability_weight: 1, maximum number of paths per od: 10\n",
      "1684 paths removed among 138 ods (New total paths: 22393)\n",
      "Path size correction with factor 5\n",
      "\n",
      "Equilibrium gaps: ['5E-03', '2E-03', '0E+00']\n",
      "Initial Fisk Objective: -241,113.36\n",
      "Final Fisk Objective: -218,764.51\n",
      "Improvement Fisk Objective: 9.27%\n",
      "Final gap: 0E+00. Acc. bound: 1E-04. Time: 310.9 [s]\n",
      "\n",
      "Time current iteration: 430.7 [s]\n",
      "Current objective_value: 188,092,494\n",
      "Current objective improvement: 4.46%\n",
      "Current RMSE: 1155.0\n",
      "Current Normalized RMSE: 0.522\n",
      "Marginal objective improvement: -0.00%\n",
      "Marginal objective improvement value: -3,945.1\n",
      "\n",
      "\n",
      "Iteration : 9/10\n",
      "\n",
      "Estimating parameters via lm (1 iters)\n",
      "\n",
      "Damping factors: ['1.0E-02']\n",
      "theta: {'tt': '-2.2E+00'}\n",
      "time: 145.8[s]\n",
      "\n",
      "SUE via fw (max iters: 100)\n",
      "\n",
      "Column generation: 20 paths per od, 2.0% od coverage, sequential sampling\n",
      "1924 paths added/replaced among 140 ods (New total paths: 24317)\n",
      "Path size correction with factor 5\n",
      "\n",
      "Path selection: probability_weight: 1, maximum number of paths per od: 10\n",
      "1644 paths removed among 140 ods (New total paths: 22673)\n",
      "Path size correction with factor 5\n",
      "\n",
      "Equilibrium gaps: ['5E-03', '2E-03', '2E-05']\n",
      "Initial Fisk Objective: -241,480.99\n",
      "Final Fisk Objective: -219,147.09\n",
      "Improvement Fisk Objective: 9.25%\n",
      "Final gap: 2E-05. Acc. bound: 1E-04. Time: 320.5 [s]\n",
      "\n",
      "Time current iteration: 466.7 [s]\n",
      "Current objective_value: 187,804,401\n",
      "Current objective improvement: 4.58%\n",
      "Current RMSE: 1154.1\n",
      "Current Normalized RMSE: 0.521\n",
      "Marginal objective improvement: 0.15%\n",
      "Marginal objective improvement value: 288,094.0\n",
      "\n",
      "\n",
      "Iteration : 10/10\n",
      "\n",
      "Estimating parameters via lm (1 iters)\n",
      "\n",
      "Damping factors: ['1.0E-02']\n",
      "theta: {'tt': '-2.2E+00'}\n",
      "time: 141.3[s]\n",
      "\n",
      "SUE via fw (max iters: 100)\n"
     ]
    },
    {
     "name": "stdout",
     "output_type": "stream",
     "text": [
      "Path size correction with factor 5\n",
      "\n",
      "Equilibrium gaps: ['5E-03', '2E-03', '3E-05']\n",
      "Initial Fisk Objective: -241,653.11\n",
      "Final Fisk Objective: -219,430.29\n",
      "Improvement Fisk Objective: 9.20%\n",
      "Final gap: 3E-05. Acc. bound: 1E-04. Time: 217.3 [s]\n",
      "\n",
      "Time current iteration: 359.0 [s]\n",
      "Current objective_value: 187,777,289\n",
      "Current objective improvement: 4.60%\n",
      "Current RMSE: 1154.0\n",
      "Current Normalized RMSE: 0.521\n",
      "Marginal objective improvement: 0.01%\n",
      "Marginal objective improvement value: 27,111.9\n",
      "\n",
      "Summary results of bilevel optimization\n",
      "best iter: 10\n",
      "best theta: {'tt': '-2.2E+00'}\n",
      "best objective_value: 187,777,289\n",
      "Final best objective improvement: 4.60%\n",
      "Final best objective improvement value: 9,050,164.6\n",
      "Best RMSE: 1154.0\n",
      "Best Normalized RMSE: 0.521\n",
      "Total time: 3571.6 [s]\n",
      "\n",
      "Hypothesis testing (H0: theta = 0, alpha = 0.05, n = 141)\n",
      "\n",
      "Hessian approximated as J^T J\n",
      "\n",
      " parameter    est               CI  width_CI  t-test  p-value\n",
      "       tt -2.171 [-3.667, -0.675]     1.496  -2.869    0.005\n",
      "\n",
      "Computing F-test\n",
      "     F  critical-F     p  dof_m1  dof_m2        sse_m1        sse_m2   n\n",
      "87.725       3.909 0.000       0       1 324129753.684 199267441.870 141\n",
      "Time: 220.1[s]\n"
     ]
    }
   ],
   "source": [
    "learner_refined.utility_function.initial_values = theta_norefined_traveltime_model\n",
    "\n",
    "learning_results_refined_traveltime_model, inference_results_refined_traveltime_model, best_iter_refined_traveltime_model = \\\n",
    "    learner_refined.statistical_inference(h0=0, bilevel_iters=10, alpha=0.05, link_report=False, iteration_report = True)\n",
    "\n",
    "theta_refined_traveltime_model = learning_results_refined_traveltime_model[best_iter_refined_traveltime_model]['theta']"
   ]
  },
  {
   "cell_type": "markdown",
   "metadata": {
    "pycharm": {
     "name": "#%% md\n"
    }
   },
   "source": [
    "#### Store paths"
   ]
  },
  {
   "cell_type": "code",
   "execution_count": null,
   "metadata": {
    "pycharm": {
     "name": "#%%\n"
    }
   },
   "outputs": [
    {
     "name": "stdout",
     "output_type": "stream",
     "text": [
      "Writing paths: |########------------| 41.0% "
     ]
    }
   ],
   "source": [
    "paths_generator.write_paths(network=fresno_network, overwrite_input=False, filename = 'paths-traveltime-model-Fresno.csv')"
   ]
  },
  {
   "cell_type": "markdown",
   "metadata": {},
   "source": [
    "#### Report"
   ]
  },
  {
   "cell_type": "code",
   "execution_count": null,
   "metadata": {},
   "outputs": [],
   "source": [
    "estimation_reporter.add_items_report(\n",
    "    selected_date = data_reader.options['selected_date'],\n",
    "    selected_hour = data_reader.options['selected_hour'],\n",
    "    selected_od_periods = data_reader.options['od_periods'],\n",
    "    mean_counts=round(mean_count_benchmark_model,1),\n",
    "    mean_counts_prediction_loss = round(mean_counts_prediction_loss,1),\n",
    "    equilikely_prediction_loss = round(equilikely_prediction_loss,1)\n",
    ")\n",
    "\n",
    "estimation_reporter.add_items_report(\n",
    "    theta_norefined=theta_norefined_traveltime_model,\n",
    "    theta_refined= theta_refined_traveltime_model,\n",
    "    best_objective_norefined = round(learning_results_norefined_traveltime_model[best_iter_norefined_traveltime_model]['objective'],1),\n",
    "    best_objective_refined = round(learning_results_refined_traveltime_model[best_iter_refined_traveltime_model]['objective'],1),\n",
    ")\n",
    "\n",
    "# Summary with most relevant options, prediction error, initial parameters, etc\n",
    "estimation_reporter.write_estimation_report(\n",
    "    network=fresno_network,\n",
    "    learners=[learner_norefined, learner_refined],\n",
    "    utility_function=utility_function)\n",
    "\n",
    "# Write tables with results on learning and inference\n",
    "estimation_reporter.write_learning_tables(\n",
    "    results_norefined=learning_results_norefined_traveltime_model,\n",
    "    results_refined=learning_results_refined_traveltime_model,\n",
    "    network = fresno_network,\n",
    "    utility_function = utility_function)\n",
    "\n",
    "estimation_reporter.write_inference_tables(\n",
    "    results_norefined=inference_results_norefined_traveltime_model,\n",
    "    results_refined=inference_results_refined_traveltime_model,\n",
    "    float_format = '%.3f')"
   ]
  },
  {
   "cell_type": "markdown",
   "metadata": {},
   "source": [
    "#### Visualizations"
   ]
  },
  {
   "cell_type": "markdown",
   "metadata": {},
   "source": [
    "##### Convergence"
   ]
  },
  {
   "cell_type": "code",
   "execution_count": null,
   "metadata": {},
   "outputs": [],
   "source": [
    "results_traveltime_model_df = isl.descriptive_statistics \\\n",
    "    .get_loss_and_estimates_over_iterations(results_norefined=learning_results_norefined_traveltime_model\n",
    "                                            , results_refined=learning_results_refined_traveltime_model)\n",
    "\n",
    "fig = isl.visualization.Artist().convergence(\n",
    "    results_norefined_df=results_traveltime_model_df[results_traveltime_model_df['stage'] == 'norefined'],\n",
    "    results_refined_df=results_traveltime_model_df[results_traveltime_model_df['stage'] == 'refined'],\n",
    "    filename='convergence_' + fresno_network.key,\n",
    "    methods=[outer_optimizer_norefined.method.key, outer_optimizer_refined.method.key],\n",
    "    folder = estimation_reporter.dirs['estimation_folder'],\n",
    "    simulated_data = False\n",
    ")"
   ]
  },
  {
   "cell_type": "markdown",
   "metadata": {},
   "source": [
    "##### Distribution of errors across link counts"
   ]
  },
  {
   "cell_type": "code",
   "execution_count": null,
   "metadata": {},
   "outputs": [],
   "source": [
    "best_predicted_counts_norefined = np.array(list(learning_results_norefined_traveltime_model[best_iter_norefined_traveltime_model]['x'].values()))[:, np.newaxis]\n",
    "best_predicted_counts_refined = np.array(list(learning_results_refined_traveltime_model[best_iter_refined_traveltime_model]['x'].values()))[:, np.newaxis]\n",
    "\n",
    "fig, axs = plt.subplots(1, 2, sharey='all', tight_layout=True, figsize=(8, 4))\n",
    "\n",
    "axs[0].hist(isl.estimation.error_by_link(observed_counts=fresno_network.observed_counts_vector,\n",
    "                                         predicted_counts=best_predicted_counts_norefined))\n",
    "axs[1].hist(isl.estimation.error_by_link(observed_counts=fresno_network.observed_counts_vector,\n",
    "                                         predicted_counts=best_predicted_counts_refined))\n",
    "\n",
    "for axi in [axs[0], axs[1]]:\n",
    "    axi.tick_params(axis='x', labelsize=16)\n",
    "    axi.tick_params(axis='y', labelsize=16)\n",
    "\n",
    "plt.show()\n",
    "\n",
    "fig.savefig(estimation_reporter.dirs['estimation_folder'] + '/' + 'distribution_predicted_error_counts.pdf',\n",
    "            pad_inches=0.1, bbox_inches=\"tight\")"
   ]
  },
  {
   "cell_type": "markdown",
   "metadata": {
    "pycharm": {
     "name": "#%% md\n"
    }
   },
   "source": [
    "### c) Model with all features"
   ]
  },
  {
   "cell_type": "code",
   "execution_count": null,
   "metadata": {
    "pycharm": {
     "name": "#%%\n"
    }
   },
   "outputs": [],
   "source": [
    "utility_function_full_model = isl.estimation.UtilityFunction(\n",
    "    features_Y=['tt'],\n",
    "#    features_Z= ['incidents'],\n",
    "    features_Z= ['incidents', 'tt_cv','median_inc', 'bus_stops', 'intersections'],\n",
    "    # initial_values = {'median_inc': 1.5, 'bus_stops':0},\n",
    "    signs = {'tt': '-', 'tt_cv':'-', 'incidents':'-', 'intersections':'-', 'bus_stops':'-', 'median_inc':'+'},\n",
    "    fixed = {'tt': True}\n",
    ")\n",
    "\n",
    "# Update utility functions of no refined and refined learners\n",
    "learner_norefined.utility_function = utility_function_full_model\n",
    "learner_refined.utility_function = utility_function_full_model\n",
    "\n",
    "#Initialize value with the estimate obtained from b)\n",
    "learner_norefined.utility_function.initial_values = theta_refined_traveltime_model\n",
    "# learner_norefined.utility_function.zero_initializer()\n",
    "\n",
    "# learner_norefined.outer_optimizer.method.eta = 5e-1\n",
    "# learner_refined.outer_optimizer.method.eta = 5e-1"
   ]
  },
  {
   "cell_type": "markdown",
   "metadata": {
    "pycharm": {
     "is_executing": true,
     "name": "#%% md\n"
    }
   },
   "source": [
    "#### Read paths generated by travel time model"
   ]
  },
  {
   "cell_type": "code",
   "execution_count": null,
   "metadata": {
    "pycharm": {
     "name": "#%%\n"
    }
   },
   "outputs": [],
   "source": [
    "paths_generator.read_paths(network=fresno_network, update_incidence_matrices=True,\n",
    "                           filename = 'paths-traveltime-model-Fresno.csv',\n",
    "                           folderpath = isl.config.dirs['write_network_data'] + 'paths/'\n",
    "                           )"
   ]
  },
  {
   "cell_type": "markdown",
   "metadata": {
    "pycharm": {
     "name": "#%% md\n"
    }
   },
   "source": [
    "#### No refined stage"
   ]
  },
  {
   "cell_type": "code",
   "execution_count": null,
   "metadata": {
    "pycharm": {
     "name": "#%%\n"
    }
   },
   "outputs": [],
   "source": [
    "learning_results_norefined_full_model, inference_results_norefined_full_model, best_iter_norefined_full_model = \\\n",
    "    learner_norefined.statistical_inference(h0=0, bilevel_iters=10, alpha=0.05, link_report=False, iteration_report = True,\n",
    "                                            parameters_constraints = {'fixed': True, 'sign': True})\n",
    "\n",
    "theta_norefined_full_model = learning_results_norefined_full_model[best_iter_norefined_full_model]['theta']"
   ]
  },
  {
   "cell_type": "markdown",
   "metadata": {
    "pycharm": {
     "name": "#%% md\n"
    }
   },
   "source": [
    "#### Refined stage"
   ]
  },
  {
   "cell_type": "code",
   "execution_count": null,
   "metadata": {
    "pycharm": {
     "name": "#%%\n"
    }
   },
   "outputs": [],
   "source": [
    "features_Y,features_Z = isl.estimation.feature_selection(utility_function_full_model,\n",
    "                                                          theta = theta_norefined_full_model,\n",
    "                                                          criterion = 'sign')\n",
    "\n",
    "utility_function_full_model = isl.estimation.UtilityFunction(\n",
    "    features_Y = features_Y,\n",
    "    features_Z = features_Z,\n",
    "    fixed = {'tt': True},\n",
    "    signs = {'tt': '-', 'tt_cv':'-', 'incidents':'-', 'intersections':'-', 'bus_stops':'-', 'median_inc':'+'},\n",
    ")\n",
    "\n",
    "learner_norefined.utility_function = utility_function_full_model\n",
    "learner_refined.utility_function = utility_function_full_model\n",
    "\n",
    "learner_refined.utility_function.initial_values = theta_norefined_full_model\n",
    "\n",
    "learning_results_refined_full_model, inference_results_refined_full_model, best_iter_refined_full_model = \\\n",
    "    learner_refined.statistical_inference(h0=0, bilevel_iters=10, alpha=0.05, link_report=False, iteration_report = True,\n",
    "                                            parameters_constraints = {'fixed': True, 'sign': True})\n",
    "\n",
    "theta_refined_full_model = learning_results_refined_full_model[best_iter_refined_full_model]['theta']"
   ]
  },
  {
   "cell_type": "markdown",
   "metadata": {
    "pycharm": {
     "name": "#%% md\n"
    }
   },
   "source": [
    "#### Store Paths"
   ]
  },
  {
   "cell_type": "code",
   "execution_count": null,
   "metadata": {
    "pycharm": {
     "name": "#%%\n"
    }
   },
   "outputs": [],
   "source": [
    "paths_generator.write_paths(network=fresno_network, overwrite_input=False, filename = 'paths-full-model-Fresno.csv')"
   ]
  },
  {
   "cell_type": "markdown",
   "metadata": {
    "pycharm": {
     "name": "#%% md\n"
    }
   },
   "source": [
    "#### Report"
   ]
  },
  {
   "cell_type": "code",
   "execution_count": null,
   "metadata": {
    "pycharm": {
     "name": "#%%\n"
    }
   },
   "outputs": [],
   "source": [
    "estimation_reporter = isl.writer.Reporter(folderpath = isl.config.dirs['output_folder'] + 'estimations/' + network_name, seed =_SEED)\n",
    "\n",
    "estimation_reporter.add_items_report(\n",
    "    selected_date = data_reader.options['selected_date'],\n",
    "    selected_hour = data_reader.options['selected_hour'],\n",
    "    selected_od_periods = data_reader.options['od_periods'],\n",
    "    mean_counts=round(mean_count_benchmark_model,1),\n",
    "    mean_counts_prediction_loss = round(mean_counts_prediction_loss,1),\n",
    "    equilikely_prediction_loss = round(equilikely_prediction_loss,1)\n",
    ")\n",
    "\n",
    "estimation_reporter.add_items_report(\n",
    "    theta_norefined=theta_norefined_full_model,\n",
    "    theta_refined= theta_refined_full_model,\n",
    "    best_objective_norefined = round(learning_results_norefined_full_model[best_iter_norefined_full_model]['objective'],1),\n",
    "    best_objective_refined = round(learning_results_refined_full_model[best_iter_refined_full_model]['objective'],1),\n",
    ")\n",
    "\n",
    "estimation_reporter.write_estimation_report(\n",
    "    network=fresno_network,\n",
    "    learners=[learner_norefined, learner_refined],\n",
    "    utility_function=utility_function_full_model)\n",
    "\n",
    "estimation_reporter.write_learning_tables(\n",
    "    results_norefined=learning_results_norefined_full_model,\n",
    "    results_refined=learning_results_refined_full_model,\n",
    "    network = fresno_network,\n",
    "    utility_function = utility_function_full_model)\n",
    "\n",
    "estimation_reporter.write_inference_tables(\n",
    "    results_norefined=inference_results_norefined_full_model,\n",
    "    results_refined=inference_results_refined_full_model,\n",
    "    float_format = '%.3f')"
   ]
  },
  {
   "cell_type": "markdown",
   "metadata": {
    "pycharm": {
     "name": "#%% md\n"
    }
   },
   "source": [
    "#### Visualization"
   ]
  },
  {
   "cell_type": "code",
   "execution_count": null,
   "metadata": {
    "pycharm": {
     "name": "#%%\n"
    }
   },
   "outputs": [],
   "source": [
    "results_full_model_df = isl.descriptive_statistics \\\n",
    "    .get_loss_and_estimates_over_iterations(results_norefined=learning_results_norefined_full_model,\n",
    "                                            results_refined=learning_results_refined_full_model)\n",
    "\n",
    "\n",
    "# Convergence with curves for each parameter and comparing the travel time and full models\n",
    "fig = isl.visualization.Artist().convergence_models(\n",
    "    results_dfs={'traveltime_model': results_traveltime_model_df, 'full_model': results_full_model_df},\n",
    "    features= {'tt': 'travel time', 'tt_cv':'cv of travel time', 'incidents':'incidents', 'intersections':'intersections', 'bus_stops':'bus stops', 'median_inc':'median income'},\n",
    "    filename='convergence_traveltime_and_full_models_' + fresno_network.key,\n",
    "    folder=estimation_reporter.dirs['estimation_folder']\n",
    ")"
   ]
  },
  {
   "cell_type": "markdown",
   "metadata": {},
   "source": [
    "### d) Model with feature engineering"
   ]
  },
  {
   "cell_type": "code",
   "execution_count": null,
   "metadata": {},
   "outputs": [],
   "source": [
    "utility_function_feature_engineering_model = isl.estimation.UtilityFunction(\n",
    "    features_Y=['tt'],\n",
    "    features_Z= ['speed_reliability', 'no_incidents', 'no_bus_stops', 'no_intersections', 'low_inc'],\n",
    "    signs = {'tt': '-', 'speed_reliability':'+', 'no_incidents':'+', 'no_bus_stops':'+', 'no_intersections':'+', 'low_inc':'-'},\n",
    "    fixed = {'tt': True}\n",
    ")\n",
    "\n",
    "# Update utility functions of no refined and refined learners\n",
    "learner_norefined.utility_function = utility_function_feature_engineering_model\n",
    "learner_refined.utility_function = utility_function_feature_engineering_model\n",
    "\n",
    "#Initialize travel time estimate with the one obtained from b) and load those paths as well\n",
    "learner_norefined.utility_function.initial_values = theta_refined_traveltime_model\n",
    "\n",
    "# learner_norefined.outer_optimizer.method.eta = 5e-1\n",
    "# learner_refined.outer_optimizer.method.eta = 5e-1"
   ]
  },
  {
   "cell_type": "markdown",
   "metadata": {
    "pycharm": {
     "name": "#%% md\n"
    }
   },
   "source": [
    "#### Read paths generated by travel time model"
   ]
  },
  {
   "cell_type": "code",
   "execution_count": null,
   "metadata": {
    "pycharm": {
     "name": "#%%\n"
    }
   },
   "outputs": [],
   "source": [
    "paths_generator.read_paths(network=fresno_network, update_incidence_matrices=True,\n",
    "                           filename = 'paths-traveltime-model-Fresno.csv',\n",
    "                           folderpath = isl.config.dirs['write_network_data'] + 'paths/'\n",
    "                           )"
   ]
  },
  {
   "cell_type": "markdown",
   "metadata": {},
   "source": [
    "#### No refined stage"
   ]
  },
  {
   "cell_type": "code",
   "execution_count": null,
   "metadata": {},
   "outputs": [],
   "source": [
    "learning_results_norefined_feature_engineering_model, inference_results_norefined_feature_engineering_model, best_iter_norefined_feature_engineering_model = \\\n",
    "    learner_norefined.statistical_inference(h0=0, bilevel_iters=10, alpha=0.05, link_report=False, iteration_report = True,\n",
    "                            parameters_constraints = {'fixed': True, 'sign': True})\n",
    "\n",
    "theta_norefined_feature_engineering_model = learning_results_norefined_feature_engineering_model[best_iter_norefined_feature_engineering_model]['theta']\n",
    "\n",
    "paths_generator.write_paths(network=fresno_network, overwrite_input=False, filename = 'paths-feature-engineering-model-Fresno.csv')"
   ]
  },
  {
   "cell_type": "markdown",
   "metadata": {},
   "source": [
    "#### Refined stage"
   ]
  },
  {
   "cell_type": "code",
   "execution_count": null,
   "metadata": {},
   "outputs": [],
   "source": [
    "features_Y,features_Z = isl.estimation.feature_selection(\n",
    "    utility_function_feature_engineering_model,\n",
    "    theta = theta_norefined_feature_engineering_model,\n",
    "    criterion = 'sign')\n",
    "\n",
    "utility_function_feature_engineering_model = isl.estimation.UtilityFunction(\n",
    "    features_Y = features_Y,\n",
    "    features_Z = features_Z,\n",
    "    fixed = {'tt': True},\n",
    "    signs = {'tt': '-', 'speed_reliability':'+', 'no_incidents':'+', 'no_bus_stops':'+', 'no_intersections':'+', 'low_inc':'-'},\n",
    ")\n",
    "\n",
    "learner_norefined.utility_function = utility_function_feature_engineering_model\n",
    "learner_refined.utility_function = utility_function_feature_engineering_model\n",
    "\n",
    "learner_refined.utility_function.initial_values = theta_norefined_feature_engineering_model\n",
    "\n",
    "learning_results_refined_feature_engineering_model, inference_results_refined_feature_engineering_model, best_iter_refined_feature_engineering_model = \\\n",
    "    learner_refined.statistical_inference(\n",
    "        h0=0, bilevel_iters=10, alpha=0.05, link_report=False, iteration_report = True,\n",
    "        parameters_constraints = {'fixed': True, 'sign': True})\n",
    "\n",
    "theta_refined_feature_engineering_model = learning_results_refined_feature_engineering_model[best_iter_refined_feature_engineering_model]['theta']"
   ]
  },
  {
   "cell_type": "markdown",
   "metadata": {},
   "source": [
    "#### Report"
   ]
  },
  {
   "cell_type": "code",
   "execution_count": null,
   "metadata": {
    "pycharm": {
     "name": "#%%\n"
    }
   },
   "outputs": [],
   "source": [
    "estimation_reporter = isl.writer.Reporter(folderpath = isl.config.dirs['output_folder'] + 'estimations/' + network_name, seed =_SEED)\n",
    "\n",
    "estimation_reporter.add_items_report(\n",
    "    selected_date = data_reader.options['selected_date'],\n",
    "    selected_hour = data_reader.options['selected_hour'],\n",
    "    selected_od_periods = data_reader.options['od_periods'],\n",
    "    mean_counts=round(mean_count_benchmark_model,1),\n",
    "    mean_counts_prediction_loss = round(mean_counts_prediction_loss,1),\n",
    "    equilikely_prediction_loss = round(equilikely_prediction_loss,1)\n",
    ")\n",
    "\n",
    "estimation_reporter.add_items_report(\n",
    "    theta_norefined=theta_norefined_feature_engineering_model,\n",
    "    theta_refined= theta_refined_feature_engineering_model,\n",
    "    best_objective_norefined = round(learning_results_norefined_feature_engineering_model[best_iter_norefined_feature_engineering_model]['objective'],1),\n",
    "    best_objective_refined = round(learning_results_refined_feature_engineering_model[best_iter_refined_feature_engineering_model]['objective'],1),\n",
    ")\n",
    "\n",
    "estimation_reporter.write_estimation_report(\n",
    "    network=fresno_network,\n",
    "    learners=[learner_norefined, learner_refined],\n",
    "    utility_function=utility_function_feature_engineering_model)\n",
    "\n",
    "estimation_reporter.write_learning_tables(\n",
    "    results_norefined=learning_results_norefined_feature_engineering_model,\n",
    "    results_refined=learning_results_refined_feature_engineering_model,\n",
    "    network = fresno_network,\n",
    "    utility_function = utility_function_feature_engineering_model)\n",
    "\n",
    "estimation_reporter.write_inference_tables(\n",
    "    results_norefined=inference_results_norefined_feature_engineering_model,\n",
    "    results_refined=inference_results_refined_feature_engineering_model,\n",
    "    float_format = '%.3f')"
   ]
  },
  {
   "cell_type": "markdown",
   "metadata": {
    "pycharm": {
     "name": "#%% md\n"
    }
   },
   "source": [
    "#### Visualization"
   ]
  },
  {
   "cell_type": "code",
   "execution_count": null,
   "metadata": {
    "pycharm": {
     "name": "#%%\n"
    }
   },
   "outputs": [],
   "source": [
    "results_feature_engineering_model_df = isl.descriptive_statistics \\\n",
    "    .get_loss_and_estimates_over_iterations(results_norefined=learning_results_norefined_feature_engineering_model,\n",
    "                                            results_refined=learning_results_refined_feature_engineering_model)\n",
    "\n",
    "\n",
    "# Convergence with curves for each parameter and comparing the travel time and full models\n",
    "fig = isl.visualization.Artist().convergence_models(\n",
    "    results_dfs={'traveltime_model': results_traveltime_model_df, 'full_model': results_feature_engineering_model_df},\n",
    "    features= {'tt': 'travel time', 'speed_reliability':'speed reliability', 'no_incidents':'no incidents', 'no_intersections':'no intersections', 'no_bus_stops':'no bus stops', 'low_inc':'low income area'},\n",
    "    filename='convergence_traveltime_and_full_models_' + fresno_network.key,\n",
    "    folder=estimation_reporter.dirs['estimation_folder']\n",
    ")"
   ]
  }
 ],
 "metadata": {
  "kernelspec": {
   "display_name": "venv-isuelogit",
   "language": "python",
   "name": "venv-isuelogit"
  },
  "language_info": {
   "codemirror_mode": {
    "name": "ipython",
    "version": 3
   },
   "file_extension": ".py",
   "mimetype": "text/x-python",
   "name": "python",
   "nbconvert_exporter": "python",
   "pygments_lexer": "ipython3",
   "version": "3.7.4"
  }
 },
 "nbformat": 4,
 "nbformat_minor": 4
}