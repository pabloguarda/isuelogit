{
 "cells": [
  {
   "cell_type": "markdown",
   "metadata": {},
   "source": [
    "## Setup"
   ]
  },
  {
   "cell_type": "code",
   "execution_count": 1,
   "metadata": {},
   "outputs": [],
   "source": [
    "%matplotlib inline\n",
    "\n",
    "import warnings\n",
    "warnings.simplefilter(action = \"ignore\", category = RuntimeWarning)\n",
    "\n",
    "# External modules\n",
    "import ast\n",
    "import numpy as np\n",
    "import pandas as pd\n",
    "from sklearn import preprocessing\n",
    "import matplotlib.pyplot as plt\n",
    "import os\n",
    "from pathlib import Path"
   ]
  },
  {
   "cell_type": "code",
   "execution_count": 2,
   "metadata": {},
   "outputs": [
    {
     "name": "stdout",
     "output_type": "stream",
     "text": [
      "main dir: /Users/pablo/OneDrive/data-science/github/isuelogit\n"
     ]
    }
   ],
   "source": [
    "# Path management\n",
    "main_dir = str(Path(os.path.abspath('')).parents[0])\n",
    "os.chdir(main_dir)\n",
    "print('main dir:',main_dir)"
   ]
  },
  {
   "cell_type": "code",
   "execution_count": 3,
   "metadata": {},
   "outputs": [],
   "source": [
    "# Internal modules\n",
    "from src import isuelogit as isl"
   ]
  },
  {
   "cell_type": "code",
   "execution_count": 4,
   "metadata": {},
   "outputs": [],
   "source": [
    "# Seed\n",
    "_SEED = 2022"
   ]
  },
  {
   "cell_type": "markdown",
   "metadata": {},
   "source": [
    "## Read network data from Fresno"
   ]
  },
  {
   "cell_type": "code",
   "execution_count": 5,
   "metadata": {},
   "outputs": [
    {
     "name": "stdout",
     "output_type": "stream",
     "text": [
      "\n",
      "Selected date is 2019-10-01, Tuesday at 16:00\n"
     ]
    }
   ],
   "source": [
    "network_name = 'Fresno'\n",
    "\n",
    "# To write estimation report and set seed for all algorithms involving some randomness  \n",
    "estimation_reporter = isl.writer.Reporter(\n",
    "    folderpath = isl.config.dirs['output_folder'] + 'estimations/' + network_name, seed = _SEED)\n",
    "\n",
    "# Reader of geospatial and spatio-temporal data\n",
    "data_reader = isl.etl.DataReader(network_key=network_name)\n",
    "\n",
    "# First Tuesday of October, 2019\n",
    "data_reader.select_period(date='2019-10-01', hour=16)\n",
    "\n",
    "# Read nodes data\n",
    "nodes_df = pd.read_csv(isl.dirs['input_folder'] + '/network-data/nodes/'  + 'fresno-nodes-data.csv')\n",
    "\n",
    "# Read spatiotemporal link data\n",
    "links_df = pd.read_csv(\n",
    "    isl.dirs['input_folder'] + 'network-data/links/' + str(data_reader.options['selected_date'])+ '-fresno-link-data.csv',\n",
    "    converters={\"link_key\": ast.literal_eval,\"pems_id\": ast.literal_eval})"
   ]
  },
  {
   "cell_type": "markdown",
   "metadata": {},
   "source": [
    "## Build network"
   ]
  },
  {
   "cell_type": "code",
   "execution_count": 6,
   "metadata": {},
   "outputs": [
    {
     "name": "stdout",
     "output_type": "stream",
     "text": [
      "\n",
      "Creating Fresno network\n",
      "\n",
      "Nodes: 1789, Links: 2413\n"
     ]
    }
   ],
   "source": [
    "network_generator = isl.factory.NetworkGenerator()\n",
    "\n",
    "A = network_generator.generate_adjacency_matrix(links_keys=list(links_df['link_key'].values))\n",
    "\n",
    "fresno_network = \\\n",
    "    network_generator.build_fresno_network(A=A, links_df=links_df, nodes_df=nodes_df, network_name= network_name)"
   ]
  },
  {
   "cell_type": "markdown",
   "metadata": {},
   "source": [
    "### OD matrix"
   ]
  },
  {
   "cell_type": "code",
   "execution_count": 7,
   "metadata": {},
   "outputs": [
    {
     "name": "stdout",
     "output_type": "stream",
     "text": [
      "Matrix Q (1789, 1789) read in 0.0[s] with sparse format\n",
      "66266.34839999994 trips were loaded among 6970 o-d pairs\n"
     ]
    }
   ],
   "source": [
    "network_generator.read_OD(network=fresno_network, sparse=True)"
   ]
  },
  {
   "cell_type": "markdown",
   "metadata": {},
   "source": [
    "### Paths"
   ]
  },
  {
   "cell_type": "code",
   "execution_count": 8,
   "metadata": {},
   "outputs": [
    {
     "name": "stdout",
     "output_type": "stream",
     "text": [
      "26380 paths were read in 5.6[s]| 100.0% \n",
      "26380 paths were loaded in the network\n",
      "Updating incidence matrices\n",
      "Matrix D (2413, 26380) generated in 18.7[s]\n",
      "Matrix M (6970, 26380) generated in 1.0[s] \n",
      "Matrix C (26380, 26380) generated in 5.2[s]\n"
     ]
    }
   ],
   "source": [
    "paths_generator = isl.factory.PathsGenerator()\n",
    "\n",
    "# # Generate and Load paths in network\n",
    "# paths_generator.load_k_shortest_paths(network = fresno_network, k=3)\n",
    "\n",
    "paths_generator.read_paths(network=fresno_network, update_incidence_matrices=True)"
   ]
  },
  {
   "cell_type": "markdown",
   "metadata": {},
   "source": [
    "### Link performance functions"
   ]
  },
  {
   "cell_type": "code",
   "execution_count": 9,
   "metadata": {},
   "outputs": [],
   "source": [
    "bpr_parameters_df = pd.DataFrame({'link_key': links_df['link_key'],\n",
    "                                  'alpha': links_df['alpha'],\n",
    "                                  'beta': links_df['beta'],\n",
    "                                  'tf': links_df['tf'],\n",
    "                                  'k': pd.to_numeric(links_df['k'], errors='coerce', downcast='float')\n",
    "                                  })\n",
    "\n",
    "# Normalize free flow travel time between 0 and 1\n",
    "bpr_parameters_df['tf'] = pd.DataFrame(preprocessing.MinMaxScaler().fit_transform(np.array(bpr_parameters_df['tf']).reshape(-1, 1)))\n",
    "\n",
    "fresno_network.set_bpr_functions(bprdata=bpr_parameters_df)"
   ]
  },
  {
   "cell_type": "markdown",
   "metadata": {},
   "source": [
    "### Feature Engineering"
   ]
  },
  {
   "cell_type": "code",
   "execution_count": 10,
   "metadata": {},
   "outputs": [
    {
     "name": "stdout",
     "output_type": "stream",
     "text": [
      "Features values of links with a type different than LWRLK were set to 0\n",
      "New features: ['low_inc', 'high_inc', 'no_incidents', 'no_bus_stops', 'no_intersections', 'tt_sd_adj', 'tt_reliability']\n"
     ]
    }
   ],
   "source": [
    "fresno_network.load_features_data(links_df, link_key = 'link_key')\n",
    "\n",
    "isl.etl.feature_engineering_fresno(links=fresno_network.links, network=fresno_network)"
   ]
  },
  {
   "cell_type": "code",
   "execution_count": 11,
   "metadata": {},
   "outputs": [],
   "source": [
    "features_list = ['median_inc', 'intersections', 'incidents', 'bus_stops', 'median_age',\n",
    "                 'tt_avg', 'tt_sd','tt_var', 'tt_cv', 'tt_sd_adj','tt_reliability',\n",
    "                 'speed_ref_avg', 'speed_avg', 'speed_hist_avg','speed_sd','speed_hist_sd','speed_cv']\n",
    "\n",
    "\n",
    "# Normalization of features to range [0,1]\n",
    "linkdata = pd.DataFrame(preprocessing.MinMaxScaler().fit_transform(fresno_network.Z_data[features_list].values))\n",
    "linkdata.columns = features_list\n",
    "linkdata.insert(0, 'link_key', fresno_network.links_keys)\n",
    "\n",
    "fresno_network.load_features_data(linkdata)"
   ]
  },
  {
   "cell_type": "markdown",
   "metadata": {},
   "source": [
    "### Traffic counts"
   ]
  },
  {
   "cell_type": "code",
   "execution_count": 12,
   "metadata": {},
   "outputs": [],
   "source": [
    "counts_df = pd.read_csv(isl.dirs['input_folder'] + '/network-data/links/' \\\n",
    "                            + str(data_reader.options['selected_date']) + '-fresno-link-counts' + '.csv',\n",
    "                        converters={'link_key': ast.literal_eval})\n",
    "\n",
    "counts = dict(zip(counts_df['link_key'].values, counts_df['counts'].values))\n",
    "\n",
    "fresno_network.load_traffic_counts(counts=counts)"
   ]
  },
  {
   "cell_type": "markdown",
   "metadata": {},
   "source": [
    "## Descriptive statistics"
   ]
  },
  {
   "cell_type": "markdown",
   "metadata": {},
   "source": [
    "### Link coverage"
   ]
  },
  {
   "cell_type": "code",
   "execution_count": 13,
   "metadata": {},
   "outputs": [
    {
     "name": "stdout",
     "output_type": "stream",
     "text": [
      "\n",
      "Total link counts observations: 141\n",
      "Link coverage: 5.8%\n"
     ]
    }
   ],
   "source": [
    "total_counts_observations = np.count_nonzero(~np.isnan(np.array(list(counts.values()))))\n",
    "\n",
    "total_links = np.array(list(counts.values())).shape[0]\n",
    "\n",
    "print('\\nTotal link counts observations: ' + str(total_counts_observations))\n",
    "print('Link coverage: ' + \"{:.1%}\".format(round(total_counts_observations / total_links, 4)))"
   ]
  },
  {
   "cell_type": "markdown",
   "metadata": {},
   "source": [
    "### Networks topology"
   ]
  },
  {
   "cell_type": "code",
   "execution_count": 14,
   "metadata": {},
   "outputs": [
    {
     "data": {
      "text/html": [
       "<div>\n",
       "<style scoped>\n",
       "    .dataframe tbody tr th:only-of-type {\n",
       "        vertical-align: middle;\n",
       "    }\n",
       "\n",
       "    .dataframe tbody tr th {\n",
       "        vertical-align: top;\n",
       "    }\n",
       "\n",
       "    .dataframe thead th {\n",
       "        text-align: right;\n",
       "    }\n",
       "</style>\n",
       "<table border=\"1\" class=\"dataframe\">\n",
       "  <thead>\n",
       "    <tr style=\"text-align: right;\">\n",
       "      <th></th>\n",
       "      <th>network</th>\n",
       "      <th>nodes</th>\n",
       "      <th>links</th>\n",
       "      <th>ods</th>\n",
       "      <th>paths</th>\n",
       "    </tr>\n",
       "  </thead>\n",
       "  <tbody>\n",
       "    <tr>\n",
       "      <th>0</th>\n",
       "      <td>Fresno</td>\n",
       "      <td>1789</td>\n",
       "      <td>2413</td>\n",
       "      <td>6970</td>\n",
       "      <td>26380</td>\n",
       "    </tr>\n",
       "  </tbody>\n",
       "</table>\n",
       "</div>"
      ],
      "text/plain": [
       "  network  nodes  links   ods  paths\n",
       "0  Fresno   1789   2413  6970  26380"
      ]
     },
     "execution_count": 14,
     "metadata": {},
     "output_type": "execute_result"
    }
   ],
   "source": [
    "isl.descriptive_statistics.summary_table_networks([fresno_network])"
   ]
  },
  {
   "cell_type": "markdown",
   "metadata": {},
   "source": [
    "### Links data"
   ]
  },
  {
   "cell_type": "code",
   "execution_count": 15,
   "metadata": {},
   "outputs": [
    {
     "data": {
      "text/html": [
       "<div>\n",
       "<style scoped>\n",
       "    .dataframe tbody tr th:only-of-type {\n",
       "        vertical-align: middle;\n",
       "    }\n",
       "\n",
       "    .dataframe tbody tr th {\n",
       "        vertical-align: top;\n",
       "    }\n",
       "\n",
       "    .dataframe thead th {\n",
       "        text-align: right;\n",
       "    }\n",
       "</style>\n",
       "<table border=\"1\" class=\"dataframe\">\n",
       "  <thead>\n",
       "    <tr style=\"text-align: right;\">\n",
       "      <th></th>\n",
       "      <th>link_type</th>\n",
       "      <th>alpha</th>\n",
       "      <th>beta</th>\n",
       "      <th>tf</th>\n",
       "      <th>k</th>\n",
       "      <th>observed</th>\n",
       "      <th>counts</th>\n",
       "      <th>capacity [veh]</th>\n",
       "      <th>tt_ff [min]</th>\n",
       "      <th>speed_ff[mi/hr]</th>\n",
       "      <th>...</th>\n",
       "      <th>median_age</th>\n",
       "      <th>incidents</th>\n",
       "      <th>bus_stops</th>\n",
       "      <th>intersections</th>\n",
       "      <th>high_inc</th>\n",
       "      <th>low_inc</th>\n",
       "      <th>no_incidents</th>\n",
       "      <th>no_bus_stops</th>\n",
       "      <th>no_intersections</th>\n",
       "      <th>tt_reliability</th>\n",
       "    </tr>\n",
       "  </thead>\n",
       "  <tbody>\n",
       "    <tr>\n",
       "      <th>0</th>\n",
       "      <td>LWRLK</td>\n",
       "      <td>0.15</td>\n",
       "      <td>4.0</td>\n",
       "      <td>0.098</td>\n",
       "      <td>1.800000e+03</td>\n",
       "      <td>0</td>\n",
       "      <td>NaN</td>\n",
       "      <td>1800.0</td>\n",
       "      <td>0.098</td>\n",
       "      <td>45</td>\n",
       "      <td>...</td>\n",
       "      <td>0.676087</td>\n",
       "      <td>0.3055</td>\n",
       "      <td>0.39175</td>\n",
       "      <td>0.3</td>\n",
       "      <td>1</td>\n",
       "      <td>0</td>\n",
       "      <td>0</td>\n",
       "      <td>0</td>\n",
       "      <td>0</td>\n",
       "      <td>0.391353</td>\n",
       "    </tr>\n",
       "    <tr>\n",
       "      <th>1</th>\n",
       "      <td>LWRLK</td>\n",
       "      <td>0.15</td>\n",
       "      <td>4.0</td>\n",
       "      <td>0.169</td>\n",
       "      <td>1.800000e+03</td>\n",
       "      <td>0</td>\n",
       "      <td>NaN</td>\n",
       "      <td>1800.0</td>\n",
       "      <td>0.169</td>\n",
       "      <td>50</td>\n",
       "      <td>...</td>\n",
       "      <td>0.747826</td>\n",
       "      <td>0.2000</td>\n",
       "      <td>0.39175</td>\n",
       "      <td>0.1</td>\n",
       "      <td>1</td>\n",
       "      <td>0</td>\n",
       "      <td>0</td>\n",
       "      <td>0</td>\n",
       "      <td>0</td>\n",
       "      <td>0.431036</td>\n",
       "    </tr>\n",
       "    <tr>\n",
       "      <th>2</th>\n",
       "      <td>LWRLK</td>\n",
       "      <td>0.15</td>\n",
       "      <td>4.0</td>\n",
       "      <td>0.396</td>\n",
       "      <td>2.400000e+03</td>\n",
       "      <td>0</td>\n",
       "      <td>NaN</td>\n",
       "      <td>2400.0</td>\n",
       "      <td>0.396</td>\n",
       "      <td>65</td>\n",
       "      <td>...</td>\n",
       "      <td>0.747826</td>\n",
       "      <td>0.2000</td>\n",
       "      <td>0.39175</td>\n",
       "      <td>0.1</td>\n",
       "      <td>1</td>\n",
       "      <td>0</td>\n",
       "      <td>0</td>\n",
       "      <td>0</td>\n",
       "      <td>0</td>\n",
       "      <td>0.459576</td>\n",
       "    </tr>\n",
       "    <tr>\n",
       "      <th>3</th>\n",
       "      <td>LWRLK</td>\n",
       "      <td>0.15</td>\n",
       "      <td>4.0</td>\n",
       "      <td>0.192</td>\n",
       "      <td>2.000000e+03</td>\n",
       "      <td>0</td>\n",
       "      <td>NaN</td>\n",
       "      <td>2000.0</td>\n",
       "      <td>0.192</td>\n",
       "      <td>25</td>\n",
       "      <td>...</td>\n",
       "      <td>0.747826</td>\n",
       "      <td>0.2000</td>\n",
       "      <td>0.39175</td>\n",
       "      <td>0.1</td>\n",
       "      <td>1</td>\n",
       "      <td>0</td>\n",
       "      <td>0</td>\n",
       "      <td>0</td>\n",
       "      <td>0</td>\n",
       "      <td>0.410937</td>\n",
       "    </tr>\n",
       "    <tr>\n",
       "      <th>4</th>\n",
       "      <td>LWRLK</td>\n",
       "      <td>0.15</td>\n",
       "      <td>4.0</td>\n",
       "      <td>0.105</td>\n",
       "      <td>1.800000e+03</td>\n",
       "      <td>0</td>\n",
       "      <td>NaN</td>\n",
       "      <td>1800.0</td>\n",
       "      <td>0.105</td>\n",
       "      <td>35</td>\n",
       "      <td>...</td>\n",
       "      <td>0.747826</td>\n",
       "      <td>0.3055</td>\n",
       "      <td>0.39175</td>\n",
       "      <td>0.1</td>\n",
       "      <td>1</td>\n",
       "      <td>0</td>\n",
       "      <td>0</td>\n",
       "      <td>0</td>\n",
       "      <td>0</td>\n",
       "      <td>0.459576</td>\n",
       "    </tr>\n",
       "    <tr>\n",
       "      <th>...</th>\n",
       "      <td>...</td>\n",
       "      <td>...</td>\n",
       "      <td>...</td>\n",
       "      <td>...</td>\n",
       "      <td>...</td>\n",
       "      <td>...</td>\n",
       "      <td>...</td>\n",
       "      <td>...</td>\n",
       "      <td>...</td>\n",
       "      <td>...</td>\n",
       "      <td>...</td>\n",
       "      <td>...</td>\n",
       "      <td>...</td>\n",
       "      <td>...</td>\n",
       "      <td>...</td>\n",
       "      <td>...</td>\n",
       "      <td>...</td>\n",
       "      <td>...</td>\n",
       "      <td>...</td>\n",
       "      <td>...</td>\n",
       "      <td>...</td>\n",
       "    </tr>\n",
       "    <tr>\n",
       "      <th>2408</th>\n",
       "      <td>PQULK</td>\n",
       "      <td>0.15</td>\n",
       "      <td>4.0</td>\n",
       "      <td>0.000</td>\n",
       "      <td>4.990000e+09</td>\n",
       "      <td>0</td>\n",
       "      <td>NaN</td>\n",
       "      <td>inf</td>\n",
       "      <td>0.000</td>\n",
       "      <td>99999</td>\n",
       "      <td>...</td>\n",
       "      <td>0.000000</td>\n",
       "      <td>0.0000</td>\n",
       "      <td>0.00000</td>\n",
       "      <td>0.0</td>\n",
       "      <td>0</td>\n",
       "      <td>0</td>\n",
       "      <td>0</td>\n",
       "      <td>0</td>\n",
       "      <td>0</td>\n",
       "      <td>0.000000</td>\n",
       "    </tr>\n",
       "    <tr>\n",
       "      <th>2409</th>\n",
       "      <td>PQULK</td>\n",
       "      <td>0.15</td>\n",
       "      <td>4.0</td>\n",
       "      <td>0.000</td>\n",
       "      <td>4.990000e+09</td>\n",
       "      <td>0</td>\n",
       "      <td>NaN</td>\n",
       "      <td>inf</td>\n",
       "      <td>0.000</td>\n",
       "      <td>99999</td>\n",
       "      <td>...</td>\n",
       "      <td>0.000000</td>\n",
       "      <td>0.0000</td>\n",
       "      <td>0.00000</td>\n",
       "      <td>0.0</td>\n",
       "      <td>0</td>\n",
       "      <td>0</td>\n",
       "      <td>0</td>\n",
       "      <td>0</td>\n",
       "      <td>0</td>\n",
       "      <td>0.000000</td>\n",
       "    </tr>\n",
       "    <tr>\n",
       "      <th>2410</th>\n",
       "      <td>LWRLK</td>\n",
       "      <td>0.15</td>\n",
       "      <td>4.0</td>\n",
       "      <td>0.045</td>\n",
       "      <td>1.800000e+03</td>\n",
       "      <td>0</td>\n",
       "      <td>NaN</td>\n",
       "      <td>1800.0</td>\n",
       "      <td>0.045</td>\n",
       "      <td>65</td>\n",
       "      <td>...</td>\n",
       "      <td>0.628261</td>\n",
       "      <td>0.3000</td>\n",
       "      <td>0.25000</td>\n",
       "      <td>0.2</td>\n",
       "      <td>1</td>\n",
       "      <td>0</td>\n",
       "      <td>0</td>\n",
       "      <td>0</td>\n",
       "      <td>0</td>\n",
       "      <td>0.498246</td>\n",
       "    </tr>\n",
       "    <tr>\n",
       "      <th>2411</th>\n",
       "      <td>LWRLK</td>\n",
       "      <td>0.15</td>\n",
       "      <td>4.0</td>\n",
       "      <td>0.107</td>\n",
       "      <td>2.400000e+03</td>\n",
       "      <td>0</td>\n",
       "      <td>NaN</td>\n",
       "      <td>2400.0</td>\n",
       "      <td>0.107</td>\n",
       "      <td>65</td>\n",
       "      <td>...</td>\n",
       "      <td>0.978261</td>\n",
       "      <td>0.3055</td>\n",
       "      <td>0.39175</td>\n",
       "      <td>0.7</td>\n",
       "      <td>0</td>\n",
       "      <td>1</td>\n",
       "      <td>0</td>\n",
       "      <td>0</td>\n",
       "      <td>0</td>\n",
       "      <td>0.507275</td>\n",
       "    </tr>\n",
       "    <tr>\n",
       "      <th>2412</th>\n",
       "      <td>PQULK</td>\n",
       "      <td>0.15</td>\n",
       "      <td>4.0</td>\n",
       "      <td>0.000</td>\n",
       "      <td>4.990000e+09</td>\n",
       "      <td>0</td>\n",
       "      <td>NaN</td>\n",
       "      <td>inf</td>\n",
       "      <td>0.000</td>\n",
       "      <td>99999</td>\n",
       "      <td>...</td>\n",
       "      <td>0.000000</td>\n",
       "      <td>0.0000</td>\n",
       "      <td>0.00000</td>\n",
       "      <td>0.0</td>\n",
       "      <td>0</td>\n",
       "      <td>0</td>\n",
       "      <td>0</td>\n",
       "      <td>0</td>\n",
       "      <td>0</td>\n",
       "      <td>0.000000</td>\n",
       "    </tr>\n",
       "  </tbody>\n",
       "</table>\n",
       "<p>2413 rows × 42 columns</p>\n",
       "</div>"
      ],
      "text/plain": [
       "     link_type  alpha  beta     tf             k  observed  counts  \\\n",
       "0        LWRLK   0.15   4.0  0.098  1.800000e+03         0     NaN   \n",
       "1        LWRLK   0.15   4.0  0.169  1.800000e+03         0     NaN   \n",
       "2        LWRLK   0.15   4.0  0.396  2.400000e+03         0     NaN   \n",
       "3        LWRLK   0.15   4.0  0.192  2.000000e+03         0     NaN   \n",
       "4        LWRLK   0.15   4.0  0.105  1.800000e+03         0     NaN   \n",
       "...        ...    ...   ...    ...           ...       ...     ...   \n",
       "2408     PQULK   0.15   4.0  0.000  4.990000e+09         0     NaN   \n",
       "2409     PQULK   0.15   4.0  0.000  4.990000e+09         0     NaN   \n",
       "2410     LWRLK   0.15   4.0  0.045  1.800000e+03         0     NaN   \n",
       "2411     LWRLK   0.15   4.0  0.107  2.400000e+03         0     NaN   \n",
       "2412     PQULK   0.15   4.0  0.000  4.990000e+09         0     NaN   \n",
       "\n",
       "      capacity [veh]  tt_ff [min]  speed_ff[mi/hr]  ...  median_age incidents  \\\n",
       "0             1800.0        0.098               45  ...    0.676087    0.3055   \n",
       "1             1800.0        0.169               50  ...    0.747826    0.2000   \n",
       "2             2400.0        0.396               65  ...    0.747826    0.2000   \n",
       "3             2000.0        0.192               25  ...    0.747826    0.2000   \n",
       "4             1800.0        0.105               35  ...    0.747826    0.3055   \n",
       "...              ...          ...              ...  ...         ...       ...   \n",
       "2408             inf        0.000            99999  ...    0.000000    0.0000   \n",
       "2409             inf        0.000            99999  ...    0.000000    0.0000   \n",
       "2410          1800.0        0.045               65  ...    0.628261    0.3000   \n",
       "2411          2400.0        0.107               65  ...    0.978261    0.3055   \n",
       "2412             inf        0.000            99999  ...    0.000000    0.0000   \n",
       "\n",
       "      bus_stops  intersections  high_inc  low_inc  no_incidents  no_bus_stops  \\\n",
       "0       0.39175            0.3         1        0             0             0   \n",
       "1       0.39175            0.1         1        0             0             0   \n",
       "2       0.39175            0.1         1        0             0             0   \n",
       "3       0.39175            0.1         1        0             0             0   \n",
       "4       0.39175            0.1         1        0             0             0   \n",
       "...         ...            ...       ...      ...           ...           ...   \n",
       "2408    0.00000            0.0         0        0             0             0   \n",
       "2409    0.00000            0.0         0        0             0             0   \n",
       "2410    0.25000            0.2         1        0             0             0   \n",
       "2411    0.39175            0.7         0        1             0             0   \n",
       "2412    0.00000            0.0         0        0             0             0   \n",
       "\n",
       "      no_intersections  tt_reliability  \n",
       "0                    0        0.391353  \n",
       "1                    0        0.431036  \n",
       "2                    0        0.459576  \n",
       "3                    0        0.410937  \n",
       "4                    0        0.459576  \n",
       "...                ...             ...  \n",
       "2408                 0        0.000000  \n",
       "2409                 0        0.000000  \n",
       "2410                 0        0.498246  \n",
       "2411                 0        0.507275  \n",
       "2412                 0        0.000000  \n",
       "\n",
       "[2413 rows x 42 columns]"
      ]
     },
     "execution_count": 15,
     "metadata": {},
     "output_type": "execute_result"
    }
   ],
   "source": [
    "summary_table_links_df = fresno_network.Z_data\n",
    "estimation_reporter.write_table(df = summary_table_links_df, filename = 'links_data.csv', float_format = '%.3f')\n",
    "summary_table_links_df"
   ]
  },
  {
   "cell_type": "code",
   "execution_count": 16,
   "metadata": {},
   "outputs": [
    {
     "data": {
      "text/html": [
       "<div>\n",
       "<style scoped>\n",
       "    .dataframe tbody tr th:only-of-type {\n",
       "        vertical-align: middle;\n",
       "    }\n",
       "\n",
       "    .dataframe tbody tr th {\n",
       "        vertical-align: top;\n",
       "    }\n",
       "\n",
       "    .dataframe thead th {\n",
       "        text-align: right;\n",
       "    }\n",
       "</style>\n",
       "<table border=\"1\" class=\"dataframe\">\n",
       "  <thead>\n",
       "    <tr style=\"text-align: right;\">\n",
       "      <th></th>\n",
       "      <th>alpha</th>\n",
       "      <th>beta</th>\n",
       "      <th>tf</th>\n",
       "      <th>k</th>\n",
       "      <th>observed</th>\n",
       "      <th>counts</th>\n",
       "      <th>capacity [veh]</th>\n",
       "      <th>tt_ff [min]</th>\n",
       "      <th>speed_ff[mi/hr]</th>\n",
       "      <th>inrix_id</th>\n",
       "      <th>...</th>\n",
       "      <th>median_age</th>\n",
       "      <th>incidents</th>\n",
       "      <th>bus_stops</th>\n",
       "      <th>intersections</th>\n",
       "      <th>high_inc</th>\n",
       "      <th>low_inc</th>\n",
       "      <th>no_incidents</th>\n",
       "      <th>no_bus_stops</th>\n",
       "      <th>no_intersections</th>\n",
       "      <th>tt_reliability</th>\n",
       "    </tr>\n",
       "  </thead>\n",
       "  <tbody>\n",
       "    <tr>\n",
       "      <th>count</th>\n",
       "      <td>2.413000e+03</td>\n",
       "      <td>2413.0</td>\n",
       "      <td>2413.000000</td>\n",
       "      <td>2.413000e+03</td>\n",
       "      <td>2413.000000</td>\n",
       "      <td>141.000000</td>\n",
       "      <td>2413.0</td>\n",
       "      <td>2413.000000</td>\n",
       "      <td>2413.000000</td>\n",
       "      <td>1.801000e+03</td>\n",
       "      <td>...</td>\n",
       "      <td>2413.000000</td>\n",
       "      <td>2413.000000</td>\n",
       "      <td>2413.000000</td>\n",
       "      <td>2413.000000</td>\n",
       "      <td>2413.000000</td>\n",
       "      <td>2413.000000</td>\n",
       "      <td>2413.0</td>\n",
       "      <td>2413.0</td>\n",
       "      <td>2413.0</td>\n",
       "      <td>2413.000000</td>\n",
       "    </tr>\n",
       "    <tr>\n",
       "      <th>mean</th>\n",
       "      <td>1.500000e-01</td>\n",
       "      <td>4.0</td>\n",
       "      <td>0.150823</td>\n",
       "      <td>1.439305e+09</td>\n",
       "      <td>0.058433</td>\n",
       "      <td>2213.607801</td>\n",
       "      <td>inf</td>\n",
       "      <td>0.150823</td>\n",
       "      <td>28872.664318</td>\n",
       "      <td>9.195424e+08</td>\n",
       "      <td>...</td>\n",
       "      <td>0.483083</td>\n",
       "      <td>0.215402</td>\n",
       "      <td>0.278768</td>\n",
       "      <td>0.233857</td>\n",
       "      <td>0.501450</td>\n",
       "      <td>0.210112</td>\n",
       "      <td>0.0</td>\n",
       "      <td>0.0</td>\n",
       "      <td>0.0</td>\n",
       "      <td>0.336415</td>\n",
       "    </tr>\n",
       "    <tr>\n",
       "      <th>std</th>\n",
       "      <td>2.776133e-17</td>\n",
       "      <td>0.0</td>\n",
       "      <td>0.172458</td>\n",
       "      <td>2.261116e+09</td>\n",
       "      <td>0.234610</td>\n",
       "      <td>849.965115</td>\n",
       "      <td>NaN</td>\n",
       "      <td>0.172458</td>\n",
       "      <td>45293.922006</td>\n",
       "      <td>6.053956e+08</td>\n",
       "      <td>...</td>\n",
       "      <td>0.323928</td>\n",
       "      <td>0.166107</td>\n",
       "      <td>0.200017</td>\n",
       "      <td>0.220041</td>\n",
       "      <td>0.500102</td>\n",
       "      <td>0.407472</td>\n",
       "      <td>0.0</td>\n",
       "      <td>0.0</td>\n",
       "      <td>0.0</td>\n",
       "      <td>0.229487</td>\n",
       "    </tr>\n",
       "    <tr>\n",
       "      <th>min</th>\n",
       "      <td>1.500000e-01</td>\n",
       "      <td>4.0</td>\n",
       "      <td>0.000000</td>\n",
       "      <td>1.800000e+03</td>\n",
       "      <td>0.000000</td>\n",
       "      <td>111.000000</td>\n",
       "      <td>1800.0</td>\n",
       "      <td>0.000000</td>\n",
       "      <td>15.000000</td>\n",
       "      <td>1.685461e+08</td>\n",
       "      <td>...</td>\n",
       "      <td>0.000000</td>\n",
       "      <td>0.000000</td>\n",
       "      <td>0.000000</td>\n",
       "      <td>0.000000</td>\n",
       "      <td>0.000000</td>\n",
       "      <td>0.000000</td>\n",
       "      <td>0.0</td>\n",
       "      <td>0.0</td>\n",
       "      <td>0.0</td>\n",
       "      <td>0.000000</td>\n",
       "    </tr>\n",
       "    <tr>\n",
       "      <th>25%</th>\n",
       "      <td>1.500000e-01</td>\n",
       "      <td>4.0</td>\n",
       "      <td>0.000000</td>\n",
       "      <td>1.800000e+03</td>\n",
       "      <td>0.000000</td>\n",
       "      <td>1698.000000</td>\n",
       "      <td>1800.0</td>\n",
       "      <td>0.000000</td>\n",
       "      <td>40.000000</td>\n",
       "      <td>4.416712e+08</td>\n",
       "      <td>...</td>\n",
       "      <td>0.000000</td>\n",
       "      <td>0.000000</td>\n",
       "      <td>0.000000</td>\n",
       "      <td>0.000000</td>\n",
       "      <td>0.000000</td>\n",
       "      <td>0.000000</td>\n",
       "      <td>0.0</td>\n",
       "      <td>0.0</td>\n",
       "      <td>0.0</td>\n",
       "      <td>0.000000</td>\n",
       "    </tr>\n",
       "    <tr>\n",
       "      <th>50%</th>\n",
       "      <td>1.500000e-01</td>\n",
       "      <td>4.0</td>\n",
       "      <td>0.121000</td>\n",
       "      <td>1.800000e+03</td>\n",
       "      <td>0.000000</td>\n",
       "      <td>2101.000000</td>\n",
       "      <td>1800.0</td>\n",
       "      <td>0.121000</td>\n",
       "      <td>45.000000</td>\n",
       "      <td>4.498919e+08</td>\n",
       "      <td>...</td>\n",
       "      <td>0.623913</td>\n",
       "      <td>0.305500</td>\n",
       "      <td>0.391750</td>\n",
       "      <td>0.200000</td>\n",
       "      <td>1.000000</td>\n",
       "      <td>0.000000</td>\n",
       "      <td>0.0</td>\n",
       "      <td>0.0</td>\n",
       "      <td>0.0</td>\n",
       "      <td>0.446549</td>\n",
       "    </tr>\n",
       "    <tr>\n",
       "      <th>75%</th>\n",
       "      <td>1.500000e-01</td>\n",
       "      <td>4.0</td>\n",
       "      <td>0.205000</td>\n",
       "      <td>4.990000e+09</td>\n",
       "      <td>0.000000</td>\n",
       "      <td>2717.000000</td>\n",
       "      <td>NaN</td>\n",
       "      <td>0.205000</td>\n",
       "      <td>99999.000000</td>\n",
       "      <td>1.626673e+09</td>\n",
       "      <td>...</td>\n",
       "      <td>0.686957</td>\n",
       "      <td>0.305500</td>\n",
       "      <td>0.391750</td>\n",
       "      <td>0.339300</td>\n",
       "      <td>1.000000</td>\n",
       "      <td>0.000000</td>\n",
       "      <td>0.0</td>\n",
       "      <td>0.0</td>\n",
       "      <td>0.0</td>\n",
       "      <td>0.473577</td>\n",
       "    </tr>\n",
       "    <tr>\n",
       "      <th>max</th>\n",
       "      <td>1.500000e-01</td>\n",
       "      <td>4.0</td>\n",
       "      <td>2.113000</td>\n",
       "      <td>4.990000e+09</td>\n",
       "      <td>1.000000</td>\n",
       "      <td>4807.000000</td>\n",
       "      <td>inf</td>\n",
       "      <td>2.113000</td>\n",
       "      <td>99999.000000</td>\n",
       "      <td>1.626774e+09</td>\n",
       "      <td>...</td>\n",
       "      <td>1.000000</td>\n",
       "      <td>1.000000</td>\n",
       "      <td>1.000000</td>\n",
       "      <td>1.000000</td>\n",
       "      <td>1.000000</td>\n",
       "      <td>1.000000</td>\n",
       "      <td>0.0</td>\n",
       "      <td>0.0</td>\n",
       "      <td>0.0</td>\n",
       "      <td>1.000000</td>\n",
       "    </tr>\n",
       "  </tbody>\n",
       "</table>\n",
       "<p>8 rows × 40 columns</p>\n",
       "</div>"
      ],
      "text/plain": [
       "              alpha    beta           tf             k     observed  \\\n",
       "count  2.413000e+03  2413.0  2413.000000  2.413000e+03  2413.000000   \n",
       "mean   1.500000e-01     4.0     0.150823  1.439305e+09     0.058433   \n",
       "std    2.776133e-17     0.0     0.172458  2.261116e+09     0.234610   \n",
       "min    1.500000e-01     4.0     0.000000  1.800000e+03     0.000000   \n",
       "25%    1.500000e-01     4.0     0.000000  1.800000e+03     0.000000   \n",
       "50%    1.500000e-01     4.0     0.121000  1.800000e+03     0.000000   \n",
       "75%    1.500000e-01     4.0     0.205000  4.990000e+09     0.000000   \n",
       "max    1.500000e-01     4.0     2.113000  4.990000e+09     1.000000   \n",
       "\n",
       "            counts  capacity [veh]  tt_ff [min]  speed_ff[mi/hr]  \\\n",
       "count   141.000000          2413.0  2413.000000      2413.000000   \n",
       "mean   2213.607801             inf     0.150823     28872.664318   \n",
       "std     849.965115             NaN     0.172458     45293.922006   \n",
       "min     111.000000          1800.0     0.000000        15.000000   \n",
       "25%    1698.000000          1800.0     0.000000        40.000000   \n",
       "50%    2101.000000          1800.0     0.121000        45.000000   \n",
       "75%    2717.000000             NaN     0.205000     99999.000000   \n",
       "max    4807.000000             inf     2.113000     99999.000000   \n",
       "\n",
       "           inrix_id  ...   median_age    incidents    bus_stops  \\\n",
       "count  1.801000e+03  ...  2413.000000  2413.000000  2413.000000   \n",
       "mean   9.195424e+08  ...     0.483083     0.215402     0.278768   \n",
       "std    6.053956e+08  ...     0.323928     0.166107     0.200017   \n",
       "min    1.685461e+08  ...     0.000000     0.000000     0.000000   \n",
       "25%    4.416712e+08  ...     0.000000     0.000000     0.000000   \n",
       "50%    4.498919e+08  ...     0.623913     0.305500     0.391750   \n",
       "75%    1.626673e+09  ...     0.686957     0.305500     0.391750   \n",
       "max    1.626774e+09  ...     1.000000     1.000000     1.000000   \n",
       "\n",
       "       intersections     high_inc      low_inc  no_incidents  no_bus_stops  \\\n",
       "count    2413.000000  2413.000000  2413.000000        2413.0        2413.0   \n",
       "mean        0.233857     0.501450     0.210112           0.0           0.0   \n",
       "std         0.220041     0.500102     0.407472           0.0           0.0   \n",
       "min         0.000000     0.000000     0.000000           0.0           0.0   \n",
       "25%         0.000000     0.000000     0.000000           0.0           0.0   \n",
       "50%         0.200000     1.000000     0.000000           0.0           0.0   \n",
       "75%         0.339300     1.000000     0.000000           0.0           0.0   \n",
       "max         1.000000     1.000000     1.000000           0.0           0.0   \n",
       "\n",
       "       no_intersections  tt_reliability  \n",
       "count            2413.0     2413.000000  \n",
       "mean                0.0        0.336415  \n",
       "std                 0.0        0.229487  \n",
       "min                 0.0        0.000000  \n",
       "25%                 0.0        0.000000  \n",
       "50%                 0.0        0.446549  \n",
       "75%                 0.0        0.473577  \n",
       "max                 0.0        1.000000  \n",
       "\n",
       "[8 rows x 40 columns]"
      ]
     },
     "execution_count": 16,
     "metadata": {},
     "output_type": "execute_result"
    }
   ],
   "source": [
    "summary_table_links_df.describe()"
   ]
  },
  {
   "cell_type": "markdown",
   "metadata": {},
   "source": [
    "## Bilevel Estimation"
   ]
  },
  {
   "cell_type": "code",
   "execution_count": 17,
   "metadata": {},
   "outputs": [],
   "source": [
    "utility_function = isl.estimation.UtilityFunction(\n",
    "    features_Y=['tt'],\n",
    "    initial_values={'tt': 0},\n",
    ")\n",
    "\n",
    "equilibrator_norefined = isl.equilibrium.LUE_Equilibrator(\n",
    "    network=fresno_network,\n",
    "    paths_generator=paths_generator,\n",
    "    utility_function=utility_function,\n",
    "    max_iters=100,\n",
    "    method='fw',\n",
    "    iters_fw=10,\n",
    "    column_generation={'n_paths': 4,\n",
    "                       'ods_coverage': 0.1,\n",
    "                       'paths_selection': 4},\n",
    "    path_size_correction=1\n",
    ")\n",
    "\n",
    "outer_optimizer_norefined = isl.estimation.OuterOptimizer(\n",
    "    method='ngd',\n",
    "    iters=1,\n",
    "    eta=1e-1,\n",
    ")\n",
    "\n",
    "learner_norefined = isl.estimation.Learner(\n",
    "    equilibrator=equilibrator_norefined,\n",
    "    outer_optimizer=outer_optimizer_norefined,\n",
    "    utility_function=utility_function,\n",
    "    network=fresno_network,\n",
    "    name = 'norefined'\n",
    ")\n",
    "\n",
    "equilibrator_refined = isl.equilibrium.LUE_Equilibrator(\n",
    "    network=fresno_network,\n",
    "    paths_generator=paths_generator,\n",
    "    utility_function=utility_function,\n",
    "    max_iters=100,\n",
    "    method='fw',\n",
    "    iters_fw=10,\n",
    "    path_size_correction=1\n",
    ")\n",
    "\n",
    "outer_optimizer_refined = isl.estimation.OuterOptimizer(\n",
    "    method='lm',\n",
    "    # method='ngd',\n",
    "    iters=1,\n",
    "    # eta=5e-1,\n",
    ")\n",
    "\n",
    "learner_refined = isl.estimation.Learner(\n",
    "    network=fresno_network,\n",
    "    equilibrator=equilibrator_refined,\n",
    "    outer_optimizer=outer_optimizer_refined,\n",
    "    utility_function=utility_function,\n",
    "    name = 'refined'\n",
    ")"
   ]
  },
  {
   "cell_type": "markdown",
   "metadata": {},
   "source": [
    "### a) Benchmark predictions"
   ]
  },
  {
   "cell_type": "markdown",
   "metadata": {},
   "source": [
    "#### Naive prediction using mean counts"
   ]
  },
  {
   "cell_type": "code",
   "execution_count": 18,
   "metadata": {},
   "outputs": [
    {
     "name": "stdout",
     "output_type": "stream",
     "text": [
      "\n",
      "Objective function under mean count prediction: 101,141,667.7\n"
     ]
    }
   ],
   "source": [
    "mean_counts_prediction_loss, mean_count_benchmark_model \\\n",
    "    = isl.estimation.mean_count_prediction(counts=np.array(list(counts.values()))[:, np.newaxis])\n",
    "\n",
    "print('\\nObjective function under mean count prediction: ' + '{:,}'.format(round(mean_counts_prediction_loss, 1)))"
   ]
  },
  {
   "cell_type": "markdown",
   "metadata": {},
   "source": [
    "#### Naive prediction where travelers make equilikely choices"
   ]
  },
  {
   "cell_type": "code",
   "execution_count": 19,
   "metadata": {},
   "outputs": [
    {
     "ename": "KeyboardInterrupt",
     "evalue": "",
     "output_type": "error",
     "traceback": [
      "\u001B[0;31m---------------------------------------------------------------------------\u001B[0m",
      "\u001B[0;31mKeyboardInterrupt\u001B[0m                         Traceback (most recent call last)",
      "\u001B[0;32m/var/folders/mg/t5yt0b_d1cg4ykytg0c22xcc0000gn/T/ipykernel_87364/2782021562.py\u001B[0m in \u001B[0;36m<module>\u001B[0;34m\u001B[0m\n\u001B[1;32m      4\u001B[0m     \u001B[0mequilibrator\u001B[0m\u001B[0;34m=\u001B[0m\u001B[0mequilibrator_norefined\u001B[0m\u001B[0;34m,\u001B[0m\u001B[0;34m\u001B[0m\u001B[0;34m\u001B[0m\u001B[0m\n\u001B[1;32m      5\u001B[0m     \u001B[0mcounts\u001B[0m\u001B[0;34m=\u001B[0m\u001B[0mfresno_network\u001B[0m\u001B[0;34m.\u001B[0m\u001B[0mcounts_vector\u001B[0m\u001B[0;34m,\u001B[0m\u001B[0;34m\u001B[0m\u001B[0;34m\u001B[0m\u001B[0m\n\u001B[0;32m----> 6\u001B[0;31m     utility_function=utility_function)\n\u001B[0m\u001B[1;32m      7\u001B[0m \u001B[0;34m\u001B[0m\u001B[0m\n\u001B[1;32m      8\u001B[0m \u001B[0mprint\u001B[0m\u001B[0;34m(\u001B[0m\u001B[0;34m'Objective function under equilikely route choices: '\u001B[0m \u001B[0;34m+\u001B[0m \u001B[0;34m'{:,}'\u001B[0m\u001B[0;34m.\u001B[0m\u001B[0mformat\u001B[0m\u001B[0;34m(\u001B[0m\u001B[0mround\u001B[0m\u001B[0;34m(\u001B[0m\u001B[0mequilikely_prediction_loss\u001B[0m\u001B[0;34m,\u001B[0m \u001B[0;36m1\u001B[0m\u001B[0;34m)\u001B[0m\u001B[0;34m)\u001B[0m\u001B[0;34m)\u001B[0m\u001B[0;34m\u001B[0m\u001B[0;34m\u001B[0m\u001B[0m\n",
      "\u001B[0;32m~/OneDrive/data-science/github/isuelogit/src/isuelogit/estimation.py\u001B[0m in \u001B[0;36mloss_counts_equilikely_choices\u001B[0;34m(**kwargs)\u001B[0m\n\u001B[1;32m   2761\u001B[0m     \u001B[0mutility_function\u001B[0m\u001B[0;34m.\u001B[0m\u001B[0mvalues\u001B[0m \u001B[0;34m=\u001B[0m \u001B[0mdict\u001B[0m\u001B[0;34m.\u001B[0m\u001B[0mfromkeys\u001B[0m\u001B[0;34m(\u001B[0m\u001B[0mutility_function\u001B[0m\u001B[0;34m.\u001B[0m\u001B[0mfeatures\u001B[0m\u001B[0;34m,\u001B[0m \u001B[0;36m0\u001B[0m\u001B[0;34m)\u001B[0m\u001B[0;34m\u001B[0m\u001B[0;34m\u001B[0m\u001B[0m\n\u001B[1;32m   2762\u001B[0m \u001B[0;34m\u001B[0m\u001B[0m\n\u001B[0;32m-> 2763\u001B[0;31m     \u001B[0;32mreturn\u001B[0m \u001B[0mloss_counts_uncongested_network\u001B[0m\u001B[0;34m(\u001B[0m\u001B[0mutility_function\u001B[0m\u001B[0;34m=\u001B[0m\u001B[0mutility_function\u001B[0m\u001B[0;34m,\u001B[0m \u001B[0;34m**\u001B[0m\u001B[0mkwargs\u001B[0m\u001B[0;34m)\u001B[0m\u001B[0;34m\u001B[0m\u001B[0;34m\u001B[0m\u001B[0m\n\u001B[0m\u001B[1;32m   2764\u001B[0m \u001B[0;34m\u001B[0m\u001B[0m\n\u001B[1;32m   2765\u001B[0m \u001B[0;34m\u001B[0m\u001B[0m\n",
      "\u001B[0;32m~/OneDrive/data-science/github/isuelogit/src/isuelogit/estimation.py\u001B[0m in \u001B[0;36mloss_counts_uncongested_network\u001B[0;34m(equilibrator, network, counts, utility_function)\u001B[0m\n\u001B[1;32m   2750\u001B[0m                                                                   \u001B[0mfeatures_Y\u001B[0m\u001B[0;34m=\u001B[0m\u001B[0mfeatures_Y\u001B[0m\u001B[0;34m,\u001B[0m\u001B[0;34m\u001B[0m\u001B[0;34m\u001B[0m\u001B[0m\n\u001B[1;32m   2751\u001B[0m                                                                   \u001B[0mfeatures_Z\u001B[0m\u001B[0;34m=\u001B[0m\u001B[0mfeatures_Z\u001B[0m\u001B[0;34m,\u001B[0m\u001B[0;34m\u001B[0m\u001B[0;34m\u001B[0m\u001B[0m\n\u001B[0;32m-> 2752\u001B[0;31m                                                                   uncongested_mode=True)\n\u001B[0m\u001B[1;32m   2753\u001B[0m \u001B[0;34m\u001B[0m\u001B[0m\n\u001B[1;32m   2754\u001B[0m     \u001B[0mpredicted_counts\u001B[0m \u001B[0;34m=\u001B[0m \u001B[0mnp\u001B[0m\u001B[0;34m.\u001B[0m\u001B[0marray\u001B[0m\u001B[0;34m(\u001B[0m\u001B[0mlist\u001B[0m\u001B[0;34m(\u001B[0m\u001B[0mresults_uncongested_eq\u001B[0m\u001B[0;34m[\u001B[0m\u001B[0;34m'x'\u001B[0m\u001B[0;34m]\u001B[0m\u001B[0;34m.\u001B[0m\u001B[0mvalues\u001B[0m\u001B[0;34m(\u001B[0m\u001B[0;34m)\u001B[0m\u001B[0;34m)\u001B[0m\u001B[0;34m)\u001B[0m\u001B[0;34m[\u001B[0m\u001B[0;34m:\u001B[0m\u001B[0;34m,\u001B[0m \u001B[0mnp\u001B[0m\u001B[0;34m.\u001B[0m\u001B[0mnewaxis\u001B[0m\u001B[0;34m]\u001B[0m\u001B[0;34m\u001B[0m\u001B[0;34m\u001B[0m\u001B[0m\n",
      "\u001B[0;32m~/OneDrive/data-science/github/isuelogit/src/isuelogit/equilibrium.py\u001B[0m in \u001B[0;36msue_logit_iterative\u001B[0;34m(self, features_Z, theta, q, silent_mode, network, **kwargs)\u001B[0m\n\u001B[1;32m    403\u001B[0m                                                \u001B[0mn_paths\u001B[0m\u001B[0;34m=\u001B[0m\u001B[0moptions\u001B[0m\u001B[0;34m[\u001B[0m\u001B[0;34m'column_generation'\u001B[0m\u001B[0;34m]\u001B[0m\u001B[0;34m[\u001B[0m\u001B[0;34m'n_paths'\u001B[0m\u001B[0;34m]\u001B[0m\u001B[0;34m,\u001B[0m\u001B[0;34m\u001B[0m\u001B[0;34m\u001B[0m\u001B[0m\n\u001B[1;32m    404\u001B[0m                                                \u001B[0mods_coverage\u001B[0m\u001B[0;34m=\u001B[0m\u001B[0moptions\u001B[0m\u001B[0;34m[\u001B[0m\u001B[0;34m'column_generation'\u001B[0m\u001B[0;34m]\u001B[0m\u001B[0;34m[\u001B[0m\u001B[0;34m'ods_coverage'\u001B[0m\u001B[0;34m]\u001B[0m\u001B[0;34m,\u001B[0m\u001B[0;34m\u001B[0m\u001B[0;34m\u001B[0m\u001B[0m\n\u001B[0;32m--> 405\u001B[0;31m                                                \u001B[0mnetwork\u001B[0m\u001B[0;34m=\u001B[0m\u001B[0mnetwork\u001B[0m\u001B[0;34m\u001B[0m\u001B[0;34m\u001B[0m\u001B[0m\n\u001B[0m\u001B[1;32m    406\u001B[0m                                                )\n\u001B[1;32m    407\u001B[0m                     \u001B[0mcolumn_generation_done\u001B[0m \u001B[0;34m=\u001B[0m \u001B[0;32mTrue\u001B[0m\u001B[0;34m\u001B[0m\u001B[0;34m\u001B[0m\u001B[0m\n",
      "\u001B[0;32m~/OneDrive/data-science/github/isuelogit/src/isuelogit/equilibrium.py\u001B[0m in \u001B[0;36msue_column_generation\u001B[0;34m(self, network, theta, n_paths, ods_coverage, ods_sampling, silent_mode)\u001B[0m\n\u001B[1;32m    861\u001B[0m                                                                     \u001B[0mods\u001B[0m \u001B[0;34m=\u001B[0m \u001B[0mods_sample\u001B[0m\u001B[0;34m,\u001B[0m\u001B[0;34m\u001B[0m\u001B[0;34m\u001B[0m\u001B[0m\n\u001B[1;32m    862\u001B[0m                                                                     \u001B[0mpaths_per_od\u001B[0m \u001B[0;34m=\u001B[0m \u001B[0mn_paths\u001B[0m\u001B[0;34m,\u001B[0m\u001B[0;34m\u001B[0m\u001B[0;34m\u001B[0m\u001B[0m\n\u001B[0;32m--> 863\u001B[0;31m                                                                     silent_mode = True)\n\u001B[0m\u001B[1;32m    864\u001B[0m \u001B[0;34m\u001B[0m\u001B[0m\n\u001B[1;32m    865\u001B[0m         \u001B[0;31m# See if new paths were found so they are added into the existing path set\u001B[0m\u001B[0;34m\u001B[0m\u001B[0;34m\u001B[0m\u001B[0;34m\u001B[0m\u001B[0m\n",
      "\u001B[0;32m~/OneDrive/data-science/github/isuelogit/src/isuelogit/factory.py\u001B[0m in \u001B[0;36mk_shortest_paths\u001B[0;34m(self, k, network, theta, ods, **kwargs)\u001B[0m\n\u001B[1;32m    918\u001B[0m                                                    \u001B[0mlinks\u001B[0m\u001B[0;34m=\u001B[0m \u001B[0mnetwork\u001B[0m\u001B[0;34m.\u001B[0m\u001B[0mlinks_dict\u001B[0m\u001B[0;34m,\u001B[0m\u001B[0;34m\u001B[0m\u001B[0;34m\u001B[0m\u001B[0m\n\u001B[1;32m    919\u001B[0m                                                    \u001B[0medge_weights\u001B[0m \u001B[0;34m=\u001B[0m \u001B[0medge_utilities\u001B[0m\u001B[0;34m,\u001B[0m\u001B[0;34m\u001B[0m\u001B[0;34m\u001B[0m\u001B[0m\n\u001B[0;32m--> 920\u001B[0;31m                                                    \u001B[0;34m**\u001B[0m\u001B[0mkwargs\u001B[0m\u001B[0;34m\u001B[0m\u001B[0;34m\u001B[0m\u001B[0m\n\u001B[0m\u001B[1;32m    921\u001B[0m                                                    )\n\u001B[1;32m    922\u001B[0m \u001B[0;34m\u001B[0m\u001B[0m\n",
      "\u001B[0;32m~/OneDrive/data-science/github/isuelogit/src/isuelogit/paths.py\u001B[0m in \u001B[0;36mk_path_generation_nx\u001B[0;34m(A, ods, links, cutoff, n_paths, edge_weights, silent_mode, max_attempts, cutoff_increase_factor, **kwargs)\u001B[0m\n\u001B[1;32m    529\u001B[0m                 \u001B[0mprinter\u001B[0m\u001B[0;34m.\u001B[0m\u001B[0mblockPrint\u001B[0m\u001B[0;34m(\u001B[0m\u001B[0;34m)\u001B[0m\u001B[0;34m\u001B[0m\u001B[0;34m\u001B[0m\u001B[0m\n\u001B[1;32m    530\u001B[0m \u001B[0;34m\u001B[0m\u001B[0m\n\u001B[0;32m--> 531\u001B[0;31m             \u001B[0mpaths_od\u001B[0m\u001B[0;34m[\u001B[0m\u001B[0mod\u001B[0m\u001B[0;34m]\u001B[0m \u001B[0;34m=\u001B[0m \u001B[0mlist\u001B[0m\u001B[0;34m(\u001B[0m\u001B[0mk_simple_paths_nx\u001B[0m\u001B[0;34m(\u001B[0m\u001B[0msource\u001B[0m\u001B[0;34m=\u001B[0m\u001B[0mod\u001B[0m\u001B[0;34m[\u001B[0m\u001B[0;36m0\u001B[0m\u001B[0;34m]\u001B[0m\u001B[0;34m,\u001B[0m \u001B[0mtarget\u001B[0m\u001B[0;34m=\u001B[0m\u001B[0mod\u001B[0m\u001B[0;34m[\u001B[0m\u001B[0;36m1\u001B[0m\u001B[0;34m]\u001B[0m\u001B[0;34m,\u001B[0m \u001B[0mcutoff\u001B[0m\u001B[0;34m=\u001B[0m\u001B[0mcutoff\u001B[0m\u001B[0;34m,\u001B[0m \u001B[0mG\u001B[0m \u001B[0;34m=\u001B[0m \u001B[0mG\u001B[0m\u001B[0;34m,\u001B[0m \u001B[0mlinks\u001B[0m \u001B[0;34m=\u001B[0m \u001B[0mlinks\u001B[0m\u001B[0;34m,\u001B[0m \u001B[0mk\u001B[0m \u001B[0;34m=\u001B[0m \u001B[0mn_paths\u001B[0m\u001B[0;34m,\u001B[0m \u001B[0mweight\u001B[0m \u001B[0;34m=\u001B[0m \u001B[0mweight\u001B[0m\u001B[0;34m)\u001B[0m\u001B[0;34m)\u001B[0m\u001B[0;34m\u001B[0m\u001B[0;34m\u001B[0m\u001B[0m\n\u001B[0m\u001B[1;32m    532\u001B[0m \u001B[0;34m\u001B[0m\u001B[0m\n\u001B[1;32m    533\u001B[0m             \u001B[0;31m#TODO: implement shortest path with igraph\u001B[0m\u001B[0;34m\u001B[0m\u001B[0;34m\u001B[0m\u001B[0;34m\u001B[0m\u001B[0m\n",
      "\u001B[0;32m~/OneDrive/data-science/github/isuelogit/src/isuelogit/paths.py\u001B[0m in \u001B[0;36mk_simple_paths_nx\u001B[0;34m(source, target, G, links, k, cutoff, weight)\u001B[0m\n\u001B[1;32m    392\u001B[0m     \u001B[0mA\u001B[0m \u001B[0;34m=\u001B[0m \u001B[0mnx\u001B[0m\u001B[0;34m.\u001B[0m\u001B[0madjacency_matrix\u001B[0m\u001B[0;34m(\u001B[0m\u001B[0mG\u001B[0m\u001B[0;34m)\u001B[0m\u001B[0;34m.\u001B[0m\u001B[0mtodense\u001B[0m\u001B[0;34m(\u001B[0m\u001B[0;34m)\u001B[0m\u001B[0;34m\u001B[0m\u001B[0;34m\u001B[0m\u001B[0m\n\u001B[1;32m    393\u001B[0m \u001B[0;34m\u001B[0m\u001B[0m\n\u001B[0;32m--> 394\u001B[0;31m     \u001B[0mmultinetwork\u001B[0m \u001B[0;34m=\u001B[0m \u001B[0;34m(\u001B[0m\u001B[0mA\u001B[0m \u001B[0;34m>\u001B[0m \u001B[0;36m1\u001B[0m\u001B[0;34m)\u001B[0m\u001B[0;34m.\u001B[0m\u001B[0many\u001B[0m\u001B[0;34m(\u001B[0m\u001B[0;34m)\u001B[0m\u001B[0;34m\u001B[0m\u001B[0;34m\u001B[0m\u001B[0m\n\u001B[0m\u001B[1;32m    395\u001B[0m     \u001B[0mdinetwork\u001B[0m \u001B[0;34m=\u001B[0m \u001B[0;34m(\u001B[0m\u001B[0mA\u001B[0m \u001B[0;34m<=\u001B[0m \u001B[0;36m1\u001B[0m\u001B[0;34m)\u001B[0m\u001B[0;34m.\u001B[0m\u001B[0many\u001B[0m\u001B[0;34m(\u001B[0m\u001B[0;34m)\u001B[0m\u001B[0;34m\u001B[0m\u001B[0;34m\u001B[0m\u001B[0m\n\u001B[1;32m    396\u001B[0m     \u001B[0mpaths\u001B[0m \u001B[0;34m=\u001B[0m \u001B[0;34m[\u001B[0m\u001B[0;34m]\u001B[0m\u001B[0;34m\u001B[0m\u001B[0;34m\u001B[0m\u001B[0m\n",
      "\u001B[0;31mKeyboardInterrupt\u001B[0m: "
     ]
    }
   ],
   "source": [
    "equilikely_prediction_loss, predicted_counts_equilikely \\\n",
    "    = isl.estimation.loss_counts_equilikely_choices(\n",
    "    network = fresno_network,\n",
    "    equilibrator=equilibrator_norefined,\n",
    "    counts=fresno_network.counts_vector,\n",
    "    utility_function=utility_function)\n",
    "\n",
    "print('Objective function under equilikely route choices: ' + '{:,}'.format(round(equilikely_prediction_loss, 1)))"
   ]
  },
  {
   "cell_type": "markdown",
   "metadata": {},
   "source": [
    "### b) Model with travel time feature only"
   ]
  },
  {
   "cell_type": "markdown",
   "metadata": {},
   "source": [
    "#### No refined stage"
   ]
  },
  {
   "cell_type": "code",
   "execution_count": null,
   "metadata": {},
   "outputs": [],
   "source": [
    "learning_results_norefined, inference_results_norefined, best_iter_norefined = \\\n",
    "    learner_norefined.statistical_inference(h0=0, bilevel_iters=10, alpha=0.05, link_report=False, iteration_report = True)\n",
    "\n",
    "theta_norefined = learning_results_norefined[best_iter_norefined]['theta']"
   ]
  },
  {
   "cell_type": "markdown",
   "metadata": {},
   "source": [
    "#### Refined stage"
   ]
  },
  {
   "cell_type": "code",
   "execution_count": null,
   "metadata": {},
   "outputs": [],
   "source": [
    "learner_refined.utility_function.initial_values = theta_norefined\n",
    "\n",
    "learning_results_refined, inference_results_refined, best_iter_refined = \\\n",
    "    learner_refined.statistical_inference(h0=0, bilevel_iters=10, alpha=0.05, link_report=False, iteration_report = True)\n",
    "\n",
    "theta_refined = learning_results_refined[best_iter_refined]['theta']"
   ]
  },
  {
   "cell_type": "markdown",
   "metadata": {},
   "source": [
    "#### Report"
   ]
  },
  {
   "cell_type": "code",
   "execution_count": null,
   "metadata": {},
   "outputs": [],
   "source": [
    "estimation_reporter.add_items_report(\n",
    "    selected_date = data_reader.options['selected_date'],\n",
    "    selected_hour = data_reader.options['selected_hour'],\n",
    "    selected_od_periods = data_reader.options['od_periods'],\n",
    "    mean_counts=round(mean_count_benchmark_model,1),\n",
    "    mean_counts_prediction_loss = round(mean_counts_prediction_loss,1),\n",
    "    equilikely_prediction_loss = round(equilikely_prediction_loss,1)\n",
    ")\n",
    "\n",
    "estimation_reporter.add_items_report(\n",
    "    theta_norefined=theta_norefined,\n",
    "    theta_refined= theta_refined,\n",
    "    best_objective_norefined = round(learning_results_norefined[best_iter_norefined]['objective'],1),\n",
    "    best_objective_refined = round(learning_results_refined[best_iter_refined]['objective'],1),\n",
    ")\n",
    "\n",
    "# Summary with most relevant options, prediction error, initial parameters, etc\n",
    "estimation_reporter.write_estimation_report(\n",
    "    network=fresno_network,\n",
    "    learners=[learner_norefined, learner_refined],\n",
    "    utility_function=utility_function)\n",
    "\n",
    "# Write tables with results on learning and inference\n",
    "estimation_reporter.write_learning_tables(\n",
    "    results_norefined=learning_results_norefined,\n",
    "    results_refined=learning_results_refined,\n",
    "    network = fresno_network,\n",
    "    utility_function = utility_function)\n",
    "\n",
    "estimation_reporter.write_inference_tables(\n",
    "    results_norefined=inference_results_norefined,\n",
    "    results_refined=inference_results_refined,\n",
    "    float_format = '%.3f')"
   ]
  },
  {
   "cell_type": "markdown",
   "metadata": {},
   "source": [
    "#### Visualizations"
   ]
  },
  {
   "cell_type": "markdown",
   "metadata": {},
   "source": [
    "##### Convergence"
   ]
  },
  {
   "cell_type": "code",
   "execution_count": null,
   "metadata": {},
   "outputs": [],
   "source": [
    "results_df = isl.descriptive_statistics \\\n",
    "    .get_loss_and_estimates_over_iterations(results_norefined=learning_results_norefined\n",
    "                                            , results_refined=learning_results_refined)\n",
    "\n",
    "fig = isl.visualization.Artist().convergence(\n",
    "    results_norefined_df=results_df[results_df['stage'] == 'norefined'],\n",
    "    results_refined_df=results_df[results_df['stage'] == 'refined'],\n",
    "    filename='convergence_' + fresno_network.key,\n",
    "    methods=[outer_optimizer_norefined.method.key, outer_optimizer_refined.method.key],\n",
    "    folder = estimation_reporter.dirs['estimation_folder'],\n",
    "    simulated_data = False\n",
    ")"
   ]
  },
  {
   "cell_type": "markdown",
   "metadata": {},
   "source": [
    "##### Distribution of errors across link counts"
   ]
  },
  {
   "cell_type": "code",
   "execution_count": null,
   "metadata": {},
   "outputs": [],
   "source": [
    "best_predicted_counts_norefined = np.array(list(learning_results_norefined[best_iter_norefined]['x'].values()))[:, np.newaxis]\n",
    "best_predicted_counts_refined = np.array(list(learning_results_refined[best_iter_refined]['x'].values()))[:, np.newaxis]\n",
    "\n",
    "fig, axs = plt.subplots(1, 2, sharey='all', tight_layout=True, figsize=(8, 4))\n",
    "\n",
    "axs[0].hist(isl.estimation.error_by_link(observed_counts=np.array(list(counts.values()))[:, np.newaxis],\n",
    "                                         predicted_counts=best_predicted_counts_norefined))\n",
    "axs[1].hist(isl.estimation.error_by_link(observed_counts=np.array(list(counts.values()))[:, np.newaxis],\n",
    "                                         predicted_counts=best_predicted_counts_refined))\n",
    "\n",
    "for axi in [axs[0], axs[1]]:\n",
    "    axi.tick_params(axis='x', labelsize=16)\n",
    "    axi.tick_params(axis='y', labelsize=16)\n",
    "\n",
    "plt.show()\n",
    "\n",
    "fig.savefig(estimation_reporter.dirs['estimation_folder'] + '/' + 'distribution_predicted_error_counts.pdf',\n",
    "            pad_inches=0.1, bbox_inches=\"tight\")"
   ]
  },
  {
   "cell_type": "markdown",
   "metadata": {},
   "source": [
    "### c) Model with all features"
   ]
  },
  {
   "cell_type": "code",
   "execution_count": null,
   "metadata": {},
   "outputs": [],
   "source": [
    "utility_function_full_model = isl.estimation.UtilityFunction(\n",
    "    features_Y=['tt'],\n",
    "    features_Z= ['tt_cv', 'incidents', 'intersections', 'bus_stops', 'median_inc'],\n",
    "    signs = {'tt': '-', 'tt_cv':'-', 'incidents':'-', 'intersections':'-', 'bus_stops':'-', 'median_inc':'+'}\n",
    ")\n",
    "\n",
    "# Update utility functions of no refined and refined learners\n",
    "learner_norefined.utility_function = utility_function_full_model\n",
    "learner_refined.utility_function = utility_function_full_model\n",
    "\n",
    "#Initialize value with the estimate obtained from b)\n",
    "learner_norefined.utility_function.initial_values = theta_refined\n",
    "\n",
    "estimation_reporter = isl.writer.Reporter(\n",
    "    folderpath = isl.config.dirs['output_folder'] + 'estimations/' + network_name, seed =_SEED)"
   ]
  },
  {
   "cell_type": "markdown",
   "metadata": {},
   "source": [
    "#### No refined stage"
   ]
  },
  {
   "cell_type": "code",
   "execution_count": null,
   "metadata": {},
   "outputs": [],
   "source": [
    "learning_results_norefined, inference_results_norefined, best_iter_norefined = \\\n",
    "    learner_norefined.statistical_inference(h0=0, bilevel_iters=10, alpha=0.05, link_report=False, iteration_report = True)\n",
    "\n",
    "theta_norefined_full_model = learning_results_norefined[best_iter_norefined]['theta']"
   ]
  },
  {
   "cell_type": "markdown",
   "metadata": {},
   "source": [
    "#### Refined stage"
   ]
  },
  {
   "cell_type": "code",
   "execution_count": null,
   "metadata": {},
   "outputs": [],
   "source": [
    "learner_refined.utility_function.initial_values = theta_norefined_full_model\n",
    "\n",
    "learning_results_refined, inference_results_refined, best_iter_refined = \\\n",
    "    learner_refined.statistical_inference(h0=0, bilevel_iters=10, alpha=0.05, link_report=False, iteration_report = True)\n",
    "\n",
    "theta_refined_full_model = learning_results_refined[best_iter_refined]['theta']"
   ]
  },
  {
   "cell_type": "markdown",
   "metadata": {},
   "source": [
    "#### Report"
   ]
  },
  {
   "cell_type": "code",
   "execution_count": null,
   "metadata": {},
   "outputs": [],
   "source": [
    "estimation_reporter.add_items_report(\n",
    "    selected_date = data_reader.options['selected_date'],\n",
    "    selected_hour = data_reader.options['selected_hour'],\n",
    "    selected_od_periods = data_reader.options['od_periods'],\n",
    "    mean_counts=round(mean_count_benchmark_model,1),\n",
    "    mean_counts_prediction_loss = round(mean_counts_prediction_loss,1),\n",
    "    equilikely_prediction_loss = round(equilikely_prediction_loss,1)\n",
    ")\n",
    "\n",
    "estimation_reporter.add_items_report(\n",
    "    theta_norefined=theta_norefined_full_model,\n",
    "    theta_refined= theta_refined_full_model,\n",
    "    best_objective_norefined = round(learning_results_norefined[best_iter_norefined]['objective'],1),\n",
    "    best_objective_refined = round(learning_results_refined[best_iter_refined]['objective'],1),\n",
    ")\n",
    "\n",
    "estimation_reporter.write_estimation_report(\n",
    "    network=fresno_network,\n",
    "    learners=[learner_norefined, learner_refined],\n",
    "    utility_function=utility_function_full_model)\n",
    "\n",
    "estimation_reporter.write_learning_tables(\n",
    "    results_norefined=learning_results_norefined,\n",
    "    results_refined=learning_results_refined,\n",
    "    network = fresno_network,\n",
    "    utility_function = utility_function_full_model)\n",
    "\n",
    "estimation_reporter.write_inference_tables(\n",
    "    results_norefined=inference_results_norefined,\n",
    "    results_refined=inference_results_refined,\n",
    "    float_format = '%.3f')"
   ]
  },
  {
   "cell_type": "markdown",
   "metadata": {},
   "source": [
    "### d) Model including features with parameters with expected sign"
   ]
  },
  {
   "cell_type": "code",
   "execution_count": null,
   "metadata": {},
   "outputs": [],
   "source": [
    "features_Y,features_Z = isl.estimation.feature_selection(utility_function_full_model,\n",
    "                                                          theta = theta_refined_full_model,\n",
    "                                                          criterion = 'sign')\n",
    "\n",
    "utility_function_feature_selection_model = isl.estimation.UtilityFunction(\n",
    "    features_Y = features_Y,\n",
    "    features_Z = features_Z\n",
    ")\n",
    "\n",
    "learner_norefined.utility_function = utility_function_feature_selection_model\n",
    "learner_refined.utility_function = utility_function_feature_selection_model\n",
    "\n",
    "learner_norefined.utility_function.initial_values = theta_refined_full_model\n",
    "\n",
    "estimation_reporter = isl.writer.Reporter(\n",
    "    folderpath = isl.config.dirs['output_folder'] + 'estimations/' + network_name, seed = _SEED)"
   ]
  },
  {
   "cell_type": "markdown",
   "metadata": {},
   "source": [
    "#### No refined stage"
   ]
  },
  {
   "cell_type": "code",
   "execution_count": null,
   "metadata": {},
   "outputs": [],
   "source": [
    "learning_results_norefined, inference_results_norefined, best_iter_norefined = \\\n",
    "    learner_norefined.statistical_inference(h0=0, bilevel_iters=10, alpha=0.05, \n",
    "                                            link_report=False, iteration_report = True)\n",
    "\n",
    "theta_norefined_feature_selection_model = learning_results_norefined[best_iter_norefined]['theta']"
   ]
  },
  {
   "cell_type": "markdown",
   "metadata": {},
   "source": [
    "#### Refined stage"
   ]
  },
  {
   "cell_type": "code",
   "execution_count": null,
   "metadata": {},
   "outputs": [],
   "source": [
    "learner_refined.utility_function.initial_values = theta_norefined_feature_selection_model\n",
    "\n",
    "learning_results_refined, inference_results_refined, best_iter_refined = \\\n",
    "    learner_refined.statistical_inference(h0=0, bilevel_iters=10, alpha=0.05, \n",
    "                                          link_report=False, iteration_report = True)\n",
    "\n",
    "theta_refined_feature_selection_model = learning_results_refined[best_iter_refined]['theta']"
   ]
  },
  {
   "cell_type": "markdown",
   "metadata": {},
   "source": [
    "#### Report"
   ]
  },
  {
   "cell_type": "code",
   "execution_count": null,
   "metadata": {},
   "outputs": [],
   "source": [
    "estimation_reporter.add_items_report(\n",
    "    selected_date = data_reader.options['selected_date'],\n",
    "    selected_hour = data_reader.options['selected_hour'],\n",
    "    selected_od_periods = data_reader.options['od_periods'],\n",
    "    mean_counts=round(mean_count_benchmark_model,1),\n",
    "    mean_counts_prediction_loss = round(mean_counts_prediction_loss,1),\n",
    "    equilikely_prediction_loss = round(equilikely_prediction_loss,1)\n",
    ")\n",
    "\n",
    "estimation_reporter.add_items_report(\n",
    "    theta_norefined=theta_norefined_feature_selection_model,\n",
    "    theta_refined= theta_refined_feature_selection_model,\n",
    "    best_objective_norefined = round(learning_results_norefined[best_iter_norefined]['objective'],1),\n",
    "    best_objective_refined = round(learning_results_refined[best_iter_refined]['objective'],1),\n",
    ")\n",
    "\n",
    "estimation_reporter.write_estimation_report(\n",
    "    network=fresno_network,\n",
    "    learners=[learner_norefined, learner_refined],\n",
    "    utility_function=utility_function_feature_selection_model)\n",
    "\n",
    "estimation_reporter.write_learning_tables(\n",
    "    results_norefined=learning_results_norefined,\n",
    "    results_refined=learning_results_refined,\n",
    "    network = fresno_network,\n",
    "    utility_function = utility_function_feature_selection_model)\n",
    "\n",
    "estimation_reporter.write_inference_tables(\n",
    "    results_norefined=inference_results_norefined,\n",
    "    results_refined=inference_results_refined,\n",
    "    float_format = '%.3f')"
   ]
  },
  {
   "cell_type": "markdown",
   "metadata": {},
   "source": [
    "### e) Model with all features and constrained optimization on expected signs of parameters"
   ]
  },
  {
   "cell_type": "code",
   "execution_count": null,
   "metadata": {},
   "outputs": [],
   "source": [
    "# Update utility functions of no refined and refined learners\n",
    "learner_norefined.utility_function = utility_function_full_model\n",
    "learner_refined.utility_function = utility_function_full_model\n",
    "\n",
    "#Initialize value with the estimate obtained from b)\n",
    "#learner_norefined.utility_function.initial_values = theta_refined"
   ]
  },
  {
   "cell_type": "markdown",
   "metadata": {},
   "source": [
    "#### No refined stage"
   ]
  },
  {
   "cell_type": "code",
   "execution_count": null,
   "metadata": {},
   "outputs": [],
   "source": [
    "# learning_results_norefined, inference_results_norefined, best_iter_norefined = \\\n",
    "#     learner_norefined.statistical_inference(h0=0, bilevel_iters=3, alpha=0.05, constrained_optimization = {'sign':True, 'fix':True}, \n",
    "#                                             link_report=False, iteration_report = True)\n",
    "\n",
    "# theta_norefined_full_model = learning_results_norefined[best_iter_norefined]['theta']"
   ]
  },
  {
   "cell_type": "markdown",
   "metadata": {},
   "source": [
    "#### Refined stage"
   ]
  },
  {
   "cell_type": "code",
   "execution_count": null,
   "metadata": {},
   "outputs": [],
   "source": []
  }
 ],
 "metadata": {
  "kernelspec": {
   "display_name": "venv-isuelogit",
   "language": "python",
   "name": "venv-isuelogit"
  },
  "language_info": {
   "codemirror_mode": {
    "name": "ipython",
    "version": 3
   },
   "file_extension": ".py",
   "mimetype": "text/x-python",
   "name": "python",
   "nbconvert_exporter": "python",
   "pygments_lexer": "ipython3",
   "version": "3.7.4"
  }
 },
 "nbformat": 4,
 "nbformat_minor": 4
}