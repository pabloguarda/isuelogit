{
 "cells": [
  {
   "cell_type": "markdown",
   "metadata": {},
   "source": [
    "## Setup"
   ]
  },
  {
   "cell_type": "code",
   "execution_count": 1,
   "metadata": {},
   "outputs": [],
   "source": [
    "%matplotlib inline\n",
    "from IPython.display import display\n",
    "\n",
    "# External modules\n",
    "import os\n",
    "import sys\n",
    "import pandas as pd\n",
    "import numpy as np\n",
    "from sklearn import preprocessing"
   ]
  },
  {
   "cell_type": "code",
   "execution_count": 2,
   "metadata": {},
   "outputs": [
    {
     "name": "stdout",
     "output_type": "stream",
     "text": [
      "main dir: /Users/pablo/OneDrive/data-science/github/transportAI\n"
     ]
    }
   ],
   "source": [
    "# Path management\n",
    "from pathlib import Path\n",
    "\n",
    "# Get main project directory \n",
    "main_dir = str(Path(os.path.abspath('')).parents[0])\n",
    "os.chdir(main_dir)\n",
    "print('main dir:',main_dir)"
   ]
  },
  {
   "cell_type": "code",
   "execution_count": 3,
   "metadata": {},
   "outputs": [
    {
     "name": "stdout",
     "output_type": "stream",
     "text": [
      "main dir: /Users/pablo/OneDrive/data-science/github/transportAI\n"
     ]
    }
   ],
   "source": [
    "# Internal modules\n",
    "from src import isuelogit as isl"
   ]
  },
  {
   "cell_type": "code",
   "execution_count": 4,
   "metadata": {},
   "outputs": [],
   "source": [
    "# Global parameters for experiments\n",
    "_BILEVEL_ITERS = 2\n",
    "_REPLICATES = 2\n",
    "_ALPHA = 0.1\n",
    "_RANGE_INITIAL_VALUES = (-1,1)\n",
    "_SD_X = 0.03\n",
    "_ETA_NGD = 5e-1\n",
    "_SCALE_OD = 1\n",
    "_N_SPARSE_FEATURES = 6\n",
    "_SEED = 2022\n",
    "_SHOW_REPLICATE_PLOT = False\n",
    "_REPLICATE_REPORT = False"
   ]
  },
  {
   "cell_type": "code",
   "execution_count": 5,
   "metadata": {},
   "outputs": [],
   "source": [
    "# List of experiments\n",
    "list_experiments  = ['pseudoconvexity', 'convergence','congestion','consistency', 'irrelevant_attributes',\n",
    "                     'noisy_counts','sensor_coverage','noisy_od','ill_scaled_od']\n",
    "\n",
    "run_experiment = dict.fromkeys(list_experiments,True)\n",
    "# run_experiment = dict.fromkeys(list_experiments,False)\n",
    "\n",
    "# run_experiment['pseudoconvexity'] = True\n",
    "# run_experiment['convergence'] = True\n",
    "# run_experiment['congestion'] = True\n",
    "# run_experiment['consistency'] = True\n",
    "# run_experiment['irrelevant_attributes'] = True\n",
    "# run_experiment['sensor_coverage'] = True\n",
    "# run_experiment['noisy_counts'] = True\n",
    "run_experiment['noisy_od'] = True\n",
    "run_experiment['ill_scaled_od'] = True"
   ]
  },
  {
   "cell_type": "markdown",
   "metadata": {},
   "source": [
    "## Read network data from tntp repository"
   ]
  },
  {
   "cell_type": "code",
   "execution_count": 6,
   "metadata": {},
   "outputs": [],
   "source": [
    "network_name = 'SiouxFalls'\n",
    "\n",
    "# Read input data files\n",
    "links_df = isl.reader.read_tntp_linkdata(network_name= network_name)\n",
    "\n",
    "# Add link key\n",
    "links_df['link_key'] = [(i, j, '0') for i, j in zip(links_df['init_node'], links_df['term_node'])]"
   ]
  },
  {
   "cell_type": "markdown",
   "metadata": {},
   "source": [
    "## Build network"
   ]
  },
  {
   "cell_type": "code",
   "execution_count": 7,
   "metadata": {},
   "outputs": [
    {
     "name": "stdout",
     "output_type": "stream",
     "text": [
      "\n",
      "Creating SiouxFalls network\n",
      "\n",
      "Nodes: 24, Links: 76\n"
     ]
    }
   ],
   "source": [
    "network_generator = isl.factory.NetworkGenerator()\n",
    "\n",
    "A = network_generator.generate_adjacency_matrix(links_keys = list(links_df['link_key'].values))\n",
    "\n",
    "tntp_network = network_generator.build_network(A = A,network_name= network_name)"
   ]
  },
  {
   "cell_type": "markdown",
   "metadata": {},
   "source": [
    "### Exogenous link attributes"
   ]
  },
  {
   "cell_type": "code",
   "execution_count": 8,
   "metadata": {},
   "outputs": [],
   "source": [
    "# Extract data on link features\n",
    "link_features_df = links_df[['link_key', 'speed', 'toll', 'link_type']]\n",
    "\n",
    "#Load features data\n",
    "tntp_network.load_features_data(linkdata = link_features_df)"
   ]
  },
  {
   "cell_type": "markdown",
   "metadata": {},
   "source": [
    "### Link performance functions"
   ]
  },
  {
   "cell_type": "code",
   "execution_count": 9,
   "metadata": {},
   "outputs": [],
   "source": [
    "# Create BPR functions among links using parameters read from TNTP file\n",
    "bpr_parameters_df = pd.DataFrame({'link_key': tntp_network.links_dict.keys(),\n",
    "                                  'alpha': links_df.b,\n",
    "                                  'beta': links_df.power,\n",
    "                                  'tf': links_df.free_flow_time,\n",
    "                                  'k': links_df.capacity\n",
    "                                  })\n",
    "\n",
    "# Normalize free flow travel time between 0 and 1\n",
    "bpr_parameters_df['tf'] = pd.DataFrame(preprocessing.MinMaxScaler().fit_transform(np.array(bpr_parameters_df['tf']).reshape(-1, 1)))\n",
    "\n",
    "tntp_network.set_bpr_functions(bprdata = bpr_parameters_df)"
   ]
  },
  {
   "cell_type": "markdown",
   "metadata": {},
   "source": [
    "### OD matrix"
   ]
  },
  {
   "cell_type": "code",
   "execution_count": 10,
   "metadata": {},
   "outputs": [
    {
     "name": "stdout",
     "output_type": "stream",
     "text": [
      "Reading Q from external file\n",
      "Matrix Q (24, 24) read in 0.0[s]\n",
      "360600.0 trips were loaded among 528 o-d pairs\n"
     ]
    }
   ],
   "source": [
    "# Read od matrix\n",
    "Q = isl.reader.read_tntp_od(network_name= network_name)\n",
    "\n",
    "# Load O-D matrix\n",
    "tntp_network.load_OD(Q  = Q)"
   ]
  },
  {
   "cell_type": "markdown",
   "metadata": {},
   "source": [
    "### Paths"
   ]
  },
  {
   "cell_type": "code",
   "execution_count": 11,
   "metadata": {},
   "outputs": [
    {
     "name": "stdout",
     "output_type": "stream",
     "text": [
      "Generating at most 3 paths per od\n",
      "1584 paths were generated among 528 od pairs in 0.3 [s]\n",
      "1584 paths were loaded in the network\n",
      "Updating incidence matrices\n",
      "Matrix D (76, 1584) generated in 0.2[s].0% \n",
      "Matrix M (528, 1584) generated in 0.1[s]0% \n",
      "Matrix C (1584, 1584) generated in 0.0[s]\n"
     ]
    }
   ],
   "source": [
    "# Create path generator\n",
    "paths_generator = isl.factory.PathsGenerator()\n",
    "\n",
    "# Generate and Load paths in network\n",
    "paths_generator.load_k_shortest_paths(network = tntp_network, k=3)"
   ]
  },
  {
   "cell_type": "markdown",
   "metadata": {},
   "source": [
    "### Equilibrator"
   ]
  },
  {
   "cell_type": "code",
   "execution_count": 12,
   "metadata": {},
   "outputs": [],
   "source": [
    "equilibrator = isl.equilibrium.LUE_Equilibrator(\n",
    "    network = tntp_network,\n",
    "    max_iters=100,\n",
    "    method='fw',\n",
    "    iters_fw=100,\n",
    "    accuracy=1e-10,\n",
    "    # uncongested_mode = True,\n",
    "    exogenous_traveltimes=True,\n",
    "    paths_generator=paths_generator,\n",
    "    path_size_correction=1\n",
    ")"
   ]
  },
  {
   "cell_type": "markdown",
   "metadata": {},
   "source": [
    "### Utility Function"
   ]
  },
  {
   "cell_type": "code",
   "execution_count": 13,
   "metadata": {},
   "outputs": [],
   "source": [
    "utility_function = isl.estimation.UtilityFunction(features_Y=['tt'],\n",
    "                                                  features_Z=['c', 's'],\n",
    "                                                  true_values={'tt': -1, 'c': -6, 's': -3})"
   ]
  },
  {
   "cell_type": "markdown",
   "metadata": {},
   "source": [
    "## Descriptive statistics"
   ]
  },
  {
   "cell_type": "markdown",
   "metadata": {},
   "source": [
    "### Network topology"
   ]
  },
  {
   "cell_type": "code",
   "execution_count": 14,
   "metadata": {},
   "outputs": [
    {
     "data": {
      "text/html": [
       "<div>\n",
       "<style scoped>\n",
       "    .dataframe tbody tr th:only-of-type {\n",
       "        vertical-align: middle;\n",
       "    }\n",
       "\n",
       "    .dataframe tbody tr th {\n",
       "        vertical-align: top;\n",
       "    }\n",
       "\n",
       "    .dataframe thead th {\n",
       "        text-align: right;\n",
       "    }\n",
       "</style>\n",
       "<table border=\"1\" class=\"dataframe\">\n",
       "  <thead>\n",
       "    <tr style=\"text-align: right;\">\n",
       "      <th></th>\n",
       "      <th>network</th>\n",
       "      <th>nodes</th>\n",
       "      <th>links</th>\n",
       "      <th>ods</th>\n",
       "      <th>paths</th>\n",
       "    </tr>\n",
       "  </thead>\n",
       "  <tbody>\n",
       "    <tr>\n",
       "      <th>0</th>\n",
       "      <td>SiouxFalls</td>\n",
       "      <td>24</td>\n",
       "      <td>76</td>\n",
       "      <td>528</td>\n",
       "      <td>1584</td>\n",
       "    </tr>\n",
       "  </tbody>\n",
       "</table>\n",
       "</div>"
      ],
      "text/plain": [
       "      network  nodes  links  ods  paths\n",
       "0  SiouxFalls     24     76  528   1584"
      ]
     },
     "execution_count": 14,
     "metadata": {},
     "output_type": "execute_result"
    }
   ],
   "source": [
    "isl.descriptive_statistics.summary_table_networks([tntp_network])"
   ]
  },
  {
   "cell_type": "markdown",
   "metadata": {},
   "source": [
    "### Links data"
   ]
  },
  {
   "cell_type": "code",
   "execution_count": 15,
   "metadata": {},
   "outputs": [
    {
     "data": {
      "text/html": [
       "<div>\n",
       "<style scoped>\n",
       "    .dataframe tbody tr th:only-of-type {\n",
       "        vertical-align: middle;\n",
       "    }\n",
       "\n",
       "    .dataframe tbody tr th {\n",
       "        vertical-align: top;\n",
       "    }\n",
       "\n",
       "    .dataframe thead th {\n",
       "        text-align: right;\n",
       "    }\n",
       "</style>\n",
       "<table border=\"1\" class=\"dataframe\">\n",
       "  <thead>\n",
       "    <tr style=\"text-align: right;\">\n",
       "      <th></th>\n",
       "      <th>link_type</th>\n",
       "      <th>speed</th>\n",
       "      <th>toll</th>\n",
       "      <th>alpha</th>\n",
       "      <th>beta</th>\n",
       "      <th>tf</th>\n",
       "      <th>k</th>\n",
       "    </tr>\n",
       "  </thead>\n",
       "  <tbody>\n",
       "    <tr>\n",
       "      <th>0</th>\n",
       "      <td>1</td>\n",
       "      <td>0</td>\n",
       "      <td>0</td>\n",
       "      <td>0.15</td>\n",
       "      <td>4.0</td>\n",
       "      <td>0.500</td>\n",
       "      <td>25900.200640</td>\n",
       "    </tr>\n",
       "    <tr>\n",
       "      <th>1</th>\n",
       "      <td>1</td>\n",
       "      <td>0</td>\n",
       "      <td>0</td>\n",
       "      <td>0.15</td>\n",
       "      <td>4.0</td>\n",
       "      <td>0.250</td>\n",
       "      <td>23403.473190</td>\n",
       "    </tr>\n",
       "    <tr>\n",
       "      <th>2</th>\n",
       "      <td>1</td>\n",
       "      <td>0</td>\n",
       "      <td>0</td>\n",
       "      <td>0.15</td>\n",
       "      <td>4.0</td>\n",
       "      <td>0.500</td>\n",
       "      <td>25900.200640</td>\n",
       "    </tr>\n",
       "    <tr>\n",
       "      <th>3</th>\n",
       "      <td>1</td>\n",
       "      <td>0</td>\n",
       "      <td>0</td>\n",
       "      <td>0.15</td>\n",
       "      <td>4.0</td>\n",
       "      <td>0.375</td>\n",
       "      <td>4958.180928</td>\n",
       "    </tr>\n",
       "    <tr>\n",
       "      <th>4</th>\n",
       "      <td>1</td>\n",
       "      <td>0</td>\n",
       "      <td>0</td>\n",
       "      <td>0.15</td>\n",
       "      <td>4.0</td>\n",
       "      <td>0.250</td>\n",
       "      <td>23403.473190</td>\n",
       "    </tr>\n",
       "    <tr>\n",
       "      <th>...</th>\n",
       "      <td>...</td>\n",
       "      <td>...</td>\n",
       "      <td>...</td>\n",
       "      <td>...</td>\n",
       "      <td>...</td>\n",
       "      <td>...</td>\n",
       "      <td>...</td>\n",
       "    </tr>\n",
       "    <tr>\n",
       "      <th>71</th>\n",
       "      <td>1</td>\n",
       "      <td>0</td>\n",
       "      <td>0</td>\n",
       "      <td>0.15</td>\n",
       "      <td>4.0</td>\n",
       "      <td>0.250</td>\n",
       "      <td>5000.000000</td>\n",
       "    </tr>\n",
       "    <tr>\n",
       "      <th>72</th>\n",
       "      <td>1</td>\n",
       "      <td>0</td>\n",
       "      <td>0</td>\n",
       "      <td>0.15</td>\n",
       "      <td>4.0</td>\n",
       "      <td>0.000</td>\n",
       "      <td>5078.508436</td>\n",
       "    </tr>\n",
       "    <tr>\n",
       "      <th>73</th>\n",
       "      <td>1</td>\n",
       "      <td>0</td>\n",
       "      <td>0</td>\n",
       "      <td>0.15</td>\n",
       "      <td>4.0</td>\n",
       "      <td>0.250</td>\n",
       "      <td>5091.256152</td>\n",
       "    </tr>\n",
       "    <tr>\n",
       "      <th>74</th>\n",
       "      <td>1</td>\n",
       "      <td>0</td>\n",
       "      <td>0</td>\n",
       "      <td>0.15</td>\n",
       "      <td>4.0</td>\n",
       "      <td>0.125</td>\n",
       "      <td>4885.357564</td>\n",
       "    </tr>\n",
       "    <tr>\n",
       "      <th>75</th>\n",
       "      <td>1</td>\n",
       "      <td>0</td>\n",
       "      <td>0</td>\n",
       "      <td>0.15</td>\n",
       "      <td>4.0</td>\n",
       "      <td>0.000</td>\n",
       "      <td>5078.508436</td>\n",
       "    </tr>\n",
       "  </tbody>\n",
       "</table>\n",
       "<p>76 rows × 7 columns</p>\n",
       "</div>"
      ],
      "text/plain": [
       "    link_type  speed  toll  alpha  beta     tf             k\n",
       "0           1      0     0   0.15   4.0  0.500  25900.200640\n",
       "1           1      0     0   0.15   4.0  0.250  23403.473190\n",
       "2           1      0     0   0.15   4.0  0.500  25900.200640\n",
       "3           1      0     0   0.15   4.0  0.375   4958.180928\n",
       "4           1      0     0   0.15   4.0  0.250  23403.473190\n",
       "..        ...    ...   ...    ...   ...    ...           ...\n",
       "71          1      0     0   0.15   4.0  0.250   5000.000000\n",
       "72          1      0     0   0.15   4.0  0.000   5078.508436\n",
       "73          1      0     0   0.15   4.0  0.250   5091.256152\n",
       "74          1      0     0   0.15   4.0  0.125   4885.357564\n",
       "75          1      0     0   0.15   4.0  0.000   5078.508436\n",
       "\n",
       "[76 rows x 7 columns]"
      ]
     },
     "metadata": {},
     "output_type": "display_data"
    }
   ],
   "source": [
    "display(tntp_network.Z_data)"
   ]
  },
  {
   "cell_type": "code",
   "execution_count": 16,
   "metadata": {},
   "outputs": [
    {
     "data": {
      "text/html": [
       "<div>\n",
       "<style scoped>\n",
       "    .dataframe tbody tr th:only-of-type {\n",
       "        vertical-align: middle;\n",
       "    }\n",
       "\n",
       "    .dataframe tbody tr th {\n",
       "        vertical-align: top;\n",
       "    }\n",
       "\n",
       "    .dataframe thead th {\n",
       "        text-align: right;\n",
       "    }\n",
       "</style>\n",
       "<table border=\"1\" class=\"dataframe\">\n",
       "  <thead>\n",
       "    <tr style=\"text-align: right;\">\n",
       "      <th></th>\n",
       "      <th>link_type</th>\n",
       "      <th>speed</th>\n",
       "      <th>toll</th>\n",
       "      <th>alpha</th>\n",
       "      <th>beta</th>\n",
       "      <th>tf</th>\n",
       "      <th>k</th>\n",
       "    </tr>\n",
       "  </thead>\n",
       "  <tbody>\n",
       "    <tr>\n",
       "      <th>count</th>\n",
       "      <td>76.0</td>\n",
       "      <td>76.0</td>\n",
       "      <td>76.0</td>\n",
       "      <td>76.00</td>\n",
       "      <td>76.0</td>\n",
       "      <td>76.000000</td>\n",
       "      <td>76.000000</td>\n",
       "    </tr>\n",
       "    <tr>\n",
       "      <th>mean</th>\n",
       "      <td>1.0</td>\n",
       "      <td>0.0</td>\n",
       "      <td>0.0</td>\n",
       "      <td>0.15</td>\n",
       "      <td>4.0</td>\n",
       "      <td>0.266447</td>\n",
       "      <td>10247.206327</td>\n",
       "    </tr>\n",
       "    <tr>\n",
       "      <th>std</th>\n",
       "      <td>0.0</td>\n",
       "      <td>0.0</td>\n",
       "      <td>0.0</td>\n",
       "      <td>0.00</td>\n",
       "      <td>0.0</td>\n",
       "      <td>0.216354</td>\n",
       "      <td>7358.655049</td>\n",
       "    </tr>\n",
       "    <tr>\n",
       "      <th>min</th>\n",
       "      <td>1.0</td>\n",
       "      <td>0.0</td>\n",
       "      <td>0.0</td>\n",
       "      <td>0.15</td>\n",
       "      <td>4.0</td>\n",
       "      <td>0.000000</td>\n",
       "      <td>4823.950831</td>\n",
       "    </tr>\n",
       "    <tr>\n",
       "      <th>25%</th>\n",
       "      <td>1.0</td>\n",
       "      <td>0.0</td>\n",
       "      <td>0.0</td>\n",
       "      <td>0.15</td>\n",
       "      <td>4.0</td>\n",
       "      <td>0.125000</td>\n",
       "      <td>4958.180928</td>\n",
       "    </tr>\n",
       "    <tr>\n",
       "      <th>50%</th>\n",
       "      <td>1.0</td>\n",
       "      <td>0.0</td>\n",
       "      <td>0.0</td>\n",
       "      <td>0.15</td>\n",
       "      <td>4.0</td>\n",
       "      <td>0.250000</td>\n",
       "      <td>5109.391136</td>\n",
       "    </tr>\n",
       "    <tr>\n",
       "      <th>75%</th>\n",
       "      <td>1.0</td>\n",
       "      <td>0.0</td>\n",
       "      <td>0.0</td>\n",
       "      <td>0.15</td>\n",
       "      <td>4.0</td>\n",
       "      <td>0.375000</td>\n",
       "      <td>14564.753150</td>\n",
       "    </tr>\n",
       "    <tr>\n",
       "      <th>max</th>\n",
       "      <td>1.0</td>\n",
       "      <td>0.0</td>\n",
       "      <td>0.0</td>\n",
       "      <td>0.15</td>\n",
       "      <td>4.0</td>\n",
       "      <td>1.000000</td>\n",
       "      <td>25900.200640</td>\n",
       "    </tr>\n",
       "  </tbody>\n",
       "</table>\n",
       "</div>"
      ],
      "text/plain": [
       "       link_type  speed  toll  alpha  beta         tf             k\n",
       "count       76.0   76.0  76.0  76.00  76.0  76.000000     76.000000\n",
       "mean         1.0    0.0   0.0   0.15   4.0   0.266447  10247.206327\n",
       "std          0.0    0.0   0.0   0.00   0.0   0.216354   7358.655049\n",
       "min          1.0    0.0   0.0   0.15   4.0   0.000000   4823.950831\n",
       "25%          1.0    0.0   0.0   0.15   4.0   0.125000   4958.180928\n",
       "50%          1.0    0.0   0.0   0.15   4.0   0.250000   5109.391136\n",
       "75%          1.0    0.0   0.0   0.15   4.0   0.375000  14564.753150\n",
       "max          1.0    0.0   0.0   0.15   4.0   1.000000  25900.200640"
      ]
     },
     "execution_count": 16,
     "metadata": {},
     "output_type": "execute_result"
    }
   ],
   "source": [
    "tntp_network.Z_data.describe()"
   ]
  },
  {
   "cell_type": "markdown",
   "metadata": {},
   "source": [
    "## Experiments"
   ]
  },
  {
   "cell_type": "markdown",
   "metadata": {},
   "source": [
    "### a) Pseudoconvexity"
   ]
  },
  {
   "cell_type": "code",
   "execution_count": 17,
   "metadata": {},
   "outputs": [
    {
     "name": "stdout",
     "output_type": "stream",
     "text": [
      "\n",
      "Generating synthetic link counts via Frank-Wolfe\n",
      "\n",
      "SUE via fw (max iters: 0)\n",
      "Ratio of counts versus capacity: 113.3%\n",
      "Proportion of links over capacity: 63.2%\n",
      "Normalized RMSE: 0.0\n",
      "\n",
      "Performing grid search for tt\n",
      "\n",
      "Progress: |████████████████████| 100.0% "
     ]
    },
    {
     "data": {
      "image/png": "[encoded data removed]",
      "text/plain": [
       "<Figure size 504x432 with 4 Axes>"
      ]
     },
     "metadata": {
      "needs_background": "light"
     },
     "output_type": "display_data"
    },
    {
     "name": "stdout",
     "output_type": "stream",
     "text": [
      "\n",
      "Performing grid search for c\n",
      "\n",
      "Progress: |████████████████████| 100.0% "
     ]
    },
    {
     "data": {
      "image/png": "[encoded data removed]",
      "text/plain": [
       "<Figure size 504x432 with 4 Axes>"
      ]
     },
     "metadata": {
      "needs_background": "light"
     },
     "output_type": "display_data"
    },
    {
     "data": {
      "image/png": "[encoded data removed]",
      "text/plain": [
       "<Figure size 504x432 with 4 Axes>"
      ]
     },
     "metadata": {
      "needs_background": "light"
     },
     "output_type": "display_data"
    }
   ],
   "source": [
    "if run_experiment['pseudoconvexity']:\n",
    "\n",
    "    pseudoconvexity_experiment = isl.experiments.PseudoconvexityExperiment(\n",
    "        seed=_SEED,\n",
    "        name='Pseudo-convexity Experiment',\n",
    "        utility_function=utility_function,\n",
    "        linkdata_generator=isl.factory.LinkDataGenerator(noise_params={'sd_x': 0*_SD_X}),\n",
    "        equilibrator=isl.equilibrium.LUE_Equilibrator(paths_generator = paths_generator, uncongested_mode=True),\n",
    "        network=tntp_network)\n",
    "\n",
    "    # Generate new random features ('c,'s') and load them in the network\n",
    "    tntp_network.load_features_data(linkdata=pseudoconvexity_experiment.generate_random_link_features(n_sparse_features=0))\n",
    "\n",
    "    pseudoconvexity_experiment.run(grid = np.arange(-15, 15+0.1, 0.5),\n",
    "                                   xticks=np.arange(-15, 15 + 0.1, 5),\n",
    "                                   features=['tt', 'c'],\n",
    "                                   features_labels = ['travel time', 'monetary cost'],\n",
    "                                   colors = ['blue','red']\n",
    "                                   )"
   ]
  },
  {
   "cell_type": "markdown",
   "metadata": {},
   "source": [
    "### b) Convergence"
   ]
  },
  {
   "cell_type": "code",
   "execution_count": 18,
   "metadata": {},
   "outputs": [
    {
     "name": "stdout",
     "output_type": "stream",
     "text": [
      "\n",
      "Convergence Experiment\n",
      "\n",
      "Scenario: uncongested\n",
      "\n",
      "Generating synthetic link counts via Frank-Wolfe\n",
      "\n",
      "SUE via fw (max iters: 0)\n",
      "Performed path size correction with factor 1\n",
      "Ratio of counts versus capacity: 113.5%\n",
      "Proportion of links over capacity: 63.2%\n",
      "Normalized RMSE: 0.0\n",
      "\n",
      "Statistical Inference in No Refined Stage\n",
      "\n",
      "Bilevel optimization for SiouxFalls network \n",
      "\n",
      "Initial theta: {'tt': '0.0E+00', 'c': '0.0E+00', 's': '0.0E+00'}\n",
      "Initial objective: 4,436,428,601\n",
      "Initial RMSE: 7640.3\n",
      "Initial Normalized RMSE: 0.657\n",
      "\n",
      "Iterations: |████████████████████| 10/10\n",
      "Summary results of bilevel optimization\n",
      "best iter: 10\n",
      "best theta: {'tt': '-2.2E-01', 'c': '-6.7E-01', 's': '-5.4E-01'}\n",
      "best ratio theta: 0.321\n",
      "best objective_value: 1,245,173,348\n",
      "Final best objective improvement: 71.93%\n",
      "Final best objective improvement value: 3,191,255,253.1\n",
      "Best RMSE: 4047.7\n",
      "Best Normalized RMSE: 0.348\n",
      "Total time: 4.0 [s]\n",
      "\n",
      "Performing hypothesis testing (H0: theta = 0, alpha = 0.05)\n",
      "Hessian approximated as J^T J\n",
      "\n",
      "Summary of parameters: \n",
      " parameter    est               CI  width_CI  t-test  p-value\n",
      "       tt -0.215    [-0.7, 0.269]     0.485  -0.885    0.379\n",
      "        c -0.670 [-1.033, -0.308]     0.363  -3.685    0.000\n",
      "        s -0.544 [-0.777, -0.311]     0.233  -4.659    0.000\n",
      "\n",
      "Computing F-test\n",
      "\n",
      "Summary of model: \n",
      "      F  critical-F     p  n  dof_m1  dof_m2         sse_m1         sse_m2\n",
      "65.177       2.730 0.000 76       0       3 4337471061.383 1179144070.505\n",
      "Time: 0.3[s]\n",
      "\n",
      "Statistical Inference in Refined Stage\n",
      "\n",
      "Bilevel optimization for SiouxFalls network \n",
      "\n",
      "Initial theta: {'tt': '-2.2E-01', 'c': '-6.7E-01', 's': '-5.4E-01'}\n",
      "Initial ratio theta: 0.321\n",
      "Initial objective: 1,245,173,348\n",
      "Initial RMSE: 4047.7\n",
      "Initial Normalized RMSE: 0.348\n",
      "\n",
      "Iterations: |████████████████████| 10/10\n",
      "Summary results of bilevel optimization\n",
      "best iter: 10\n",
      "best theta: {'tt': '-1.0E+00', 'c': '-6.0E+00', 's': '-3.0E+00'}\n",
      "best ratio theta: 0.1667\n",
      "best objective_value: 0\n",
      "Final best objective improvement: 100.00%\n",
      "Final best objective improvement value: 1,245,173,348.3\n",
      "Best RMSE: 0.0\n",
      "Best Normalized RMSE: 0.0\n",
      "Total time: 4.0 [s]\n",
      "\n",
      "Performing hypothesis testing (H0: theta = 0, alpha = 0.05)\n",
      "Hessian approximated as J^T J\n",
      "\n",
      "Summary of parameters: \n",
      " parameter    est           CI  width_CI                t-test  p-value\n",
      "       tt -1.000 [-1.0, -1.0]     0.000 -2641468692582404.000    0.000\n",
      "        c -6.000 [-6.0, -6.0]     0.000 -6222649010980501.000    0.000\n",
      "        s -3.000 [-3.0, -3.0]     0.000 -5589591153847505.000    0.000\n",
      "\n",
      "Computing F-test\n",
      "\n",
      "Summary of model: \n",
      "         F  critical-F     p  n  dof_m1  dof_m2         sse_m1      sse_m2\n",
      "85476.553       2.730 0.000 76       0       3 4337471061.383 1234433.158\n",
      "Time: 0.3[s]\n",
      "\n",
      "Scenario: congested\n",
      "\n",
      "Generating synthetic link counts via Frank-Wolfe\n",
      "\n",
      "SUE via fw (max iters: 100)\n",
      "Performed path size correction with factor 1\n",
      "\n",
      "Equilibrium gaps: ['2E-02', '1E-02', '6E-03', '3E-03', '4E-03', '1E-03', '2E-03', '7E-05', '1E-05', '3E-06', '5E-06', '0E+00']\n",
      "Initial Fisk Objective: -9,592,302.71\n",
      "Final Fisk Objective: -6,008,683.91\n",
      "Improvement Fisk Objective: 37.36%\n",
      "Final gap: 0E+00. Acc. bound: 1E-10. Time: 4.0 [s]\n",
      "Ratio of counts versus capacity: 108.8%\n",
      "Proportion of links over capacity: 68.4%\n",
      "Normalized RMSE: 0.0\n",
      "\n",
      "Statistical Inference in No Refined Stage\n",
      "\n",
      "Bilevel optimization for SiouxFalls network \n",
      "\n",
      "Initial theta: {'tt': '0.0E+00', 'c': '0.0E+00', 's': '0.0E+00'}\n",
      "Initial objective: 2,736,701,874\n",
      "Initial RMSE: 6000.8\n",
      "Initial Normalized RMSE: 0.538\n",
      "\n",
      "Iterations: |████████████████████| 10/10\n",
      "Summary results of bilevel optimization\n",
      "best iter: 10\n",
      "best theta: {'tt': '-1.7E-01', 'c': '-6.5E-01', 's': '-5.3E-01'}\n",
      "best ratio theta: 0.2599\n",
      "best objective_value: 587,852,708\n",
      "Final best objective improvement: 78.52%\n",
      "Final best objective improvement value: 2,148,849,165.9\n",
      "Best RMSE: 2781.2\n",
      "Best Normalized RMSE: 0.249\n",
      "Total time: 3.5 [s]\n",
      "\n",
      "Performing hypothesis testing (H0: theta = 0, alpha = 0.05)\n",
      "Hessian approximated as J^T J\n",
      "\n",
      "Summary of parameters: \n",
      " parameter    est               CI  width_CI  t-test  p-value\n",
      "       tt -0.168 [-0.225, -0.111]     0.057  -5.843    0.000\n",
      "        c -0.646 [-0.909, -0.383]     0.263  -4.889    0.000\n",
      "        s -0.531 [-0.723, -0.339]     0.192  -5.506    0.000\n",
      "\n",
      "Computing F-test\n",
      "\n",
      "Summary of model: \n",
      "      F  critical-F     p  n  dof_m1  dof_m2         sse_m1        sse_m2\n",
      "94.085       2.730 0.000 76       0       3 2731273414.630 561237691.771\n",
      "Time: 0.3[s]\n",
      "\n",
      "Statistical Inference in Refined Stage\n",
      "\n",
      "Bilevel optimization for SiouxFalls network \n",
      "\n",
      "Initial theta: {'tt': '-1.7E-01', 'c': '-6.5E-01', 's': '-5.3E-01'}\n",
      "Initial ratio theta: 0.2599\n",
      "Initial objective: 587,852,708\n",
      "Initial RMSE: 2781.2\n",
      "Initial Normalized RMSE: 0.249\n",
      "\n",
      "Iterations: |████████████████████| 10/10\n",
      "Summary results of bilevel optimization\n",
      "best iter: 10\n",
      "best theta: {'tt': '-1.0E+00', 'c': '-6.0E+00', 's': '-3.1E+00'}\n",
      "best ratio theta: 0.1682\n",
      "best objective_value: 417,883\n",
      "Final best objective improvement: 99.93%\n",
      "Final best objective improvement value: 587,434,825.7\n",
      "Best RMSE: 74.2\n",
      "Best Normalized RMSE: 0.007\n",
      "Total time: 3.7 [s]\n",
      "\n",
      "Performing hypothesis testing (H0: theta = 0, alpha = 0.05)\n",
      "Hessian approximated as J^T J\n",
      "\n",
      "Summary of parameters: \n",
      " parameter    est               CI  width_CI   t-test  p-value\n",
      "       tt -1.010 [-1.026, -0.994]     0.016 -128.932    0.000\n",
      "        c -6.007 [-6.106, -5.907]     0.099 -120.535    0.000\n",
      "        s -3.060 [-3.112, -3.008]     0.052 -116.459    0.000\n",
      "\n",
      "Computing F-test\n",
      "\n",
      "Summary of model: \n",
      "         F  critical-F     p  n  dof_m1  dof_m2         sse_m1      sse_m2\n",
      "32114.130       2.730 0.000 76       0       3 2731273414.630 2067957.847\n",
      "Time: 0.3[s]\n"
     ]
    },
    {
     "data": {
      "image/png": "[encoded data removed]",
      "text/plain": [
       "<Figure size 504x432 with 4 Axes>"
      ]
     },
     "metadata": {
      "needs_background": "light"
     },
     "output_type": "display_data"
    }
   ],
   "source": [
    "if run_experiment['convergence']:\n",
    "\n",
    "    outer_optimizer_norefined = isl.estimation.OuterOptimizer(\n",
    "        method='ngd',\n",
    "        iters=1,\n",
    "        eta=_ETA_NGD\n",
    "    )\n",
    "\n",
    "    outer_optimizer_refined = isl.estimation.OuterOptimizer(\n",
    "        method='lm',\n",
    "        iters=1,\n",
    "    )\n",
    "\n",
    "    convergence_experiment = isl.experiments.ConvergenceExperiment(\n",
    "        seed=_SEED,\n",
    "        name='Convergence Experiment',\n",
    "        outer_optimizers=[outer_optimizer_norefined, outer_optimizer_refined],\n",
    "        utility_function=utility_function,\n",
    "        linkdata_generator=isl.factory.LinkDataGenerator(noise_params={'sd_x': 0*_SD_X}),\n",
    "        equilibrator=equilibrator,\n",
    "        bilevel_iters=_BILEVEL_ITERS,\n",
    "        network=tntp_network)\n",
    "\n",
    "    # Generate new random features ('c,'s') and load them in the network\n",
    "    tntp_network.load_features_data(\n",
    "        linkdata=convergence_experiment.generate_random_link_features(\n",
    "        n_sparse_features=0))\n",
    "\n",
    "    convergence_experiment.run(range_initial_values = None, replicate_report = False)"
   ]
  },
  {
   "cell_type": "markdown",
   "metadata": {},
   "source": [
    "### c) Consistency"
   ]
  },
  {
   "cell_type": "code",
   "execution_count": 19,
   "metadata": {},
   "outputs": [
    {
     "name": "stdout",
     "output_type": "stream",
     "text": [
      "\n",
      "Consistency Experiment\n",
      "Replicates: |████████████████████| 100/100\n"
     ]
    },
    {
     "data": {
      "image/png": "[encoded data removed]",
      "text/plain": [
       "<Figure size 504x432 with 4 Axes>"
      ]
     },
     "metadata": {
      "needs_background": "light"
     },
     "output_type": "display_data"
    }
   ],
   "source": [
    "if run_experiment['consistency']:\n",
    "\n",
    "    outer_optimizer_no_refined = isl.estimation.OuterOptimizer(\n",
    "        method='ngd',\n",
    "        iters=1,\n",
    "        eta= _ETA_NGD\n",
    "    )\n",
    "\n",
    "    outer_optimizer_refined_1 = isl.estimation.OuterOptimizer(\n",
    "        method='lm',\n",
    "        iters=1\n",
    "    )\n",
    "\n",
    "    outer_optimizer_refined_2 = isl.estimation.OuterOptimizer(\n",
    "        method='lm',\n",
    "        iters=1\n",
    "    )\n",
    "\n",
    "    consistency_experiment = isl.experiments.ConsistencyExperiment(\n",
    "        seed=_SEED,\n",
    "        name='Consistency Experiment',\n",
    "        equilibrator=equilibrator,\n",
    "        outer_optimizers=[outer_optimizer_no_refined,\n",
    "                          outer_optimizer_refined_1,\n",
    "                          outer_optimizer_refined_2],\n",
    "        utility_function=utility_function,\n",
    "        linkdata_generator=isl.factory.LinkDataGenerator(noise_params={'sd_x': _SD_X}),\n",
    "        network=tntp_network)\n",
    "\n",
    "    # Note: Random features ('c,'s') are generated and loaded in the network at every replicate\n",
    "    consistency_experiment.run(\n",
    "        bilevel_iters = _BILEVEL_ITERS,\n",
    "        range_initial_values = _RANGE_INITIAL_VALUES,\n",
    "        replicates = _REPLICATES,\n",
    "        n_sparse_features=0*_N_SPARSE_FEATURES,\n",
    "        show_replicate_plot=_SHOW_REPLICATE_PLOT,\n",
    "        replicate_report = False,\n",
    "        alpha = _ALPHA\n",
    "    )"
   ]
  },
  {
   "cell_type": "markdown",
   "metadata": {},
   "source": [
    "### d) Inclusion of irrelevant attributes"
   ]
  },
  {
   "cell_type": "code",
   "execution_count": 20,
   "metadata": {},
   "outputs": [
    {
     "name": "stdout",
     "output_type": "stream",
     "text": [
      "\n",
      "Irrelevant Attributes Experiment\n",
      "Replicates: |████████████████████| 100/100\n"
     ]
    },
    {
     "data": {
      "image/png": "[encoded data removed]",
      "text/plain": [
       "<Figure size 504x432 with 4 Axes>"
      ]
     },
     "metadata": {
      "needs_background": "light"
     },
     "output_type": "display_data"
    }
   ],
   "source": [
    "if run_experiment['irrelevant_attributes']:\n",
    "\n",
    "    outer_optimizer_no_refined = isl.estimation.OuterOptimizer(\n",
    "        method='ngd',\n",
    "        iters=1,\n",
    "        eta=_ETA_NGD\n",
    "    )\n",
    "\n",
    "    outer_optimizer_refined_1 = isl.estimation.OuterOptimizer(\n",
    "        method='lm',\n",
    "        iters=1\n",
    "    )\n",
    "\n",
    "    outer_optimizer_refined_2 = isl.estimation.OuterOptimizer(\n",
    "        method='lm',\n",
    "        iters=1\n",
    "    )\n",
    "\n",
    "    irrelevant_attributes_experiment = isl.experiments.ConsistencyExperiment(\n",
    "        seed=_SEED,\n",
    "        name='Irrelevant Attributes Experiment',\n",
    "        equilibrator=equilibrator,\n",
    "        outer_optimizers=[outer_optimizer_no_refined,\n",
    "                          outer_optimizer_refined_1,\n",
    "                          outer_optimizer_refined_2],\n",
    "        utility_function=utility_function,\n",
    "        linkdata_generator=isl.factory.LinkDataGenerator(noise_params={'sd_x': _SD_X}),\n",
    "        network=tntp_network)\n",
    "\n",
    "    # Note: Random features ('c,'s') and 3 sparse attributes are generated and loaded in the network at every replicate\n",
    "\n",
    "    irrelevant_attributes_experiment.run(\n",
    "        bilevel_iters=_BILEVEL_ITERS,\n",
    "        range_initial_values=_RANGE_INITIAL_VALUES,\n",
    "        replicates=_REPLICATES,\n",
    "        n_sparse_features=_N_SPARSE_FEATURES,\n",
    "        show_replicate_plot=_SHOW_REPLICATE_PLOT,\n",
    "        replicate_report = False,\n",
    "        alpha=_ALPHA\n",
    "    )"
   ]
  },
  {
   "cell_type": "markdown",
   "metadata": {},
   "source": [
    "### e) Error in traffic count measurements"
   ]
  },
  {
   "cell_type": "code",
   "execution_count": 21,
   "metadata": {},
   "outputs": [
    {
     "name": "stdout",
     "output_type": "stream",
     "text": [
      "\n",
      "Noisy Counts Experiment\n"
     ]
    },
    {
     "data": {
      "image/png": "[encoded data removed]",
      "text/plain": [
       "<Figure size 504x432 with 4 Axes>"
      ]
     },
     "metadata": {
      "needs_background": "light"
     },
     "output_type": "display_data"
    }
   ],
   "source": [
    "if run_experiment['noisy_counts']:\n",
    "\n",
    "    outer_optimizer_norefined = isl.estimation.OuterOptimizer(\n",
    "        method='ngd',\n",
    "        iters=1,\n",
    "        eta= _ETA_NGD\n",
    "    )\n",
    "\n",
    "    outer_optimizer_refined = isl.estimation.OuterOptimizer(\n",
    "        iters=1,\n",
    "        method='lm',\n",
    "        #method='ngd',\n",
    "        #eta=_ETA_NGD\n",
    "    )\n",
    "\n",
    "    noisy_counts_experiment = isl.experiments.CountsExperiment(\n",
    "        seed=_SEED,\n",
    "        name='Noisy Counts Experiment',\n",
    "        outer_optimizers= [outer_optimizer_norefined, outer_optimizer_refined],\n",
    "        utility_function=utility_function,\n",
    "        linkdata_generator=isl.factory.LinkDataGenerator(),\n",
    "        equilibrator=equilibrator,\n",
    "        bilevel_iters= _BILEVEL_ITERS,\n",
    "        network=tntp_network)\n",
    "\n",
    "    # Note: Random features ('c,'s') and 3 sparse attributes are generated and loaded in the network at every replicate\n",
    "\n",
    "    noisy_counts_experiment.run(\n",
    "        replicates = _REPLICATES,\n",
    "        range_initial_values = _RANGE_INITIAL_VALUES,\n",
    "        alpha = _ALPHA,\n",
    "        n_sparse_features=_N_SPARSE_FEATURES,\n",
    "        show_replicate_plot=_SHOW_REPLICATE_PLOT,\n",
    "        levels = [0.06,0.09,0.12],\n",
    "        type = 'noise')"
   ]
  },
  {
   "cell_type": "markdown",
   "metadata": {},
   "source": [
    "### f) Sensor coverage"
   ]
  },
  {
   "cell_type": "code",
   "execution_count": 22,
   "metadata": {},
   "outputs": [
    {
     "name": "stdout",
     "output_type": "stream",
     "text": [
      "\n",
      "Sensor Coverage Experiment\n"
     ]
    },
    {
     "data": {
      "image/png": "[encoded data removed]",
      "text/plain": [
       "<Figure size 504x432 with 4 Axes>"
      ]
     },
     "metadata": {
      "needs_background": "light"
     },
     "output_type": "display_data"
    }
   ],
   "source": [
    "if run_experiment['sensor_coverage']:\n",
    "\n",
    "    outer_optimizer_norefined = isl.estimation.OuterOptimizer(\n",
    "        method='ngd',\n",
    "        iters=1,\n",
    "        eta= _ETA_NGD\n",
    "    )\n",
    "\n",
    "    outer_optimizer_refined = isl.estimation.OuterOptimizer(\n",
    "        iters=1,\n",
    "        method='lm',\n",
    "        #method='ngd',\n",
    "        #eta=_ETA_NGD\n",
    "    )\n",
    "\n",
    "    sensor_coverage_experiment = isl.experiments.CountsExperiment(\n",
    "        seed=_SEED,\n",
    "        name='Sensor Coverage Experiment',\n",
    "        outer_optimizers=[outer_optimizer_norefined, outer_optimizer_refined],\n",
    "        # outer_optimizers=[outer_optimizer_norefined],\n",
    "        utility_function=utility_function,\n",
    "        linkdata_generator=isl.factory.LinkDataGenerator(noise_params={'sd_x': _SD_X}),\n",
    "        equilibrator=equilibrator,\n",
    "        bilevel_iters=_BILEVEL_ITERS,\n",
    "        network=tntp_network)\n",
    "\n",
    "    # Note: Random features ('c,'s') and 3 sparse attributes are generated and loaded in the network at every replicate\n",
    "    sensor_coverage_experiment.run(\n",
    "        alpha = _ALPHA,\n",
    "        replicates = _REPLICATES,\n",
    "        range_initial_values = _RANGE_INITIAL_VALUES,\n",
    "        n_sparse_features=_N_SPARSE_FEATURES,\n",
    "        show_replicate_plot=_SHOW_REPLICATE_PLOT,\n",
    "        replicate_report = False,\n",
    "        # levels=[0.25, 0.5, 0.75, 1.0],\n",
    "        # levels=[0.25, 0.5, 0.75],\n",
    "        levels=[0.4, 0.6, 0.8],\n",
    "        type = 'coverage')"
   ]
  },
  {
   "cell_type": "markdown",
   "metadata": {},
   "source": [
    "### g) Error in OD matrix"
   ]
  },
  {
   "cell_type": "code",
   "execution_count": 23,
   "metadata": {},
   "outputs": [
    {
     "name": "stdout",
     "output_type": "stream",
     "text": [
      "\n",
      "Noisy OD Experiment\n",
      "Replicates: |████████████████████| 100/100\n"
     ]
    },
    {
     "data": {
      "image/png": "[encoded data removed]",
      "text/plain": [
       "<Figure size 504x432 with 4 Axes>"
      ]
     },
     "metadata": {
      "needs_background": "light"
     },
     "output_type": "display_data"
    }
   ],
   "source": [
    "if run_experiment['noisy_od']:\n",
    "\n",
    "    outer_optimizer_norefined = isl.estimation.OuterOptimizer(\n",
    "        method='ngd',\n",
    "        iters=1,\n",
    "        eta= _ETA_NGD\n",
    "    )\n",
    "\n",
    "    outer_optimizer_refined = isl.estimation.OuterOptimizer(\n",
    "        iters=1,\n",
    "        method='lm',\n",
    "        #method='ngd',\n",
    "        #eta=_ETA_NGD\n",
    "    )\n",
    "\n",
    "    noisy_od_experiment = isl.experiments.ODExperiment(\n",
    "        seed=_SEED,\n",
    "        name='Noisy OD Experiment',\n",
    "        outer_optimizers=[outer_optimizer_norefined, outer_optimizer_refined],\n",
    "        utility_function=utility_function,\n",
    "        linkdata_generator=isl.factory.LinkDataGenerator(noise_params={'sd_x': _SD_X}),\n",
    "        equilibrator=equilibrator,\n",
    "        bilevel_iters=_BILEVEL_ITERS,\n",
    "        network=tntp_network)\n",
    "\n",
    "    # Note: Random features ('c,'s') and 3 sparse attributes are generated and loaded in the network at every replicate\n",
    "\n",
    "    noisy_od_experiment.run(\n",
    "        replicates = _REPLICATES,\n",
    "        range_initial_values = _RANGE_INITIAL_VALUES,\n",
    "        levels=[0.06, 0.09, 0.12],\n",
    "        alpha=_ALPHA,\n",
    "        n_sparse_features=_N_SPARSE_FEATURES,\n",
    "        show_replicate_plot=_SHOW_REPLICATE_PLOT,\n",
    "        type = 'noise')"
   ]
  },
  {
   "cell_type": "markdown",
   "metadata": {},
   "source": [
    "### h) Scale of OD matrix"
   ]
  },
  {
   "cell_type": "code",
   "execution_count": null,
   "metadata": {},
   "outputs": [
    {
     "name": "stdout",
     "output_type": "stream",
     "text": [
      "\n",
      "Ill-scaled OD Experiment\n",
      "Replicates: |██████████████------| 72/100\r"
     ]
    }
   ],
   "source": [
    "if run_experiment['ill_scaled_od']:\n",
    "\n",
    "    outer_optimizer_norefined = isl.estimation.OuterOptimizer(\n",
    "        method='ngd',\n",
    "        iters=1,\n",
    "        eta=_ETA_NGD\n",
    "    )\n",
    "\n",
    "    outer_optimizer_refined = isl.estimation.OuterOptimizer(\n",
    "        iters=1,\n",
    "        method='lm',\n",
    "        #method='ngd',\n",
    "        #eta=_ETA_NGD\n",
    "    )\n",
    "\n",
    "    ill_scaled_od_experiment = isl.experiments.ODExperiment(\n",
    "        seed=_SEED,\n",
    "        name='Ill-scaled OD Experiment',\n",
    "        outer_optimizers=[outer_optimizer_norefined, outer_optimizer_refined],\n",
    "        utility_function=utility_function,\n",
    "        linkdata_generator=isl.factory.LinkDataGenerator(noise_params={'sd_x': _SD_X}),\n",
    "        equilibrator=equilibrator,\n",
    "        bilevel_iters=_BILEVEL_ITERS,\n",
    "        network=tntp_network)\n",
    "\n",
    "    # Note: Random features ('c,'s') and 3 sparse attributes are generated and loaded in the network at every replicate\n",
    "\n",
    "    ill_scaled_od_experiment.run(\n",
    "        replicates = _REPLICATES,\n",
    "        range_initial_values = _RANGE_INITIAL_VALUES,\n",
    "        alpha = _ALPHA,\n",
    "        n_sparse_features=_N_SPARSE_FEATURES,\n",
    "        show_replicate_plot=_SHOW_REPLICATE_PLOT,\n",
    "        levels = [0.96,0.98,1.02,1.04],\n",
    "        # levels=[0.90, 0.95, 1.05, 1.10],\n",
    "        type = 'scale')"
   ]
  }
 ],
 "metadata": {
  "kernelspec": {
   "name": "venv-isuelogit",
   "language": "python",
   "display_name": "venv-isuelogit"
  },
  "language_info": {
   "codemirror_mode": {
    "name": "ipython",
    "version": 3
   },
   "file_extension": ".py",
   "mimetype": "text/x-python",
   "name": "python",
   "nbconvert_exporter": "python",
   "pygments_lexer": "ipython3",
   "version": "3.7.11"
  }
 },
 "nbformat": 4,
 "nbformat_minor": 4
}