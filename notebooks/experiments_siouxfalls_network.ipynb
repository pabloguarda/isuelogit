{
 "cells": [
  {
   "cell_type": "markdown",
   "metadata": {},
   "source": [
    "## Setup"
   ]
  },
  {
   "cell_type": "code",
   "execution_count": 1,
   "metadata": {},
   "outputs": [],
   "source": [
    "%matplotlib inline\n",
    "from IPython.display import display\n",
    "\n",
    "import warnings\n",
    "warnings.simplefilter(action = \"ignore\")\n",
    "\n",
    "# External modules\n",
    "import os\n",
    "import pandas as pd\n",
    "import numpy as np\n",
    "from sklearn import preprocessing"
   ]
  },
  {
   "cell_type": "code",
   "execution_count": 2,
   "metadata": {},
   "outputs": [
    {
     "name": "stdout",
     "output_type": "stream",
     "text": [
      "main dir: /Users/pabloguarda/GitHub/isuelogit\n"
     ]
    }
   ],
   "source": [
    "# Path management\n",
    "from pathlib import Path\n",
    "\n",
    "# Get main project directory \n",
    "main_dir = str(Path(os.path.abspath('')).parents[0])\n",
    "os.chdir(main_dir)\n",
    "print('main dir:',main_dir)"
   ]
  },
  {
   "cell_type": "code",
   "execution_count": 3,
   "metadata": {},
   "outputs": [],
   "source": [
    "# Internal modules\n",
    "from src import isuelogit as isl"
   ]
  },
  {
   "cell_type": "code",
   "execution_count": 4,
   "metadata": {},
   "outputs": [],
   "source": [
    "# Global parameters for experiments\n",
    "_BILEVEL_ITERS = 10\n",
    "_REPLICATES = 100\n",
    "_ALPHA = 0.1\n",
    "_RANGE_INITIAL_VALUES = (-2,2)\n",
    "_SD_X = 0.1\n",
    "_ETA_NGD = 5e-1\n",
    "_SCALE_OD = 1\n",
    "_N_SPARSE_FEATURES = 6\n",
    "_SEED = 2022\n",
    "_SHOW_REPLICATE_PLOT = False\n",
    "_REPLICATE_REPORT = False"
   ]
  },
  {
   "cell_type": "code",
   "execution_count": 5,
   "metadata": {},
   "outputs": [],
   "source": [
    "# List of experiments\n",
    "list_experiments  = ['pseudoconvexity', 'convergence','congestion','consistency', 'irrelevant_attributes',\n",
    "                     'noisy_counts','sensor_coverage','noisy_od','ill_scaled_od']\n",
    "\n",
    "run_experiment = dict.fromkeys(list_experiments,True)\n",
    "#run_experiment = dict.fromkeys(list_experiments,False)\n",
    "#run_experiment['irrelevant_attributes'] = True"
   ]
  },
  {
   "cell_type": "markdown",
   "metadata": {},
   "source": [
    "## Read network data from tntp repository"
   ]
  },
  {
   "cell_type": "code",
   "execution_count": 6,
   "metadata": {},
   "outputs": [],
   "source": [
    "network_name = 'SiouxFalls'\n",
    "\n",
    "# Read input data files\n",
    "links_df = isl.reader.read_tntp_linkdata(network_name= network_name)\n",
    "\n",
    "# Add link key\n",
    "links_df['link_key'] = [(i, j, '0') for i, j in zip(links_df['init_node'], links_df['term_node'])]"
   ]
  },
  {
   "cell_type": "markdown",
   "metadata": {},
   "source": [
    "## Build network"
   ]
  },
  {
   "cell_type": "code",
   "execution_count": 7,
   "metadata": {},
   "outputs": [
    {
     "name": "stdout",
     "output_type": "stream",
     "text": [
      "\n",
      "Creating SiouxFalls network\n",
      "\n",
      "Nodes: 24, Links: 76\n"
     ]
    }
   ],
   "source": [
    "network_generator = isl.factory.NetworkGenerator()\n",
    "\n",
    "A = network_generator.generate_adjacency_matrix(links_keys = list(links_df['link_key'].values))\n",
    "\n",
    "tntp_network = network_generator.build_network(A = A,network_name= network_name)"
   ]
  },
  {
   "cell_type": "markdown",
   "metadata": {},
   "source": [
    "### Exogenous link attributes"
   ]
  },
  {
   "cell_type": "code",
   "execution_count": 8,
   "metadata": {},
   "outputs": [],
   "source": [
    "# Extract data on link features\n",
    "link_features_df = links_df[['link_key', 'speed', 'toll', 'link_type']]\n",
    "\n",
    "#Load features data\n",
    "tntp_network.load_features_data(linkdata = link_features_df)"
   ]
  },
  {
   "cell_type": "markdown",
   "metadata": {},
   "source": [
    "### Link performance functions"
   ]
  },
  {
   "cell_type": "code",
   "execution_count": 9,
   "metadata": {},
   "outputs": [],
   "source": [
    "# Create BPR functions among links using parameters read from TNTP file\n",
    "bpr_parameters_df = pd.DataFrame({'link_key': tntp_network.links_dict.keys(),\n",
    "                                  'alpha': links_df.b,\n",
    "                                  'beta': links_df.power,\n",
    "                                  'tf': links_df.free_flow_time,\n",
    "                                  'k': links_df.capacity\n",
    "                                  })\n",
    "\n",
    "# Normalize free flow travel time between 0 and 1\n",
    "bpr_parameters_df['tf'] = pd.DataFrame(preprocessing.MinMaxScaler().fit_transform(np.array(bpr_parameters_df['tf']).reshape(-1, 1)))\n",
    "\n",
    "tntp_network.set_bpr_functions(bprdata = bpr_parameters_df)"
   ]
  },
  {
   "cell_type": "markdown",
   "metadata": {},
   "source": [
    "### OD matrix"
   ]
  },
  {
   "cell_type": "code",
   "execution_count": 10,
   "metadata": {},
   "outputs": [
    {
     "name": "stdout",
     "output_type": "stream",
     "text": [
      "Reading Q from external file\n",
      "Matrix Q (24, 24) read in 0.7[s]                        \n",
      "\n",
      "360600.0 trips were loaded among 528 o-d pairs\n"
     ]
    }
   ],
   "source": [
    "# Read od matrix\n",
    "Q = isl.reader.read_tntp_od(network_name= network_name)\n",
    "\n",
    "# Load O-D matrix\n",
    "tntp_network.load_OD(Q  = Q)"
   ]
  },
  {
   "cell_type": "markdown",
   "metadata": {},
   "source": [
    "### Paths"
   ]
  },
  {
   "cell_type": "code",
   "execution_count": 11,
   "metadata": {},
   "outputs": [
    {
     "name": "stdout",
     "output_type": "stream",
     "text": [
      "Generating at most 3 paths per od\n",
      "1584 paths were generated among 528 od pairs in 3.8 [s]\n",
      "\n",
      "1584 paths were loaded in the network\n",
      "\n",
      "Updating incidence matrices\n",
      "\n",
      "Matrix D (76, 1584) generated in 8.9[s]               \n",
      "\n",
      "Matrix M (528, 1584) generated in 3.3[s]               \n",
      "\n",
      "Matrix C (1584, 1584) generated in 0.0[s]               \n",
      "\n"
     ]
    }
   ],
   "source": [
    "# Create path generator\n",
    "paths_generator = isl.factory.PathsGenerator()\n",
    "\n",
    "# Generate and Load paths in network\n",
    "paths_generator.load_k_shortest_paths(network = tntp_network, k=3)"
   ]
  },
  {
   "cell_type": "markdown",
   "metadata": {},
   "source": [
    "### Utility Function"
   ]
  },
  {
   "cell_type": "code",
   "execution_count": 12,
   "metadata": {},
   "outputs": [],
   "source": [
    "utility_function = isl.estimation.UtilityFunction(features_Y=['tt'],\n",
    "                                                  features_Z=['c', 's'],\n",
    "                                                  true_values={'tt': -1, 'c': -6, 's': -3})"
   ]
  },
  {
   "cell_type": "markdown",
   "metadata": {},
   "source": [
    "## Descriptive statistics"
   ]
  },
  {
   "cell_type": "markdown",
   "metadata": {},
   "source": [
    "### Network topology"
   ]
  },
  {
   "cell_type": "code",
   "execution_count": 13,
   "metadata": {},
   "outputs": [
    {
     "data": {
      "text/html": [
       "<div>\n",
       "<style scoped>\n",
       "    .dataframe tbody tr th:only-of-type {\n",
       "        vertical-align: middle;\n",
       "    }\n",
       "\n",
       "    .dataframe tbody tr th {\n",
       "        vertical-align: top;\n",
       "    }\n",
       "\n",
       "    .dataframe thead th {\n",
       "        text-align: right;\n",
       "    }\n",
       "</style>\n",
       "<table border=\"1\" class=\"dataframe\">\n",
       "  <thead>\n",
       "    <tr style=\"text-align: right;\">\n",
       "      <th></th>\n",
       "      <th>network</th>\n",
       "      <th>nodes</th>\n",
       "      <th>links</th>\n",
       "      <th>ods</th>\n",
       "      <th>paths</th>\n",
       "    </tr>\n",
       "  </thead>\n",
       "  <tbody>\n",
       "    <tr>\n",
       "      <th>0</th>\n",
       "      <td>SiouxFalls</td>\n",
       "      <td>24</td>\n",
       "      <td>76</td>\n",
       "      <td>528</td>\n",
       "      <td>1584</td>\n",
       "    </tr>\n",
       "  </tbody>\n",
       "</table>\n",
       "</div>"
      ],
      "text/plain": [
       "      network  nodes  links  ods  paths\n",
       "0  SiouxFalls     24     76  528   1584"
      ]
     },
     "execution_count": 13,
     "metadata": {},
     "output_type": "execute_result"
    }
   ],
   "source": [
    "isl.descriptive_statistics.summary_table_networks([tntp_network])"
   ]
  },
  {
   "cell_type": "markdown",
   "metadata": {},
   "source": [
    "### Links data"
   ]
  },
  {
   "cell_type": "code",
   "execution_count": 14,
   "metadata": {},
   "outputs": [
    {
     "data": {
      "text/html": [
       "<div>\n",
       "<style scoped>\n",
       "    .dataframe tbody tr th:only-of-type {\n",
       "        vertical-align: middle;\n",
       "    }\n",
       "\n",
       "    .dataframe tbody tr th {\n",
       "        vertical-align: top;\n",
       "    }\n",
       "\n",
       "    .dataframe thead th {\n",
       "        text-align: right;\n",
       "    }\n",
       "</style>\n",
       "<table border=\"1\" class=\"dataframe\">\n",
       "  <thead>\n",
       "    <tr style=\"text-align: right;\">\n",
       "      <th></th>\n",
       "      <th>link_type</th>\n",
       "      <th>speed</th>\n",
       "      <th>toll</th>\n",
       "      <th>alpha</th>\n",
       "      <th>beta</th>\n",
       "      <th>tf</th>\n",
       "      <th>k</th>\n",
       "    </tr>\n",
       "  </thead>\n",
       "  <tbody>\n",
       "    <tr>\n",
       "      <th>0</th>\n",
       "      <td>1</td>\n",
       "      <td>0</td>\n",
       "      <td>0</td>\n",
       "      <td>0.15</td>\n",
       "      <td>4.0</td>\n",
       "      <td>0.500</td>\n",
       "      <td>25900.200640</td>\n",
       "    </tr>\n",
       "    <tr>\n",
       "      <th>1</th>\n",
       "      <td>1</td>\n",
       "      <td>0</td>\n",
       "      <td>0</td>\n",
       "      <td>0.15</td>\n",
       "      <td>4.0</td>\n",
       "      <td>0.250</td>\n",
       "      <td>23403.473190</td>\n",
       "    </tr>\n",
       "    <tr>\n",
       "      <th>2</th>\n",
       "      <td>1</td>\n",
       "      <td>0</td>\n",
       "      <td>0</td>\n",
       "      <td>0.15</td>\n",
       "      <td>4.0</td>\n",
       "      <td>0.500</td>\n",
       "      <td>25900.200640</td>\n",
       "    </tr>\n",
       "    <tr>\n",
       "      <th>3</th>\n",
       "      <td>1</td>\n",
       "      <td>0</td>\n",
       "      <td>0</td>\n",
       "      <td>0.15</td>\n",
       "      <td>4.0</td>\n",
       "      <td>0.375</td>\n",
       "      <td>4958.180928</td>\n",
       "    </tr>\n",
       "    <tr>\n",
       "      <th>4</th>\n",
       "      <td>1</td>\n",
       "      <td>0</td>\n",
       "      <td>0</td>\n",
       "      <td>0.15</td>\n",
       "      <td>4.0</td>\n",
       "      <td>0.250</td>\n",
       "      <td>23403.473190</td>\n",
       "    </tr>\n",
       "    <tr>\n",
       "      <th>...</th>\n",
       "      <td>...</td>\n",
       "      <td>...</td>\n",
       "      <td>...</td>\n",
       "      <td>...</td>\n",
       "      <td>...</td>\n",
       "      <td>...</td>\n",
       "      <td>...</td>\n",
       "    </tr>\n",
       "    <tr>\n",
       "      <th>71</th>\n",
       "      <td>1</td>\n",
       "      <td>0</td>\n",
       "      <td>0</td>\n",
       "      <td>0.15</td>\n",
       "      <td>4.0</td>\n",
       "      <td>0.250</td>\n",
       "      <td>5000.000000</td>\n",
       "    </tr>\n",
       "    <tr>\n",
       "      <th>72</th>\n",
       "      <td>1</td>\n",
       "      <td>0</td>\n",
       "      <td>0</td>\n",
       "      <td>0.15</td>\n",
       "      <td>4.0</td>\n",
       "      <td>0.000</td>\n",
       "      <td>5078.508436</td>\n",
       "    </tr>\n",
       "    <tr>\n",
       "      <th>73</th>\n",
       "      <td>1</td>\n",
       "      <td>0</td>\n",
       "      <td>0</td>\n",
       "      <td>0.15</td>\n",
       "      <td>4.0</td>\n",
       "      <td>0.250</td>\n",
       "      <td>5091.256152</td>\n",
       "    </tr>\n",
       "    <tr>\n",
       "      <th>74</th>\n",
       "      <td>1</td>\n",
       "      <td>0</td>\n",
       "      <td>0</td>\n",
       "      <td>0.15</td>\n",
       "      <td>4.0</td>\n",
       "      <td>0.125</td>\n",
       "      <td>4885.357564</td>\n",
       "    </tr>\n",
       "    <tr>\n",
       "      <th>75</th>\n",
       "      <td>1</td>\n",
       "      <td>0</td>\n",
       "      <td>0</td>\n",
       "      <td>0.15</td>\n",
       "      <td>4.0</td>\n",
       "      <td>0.000</td>\n",
       "      <td>5078.508436</td>\n",
       "    </tr>\n",
       "  </tbody>\n",
       "</table>\n",
       "<p>76 rows × 7 columns</p>\n",
       "</div>"
      ],
      "text/plain": [
       "    link_type  speed  toll  alpha  beta     tf             k\n",
       "0           1      0     0   0.15   4.0  0.500  25900.200640\n",
       "1           1      0     0   0.15   4.0  0.250  23403.473190\n",
       "2           1      0     0   0.15   4.0  0.500  25900.200640\n",
       "3           1      0     0   0.15   4.0  0.375   4958.180928\n",
       "4           1      0     0   0.15   4.0  0.250  23403.473190\n",
       "..        ...    ...   ...    ...   ...    ...           ...\n",
       "71          1      0     0   0.15   4.0  0.250   5000.000000\n",
       "72          1      0     0   0.15   4.0  0.000   5078.508436\n",
       "73          1      0     0   0.15   4.0  0.250   5091.256152\n",
       "74          1      0     0   0.15   4.0  0.125   4885.357564\n",
       "75          1      0     0   0.15   4.0  0.000   5078.508436\n",
       "\n",
       "[76 rows x 7 columns]"
      ]
     },
     "metadata": {},
     "output_type": "display_data"
    }
   ],
   "source": [
    "display(tntp_network.Z_data)"
   ]
  },
  {
   "cell_type": "code",
   "execution_count": 15,
   "metadata": {},
   "outputs": [
    {
     "data": {
      "text/html": [
       "<div>\n",
       "<style scoped>\n",
       "    .dataframe tbody tr th:only-of-type {\n",
       "        vertical-align: middle;\n",
       "    }\n",
       "\n",
       "    .dataframe tbody tr th {\n",
       "        vertical-align: top;\n",
       "    }\n",
       "\n",
       "    .dataframe thead th {\n",
       "        text-align: right;\n",
       "    }\n",
       "</style>\n",
       "<table border=\"1\" class=\"dataframe\">\n",
       "  <thead>\n",
       "    <tr style=\"text-align: right;\">\n",
       "      <th></th>\n",
       "      <th>link_type</th>\n",
       "      <th>speed</th>\n",
       "      <th>toll</th>\n",
       "      <th>alpha</th>\n",
       "      <th>beta</th>\n",
       "      <th>tf</th>\n",
       "      <th>k</th>\n",
       "    </tr>\n",
       "  </thead>\n",
       "  <tbody>\n",
       "    <tr>\n",
       "      <th>count</th>\n",
       "      <td>76.0</td>\n",
       "      <td>76.0</td>\n",
       "      <td>76.0</td>\n",
       "      <td>76.00</td>\n",
       "      <td>76.0</td>\n",
       "      <td>76.000000</td>\n",
       "      <td>76.000000</td>\n",
       "    </tr>\n",
       "    <tr>\n",
       "      <th>mean</th>\n",
       "      <td>1.0</td>\n",
       "      <td>0.0</td>\n",
       "      <td>0.0</td>\n",
       "      <td>0.15</td>\n",
       "      <td>4.0</td>\n",
       "      <td>0.266447</td>\n",
       "      <td>10247.206327</td>\n",
       "    </tr>\n",
       "    <tr>\n",
       "      <th>std</th>\n",
       "      <td>0.0</td>\n",
       "      <td>0.0</td>\n",
       "      <td>0.0</td>\n",
       "      <td>0.00</td>\n",
       "      <td>0.0</td>\n",
       "      <td>0.216354</td>\n",
       "      <td>7358.655049</td>\n",
       "    </tr>\n",
       "    <tr>\n",
       "      <th>min</th>\n",
       "      <td>1.0</td>\n",
       "      <td>0.0</td>\n",
       "      <td>0.0</td>\n",
       "      <td>0.15</td>\n",
       "      <td>4.0</td>\n",
       "      <td>0.000000</td>\n",
       "      <td>4823.950831</td>\n",
       "    </tr>\n",
       "    <tr>\n",
       "      <th>25%</th>\n",
       "      <td>1.0</td>\n",
       "      <td>0.0</td>\n",
       "      <td>0.0</td>\n",
       "      <td>0.15</td>\n",
       "      <td>4.0</td>\n",
       "      <td>0.125000</td>\n",
       "      <td>4958.180928</td>\n",
       "    </tr>\n",
       "    <tr>\n",
       "      <th>50%</th>\n",
       "      <td>1.0</td>\n",
       "      <td>0.0</td>\n",
       "      <td>0.0</td>\n",
       "      <td>0.15</td>\n",
       "      <td>4.0</td>\n",
       "      <td>0.250000</td>\n",
       "      <td>5109.391136</td>\n",
       "    </tr>\n",
       "    <tr>\n",
       "      <th>75%</th>\n",
       "      <td>1.0</td>\n",
       "      <td>0.0</td>\n",
       "      <td>0.0</td>\n",
       "      <td>0.15</td>\n",
       "      <td>4.0</td>\n",
       "      <td>0.375000</td>\n",
       "      <td>14564.753150</td>\n",
       "    </tr>\n",
       "    <tr>\n",
       "      <th>max</th>\n",
       "      <td>1.0</td>\n",
       "      <td>0.0</td>\n",
       "      <td>0.0</td>\n",
       "      <td>0.15</td>\n",
       "      <td>4.0</td>\n",
       "      <td>1.000000</td>\n",
       "      <td>25900.200640</td>\n",
       "    </tr>\n",
       "  </tbody>\n",
       "</table>\n",
       "</div>"
      ],
      "text/plain": [
       "       link_type  speed  toll  alpha  beta         tf             k\n",
       "count       76.0   76.0  76.0  76.00  76.0  76.000000     76.000000\n",
       "mean         1.0    0.0   0.0   0.15   4.0   0.266447  10247.206327\n",
       "std          0.0    0.0   0.0   0.00   0.0   0.216354   7358.655049\n",
       "min          1.0    0.0   0.0   0.15   4.0   0.000000   4823.950831\n",
       "25%          1.0    0.0   0.0   0.15   4.0   0.125000   4958.180928\n",
       "50%          1.0    0.0   0.0   0.15   4.0   0.250000   5109.391136\n",
       "75%          1.0    0.0   0.0   0.15   4.0   0.375000  14564.753150\n",
       "max          1.0    0.0   0.0   0.15   4.0   1.000000  25900.200640"
      ]
     },
     "execution_count": 15,
     "metadata": {},
     "output_type": "execute_result"
    }
   ],
   "source": [
    "tntp_network.Z_data.describe()"
   ]
  },
  {
   "cell_type": "markdown",
   "metadata": {},
   "source": [
    "## Experiments"
   ]
  },
  {
   "cell_type": "markdown",
   "metadata": {},
   "source": [
    "### a) Pseudoconvexity"
   ]
  },
  {
   "cell_type": "code",
   "execution_count": 16,
   "metadata": {},
   "outputs": [
    {
     "name": "stdout",
     "output_type": "stream",
     "text": [
      "\n",
      "Generating synthetic link counts via Frank-Wolfe\n",
      "\n",
      "SUE via fw (max iters: 100)\n",
      "\n",
      "Equilibrium gaps: ['2E-02', '9E-03', '6E-03', '3E-03', '4E-03', '1E-03', '2E-03', '9E-05', '2E-05', '2E-06', '1E-05', '0E+00']\n",
      "Initial Fisk Objective: -9,615,981.46\n",
      "Final Fisk Objective: -6,007,770.79\n",
      "Improvement Fisk Objective: 37.52%\n",
      "Final gap: 0E+00. Acc. bound: 1E-10. Time: 13.6 [s]\n",
      "Ratio of counts versus capacity: 108.3%\n",
      "Proportion of links over capacity: 69.7%\n",
      "Normalized RMSE: 0.104\n",
      "\n",
      "Performing grid search for tt\n",
      "\n",
      "Progress: |####################| 100.0% \r"
     ]
    },
    {
     "data": {
      "image/png": "[encoded data removed]",
      "text/plain": [
       "<Figure size 504x432 with 4 Axes>"
      ]
     },
     "metadata": {
      "needs_background": "light"
     },
     "output_type": "display_data"
    },
    {
     "name": "stdout",
     "output_type": "stream",
     "text": [
      "\n",
      "Performing grid search for c\n",
      "\n",
      "Progress: |####################| 100.0% \r"
     ]
    },
    {
     "data": {
      "image/png": "[encoded data removed]",
      "text/plain": [
       "<Figure size 504x432 with 4 Axes>"
      ]
     },
     "metadata": {
      "needs_background": "light"
     },
     "output_type": "display_data"
    },
    {
     "name": "stdout",
     "output_type": "stream",
     "text": [
      "Coordinate-wise pseudo-convexity\n"
     ]
    },
    {
     "data": {
      "image/png": "[encoded data removed]",
      "text/plain": [
       "<Figure size 504x432 with 4 Axes>"
      ]
     },
     "metadata": {
      "needs_background": "light"
     },
     "output_type": "display_data"
    }
   ],
   "source": [
    "if run_experiment['pseudoconvexity']:\n",
    "\n",
    "    equilibrator_pseudoconvexity = isl.equilibrium.LUE_Equilibrator(\n",
    "        network = tntp_network,\n",
    "        max_iters=100,\n",
    "        method='fw',\n",
    "        iters_fw=100,\n",
    "        accuracy=1e-10,\n",
    "        exogenous_traveltimes=True,\n",
    "        paths_generator=paths_generator)\n",
    "\n",
    "    pseudoconvexity_experiment = isl.experiments.PseudoconvexityExperiment(\n",
    "        seed=_SEED,\n",
    "        name='Pseudo-convexity Experiment',\n",
    "        folderpath=isl.config.dirs['output_folder'] + 'experiments/' + network_name,\n",
    "        utility_function=utility_function,\n",
    "        linkdata_generator=isl.factory.LinkDataGenerator(noise_params={'sd_x': _SD_X}),\n",
    "        equilibrator= equilibrator_pseudoconvexity, # isl.equilibrium.LUE_Equilibrator(paths_generator = paths_generator, uncongested_mode=True),\n",
    "        network=tntp_network)\n",
    "\n",
    "    # Generate new random features ('c,'s') and load them in the network\n",
    "    tntp_network.load_features_data(linkdata=pseudoconvexity_experiment.generate_random_link_features(n_sparse_features=0))\n",
    "\n",
    "    pseudoconvexity_experiment.run(grid = np.arange(-15, 15+0.1, 0.5),\n",
    "                                   xticks=np.arange(-15, 15 + 0.1, 5),\n",
    "                                   features=['tt', 'c'],\n",
    "                                   features_labels = ['travel time', 'monetary cost'],\n",
    "                                   colors = ['blue','red']\n",
    "                                   )"
   ]
  },
  {
   "cell_type": "markdown",
   "metadata": {},
   "source": [
    "### b) Convergence"
   ]
  },
  {
   "cell_type": "code",
   "execution_count": 17,
   "metadata": {},
   "outputs": [
    {
     "name": "stdout",
     "output_type": "stream",
     "text": [
      "\n",
      "Convergence Experiment\n",
      "\n",
      "Scenario: exogenous\n",
      "\n",
      "Generating synthetic link counts via Frank-Wolfe\n",
      "\n",
      "SUE via fw (max iters: 100)\n",
      "\n",
      "Equilibrium gaps: ['2E-02', '9E-03', '6E-03', '3E-03', '4E-03', '1E-03', '2E-03', '9E-05', '2E-05', '2E-06', '1E-05', '0E+00']\n",
      "Initial Fisk Objective: -9,615,981.46\n",
      "Final Fisk Objective: -6,007,770.79\n",
      "Improvement Fisk Objective: 37.52%\n",
      "Final gap: 0E+00. Acc. bound: 1E-10. Time: 7.1 [s]\n",
      "Ratio of counts versus capacity: 108.3%\n",
      "Proportion of links over capacity: 69.7%\n",
      "Normalized RMSE: 0.104\n",
      "\n",
      "Statistical Inference in No Refined Stage\n",
      "\n",
      "Bilevel optimization for SiouxFalls network \n",
      "\n",
      "Initial theta: {'tt': '0.0E+00', 'c': '0.0E+00', 's': '0.0E+00'}\n",
      "Initial objective: 2,909,850,675\n",
      "Initial RMSE: 6187.7\n",
      "Initial Normalized RMSE: 0.558\n",
      "\n",
      "Estimating parameters via ngd (1 iters, eta = 5.0E-01)\n",
      "\n",
      "\n",
      "Iterations: |####################| 10/10 \n",
      "Summary results of bilevel optimization\n",
      "best iter: 9\n",
      "best theta: {'tt': '-1.9E-01', 'c': '-1.0E+00', 's': '-8.9E-01'}\n",
      "best ratio theta: 0.1845\n",
      "best objective_value: 537,001,505\n",
      "Final best objective improvement: 81.55%\n",
      "Final best objective improvement value: 2,372,849,170.0\n",
      "Best RMSE: 2658.2\n",
      "Best Normalized RMSE: 0.24\n",
      "Total time: 5.3 [s]\n",
      "\n",
      "Hypothesis testing (H0: theta = 0, alpha = 0.05, n = 76)\n",
      "\n",
      "Hessian approximated as J^T J\n",
      "\n",
      " parameter    est               CI  width_CI  t-test  p-value\n",
      "       tt -0.189 [-0.262, -0.115]     0.073  -5.115    0.000\n",
      "        c -1.022 [-1.401, -0.643]     0.379  -5.373    0.000\n",
      "        s -0.889 [-1.195, -0.582]     0.306  -5.780    0.000\n",
      "\n",
      "Computing F-test\n",
      "      F  critical-F     p  dof_m1  dof_m2         sse_m1        sse_m2  n\n",
      "107.522       2.730 0.000       0       3 2909850675.458 537001505.458 76\n",
      "Time: 0.3[s]\n",
      "\n",
      "Statistical Inference in Refined Stage\n",
      "\n",
      "Bilevel optimization for SiouxFalls network \n",
      "\n",
      "Initial theta: {'tt': '-1.9E-01', 'c': '-1.0E+00', 's': '-8.9E-01'}\n",
      "Initial ratio theta: 0.1845\n",
      "Initial objective: 537,001,505\n",
      "Initial RMSE: 2658.2\n",
      "Initial Normalized RMSE: 0.24\n",
      "\n",
      "Estimating parameters via lm (1 iters)\n",
      "\n",
      "\n",
      "Iterations: |####################| 10/10 \n",
      "Summary results of bilevel optimization\n",
      "best iter: 10\n",
      "best theta: {'tt': '-1.1E+00', 'c': '-6.5E+00', 's': '-3.4E+00'}\n",
      "best ratio theta: 0.1647\n",
      "best objective_value: 95,988,868\n",
      "Final best objective improvement: 82.13%\n",
      "Final best objective improvement value: 441,012,637.8\n",
      "Best RMSE: 1123.8\n",
      "Best Normalized RMSE: 0.101\n",
      "Total time: 7.6 [s]\n",
      "\n",
      "Hypothesis testing (H0: theta = 0, alpha = 0.05, n = 76)\n",
      "\n",
      "Hessian approximated as J^T J\n",
      "\n",
      " parameter    est               CI  width_CI  t-test  p-value\n",
      "       tt -1.076  [-1.332, -0.82]     0.256  -8.365    0.000\n",
      "        c -6.534 [-8.205, -4.863]     1.671  -7.794    0.000\n",
      "        s -3.435 [-4.335, -2.536]     0.899  -7.613    0.000\n",
      "\n",
      "Computing F-test\n",
      "      F  critical-F     p  dof_m1  dof_m2         sse_m1       sse_m2  n\n",
      "713.319       2.730 0.000       0       3 2909850675.458 95988867.701 76\n",
      "Time: 1.4[s]\n",
      "\n",
      "Scenario: endogenous\n",
      "\n",
      "Generating synthetic link counts via Frank-Wolfe\n",
      "\n",
      "SUE via fw (max iters: 100)\n",
      "\n",
      "Equilibrium gaps: ['2E-02', '9E-03', '6E-03', '3E-03', '4E-03', '1E-03', '2E-03', '9E-05', '2E-05', '2E-06', '1E-05', '0E+00']\n",
      "Initial Fisk Objective: -9,615,981.46\n",
      "Final Fisk Objective: -6,007,770.79\n",
      "Improvement Fisk Objective: 37.52%\n",
      "Final gap: 0E+00. Acc. bound: 1E-10. Time: 8.6 [s]\n",
      "Ratio of counts versus capacity: 110.2%\n",
      "Proportion of links over capacity: 68.4%\n",
      "Normalized RMSE: 0.104\n",
      "\n",
      "Statistical Inference in No Refined Stage\n",
      "\n",
      "Bilevel optimization for SiouxFalls network \n",
      "\n",
      "Initial theta: {'tt': '0.0E+00', 'c': '0.0E+00', 's': '0.0E+00'}\n",
      "Initial objective: 2,629,656,444\n",
      "Initial RMSE: 5882.2\n",
      "Initial Normalized RMSE: 0.521\n",
      "\n",
      "Estimating parameters via ngd (1 iters, eta = 5.0E-01)\n",
      "\n",
      "\n",
      "Iterations: |####################| 10/10 \n",
      "Summary results of bilevel optimization\n",
      "best iter: 10\n",
      "best theta: {'tt': '-1.6E-01', 'c': '-1.1E+00', 's': '-1.1E+00'}\n",
      "best ratio theta: 0.139\n",
      "best objective_value: 285,051,188\n",
      "Final best objective improvement: 89.16%\n",
      "Final best objective improvement value: 2,344,605,255.3\n",
      "Best RMSE: 1936.7\n",
      "Best Normalized RMSE: 0.172\n",
      "Total time: 81.6 [s]\n",
      "\n",
      "Hypothesis testing (H0: theta = 0, alpha = 0.05, n = 76)\n",
      "\n",
      "Hessian approximated as J^T J\n",
      "\n",
      " parameter    est               CI  width_CI  t-test  p-value\n",
      "       tt -0.156 [-0.198, -0.115]     0.041  -7.596    0.000\n",
      "        c -1.126 [-1.454, -0.797]     0.328  -6.833    0.000\n",
      "        s -1.076 [-1.371, -0.781]     0.295  -7.272    0.000\n",
      "\n",
      "Computing F-test\n",
      "      F  critical-F     p  dof_m1  dof_m2         sse_m1        sse_m2  n\n",
      "200.648       2.730 0.000       0       3 2629656443.599 284416007.987 76\n",
      "Time: 0.6[s]\n",
      "\n",
      "Statistical Inference in Refined Stage\n",
      "\n",
      "Bilevel optimization for SiouxFalls network \n",
      "\n",
      "Initial theta: {'tt': '-1.6E-01', 'c': '-1.1E+00', 's': '-1.1E+00'}\n",
      "Initial ratio theta: 0.139\n",
      "Initial objective: 285,051,188\n",
      "Initial RMSE: 1936.7\n",
      "Initial Normalized RMSE: 0.172\n",
      "\n",
      "Estimating parameters via lm (1 iters)\n",
      "\n",
      "\n",
      "Iterations: |####################| 10/10 \n",
      "Summary results of bilevel optimization\n",
      "best iter: 8\n",
      "best theta: {'tt': '-9.4E-01', 'c': '-7.3E+00', 's': '-3.9E+00'}\n",
      "best ratio theta: 0.129\n",
      "best objective_value: 103,266,681\n",
      "Final best objective improvement: 63.77%\n",
      "Final best objective improvement value: 181,784,507.6\n",
      "Best RMSE: 1165.7\n",
      "Best Normalized RMSE: 0.103\n",
      "Total time: 75.1 [s]\n",
      "\n",
      "Hypothesis testing (H0: theta = 0, alpha = 0.05, n = 76)\n",
      "\n",
      "Hessian approximated as J^T J\n",
      "\n",
      " parameter    est               CI  width_CI  t-test  p-value\n",
      "       tt -0.944 [-1.176, -0.713]     0.231  -8.132    0.000\n",
      "        c -7.320 [-9.271, -5.369]     1.951  -7.478    0.000\n",
      "        s -3.872 [-4.914, -2.831]     1.042  -7.408    0.000\n",
      "\n",
      "Computing F-test\n",
      "      F  critical-F     p  dof_m1  dof_m2         sse_m1        sse_m2  n\n",
      "591.049       2.730 0.000       0       3 2629656443.599 103981302.124 76\n",
      "Time: 0.4[s]\n"
     ]
    },
    {
     "data": {
      "image/png": "[encoded data removed]",
      "text/plain": [
       "<Figure size 504x432 with 4 Axes>"
      ]
     },
     "metadata": {
      "needs_background": "light"
     },
     "output_type": "display_data"
    }
   ],
   "source": [
    "if run_experiment['convergence']:\n",
    "\n",
    "    equilibrator_convergence = isl.equilibrium.LUE_Equilibrator(\n",
    "            network = tntp_network,\n",
    "            max_iters=100,\n",
    "            method='fw',\n",
    "            iters_fw=100,\n",
    "            accuracy=1e-10,\n",
    "            paths_generator=paths_generator)\n",
    "\n",
    "    outer_optimizer_norefined = isl.estimation.OuterOptimizer(\n",
    "        method='ngd',\n",
    "        iters=1,\n",
    "        eta=_ETA_NGD\n",
    "    )\n",
    "\n",
    "    outer_optimizer_refined = isl.estimation.OuterOptimizer(\n",
    "        method='lm',\n",
    "        iters=1,\n",
    "    )\n",
    "\n",
    "    convergence_experiment = isl.experiments.ConvergenceExperiment(\n",
    "        seed=_SEED,\n",
    "        name='Convergence Experiment',\n",
    "        folderpath=isl.config.dirs['output_folder'] + 'experiments/' + network_name,\n",
    "        outer_optimizers=[outer_optimizer_norefined, outer_optimizer_refined],\n",
    "        utility_function=utility_function,\n",
    "        linkdata_generator=isl.factory.LinkDataGenerator(noise_params={'sd_x': _SD_X}),\n",
    "        equilibrator = equilibrator_convergence,\n",
    "        bilevel_iters=_BILEVEL_ITERS,\n",
    "        network=tntp_network)\n",
    "\n",
    "    tntp_network.load_features_data(\n",
    "        linkdata=convergence_experiment.generate_random_link_features(\n",
    "        n_sparse_features=0))\n",
    "\n",
    "    convergence_experiment.run(range_initial_values = None, replicate_report = False)"
   ]
  },
  {
   "cell_type": "markdown",
   "metadata": {},
   "source": [
    "### c) Consistency"
   ]
  },
  {
   "cell_type": "code",
   "execution_count": 18,
   "metadata": {},
   "outputs": [
    {
     "name": "stdout",
     "output_type": "stream",
     "text": [
      "\n",
      "Consistency Experiment (endogenous travel time)\n",
      "Replicates: |####################| 100/100 \n"
     ]
    },
    {
     "data": {
      "image/png": "[encoded data removed]",
      "text/plain": [
       "<Figure size 504x432 with 4 Axes>"
      ]
     },
     "metadata": {
      "needs_background": "light"
     },
     "output_type": "display_data"
    },
    {
     "name": "stdout",
     "output_type": "stream",
     "text": [
      "\n",
      "Consistency Experiment (exogenous travel time)\n",
      "Replicates: |####################| 100/100 \n"
     ]
    },
    {
     "data": {
      "image/png": "[encoded data removed]",
      "text/plain": [
       "<Figure size 504x432 with 4 Axes>"
      ]
     },
     "metadata": {
      "needs_background": "light"
     },
     "output_type": "display_data"
    }
   ],
   "source": [
    "if run_experiment['consistency']:\n",
    "\n",
    "    outer_optimizer_no_refined = isl.estimation.OuterOptimizer(\n",
    "        method='ngd',\n",
    "        iters=1,\n",
    "        eta= _ETA_NGD\n",
    "    )\n",
    "\n",
    "    outer_optimizer_refined_1 = isl.estimation.OuterOptimizer(\n",
    "        method='lm',\n",
    "        iters=1\n",
    "    )\n",
    "\n",
    "    outer_optimizer_refined_2 = isl.estimation.OuterOptimizer(\n",
    "        method='lm',\n",
    "        iters=1\n",
    "    )\n",
    "\n",
    "    # i) Endogenous travel times\n",
    "\n",
    "    equilibrator_endogenous_traveltimes = isl.equilibrium.LUE_Equilibrator(\n",
    "        network = tntp_network,\n",
    "        max_iters=100,\n",
    "        method='fw',\n",
    "        iters_fw=100,\n",
    "        accuracy=1e-10,\n",
    "        exogenous_traveltimes=False,\n",
    "        paths_generator=paths_generator,\n",
    "    )\n",
    "\n",
    "    consistency_experiment_endogenous_traveltimes = isl.experiments.ConsistencyExperiment(\n",
    "        seed=_SEED,\n",
    "        name='Consistency Experiment (endogenous travel time)',\n",
    "        folderpath=isl.config.dirs['output_folder'] + 'experiments/' + network_name,\n",
    "        equilibrator=equilibrator_endogenous_traveltimes,\n",
    "        outer_optimizers=[outer_optimizer_no_refined,\n",
    "                          outer_optimizer_refined_1,\n",
    "                          outer_optimizer_refined_2],\n",
    "        utility_function=utility_function,\n",
    "        linkdata_generator=isl.factory.LinkDataGenerator(noise_params={'sd_x': _SD_X}),\n",
    "        network=tntp_network)\n",
    "\n",
    "    consistency_experiment_endogenous_traveltimes.run(\n",
    "        bilevel_iters = _BILEVEL_ITERS,\n",
    "        range_initial_values = _RANGE_INITIAL_VALUES,\n",
    "        replicates = _REPLICATES,\n",
    "        n_sparse_features=0*_N_SPARSE_FEATURES,\n",
    "        show_replicate_plot=_SHOW_REPLICATE_PLOT,\n",
    "        replicate_report = False,\n",
    "        alpha = _ALPHA\n",
    "    )\n",
    "\n",
    "    # ii) Exogenous travel times\n",
    "\n",
    "    equilibrator_exogenous_traveltimes = isl.equilibrium.LUE_Equilibrator(\n",
    "        network = tntp_network,\n",
    "        max_iters=100,\n",
    "        method='fw',\n",
    "        iters_fw=100,\n",
    "        accuracy=1e-10,\n",
    "        exogenous_traveltimes=True,\n",
    "        paths_generator=paths_generator,\n",
    "    )\n",
    "\n",
    "    consistency_experiment_exogenous_traveltimes = isl.experiments.ConsistencyExperiment(\n",
    "        seed=_SEED,\n",
    "        name='Consistency Experiment (exogenous travel time)',\n",
    "        folderpath=isl.config.dirs['output_folder'] + 'experiments/' + network_name,\n",
    "        equilibrator=equilibrator_exogenous_traveltimes,\n",
    "        outer_optimizers=[outer_optimizer_no_refined,\n",
    "                          outer_optimizer_refined_1,\n",
    "                          outer_optimizer_refined_2],\n",
    "        utility_function=utility_function,\n",
    "        linkdata_generator=isl.factory.LinkDataGenerator(noise_params={'sd_x': _SD_X}),\n",
    "        network=tntp_network)\n",
    "\n",
    "    consistency_experiment_exogenous_traveltimes.run(\n",
    "        bilevel_iters = _BILEVEL_ITERS,\n",
    "        range_initial_values = _RANGE_INITIAL_VALUES,\n",
    "        replicates = _REPLICATES,\n",
    "        n_sparse_features=0*_N_SPARSE_FEATURES,\n",
    "        show_replicate_plot=_SHOW_REPLICATE_PLOT,\n",
    "        replicate_report = False,\n",
    "        alpha = _ALPHA\n",
    "    )"
   ]
  },
  {
   "cell_type": "markdown",
   "metadata": {},
   "source": [
    "### d) Inclusion of irrelevant attributes"
   ]
  },
  {
   "cell_type": "code",
   "execution_count": 22,
   "metadata": {},
   "outputs": [
    {
     "name": "stdout",
     "output_type": "stream",
     "text": [
      "\n",
      "Irrelevant Attributes Experiment\n",
      "Replicates: |#-------------------| 5/100 "
     ]
    },
    {
     "ename": "KeyboardInterrupt",
     "evalue": "",
     "output_type": "error",
     "traceback": [
      "\u001b[0;31m---------------------------------------------------------------------------\u001b[0m",
      "\u001b[0;31mKeyboardInterrupt\u001b[0m                         Traceback (most recent call last)",
      "Input \u001b[0;32mIn [22]\u001b[0m, in \u001b[0;36m<cell line: 1>\u001b[0;34m()\u001b[0m\n\u001b[1;32m     19\u001b[0m equilibrator \u001b[38;5;241m=\u001b[39m isl\u001b[38;5;241m.\u001b[39mequilibrium\u001b[38;5;241m.\u001b[39mLUE_Equilibrator(\n\u001b[1;32m     20\u001b[0m     network \u001b[38;5;241m=\u001b[39m tntp_network,\n\u001b[1;32m     21\u001b[0m     max_iters\u001b[38;5;241m=\u001b[39m\u001b[38;5;241m100\u001b[39m,\n\u001b[0;32m   (...)\u001b[0m\n\u001b[1;32m     26\u001b[0m     paths_generator\u001b[38;5;241m=\u001b[39mpaths_generator,\n\u001b[1;32m     27\u001b[0m )\n\u001b[1;32m     29\u001b[0m irrelevant_attributes_experiment \u001b[38;5;241m=\u001b[39m isl\u001b[38;5;241m.\u001b[39mexperiments\u001b[38;5;241m.\u001b[39mConsistencyExperiment(\n\u001b[1;32m     30\u001b[0m     seed\u001b[38;5;241m=\u001b[39m_SEED,\n\u001b[1;32m     31\u001b[0m     name\u001b[38;5;241m=\u001b[39m\u001b[38;5;124m'\u001b[39m\u001b[38;5;124mIrrelevant Attributes Experiment\u001b[39m\u001b[38;5;124m'\u001b[39m,\n\u001b[0;32m   (...)\u001b[0m\n\u001b[1;32m     38\u001b[0m     linkdata_generator\u001b[38;5;241m=\u001b[39misl\u001b[38;5;241m.\u001b[39mfactory\u001b[38;5;241m.\u001b[39mLinkDataGenerator(noise_params\u001b[38;5;241m=\u001b[39m{\u001b[38;5;124m'\u001b[39m\u001b[38;5;124msd_x\u001b[39m\u001b[38;5;124m'\u001b[39m: _SD_X}),\n\u001b[1;32m     39\u001b[0m     network\u001b[38;5;241m=\u001b[39mtntp_network)\n\u001b[0;32m---> 41\u001b[0m \u001b[43mirrelevant_attributes_experiment\u001b[49m\u001b[38;5;241;43m.\u001b[39;49m\u001b[43mrun\u001b[49m\u001b[43m(\u001b[49m\n\u001b[1;32m     42\u001b[0m \u001b[43m    \u001b[49m\u001b[43mbilevel_iters\u001b[49m\u001b[38;5;241;43m=\u001b[39;49m\u001b[43m_BILEVEL_ITERS\u001b[49m\u001b[43m,\u001b[49m\n\u001b[1;32m     43\u001b[0m \u001b[43m    \u001b[49m\u001b[43mrange_initial_values\u001b[49m\u001b[38;5;241;43m=\u001b[39;49m\u001b[43m_RANGE_INITIAL_VALUES\u001b[49m\u001b[43m,\u001b[49m\n\u001b[1;32m     44\u001b[0m \u001b[43m    \u001b[49m\u001b[43mreplicates\u001b[49m\u001b[38;5;241;43m=\u001b[39;49m\u001b[43m_REPLICATES\u001b[49m\u001b[43m,\u001b[49m\n\u001b[1;32m     45\u001b[0m \u001b[43m    \u001b[49m\u001b[43mn_sparse_features\u001b[49m\u001b[38;5;241;43m=\u001b[39;49m\u001b[43m_N_SPARSE_FEATURES\u001b[49m\u001b[43m,\u001b[49m\n\u001b[1;32m     46\u001b[0m \u001b[43m    \u001b[49m\u001b[43mshow_replicate_plot\u001b[49m\u001b[38;5;241;43m=\u001b[39;49m\u001b[43m_SHOW_REPLICATE_PLOT\u001b[49m\u001b[43m,\u001b[49m\n\u001b[1;32m     47\u001b[0m \u001b[43m    \u001b[49m\u001b[43mreplicate_report\u001b[49m\u001b[43m \u001b[49m\u001b[38;5;241;43m=\u001b[39;49m\u001b[43m \u001b[49m\u001b[38;5;28;43;01mFalse\u001b[39;49;00m\u001b[43m,\u001b[49m\n\u001b[1;32m     48\u001b[0m \u001b[43m    \u001b[49m\u001b[43malpha\u001b[49m\u001b[38;5;241;43m=\u001b[39;49m\u001b[43m_ALPHA\u001b[49m\n\u001b[1;32m     49\u001b[0m \u001b[43m\u001b[49m\u001b[43m)\u001b[49m\n",
      "File \u001b[0;32m~/GitHub/isuelogit/src/isuelogit/experiments.py:717\u001b[0m, in \u001b[0;36mConsistencyExperiment.run\u001b[0;34m(self, show_replicate_plot, replicate_report, n_sparse_features, **kwargs)\u001b[0m\n\u001b[1;32m    712\u001b[0m \u001b[38;5;28mprint\u001b[39m(\u001b[38;5;124m'\u001b[39m\u001b[38;5;130;01m\\n\u001b[39;00m\u001b[38;5;124mStatistical Inference in No Refined Stage using\u001b[39m\u001b[38;5;124m'\u001b[39m, method_norefined_1)\n\u001b[1;32m    714\u001b[0m \u001b[38;5;28mself\u001b[39m\u001b[38;5;241m.\u001b[39mutility_function\u001b[38;5;241m.\u001b[39minitial_values \u001b[38;5;241m=\u001b[39m copy\u001b[38;5;241m.\u001b[39mdeepcopy(initial_values)\n\u001b[1;32m    716\u001b[0m learning_results_norefined_1, inference_results_norefined_1, best_iter_norefined_1 \u001b[38;5;241m=\u001b[39m \\\n\u001b[0;32m--> 717\u001b[0m     \u001b[38;5;28;43mself\u001b[39;49m\u001b[38;5;241;43m.\u001b[39;49m\u001b[43mlearner_norefined_1\u001b[49m\u001b[38;5;241;43m.\u001b[39;49m\u001b[43mstatistical_inference\u001b[49m\u001b[43m(\u001b[49m\u001b[43mbilevel_iters\u001b[49m\u001b[38;5;241;43m=\u001b[39;49m\u001b[43mbilevel_iters\u001b[49m\u001b[43m,\u001b[49m\n\u001b[1;32m    718\u001b[0m \u001b[43m                                                   \u001b[49m\u001b[43malpha\u001b[49m\u001b[38;5;241;43m=\u001b[39;49m\u001b[43malpha\u001b[49m\u001b[43m)\u001b[49m\n\u001b[1;32m    720\u001b[0m theta_norefined_1 \u001b[38;5;241m=\u001b[39m learning_results_norefined_1[best_iter_norefined_1][\u001b[38;5;124m'\u001b[39m\u001b[38;5;124mtheta\u001b[39m\u001b[38;5;124m'\u001b[39m]\n\u001b[1;32m    722\u001b[0m predicted_counts_norefined_1 \u001b[38;5;241m=\u001b[39m np\u001b[38;5;241m.\u001b[39marray(\n\u001b[1;32m    723\u001b[0m     \u001b[38;5;28mlist\u001b[39m(learning_results_norefined_1[best_iter_norefined_1][\u001b[38;5;124m'\u001b[39m\u001b[38;5;124mx\u001b[39m\u001b[38;5;124m'\u001b[39m]\u001b[38;5;241m.\u001b[39mvalues()))[:,np\u001b[38;5;241m.\u001b[39mnewaxis]\n",
      "File \u001b[0;32m~/GitHub/isuelogit/src/isuelogit/estimation.py:2175\u001b[0m, in \u001b[0;36mLearner.statistical_inference\u001b[0;34m(self, **kwargs)\u001b[0m\n\u001b[1;32m   2170\u001b[0m \u001b[38;5;124;03m''' Perform both learning and inference'''\u001b[39;00m\n\u001b[1;32m   2172\u001b[0m \u001b[38;5;66;03m# true_traveltimes_dict = {link.key: link.true_traveltime for link in self.network.links}\u001b[39;00m\n\u001b[1;32m   2173\u001b[0m \u001b[38;5;66;03m# self.network.set_Y_attr_links(Y={'tt': true_traveltimes_dict})\u001b[39;00m\n\u001b[0;32m-> 2175\u001b[0m learning_results, best_iter \u001b[38;5;241m=\u001b[39m \u001b[38;5;28;43mself\u001b[39;49m\u001b[38;5;241;43m.\u001b[39;49m\u001b[43mbilevel_optimization\u001b[49m\u001b[43m(\u001b[49m\u001b[38;5;241;43m*\u001b[39;49m\u001b[38;5;241;43m*\u001b[39;49m\u001b[43mkwargs\u001b[49m\u001b[43m)\u001b[49m\n\u001b[1;32m   2177\u001b[0m inference_results \u001b[38;5;241m=\u001b[39m {}\n\u001b[1;32m   2179\u001b[0m \u001b[38;5;28;01mif\u001b[39;00m best_iter \u001b[38;5;129;01mis\u001b[39;00m \u001b[38;5;28;01mNone\u001b[39;00m:\n",
      "File \u001b[0;32m~/GitHub/isuelogit/src/isuelogit/estimation.py:1647\u001b[0m, in \u001b[0;36mLearner.bilevel_optimization\u001b[0;34m(self, network, q0, q_bar, link_report, iteration_report, convergence_report, **kwargs)\u001b[0m\n\u001b[1;32m   1642\u001b[0m         options_copy \u001b[38;5;241m=\u001b[39m copy\u001b[38;5;241m.\u001b[39mdeepcopy(\n\u001b[1;32m   1643\u001b[0m             {\u001b[38;5;241m*\u001b[39m\u001b[38;5;241m*\u001b[39moptions, \u001b[38;5;241m*\u001b[39m\u001b[38;5;241m*\u001b[39m{\u001b[38;5;124m'\u001b[39m\u001b[38;5;124mcolumn_generation\u001b[39m\u001b[38;5;124m'\u001b[39m: {\u001b[38;5;124m'\u001b[39m\u001b[38;5;124mn_paths\u001b[39m\u001b[38;5;124m'\u001b[39m: \u001b[38;5;28;01mNone\u001b[39;00m, \u001b[38;5;124m'\u001b[39m\u001b[38;5;124mpaths_selection\u001b[39m\u001b[38;5;124m'\u001b[39m: \u001b[38;5;28;01mNone\u001b[39;00m}}})\n\u001b[1;32m   1645\u001b[0m     \u001b[38;5;66;03m# Inner problem\u001b[39;00m\n\u001b[1;32m   1646\u001b[0m     results_eq[\u001b[38;5;28miter\u001b[39m] \\\n\u001b[0;32m-> 1647\u001b[0m         \u001b[38;5;241m=\u001b[39m \u001b[38;5;28;43mself\u001b[39;49m\u001b[38;5;241;43m.\u001b[39;49m\u001b[43mequilibrator\u001b[49m\u001b[38;5;241;43m.\u001b[39;49m\u001b[43mpath_based_suelogit_equilibrium\u001b[49m\u001b[43m(\u001b[49m\n\u001b[1;32m   1648\u001b[0m \u001b[43m        \u001b[49m\u001b[43mtheta\u001b[49m\u001b[38;5;241;43m=\u001b[39;49m\u001b[43mtheta_current\u001b[49m\u001b[43m,\u001b[49m\n\u001b[1;32m   1649\u001b[0m \u001b[43m        \u001b[49m\u001b[43mq\u001b[49m\u001b[38;5;241;43m=\u001b[39;49m\u001b[43mq_new\u001b[49m\u001b[43m,\u001b[49m\n\u001b[1;32m   1650\u001b[0m \u001b[43m        \u001b[49m\u001b[43mfeatures_Z\u001b[49m\u001b[38;5;241;43m=\u001b[39;49m\u001b[43mfeatures_Z\u001b[49m\u001b[43m,\u001b[49m\n\u001b[1;32m   1651\u001b[0m \u001b[43m        \u001b[49m\u001b[38;5;241;43m*\u001b[39;49m\u001b[38;5;241;43m*\u001b[39;49m\u001b[43moptions_copy\u001b[49m\n\u001b[1;32m   1652\u001b[0m \u001b[43m    \u001b[49m\u001b[43m)\u001b[49m\n\u001b[1;32m   1654\u001b[0m \u001b[38;5;66;03m# Update travel times and link predicted_counts in network\u001b[39;00m\n\u001b[1;32m   1655\u001b[0m network\u001b[38;5;241m.\u001b[39mload_linkflows(results_eq[\u001b[38;5;28miter\u001b[39m][\u001b[38;5;124m'\u001b[39m\u001b[38;5;124mx\u001b[39m\u001b[38;5;124m'\u001b[39m])\n",
      "File \u001b[0;32m~/GitHub/isuelogit/src/isuelogit/equilibrium.py:454\u001b[0m, in \u001b[0;36mLUE_Equilibrator.path_based_suelogit_equilibrium\u001b[0;34m(self, features_Z, theta, q, silent_mode, network, **kwargs)\u001b[0m\n\u001b[1;32m    450\u001b[0m     f \u001b[38;5;241m=\u001b[39m f \u001b[38;5;241m+\u001b[39m alpha_n \u001b[38;5;241m*\u001b[39m (f_y \u001b[38;5;241m-\u001b[39m f)\n\u001b[1;32m    452\u001b[0m \u001b[38;5;28;01mif\u001b[39;00m options[\u001b[38;5;124m'\u001b[39m\u001b[38;5;124mmethod\u001b[39m\u001b[38;5;124m'\u001b[39m] \u001b[38;5;241m==\u001b[39m \u001b[38;5;124m'\u001b[39m\u001b[38;5;124mfw\u001b[39m\u001b[38;5;124m'\u001b[39m:\n\u001b[1;32m    453\u001b[0m     lambda_ls, xmin_ls, fmin_ls, objectivemin_ls \\\n\u001b[0;32m--> 454\u001b[0m         \u001b[38;5;241m=\u001b[39m \u001b[38;5;28;43mself\u001b[39;49m\u001b[38;5;241;43m.\u001b[39;49m\u001b[43msue_line_search\u001b[49m\u001b[43m(\u001b[49m\u001b[43mtheta\u001b[49m\u001b[38;5;241;43m=\u001b[39;49m\u001b[43mtheta\u001b[49m\u001b[43m,\u001b[49m\n\u001b[1;32m    455\u001b[0m \u001b[43m                               \u001b[49m\u001b[43mfeatures_Z\u001b[49m\u001b[38;5;241;43m=\u001b[39;49m\u001b[43mfeatures_Z\u001b[49m\u001b[43m,\u001b[49m\n\u001b[1;32m    456\u001b[0m \u001b[43m                               \u001b[49m\u001b[43miters\u001b[49m\u001b[38;5;241;43m=\u001b[39;49m\u001b[43moptions\u001b[49m\u001b[43m[\u001b[49m\u001b[38;5;124;43m'\u001b[39;49m\u001b[38;5;124;43miters_fw\u001b[39;49m\u001b[38;5;124;43m'\u001b[39;49m\u001b[43m]\u001b[49m\u001b[43m,\u001b[49m\n\u001b[1;32m    457\u001b[0m \u001b[43m                               \u001b[49m\u001b[43msearch_type\u001b[49m\u001b[38;5;241;43m=\u001b[39;49m\u001b[43moptions\u001b[49m\u001b[43m[\u001b[49m\u001b[38;5;124;43m'\u001b[39;49m\u001b[38;5;124;43msearch_fw\u001b[39;49m\u001b[38;5;124;43m'\u001b[39;49m\u001b[43m]\u001b[49m\u001b[43m,\u001b[49m\n\u001b[1;32m    458\u001b[0m \u001b[43m                               \u001b[49m\u001b[43mnetwork\u001b[49m\u001b[38;5;241;43m=\u001b[39;49m\u001b[43mnetwork\u001b[49m\u001b[43m,\u001b[49m\n\u001b[1;32m    459\u001b[0m \u001b[43m                               \u001b[49m\u001b[43mf1\u001b[49m\u001b[38;5;241;43m=\u001b[39;49m\u001b[43mf\u001b[49m\u001b[43m,\u001b[49m\n\u001b[1;32m    460\u001b[0m \u001b[43m                               \u001b[49m\u001b[43mf2\u001b[49m\u001b[38;5;241;43m=\u001b[39;49m\u001b[43mf_y\u001b[49m\u001b[43m)\u001b[49m\n\u001b[1;32m    462\u001b[0m     x \u001b[38;5;241m=\u001b[39m xmin_ls\n\u001b[1;32m    463\u001b[0m     f \u001b[38;5;241m=\u001b[39m fmin_ls\n",
      "File \u001b[0;32m~/GitHub/isuelogit/src/isuelogit/equilibrium.py:718\u001b[0m, in \u001b[0;36mLUE_Equilibrator.sue_line_search\u001b[0;34m(self, iters, search_type, f1, f2, theta, features_Z, network)\u001b[0m\n\u001b[1;32m    715\u001b[0m fnew \u001b[38;5;241m=\u001b[39m f1 \u001b[38;5;241m+\u001b[39m lambda_ls \u001b[38;5;241m*\u001b[39m (f2 \u001b[38;5;241m-\u001b[39m f1)\n\u001b[1;32m    716\u001b[0m xnew \u001b[38;5;241m=\u001b[39m network\u001b[38;5;241m.\u001b[39mD\u001b[38;5;241m.\u001b[39mdot(fnew)\n\u001b[0;32m--> 718\u001b[0m objective_new \u001b[38;5;241m=\u001b[39m \u001b[38;5;28;43mself\u001b[39;49m\u001b[38;5;241;43m.\u001b[39;49m\u001b[43msue_objective_function_fisk\u001b[49m\u001b[43m(\u001b[49m\u001b[43mf\u001b[49m\u001b[38;5;241;43m=\u001b[39;49m\u001b[43mfnew\u001b[49m\u001b[43m,\u001b[49m\n\u001b[1;32m    719\u001b[0m \u001b[43m                                                 \u001b[49m\u001b[43mtheta\u001b[49m\u001b[38;5;241;43m=\u001b[39;49m\u001b[43mtheta\u001b[49m\u001b[43m,\u001b[49m\n\u001b[1;32m    720\u001b[0m \u001b[43m                                                 \u001b[49m\u001b[43mk_Z\u001b[49m\u001b[38;5;241;43m=\u001b[39;49m\u001b[43mfeatures_Z\u001b[49m\u001b[43m,\u001b[49m\n\u001b[1;32m    721\u001b[0m \u001b[43m                                                 \u001b[49m\u001b[43mnetwork\u001b[49m\u001b[38;5;241;43m=\u001b[39;49m\u001b[43mnetwork\u001b[49m\n\u001b[1;32m    722\u001b[0m \u001b[43m                                                 \u001b[49m\u001b[43m)\u001b[49m\n\u001b[1;32m    724\u001b[0m objectives\u001b[38;5;241m.\u001b[39mappend(objective_new)\n\u001b[1;32m    726\u001b[0m \u001b[38;5;28;01mif\u001b[39;00m objective_new \u001b[38;5;241m>\u001b[39m objective_opt:\n",
      "File \u001b[0;32m~/GitHub/isuelogit/src/isuelogit/equilibrium.py:247\u001b[0m, in \u001b[0;36mLUE_Equilibrator.sue_objective_function_fisk\u001b[0;34m(self, f, theta, k_Z, k_Y, network)\u001b[0m\n\u001b[1;32m    245\u001b[0m \u001b[38;5;28;01mif\u001b[39;00m k_Z:\n\u001b[1;32m    246\u001b[0m     \u001b[38;5;28;01mfor\u001b[39;00m attr \u001b[38;5;129;01min\u001b[39;00m k_Z:\n\u001b[0;32m--> 247\u001b[0m         Zx_vector \u001b[38;5;241m=\u001b[39m np\u001b[38;5;241m.\u001b[39marray(\u001b[38;5;28mlist\u001b[39m(\u001b[43mnetwork\u001b[49m\u001b[38;5;241;43m.\u001b[39;49m\u001b[43mZ_data\u001b[49m[attr]))[:, np\u001b[38;5;241m.\u001b[39mnewaxis]\n\u001b[1;32m    248\u001b[0m         Z_utility_integral \u001b[38;5;241m+\u001b[39m\u001b[38;5;241m=\u001b[39m \u001b[38;5;28mfloat\u001b[39m(theta[attr]) \u001b[38;5;241m*\u001b[39m Zx_vector\u001b[38;5;241m.\u001b[39mT\u001b[38;5;241m.\u001b[39mdot(x_vector)\n\u001b[1;32m    250\u001b[0m \u001b[38;5;66;03m# Objective function in multiattribute problem\u001b[39;00m\n",
      "File \u001b[0;32m~/GitHub/isuelogit/src/isuelogit/networks.py:280\u001b[0m, in \u001b[0;36mTNetwork.Z_data\u001b[0;34m(self)\u001b[0m\n\u001b[1;32m    277\u001b[0m \u001b[38;5;129m@property\u001b[39m\n\u001b[1;32m    278\u001b[0m \u001b[38;5;28;01mdef\u001b[39;00m \u001b[38;5;21mZ_data\u001b[39m(\u001b[38;5;28mself\u001b[39m) \u001b[38;5;241m-\u001b[39m\u001b[38;5;241m>\u001b[39m pd\u001b[38;5;241m.\u001b[39mDataFrame:\n\u001b[0;32m--> 280\u001b[0m     \u001b[38;5;28;01mreturn\u001b[39;00m \u001b[38;5;28;43mself\u001b[39;49m\u001b[38;5;241;43m.\u001b[39;49m\u001b[43mlink_data\u001b[49m\u001b[38;5;241;43m.\u001b[39;49m\u001b[43mZ_data\u001b[49m\n",
      "File \u001b[0;32m~/GitHub/isuelogit/src/isuelogit/etl.py:1898\u001b[0m, in \u001b[0;36mLinkData.Z_data\u001b[0;34m(self)\u001b[0m\n\u001b[1;32m   1895\u001b[0m \u001b[38;5;129m@property\u001b[39m\n\u001b[1;32m   1896\u001b[0m \u001b[38;5;28;01mdef\u001b[39;00m \u001b[38;5;21mZ_data\u001b[39m(\u001b[38;5;28mself\u001b[39m) \u001b[38;5;241m-\u001b[39m\u001b[38;5;241m>\u001b[39m DataFrame:\n\u001b[0;32m-> 1898\u001b[0m     \u001b[38;5;28;01mreturn\u001b[39;00m \u001b[43mpd\u001b[49m\u001b[38;5;241;43m.\u001b[39;49m\u001b[43mDataFrame\u001b[49m\u001b[43m(\u001b[49m\u001b[38;5;28;43mself\u001b[39;49m\u001b[38;5;241;43m.\u001b[39;49m\u001b[43mZ_dict\u001b[49m\u001b[43m)\u001b[49m\n",
      "File \u001b[0;32m~/GitHub/isuelogit/venv-isuelogit/lib/python3.8/site-packages/pandas/core/frame.py:614\u001b[0m, in \u001b[0;36mDataFrame.__init__\u001b[0;34m(self, data, index, columns, dtype, copy)\u001b[0m\n\u001b[1;32m    608\u001b[0m     mgr \u001b[38;5;241m=\u001b[39m \u001b[38;5;28mself\u001b[39m\u001b[38;5;241m.\u001b[39m_init_mgr(\n\u001b[1;32m    609\u001b[0m         data, axes\u001b[38;5;241m=\u001b[39m{\u001b[38;5;124m\"\u001b[39m\u001b[38;5;124mindex\u001b[39m\u001b[38;5;124m\"\u001b[39m: index, \u001b[38;5;124m\"\u001b[39m\u001b[38;5;124mcolumns\u001b[39m\u001b[38;5;124m\"\u001b[39m: columns}, dtype\u001b[38;5;241m=\u001b[39mdtype, copy\u001b[38;5;241m=\u001b[39mcopy\n\u001b[1;32m    610\u001b[0m     )\n\u001b[1;32m    612\u001b[0m \u001b[38;5;28;01melif\u001b[39;00m \u001b[38;5;28misinstance\u001b[39m(data, \u001b[38;5;28mdict\u001b[39m):\n\u001b[1;32m    613\u001b[0m     \u001b[38;5;66;03m# GH#38939 de facto copy defaults to False only in non-dict cases\u001b[39;00m\n\u001b[0;32m--> 614\u001b[0m     mgr \u001b[38;5;241m=\u001b[39m \u001b[43mdict_to_mgr\u001b[49m\u001b[43m(\u001b[49m\u001b[43mdata\u001b[49m\u001b[43m,\u001b[49m\u001b[43m \u001b[49m\u001b[43mindex\u001b[49m\u001b[43m,\u001b[49m\u001b[43m \u001b[49m\u001b[43mcolumns\u001b[49m\u001b[43m,\u001b[49m\u001b[43m \u001b[49m\u001b[43mdtype\u001b[49m\u001b[38;5;241;43m=\u001b[39;49m\u001b[43mdtype\u001b[49m\u001b[43m,\u001b[49m\u001b[43m \u001b[49m\u001b[43mcopy\u001b[49m\u001b[38;5;241;43m=\u001b[39;49m\u001b[43mcopy\u001b[49m\u001b[43m,\u001b[49m\u001b[43m \u001b[49m\u001b[43mtyp\u001b[49m\u001b[38;5;241;43m=\u001b[39;49m\u001b[43mmanager\u001b[49m\u001b[43m)\u001b[49m\n\u001b[1;32m    615\u001b[0m \u001b[38;5;28;01melif\u001b[39;00m \u001b[38;5;28misinstance\u001b[39m(data, ma\u001b[38;5;241m.\u001b[39mMaskedArray):\n\u001b[1;32m    616\u001b[0m     \u001b[38;5;28;01mimport\u001b[39;00m \u001b[38;5;21;01mnumpy\u001b[39;00m\u001b[38;5;21;01m.\u001b[39;00m\u001b[38;5;21;01mma\u001b[39;00m\u001b[38;5;21;01m.\u001b[39;00m\u001b[38;5;21;01mmrecords\u001b[39;00m \u001b[38;5;28;01mas\u001b[39;00m \u001b[38;5;21;01mmrecords\u001b[39;00m\n",
      "File \u001b[0;32m~/GitHub/isuelogit/venv-isuelogit/lib/python3.8/site-packages/pandas/core/internals/construction.py:464\u001b[0m, in \u001b[0;36mdict_to_mgr\u001b[0;34m(data, index, columns, dtype, typ, copy)\u001b[0m\n\u001b[1;32m    456\u001b[0m     arrays \u001b[38;5;241m=\u001b[39m [\n\u001b[1;32m    457\u001b[0m         x\n\u001b[1;32m    458\u001b[0m         \u001b[38;5;28;01mif\u001b[39;00m \u001b[38;5;129;01mnot\u001b[39;00m \u001b[38;5;28mhasattr\u001b[39m(x, \u001b[38;5;124m\"\u001b[39m\u001b[38;5;124mdtype\u001b[39m\u001b[38;5;124m\"\u001b[39m) \u001b[38;5;129;01mor\u001b[39;00m \u001b[38;5;129;01mnot\u001b[39;00m \u001b[38;5;28misinstance\u001b[39m(x\u001b[38;5;241m.\u001b[39mdtype, ExtensionDtype)\n\u001b[1;32m    459\u001b[0m         \u001b[38;5;28;01melse\u001b[39;00m x\u001b[38;5;241m.\u001b[39mcopy()\n\u001b[1;32m    460\u001b[0m         \u001b[38;5;28;01mfor\u001b[39;00m x \u001b[38;5;129;01min\u001b[39;00m arrays\n\u001b[1;32m    461\u001b[0m     ]\n\u001b[1;32m    462\u001b[0m     \u001b[38;5;66;03m# TODO: can we get rid of the dt64tz special case above?\u001b[39;00m\n\u001b[0;32m--> 464\u001b[0m \u001b[38;5;28;01mreturn\u001b[39;00m \u001b[43marrays_to_mgr\u001b[49m\u001b[43m(\u001b[49m\n\u001b[1;32m    465\u001b[0m \u001b[43m    \u001b[49m\u001b[43marrays\u001b[49m\u001b[43m,\u001b[49m\u001b[43m \u001b[49m\u001b[43mdata_names\u001b[49m\u001b[43m,\u001b[49m\u001b[43m \u001b[49m\u001b[43mindex\u001b[49m\u001b[43m,\u001b[49m\u001b[43m \u001b[49m\u001b[43mcolumns\u001b[49m\u001b[43m,\u001b[49m\u001b[43m \u001b[49m\u001b[43mdtype\u001b[49m\u001b[38;5;241;43m=\u001b[39;49m\u001b[43mdtype\u001b[49m\u001b[43m,\u001b[49m\u001b[43m \u001b[49m\u001b[43mtyp\u001b[49m\u001b[38;5;241;43m=\u001b[39;49m\u001b[43mtyp\u001b[49m\u001b[43m,\u001b[49m\u001b[43m \u001b[49m\u001b[43mconsolidate\u001b[49m\u001b[38;5;241;43m=\u001b[39;49m\u001b[43mcopy\u001b[49m\n\u001b[1;32m    466\u001b[0m \u001b[43m\u001b[49m\u001b[43m)\u001b[49m\n",
      "File \u001b[0;32m~/GitHub/isuelogit/venv-isuelogit/lib/python3.8/site-packages/pandas/core/internals/construction.py:124\u001b[0m, in \u001b[0;36marrays_to_mgr\u001b[0;34m(arrays, arr_names, index, columns, dtype, verify_integrity, typ, consolidate)\u001b[0m\n\u001b[1;32m    121\u001b[0m         index \u001b[38;5;241m=\u001b[39m ensure_index(index)\n\u001b[1;32m    123\u001b[0m     \u001b[38;5;66;03m# don't force copy because getting jammed in an ndarray anyway\u001b[39;00m\n\u001b[0;32m--> 124\u001b[0m     arrays \u001b[38;5;241m=\u001b[39m \u001b[43m_homogenize\u001b[49m\u001b[43m(\u001b[49m\u001b[43marrays\u001b[49m\u001b[43m,\u001b[49m\u001b[43m \u001b[49m\u001b[43mindex\u001b[49m\u001b[43m,\u001b[49m\u001b[43m \u001b[49m\u001b[43mdtype\u001b[49m\u001b[43m)\u001b[49m\n\u001b[1;32m    126\u001b[0m \u001b[38;5;28;01melse\u001b[39;00m:\n\u001b[1;32m    127\u001b[0m     index \u001b[38;5;241m=\u001b[39m ensure_index(index)\n",
      "File \u001b[0;32m~/GitHub/isuelogit/venv-isuelogit/lib/python3.8/site-packages/pandas/core/internals/construction.py:589\u001b[0m, in \u001b[0;36m_homogenize\u001b[0;34m(data, index, dtype)\u001b[0m\n\u001b[1;32m    586\u001b[0m                 val \u001b[38;5;241m=\u001b[39m \u001b[38;5;28mdict\u001b[39m(val)\n\u001b[1;32m    587\u001b[0m             val \u001b[38;5;241m=\u001b[39m lib\u001b[38;5;241m.\u001b[39mfast_multiget(val, oindex\u001b[38;5;241m.\u001b[39m_values, default\u001b[38;5;241m=\u001b[39mnp\u001b[38;5;241m.\u001b[39mnan)\n\u001b[0;32m--> 589\u001b[0m         val \u001b[38;5;241m=\u001b[39m \u001b[43msanitize_array\u001b[49m\u001b[43m(\u001b[49m\n\u001b[1;32m    590\u001b[0m \u001b[43m            \u001b[49m\u001b[43mval\u001b[49m\u001b[43m,\u001b[49m\u001b[43m \u001b[49m\u001b[43mindex\u001b[49m\u001b[43m,\u001b[49m\u001b[43m \u001b[49m\u001b[43mdtype\u001b[49m\u001b[38;5;241;43m=\u001b[39;49m\u001b[43mdtype\u001b[49m\u001b[43m,\u001b[49m\u001b[43m \u001b[49m\u001b[43mcopy\u001b[49m\u001b[38;5;241;43m=\u001b[39;49m\u001b[38;5;28;43;01mFalse\u001b[39;49;00m\u001b[43m,\u001b[49m\u001b[43m \u001b[49m\u001b[43mraise_cast_failure\u001b[49m\u001b[38;5;241;43m=\u001b[39;49m\u001b[38;5;28;43;01mFalse\u001b[39;49;00m\n\u001b[1;32m    591\u001b[0m \u001b[43m        \u001b[49m\u001b[43m)\u001b[49m\n\u001b[1;32m    593\u001b[0m     homogenized\u001b[38;5;241m.\u001b[39mappend(val)\n\u001b[1;32m    595\u001b[0m \u001b[38;5;28;01mreturn\u001b[39;00m homogenized\n",
      "File \u001b[0;32m~/GitHub/isuelogit/venv-isuelogit/lib/python3.8/site-packages/pandas/core/construction.py:571\u001b[0m, in \u001b[0;36msanitize_array\u001b[0;34m(data, index, dtype, copy, raise_cast_failure, allow_2d)\u001b[0m\n\u001b[1;32m    569\u001b[0m     subarr \u001b[38;5;241m=\u001b[39m _try_cast(data, dtype, copy, raise_cast_failure)\n\u001b[1;32m    570\u001b[0m \u001b[38;5;28;01melse\u001b[39;00m:\n\u001b[0;32m--> 571\u001b[0m     subarr \u001b[38;5;241m=\u001b[39m \u001b[43mmaybe_convert_platform\u001b[49m\u001b[43m(\u001b[49m\u001b[43mdata\u001b[49m\u001b[43m)\u001b[49m\n\u001b[1;32m    572\u001b[0m     \u001b[38;5;28;01mif\u001b[39;00m subarr\u001b[38;5;241m.\u001b[39mdtype \u001b[38;5;241m==\u001b[39m \u001b[38;5;28mobject\u001b[39m:\n\u001b[1;32m    573\u001b[0m         subarr \u001b[38;5;241m=\u001b[39m cast(np\u001b[38;5;241m.\u001b[39mndarray, subarr)\n",
      "File \u001b[0;32m~/GitHub/isuelogit/venv-isuelogit/lib/python3.8/site-packages/pandas/core/dtypes/cast.py:126\u001b[0m, in \u001b[0;36mmaybe_convert_platform\u001b[0;34m(values)\u001b[0m\n\u001b[1;32m    124\u001b[0m \u001b[38;5;28;01mif\u001b[39;00m arr\u001b[38;5;241m.\u001b[39mdtype \u001b[38;5;241m==\u001b[39m \u001b[38;5;28mobject\u001b[39m:\n\u001b[1;32m    125\u001b[0m     arr \u001b[38;5;241m=\u001b[39m cast(np\u001b[38;5;241m.\u001b[39mndarray, arr)\n\u001b[0;32m--> 126\u001b[0m     arr \u001b[38;5;241m=\u001b[39m \u001b[43mlib\u001b[49m\u001b[38;5;241;43m.\u001b[39;49m\u001b[43mmaybe_convert_objects\u001b[49m\u001b[43m(\u001b[49m\u001b[43marr\u001b[49m\u001b[43m)\u001b[49m\n\u001b[1;32m    128\u001b[0m \u001b[38;5;28;01mreturn\u001b[39;00m arr\n",
      "File \u001b[0;32m~/GitHub/isuelogit/venv-isuelogit/lib/python3.8/site-packages/pandas/_libs/lib.pyx:2451\u001b[0m, in \u001b[0;36mpandas._libs.lib.maybe_convert_objects\u001b[0;34m()\u001b[0m\n",
      "File \u001b[0;32m~/GitHub/isuelogit/venv-isuelogit/lib/python3.8/site-packages/numpy/core/numeric.py:289\u001b[0m, in \u001b[0;36mfull\u001b[0;34m(shape, fill_value, dtype, order, like)\u001b[0m\n\u001b[1;32m    285\u001b[0m \u001b[38;5;28;01mdef\u001b[39;00m \u001b[38;5;21m_full_dispatcher\u001b[39m(shape, fill_value, dtype\u001b[38;5;241m=\u001b[39m\u001b[38;5;28;01mNone\u001b[39;00m, order\u001b[38;5;241m=\u001b[39m\u001b[38;5;28;01mNone\u001b[39;00m, \u001b[38;5;241m*\u001b[39m, like\u001b[38;5;241m=\u001b[39m\u001b[38;5;28;01mNone\u001b[39;00m):\n\u001b[1;32m    286\u001b[0m     \u001b[38;5;28;01mreturn\u001b[39;00m(like,)\n\u001b[0;32m--> 289\u001b[0m \u001b[38;5;129m@set_array_function_like_doc\u001b[39m\n\u001b[1;32m    290\u001b[0m \u001b[38;5;129m@set_module\u001b[39m(\u001b[38;5;124m'\u001b[39m\u001b[38;5;124mnumpy\u001b[39m\u001b[38;5;124m'\u001b[39m)\n\u001b[1;32m    291\u001b[0m \u001b[38;5;28;01mdef\u001b[39;00m \u001b[38;5;21mfull\u001b[39m(shape, fill_value, dtype\u001b[38;5;241m=\u001b[39m\u001b[38;5;28;01mNone\u001b[39;00m, order\u001b[38;5;241m=\u001b[39m\u001b[38;5;124m'\u001b[39m\u001b[38;5;124mC\u001b[39m\u001b[38;5;124m'\u001b[39m, \u001b[38;5;241m*\u001b[39m, like\u001b[38;5;241m=\u001b[39m\u001b[38;5;28;01mNone\u001b[39;00m):\n\u001b[1;32m    292\u001b[0m     \u001b[38;5;124;03m\"\"\"\u001b[39;00m\n\u001b[1;32m    293\u001b[0m \u001b[38;5;124;03m    Return a new array of given shape and type, filled with `fill_value`.\u001b[39;00m\n\u001b[1;32m    294\u001b[0m \n\u001b[0;32m   (...)\u001b[0m\n\u001b[1;32m    335\u001b[0m \n\u001b[1;32m    336\u001b[0m \u001b[38;5;124;03m    \"\"\"\u001b[39;00m\n\u001b[1;32m    337\u001b[0m     \u001b[38;5;28;01mif\u001b[39;00m like \u001b[38;5;129;01mis\u001b[39;00m \u001b[38;5;129;01mnot\u001b[39;00m \u001b[38;5;28;01mNone\u001b[39;00m:\n",
      "\u001b[0;31mKeyboardInterrupt\u001b[0m: "
     ]
    }
   ],
   "source": [
    "if run_experiment['irrelevant_attributes']:\n",
    "\n",
    "    outer_optimizer_no_refined = isl.estimation.OuterOptimizer(\n",
    "        method='ngd',\n",
    "        iters=1,\n",
    "        eta=_ETA_NGD\n",
    "    )\n",
    "\n",
    "    outer_optimizer_refined_1 = isl.estimation.OuterOptimizer(\n",
    "        method='lm',\n",
    "        iters=1\n",
    "    )\n",
    "\n",
    "    outer_optimizer_refined_2 = isl.estimation.OuterOptimizer(\n",
    "        method='lm',\n",
    "        iters=1\n",
    "    )\n",
    "\n",
    "    equilibrator = isl.equilibrium.LUE_Equilibrator(\n",
    "        network = tntp_network,\n",
    "        max_iters=100,\n",
    "        method='fw',\n",
    "        iters_fw=100,\n",
    "        accuracy=1e-10,\n",
    "        exogenous_traveltimes=True,\n",
    "        paths_generator=paths_generator,\n",
    "    )\n",
    "\n",
    "    irrelevant_attributes_experiment = isl.experiments.ConsistencyExperiment(\n",
    "        seed=_SEED,\n",
    "        name='Irrelevant Attributes Experiment',\n",
    "        folderpath=isl.config.dirs['output_folder'] + 'experiments/' + network_name,\n",
    "        equilibrator=equilibrator,\n",
    "        outer_optimizers=[outer_optimizer_no_refined,\n",
    "                          outer_optimizer_refined_1,\n",
    "                          outer_optimizer_refined_2],\n",
    "        utility_function=utility_function,\n",
    "        linkdata_generator=isl.factory.LinkDataGenerator(noise_params={'sd_x': _SD_X}),\n",
    "        network=tntp_network)\n",
    "\n",
    "    irrelevant_attributes_experiment.run(\n",
    "        bilevel_iters=_BILEVEL_ITERS,\n",
    "        range_initial_values=_RANGE_INITIAL_VALUES,\n",
    "        replicates=_REPLICATES,\n",
    "        n_sparse_features=_N_SPARSE_FEATURES,\n",
    "        show_replicate_plot=_SHOW_REPLICATE_PLOT,\n",
    "        replicate_report = False,\n",
    "        alpha=_ALPHA\n",
    "    )"
   ]
  },
  {
   "cell_type": "markdown",
   "metadata": {},
   "source": [
    "### e) Error in traffic count measurements"
   ]
  },
  {
   "cell_type": "code",
   "execution_count": 24,
   "metadata": {},
   "outputs": [
    {
     "name": "stdout",
     "output_type": "stream",
     "text": [
      "\n",
      "Noisy Counts Experiment\n",
      "Replicates: |##########----------| 48/100 "
     ]
    },
    {
     "ename": "KeyboardInterrupt",
     "evalue": "",
     "output_type": "error",
     "traceback": [
      "\u001b[0;31m---------------------------------------------------------------------------\u001b[0m",
      "\u001b[0;31mKeyboardInterrupt\u001b[0m                         Traceback (most recent call last)",
      "Input \u001b[0;32mIn [24]\u001b[0m, in \u001b[0;36m<cell line: 1>\u001b[0;34m()\u001b[0m\n\u001b[1;32m     14\u001b[0m equilibrator \u001b[38;5;241m=\u001b[39m isl\u001b[38;5;241m.\u001b[39mequilibrium\u001b[38;5;241m.\u001b[39mLUE_Equilibrator(\n\u001b[1;32m     15\u001b[0m     network \u001b[38;5;241m=\u001b[39m tntp_network,\n\u001b[1;32m     16\u001b[0m     max_iters\u001b[38;5;241m=\u001b[39m\u001b[38;5;241m100\u001b[39m,\n\u001b[0;32m   (...)\u001b[0m\n\u001b[1;32m     21\u001b[0m     paths_generator\u001b[38;5;241m=\u001b[39mpaths_generator,\n\u001b[1;32m     22\u001b[0m )\n\u001b[1;32m     24\u001b[0m noisy_counts_experiment \u001b[38;5;241m=\u001b[39m isl\u001b[38;5;241m.\u001b[39mexperiments\u001b[38;5;241m.\u001b[39mCountsExperiment(\n\u001b[1;32m     25\u001b[0m     seed\u001b[38;5;241m=\u001b[39m_SEED,\n\u001b[1;32m     26\u001b[0m     name\u001b[38;5;241m=\u001b[39m\u001b[38;5;124m'\u001b[39m\u001b[38;5;124mNoisy Counts Experiment\u001b[39m\u001b[38;5;124m'\u001b[39m,\n\u001b[0;32m   (...)\u001b[0m\n\u001b[1;32m     32\u001b[0m     bilevel_iters\u001b[38;5;241m=\u001b[39m _BILEVEL_ITERS,\n\u001b[1;32m     33\u001b[0m     network\u001b[38;5;241m=\u001b[39mtntp_network)\n\u001b[0;32m---> 35\u001b[0m \u001b[43mnoisy_counts_experiment\u001b[49m\u001b[38;5;241;43m.\u001b[39;49m\u001b[43mrun\u001b[49m\u001b[43m(\u001b[49m\n\u001b[1;32m     36\u001b[0m \u001b[43m    \u001b[49m\u001b[43mreplicates\u001b[49m\u001b[43m \u001b[49m\u001b[38;5;241;43m=\u001b[39;49m\u001b[43m \u001b[49m\u001b[43m_REPLICATES\u001b[49m\u001b[43m,\u001b[49m\n\u001b[1;32m     37\u001b[0m \u001b[43m    \u001b[49m\u001b[43mrange_initial_values\u001b[49m\u001b[43m \u001b[49m\u001b[38;5;241;43m=\u001b[39;49m\u001b[43m \u001b[49m\u001b[43m_RANGE_INITIAL_VALUES\u001b[49m\u001b[43m,\u001b[49m\n\u001b[1;32m     38\u001b[0m \u001b[43m    \u001b[49m\u001b[43malpha\u001b[49m\u001b[43m \u001b[49m\u001b[38;5;241;43m=\u001b[39;49m\u001b[43m \u001b[49m\u001b[43m_ALPHA\u001b[49m\u001b[43m,\u001b[49m\n\u001b[1;32m     39\u001b[0m \u001b[43m    \u001b[49m\u001b[43mn_sparse_features\u001b[49m\u001b[38;5;241;43m=\u001b[39;49m\u001b[43m_N_SPARSE_FEATURES\u001b[49m\u001b[43m,\u001b[49m\n\u001b[1;32m     40\u001b[0m \u001b[43m    \u001b[49m\u001b[43mshow_replicate_plot\u001b[49m\u001b[38;5;241;43m=\u001b[39;49m\u001b[43m_SHOW_REPLICATE_PLOT\u001b[49m\u001b[43m,\u001b[49m\n\u001b[1;32m     41\u001b[0m \u001b[43m    \u001b[49m\u001b[43mlevels\u001b[49m\u001b[38;5;241;43m=\u001b[39;49m\u001b[43m[\u001b[49m\u001b[38;5;241;43m0.2\u001b[39;49m\u001b[43m,\u001b[49m\u001b[43m \u001b[49m\u001b[38;5;241;43m0.3\u001b[39;49m\u001b[43m,\u001b[49m\u001b[43m \u001b[49m\u001b[38;5;241;43m0.4\u001b[39;49m\u001b[43m]\u001b[49m\u001b[43m,\u001b[49m\n\u001b[1;32m     42\u001b[0m \u001b[43m    \u001b[49m\u001b[38;5;28;43mtype\u001b[39;49m\u001b[43m \u001b[49m\u001b[38;5;241;43m=\u001b[39;49m\u001b[43m \u001b[49m\u001b[38;5;124;43m'\u001b[39;49m\u001b[38;5;124;43mnoise\u001b[39;49m\u001b[38;5;124;43m'\u001b[39;49m\u001b[43m)\u001b[49m\n",
      "File \u001b[0;32m~/GitHub/isuelogit/src/isuelogit/experiments.py:935\u001b[0m, in \u001b[0;36mCountsExperiment.run\u001b[0;34m(self, levels, type, n_sparse_features, show_replicate_plot, replicate_report, **kwargs)\u001b[0m\n\u001b[1;32m    930\u001b[0m \u001b[38;5;28mprint\u001b[39m(\u001b[38;5;124m'\u001b[39m\u001b[38;5;130;01m\\n\u001b[39;00m\u001b[38;5;124mStatistical Inference in No Refined Stage\u001b[39m\u001b[38;5;124m'\u001b[39m)\n\u001b[1;32m    932\u001b[0m \u001b[38;5;66;03m# self.utility_function.zero_initializer()\u001b[39;00m\n\u001b[1;32m    934\u001b[0m learning_results_norefined, inference_results_norefined, best_iter_norefined \u001b[38;5;241m=\u001b[39m \\\n\u001b[0;32m--> 935\u001b[0m     \u001b[38;5;28;43mself\u001b[39;49m\u001b[38;5;241;43m.\u001b[39;49m\u001b[43mlearner_norefined\u001b[49m\u001b[38;5;241;43m.\u001b[39;49m\u001b[43mstatistical_inference\u001b[49m\u001b[43m(\u001b[49m\u001b[43malpha\u001b[49m\u001b[38;5;241;43m=\u001b[39;49m\u001b[43malpha\u001b[49m\u001b[43m)\u001b[49m\n\u001b[1;32m    937\u001b[0m theta_norefined \u001b[38;5;241m=\u001b[39m learning_results_norefined[best_iter_norefined][\u001b[38;5;124m'\u001b[39m\u001b[38;5;124mtheta\u001b[39m\u001b[38;5;124m'\u001b[39m]\n\u001b[1;32m    939\u001b[0m \u001b[38;5;28mprint\u001b[39m(\u001b[38;5;124m'\u001b[39m\u001b[38;5;130;01m\\n\u001b[39;00m\u001b[38;5;124mStatistical Inference in Refined Stage\u001b[39m\u001b[38;5;124m'\u001b[39m)\n",
      "File \u001b[0;32m~/GitHub/isuelogit/src/isuelogit/estimation.py:2175\u001b[0m, in \u001b[0;36mLearner.statistical_inference\u001b[0;34m(self, **kwargs)\u001b[0m\n\u001b[1;32m   2170\u001b[0m \u001b[38;5;124;03m''' Perform both learning and inference'''\u001b[39;00m\n\u001b[1;32m   2172\u001b[0m \u001b[38;5;66;03m# true_traveltimes_dict = {link.key: link.true_traveltime for link in self.network.links}\u001b[39;00m\n\u001b[1;32m   2173\u001b[0m \u001b[38;5;66;03m# self.network.set_Y_attr_links(Y={'tt': true_traveltimes_dict})\u001b[39;00m\n\u001b[0;32m-> 2175\u001b[0m learning_results, best_iter \u001b[38;5;241m=\u001b[39m \u001b[38;5;28;43mself\u001b[39;49m\u001b[38;5;241;43m.\u001b[39;49m\u001b[43mbilevel_optimization\u001b[49m\u001b[43m(\u001b[49m\u001b[38;5;241;43m*\u001b[39;49m\u001b[38;5;241;43m*\u001b[39;49m\u001b[43mkwargs\u001b[49m\u001b[43m)\u001b[49m\n\u001b[1;32m   2177\u001b[0m inference_results \u001b[38;5;241m=\u001b[39m {}\n\u001b[1;32m   2179\u001b[0m \u001b[38;5;28;01mif\u001b[39;00m best_iter \u001b[38;5;129;01mis\u001b[39;00m \u001b[38;5;28;01mNone\u001b[39;00m:\n",
      "File \u001b[0;32m~/GitHub/isuelogit/src/isuelogit/estimation.py:1623\u001b[0m, in \u001b[0;36mLearner.bilevel_optimization\u001b[0;34m(self, network, q0, q_bar, link_report, iteration_report, convergence_report, **kwargs)\u001b[0m\n\u001b[1;32m   1619\u001b[0m \u001b[38;5;66;03m# Outer problem (* it takes more time than inner problem)\u001b[39;00m\n\u001b[1;32m   1621\u001b[0m \u001b[38;5;28;01mwith\u001b[39;00m block_output(show_stdout\u001b[38;5;241m=\u001b[39miteration_report, show_stderr\u001b[38;5;241m=\u001b[39miteration_report):\n\u001b[1;32m   1622\u001b[0m     q_new, theta_new, grad_new, _ \\\n\u001b[0;32m-> 1623\u001b[0m         \u001b[38;5;241m=\u001b[39m \u001b[38;5;28;43mself\u001b[39;49m\u001b[38;5;241;43m.\u001b[39;49m\u001b[43mouter_optimizer\u001b[49m\u001b[38;5;241;43m.\u001b[39;49m\u001b[43msolve_outer_problem\u001b[49m\u001b[43m(\u001b[49m\n\u001b[1;32m   1624\u001b[0m \u001b[43m        \u001b[49m\u001b[43mY\u001b[49m\u001b[38;5;241;43m=\u001b[39;49m\u001b[43mnetwork\u001b[49m\u001b[38;5;241;43m.\u001b[39;49m\u001b[43mY_data\u001b[49m\u001b[43m[\u001b[49m\u001b[43mfeatures_Y\u001b[49m\u001b[43m]\u001b[49m\u001b[43m,\u001b[49m\n\u001b[1;32m   1625\u001b[0m \u001b[43m        \u001b[49m\u001b[43mZ\u001b[49m\u001b[38;5;241;43m=\u001b[39;49m\u001b[43mnetwork\u001b[49m\u001b[38;5;241;43m.\u001b[39;49m\u001b[43mZ_data\u001b[49m\u001b[43m[\u001b[49m\u001b[43mfeatures_Z\u001b[49m\u001b[43m]\u001b[49m\u001b[43m,\u001b[49m\n\u001b[1;32m   1626\u001b[0m \u001b[43m        \u001b[49m\u001b[43mtheta_0\u001b[49m\u001b[38;5;241;43m=\u001b[39;49m\u001b[43mtheta_current\u001b[49m\u001b[43m,\u001b[49m\n\u001b[1;32m   1627\u001b[0m \u001b[43m        \u001b[49m\u001b[43mpaths_probabilities\u001b[49m\u001b[38;5;241;43m=\u001b[39;49m\u001b[43mp_f_0\u001b[49m\u001b[43m,\u001b[49m\n\u001b[1;32m   1628\u001b[0m \u001b[43m        \u001b[49m\u001b[43mpaths_specific_utility\u001b[49m\u001b[38;5;241;43m=\u001b[39;49m\u001b[43mpaths_specific_utility\u001b[49m\u001b[43m,\u001b[49m\n\u001b[1;32m   1629\u001b[0m \u001b[43m        \u001b[49m\u001b[43mq_0\u001b[49m\u001b[38;5;241;43m=\u001b[39;49m\u001b[43mq_current\u001b[49m\u001b[43m,\u001b[49m\n\u001b[1;32m   1630\u001b[0m \u001b[43m        \u001b[49m\u001b[43mq_bar\u001b[49m\u001b[38;5;241;43m=\u001b[39;49m\u001b[43mq_bar\u001b[49m\u001b[43m,\u001b[49m\n\u001b[1;32m   1631\u001b[0m \u001b[43m        \u001b[49m\u001b[43mparameters_constraints\u001b[49m\u001b[38;5;241;43m=\u001b[39;49m\u001b[43moptions\u001b[49m\u001b[38;5;241;43m.\u001b[39;49m\u001b[43mget\u001b[49m\u001b[43m(\u001b[49m\u001b[38;5;124;43m'\u001b[39;49m\u001b[38;5;124;43mparameters_constraints\u001b[39;49m\u001b[38;5;124;43m'\u001b[39;49m\u001b[43m)\u001b[49m\n\u001b[1;32m   1632\u001b[0m \u001b[43m    \u001b[49m\u001b[43m)\u001b[49m\n\u001b[1;32m   1634\u001b[0m \u001b[38;5;66;03m# q_current = q_new.copy()\u001b[39;00m\n\u001b[1;32m   1635\u001b[0m theta_current \u001b[38;5;241m=\u001b[39m theta_new\u001b[38;5;241m.\u001b[39mcopy()\n",
      "File \u001b[0;32m~/GitHub/isuelogit/src/isuelogit/estimation.py:1080\u001b[0m, in \u001b[0;36mOuterOptimizer.solve_outer_problem\u001b[0;34m(self, Y, Z, theta_0, paths_specific_utility, paths_probabilities, q_0, q_bar, **kwargs)\u001b[0m\n\u001b[1;32m   1076\u001b[0m     objective_values\u001b[38;5;241m.\u001b[39mappend(objective_value)\n\u001b[1;32m   1078\u001b[0m \u001b[38;5;66;03m# t0 = time.time()\u001b[39;00m\n\u001b[0;32m-> 1080\u001b[0m grad_current \u001b[38;5;241m=\u001b[39m \u001b[38;5;28;43mself\u001b[39;49m\u001b[38;5;241;43m.\u001b[39;49m\u001b[43mcompute_gradient_objective_function\u001b[49m\u001b[43m(\u001b[49m\n\u001b[1;32m   1081\u001b[0m \u001b[43m    \u001b[49m\u001b[43mtheta\u001b[49m\u001b[38;5;241;43m=\u001b[39;49m\u001b[43mtheta\u001b[49m\u001b[43m,\u001b[49m\n\u001b[1;32m   1082\u001b[0m \u001b[43m    \u001b[49m\u001b[43mdesign_matrix\u001b[49m\u001b[38;5;241;43m=\u001b[39;49m\u001b[43mdesign_matrix\u001b[49m\u001b[43m,\u001b[49m\n\u001b[1;32m   1083\u001b[0m \u001b[43m    \u001b[49m\u001b[43mnetwork\u001b[49m\u001b[38;5;241;43m=\u001b[39;49m\u001b[38;5;28;43mself\u001b[39;49m\u001b[38;5;241;43m.\u001b[39;49m\u001b[43mnetwork\u001b[49m\u001b[43m,\u001b[49m\n\u001b[1;32m   1084\u001b[0m \u001b[43m    \u001b[49m\u001b[43mfeatures_idxs\u001b[49m\u001b[38;5;241;43m=\u001b[39;49m\u001b[43mfeatures_idxs\u001b[49m\u001b[43m,\u001b[49m\n\u001b[1;32m   1085\u001b[0m \u001b[43m    \u001b[49m\u001b[38;5;66;43;03m# numeric = True,\u001b[39;49;00m\n\u001b[1;32m   1086\u001b[0m \u001b[43m    \u001b[49m\u001b[43mpaths_probabilities\u001b[49m\u001b[38;5;241;43m=\u001b[39;49m\u001b[43mpaths_probabilities\u001b[49m\u001b[43m,\u001b[49m\n\u001b[1;32m   1087\u001b[0m \u001b[43m    \u001b[49m\u001b[43mpaths_specific_utility\u001b[49m\u001b[38;5;241;43m=\u001b[39;49m\u001b[43mpaths_specific_utility\u001b[49m\u001b[43m)\u001b[49m  \u001b[38;5;66;03m# /total_no_nans\u001b[39;00m\n\u001b[1;32m   1089\u001b[0m \u001b[38;5;66;03m# # TODO: debug momentum\u001b[39;00m\n\u001b[1;32m   1090\u001b[0m \u001b[38;5;66;03m# #  formula (https://towardsdatascience.com/stochastic-gradient-descent-with-momentum-a84097641a5d)\u001b[39;00m\n\u001b[1;32m   1091\u001b[0m \u001b[38;5;66;03m# # grad_old = (1 - gamma) * grad_old + gamma * grad_new\u001b[39;00m\n\u001b[0;32m   (...)\u001b[0m\n\u001b[1;32m   1098\u001b[0m \n\u001b[1;32m   1099\u001b[0m \u001b[38;5;66;03m# self.grad_old = grad_adj\u001b[39;00m\n\u001b[1;32m   1101\u001b[0m grad_adj \u001b[38;5;241m=\u001b[39m grad_current\n",
      "File \u001b[0;32m~/GitHub/isuelogit/src/isuelogit/estimation.py:823\u001b[0m, in \u001b[0;36mOuterOptimizer.compute_gradient_objective_function\u001b[0;34m(self, network, **kwargs)\u001b[0m\n\u001b[1;32m    819\u001b[0m \u001b[38;5;28;01mdef\u001b[39;00m \u001b[38;5;21mcompute_gradient_objective_function\u001b[39m(\u001b[38;5;28mself\u001b[39m,\n\u001b[1;32m    820\u001b[0m                                         network,\n\u001b[1;32m    821\u001b[0m                                         \u001b[38;5;241m*\u001b[39m\u001b[38;5;241m*\u001b[39mkwargs):\n\u001b[0;32m--> 823\u001b[0m     gradient \u001b[38;5;241m=\u001b[39m \u001b[43mgradient_objective_function\u001b[49m\u001b[43m(\u001b[49m\n\u001b[1;32m    824\u001b[0m \u001b[43m        \u001b[49m\u001b[43mD\u001b[49m\u001b[38;5;241;43m=\u001b[39;49m\u001b[43mnetwork\u001b[49m\u001b[38;5;241;43m.\u001b[39;49m\u001b[43mD\u001b[49m\u001b[43m,\u001b[49m\n\u001b[1;32m    825\u001b[0m \u001b[43m        \u001b[49m\u001b[43mM\u001b[49m\u001b[38;5;241;43m=\u001b[39;49m\u001b[43mnetwork\u001b[49m\u001b[38;5;241;43m.\u001b[39;49m\u001b[43mM\u001b[49m\u001b[43m,\u001b[49m\n\u001b[1;32m    826\u001b[0m \u001b[43m        \u001b[49m\u001b[43mC\u001b[49m\u001b[38;5;241;43m=\u001b[39;49m\u001b[43mnetwork\u001b[49m\u001b[38;5;241;43m.\u001b[39;49m\u001b[43mC\u001b[49m\u001b[43m,\u001b[49m\n\u001b[1;32m    827\u001b[0m \u001b[43m        \u001b[49m\u001b[43mq\u001b[49m\u001b[38;5;241;43m=\u001b[39;49m\u001b[43mnetwork\u001b[49m\u001b[38;5;241;43m.\u001b[39;49m\u001b[43mq\u001b[49m\u001b[43m,\u001b[49m\n\u001b[1;32m    828\u001b[0m \u001b[43m        \u001b[49m\u001b[43mcounts\u001b[49m\u001b[38;5;241;43m=\u001b[39;49m\u001b[43mnetwork\u001b[49m\u001b[38;5;241;43m.\u001b[39;49m\u001b[43mobserved_counts_vector\u001b[49m\u001b[43m,\u001b[49m\n\u001b[1;32m    829\u001b[0m \u001b[43m        \u001b[49m\u001b[38;5;241;43m*\u001b[39;49m\u001b[38;5;241;43m*\u001b[39;49m\u001b[43mkwargs\u001b[49m\u001b[43m)\u001b[49m\n\u001b[1;32m    831\u001b[0m     \u001b[38;5;28;01mreturn\u001b[39;00m gradient\n",
      "File \u001b[0;32m~/GitHub/isuelogit/src/isuelogit/estimation.py:3562\u001b[0m, in \u001b[0;36mgradient_objective_function\u001b[0;34m(theta, design_matrix, counts, q, D, M, C, numeric, paths_probabilities, features_idxs, standardization, paths_specific_utility)\u001b[0m\n\u001b[1;32m   3556\u001b[0m     grad_m_terms[\u001b[38;5;241m2\u001b[39m] \u001b[38;5;241m=\u001b[39m Zk_f\u001b[38;5;241m.\u001b[39mdot(np\u001b[38;5;241m.\u001b[39mones(Zk_f\u001b[38;5;241m.\u001b[39mshape)\u001b[38;5;241m.\u001b[39mT)\n\u001b[1;32m   3557\u001b[0m     \u001b[38;5;66;03m# grad_m_terms[3] = -(np.ones(Zk_f.shape).dot(Zk_f.T) - Zk_f.dot(np.ones(Zk_f.shape).T))\u001b[39;00m\n\u001b[1;32m   3559\u001b[0m     grad_m \u001b[38;5;241m=\u001b[39m D\u001b[38;5;241m.\u001b[39mdot(\n\u001b[1;32m   3560\u001b[0m         np\u001b[38;5;241m.\u001b[39mmultiply(grad_m_terms[\u001b[38;5;241m0\u001b[39m],\n\u001b[1;32m   3561\u001b[0m                     np\u001b[38;5;241m.\u001b[39mmultiply(C,\n\u001b[0;32m-> 3562\u001b[0m                                 \u001b[43mnp\u001b[49m\u001b[38;5;241;43m.\u001b[39;49m\u001b[43mmultiply\u001b[49m\u001b[43m(\u001b[49m\u001b[43mgrad_m_terms\u001b[49m\u001b[43m[\u001b[49m\u001b[38;5;241;43m1\u001b[39;49m\u001b[43m]\u001b[49m\u001b[43m,\u001b[49m\n\u001b[1;32m   3563\u001b[0m \u001b[43m                                            \u001b[49m\u001b[43mgrad_m_terms\u001b[49m\u001b[43m[\u001b[49m\u001b[38;5;241;43m2\u001b[39;49m\u001b[43m]\u001b[49m\u001b[38;5;241;43m-\u001b[39;49m\u001b[43mgrad_m_terms\u001b[49m\u001b[43m[\u001b[49m\u001b[38;5;241;43m2\u001b[39;49m\u001b[43m]\u001b[49m\u001b[38;5;241;43m.\u001b[39;49m\u001b[43mT\u001b[49m\u001b[43m)\u001b[49m)))\u001b[38;5;241m.\u001b[39mdot(np\u001b[38;5;241m.\u001b[39mones(Zk_f\u001b[38;5;241m.\u001b[39mshape))\n\u001b[1;32m   3565\u001b[0m     gradient[counter] \u001b[38;5;241m=\u001b[39m \u001b[38;5;28mfloat\u001b[39m(\u001b[38;5;241m2\u001b[39m \u001b[38;5;241m*\u001b[39m grad_m\u001b[38;5;241m.\u001b[39mT\u001b[38;5;241m.\u001b[39mdot(m \u001b[38;5;241m-\u001b[39m counts))\n\u001b[1;32m   3567\u001b[0m \u001b[38;5;28;01melse\u001b[39;00m:\n",
      "\u001b[0;31mKeyboardInterrupt\u001b[0m: "
     ]
    }
   ],
   "source": [
    "if run_experiment['noisy_counts']:\n",
    "\n",
    "    outer_optimizer_norefined = isl.estimation.OuterOptimizer(\n",
    "        method='ngd',\n",
    "        iters=1,\n",
    "        eta= _ETA_NGD\n",
    "    )\n",
    "\n",
    "    outer_optimizer_refined = isl.estimation.OuterOptimizer(\n",
    "        iters=1,\n",
    "        method='lm',\n",
    "    )\n",
    "\n",
    "    equilibrator = isl.equilibrium.LUE_Equilibrator(\n",
    "        network = tntp_network,\n",
    "        max_iters=100,\n",
    "        method='fw',\n",
    "        iters_fw=100,\n",
    "        accuracy=1e-10,\n",
    "        exogenous_traveltimes=True,\n",
    "        paths_generator=paths_generator,\n",
    "    )\n",
    "\n",
    "    noisy_counts_experiment = isl.experiments.CountsExperiment(\n",
    "        seed=_SEED,\n",
    "        name='Noisy Counts Experiment',\n",
    "        folderpath=isl.config.dirs['output_folder'] + 'experiments/' + network_name,\n",
    "        outer_optimizers= [outer_optimizer_norefined, outer_optimizer_refined],\n",
    "        utility_function=utility_function,\n",
    "        linkdata_generator=isl.factory.LinkDataGenerator(),\n",
    "        equilibrator=equilibrator,\n",
    "        bilevel_iters= _BILEVEL_ITERS,\n",
    "        network=tntp_network)\n",
    "\n",
    "    noisy_counts_experiment.run(\n",
    "        replicates = _REPLICATES,\n",
    "        range_initial_values = _RANGE_INITIAL_VALUES,\n",
    "        alpha = _ALPHA,\n",
    "        n_sparse_features=_N_SPARSE_FEATURES,\n",
    "        show_replicate_plot=_SHOW_REPLICATE_PLOT,\n",
    "        levels=[0.15, 0.2, 0.25],\n",
    "        type = 'noise')"
   ]
  },
  {
   "cell_type": "markdown",
   "metadata": {},
   "source": [
    "### f) Sensor coverage"
   ]
  },
  {
   "cell_type": "code",
   "execution_count": null,
   "metadata": {},
   "outputs": [],
   "source": [
    "if run_experiment['sensor_coverage']:\n",
    "\n",
    "    outer_optimizer_norefined = isl.estimation.OuterOptimizer(\n",
    "        method='ngd',\n",
    "        iters=1,\n",
    "        eta= _ETA_NGD\n",
    "    )\n",
    "\n",
    "    outer_optimizer_refined = isl.estimation.OuterOptimizer(\n",
    "        iters=1,\n",
    "        method='lm',\n",
    "    )\n",
    "\n",
    "    equilibrator = isl.equilibrium.LUE_Equilibrator(\n",
    "        network = tntp_network,\n",
    "        max_iters=100,\n",
    "        method='fw',\n",
    "        iters_fw=100,\n",
    "        accuracy=1e-10,\n",
    "        exogenous_traveltimes=True,\n",
    "        paths_generator=paths_generator,\n",
    "    )\n",
    "\n",
    "    sensor_coverage_experiment = isl.experiments.CountsExperiment(\n",
    "        seed=_SEED,\n",
    "        name='Sensor Coverage Experiment',\n",
    "        folderpath=isl.config.dirs['output_folder'] + 'experiments/' + network_name,\n",
    "        outer_optimizers=[outer_optimizer_norefined, outer_optimizer_refined],\n",
    "        # outer_optimizers=[outer_optimizer_norefined],\n",
    "        utility_function=utility_function,\n",
    "        linkdata_generator=isl.factory.LinkDataGenerator(noise_params={'sd_x': _SD_X}),\n",
    "        equilibrator=equilibrator,\n",
    "        bilevel_iters=_BILEVEL_ITERS,\n",
    "        network=tntp_network)\n",
    "\n",
    "    sensor_coverage_experiment.run(\n",
    "        alpha = _ALPHA,\n",
    "        replicates = _REPLICATES,\n",
    "        range_initial_values = _RANGE_INITIAL_VALUES,\n",
    "        n_sparse_features=_N_SPARSE_FEATURES,\n",
    "        show_replicate_plot=_SHOW_REPLICATE_PLOT,\n",
    "        replicate_report = False,\n",
    "        levels=[0.25, 0.5, 0.75],\n",
    "        type = 'coverage')"
   ]
  },
  {
   "cell_type": "markdown",
   "metadata": {},
   "source": [
    "### g) Error in OD matrix"
   ]
  },
  {
   "cell_type": "code",
   "execution_count": null,
   "metadata": {},
   "outputs": [],
   "source": [
    "if run_experiment['noisy_od']:\n",
    "\n",
    "    outer_optimizer_norefined = isl.estimation.OuterOptimizer(\n",
    "        method='ngd',\n",
    "        iters=1,\n",
    "        eta= _ETA_NGD\n",
    "    )\n",
    "\n",
    "    outer_optimizer_refined = isl.estimation.OuterOptimizer(\n",
    "        iters=1,\n",
    "        method='lm',\n",
    "    )\n",
    "\n",
    "    equilibrator = isl.equilibrium.LUE_Equilibrator(\n",
    "        network = tntp_network,\n",
    "        max_iters=100,\n",
    "        method='fw',\n",
    "        iters_fw=100,\n",
    "        accuracy=1e-10,\n",
    "        exogenous_traveltimes=True,\n",
    "        paths_generator=paths_generator,\n",
    "    )\n",
    "\n",
    "    noisy_od_experiment = isl.experiments.ODExperiment(\n",
    "        seed=_SEED,\n",
    "        name='Noisy OD Experiment',\n",
    "        folderpath=isl.config.dirs['output_folder'] + 'experiments/' + network_name,\n",
    "        outer_optimizers=[outer_optimizer_norefined, outer_optimizer_refined],\n",
    "        utility_function=utility_function,\n",
    "        linkdata_generator=isl.factory.LinkDataGenerator(noise_params={'sd_x': _SD_X}),\n",
    "        equilibrator=equilibrator,\n",
    "        bilevel_iters=_BILEVEL_ITERS,\n",
    "        network=tntp_network)\n",
    "\n",
    "    # Note: Random features ('c,'s') and 3 sparse attributes are generated and loaded in the network at every replicate\n",
    "\n",
    "    noisy_od_experiment.run(\n",
    "        replicates = _REPLICATES,\n",
    "        range_initial_values = _RANGE_INITIAL_VALUES,\n",
    "        levels=[0.15, 0.2, 0.25],\n",
    "        alpha=_ALPHA,\n",
    "        n_sparse_features=_N_SPARSE_FEATURES,\n",
    "        show_replicate_plot=_SHOW_REPLICATE_PLOT,\n",
    "        type = 'noise')"
   ]
  },
  {
   "cell_type": "markdown",
   "metadata": {},
   "source": [
    "### h) Scale of OD matrix"
   ]
  },
  {
   "cell_type": "code",
   "execution_count": null,
   "metadata": {},
   "outputs": [
    {
     "name": "stdout",
     "output_type": "stream",
     "text": [
      "\n",
      "Ill-scaled OD Experiment\n",
      "Replicates: |#####---------------| 25/100 "
     ]
    }
   ],
   "source": [
    "if run_experiment['ill_scaled_od']:\n",
    "\n",
    "    outer_optimizer_norefined = isl.estimation.OuterOptimizer(\n",
    "        method='ngd',\n",
    "        iters=1,\n",
    "        eta=_ETA_NGD\n",
    "    )\n",
    "\n",
    "    outer_optimizer_refined = isl.estimation.OuterOptimizer(\n",
    "        iters=1,\n",
    "        method='lm',\n",
    "    )\n",
    "\n",
    "    equilibrator = isl.equilibrium.LUE_Equilibrator(\n",
    "        network = tntp_network,\n",
    "        max_iters=100,\n",
    "        method='fw',\n",
    "        iters_fw=100,\n",
    "        accuracy=1e-10,\n",
    "        exogenous_traveltimes=True,\n",
    "        paths_generator=paths_generator,\n",
    "    )\n",
    "\n",
    "    ill_scaled_od_experiment = isl.experiments.ODExperiment(\n",
    "        seed=_SEED,\n",
    "        name='Ill-scaled OD Experiment',\n",
    "        folderpath=isl.config.dirs['output_folder'] + 'experiments/' + network_name,\n",
    "        outer_optimizers=[outer_optimizer_norefined, outer_optimizer_refined],\n",
    "        utility_function=utility_function,\n",
    "        linkdata_generator=isl.factory.LinkDataGenerator(noise_params={'sd_x': _SD_X}),\n",
    "        equilibrator=equilibrator,\n",
    "        bilevel_iters=_BILEVEL_ITERS,\n",
    "        network=tntp_network)\n",
    "\n",
    "    ill_scaled_od_experiment.run(\n",
    "        replicates = _REPLICATES,\n",
    "        range_initial_values = _RANGE_INITIAL_VALUES,\n",
    "        alpha = _ALPHA,\n",
    "        n_sparse_features=_N_SPARSE_FEATURES,\n",
    "        show_replicate_plot=_SHOW_REPLICATE_PLOT,\n",
    "        levels=[0.8, 0.9, 1.1, 1.2],\n",
    "        type = 'scale')"
   ]
  },
  {
   "cell_type": "code",
   "execution_count": null,
   "metadata": {},
   "outputs": [],
   "source": []
  }
 ],
 "metadata": {
  "kernelspec": {
   "display_name": "venv-isuelogit",
   "language": "python",
   "name": "venv-isuelogit"
  },
  "language_info": {
   "codemirror_mode": {
    "name": "ipython",
    "version": 3
   },
   "file_extension": ".py",
   "mimetype": "text/x-python",
   "name": "python",
   "nbconvert_exporter": "python",
   "pygments_lexer": "ipython3",
   "version": "3.8.9"
  }
 },
 "nbformat": 4,
 "nbformat_minor": 4
}
