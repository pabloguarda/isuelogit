{
 "cells": [
  {
   "cell_type": "code",
   "execution_count": 1,
   "metadata": {},
   "outputs": [
    {
     "name": "stdout",
     "output_type": "stream",
     "text": [
      "main dir: /Users/pablo/OneDrive/data-science/github/transportAI\n"
     ]
    }
   ],
   "source": [
    "%matplotlib inline\n",
    "\n",
    "# Path management\n",
    "import os\n",
    "from pathlib import Path\n",
    "\n",
    "# Get main project directory \n",
    "main_dir = str(Path(os.path.abspath('')).parents[0])\n",
    "os.chdir(main_dir)\n",
    "print('main dir:',main_dir)"
   ]
  },
  {
   "cell_type": "code",
   "execution_count": 2,
   "metadata": {},
   "outputs": [
    {
     "name": "stdout",
     "output_type": "stream",
     "text": [
      "main dir: /Users/pablo/OneDrive/data-science/github/transportAI\n"
     ]
    }
   ],
   "source": [
    "# Internal modules\n",
    "from src import transportAI as tai\n",
    "\n",
    "# External modules\n",
    "import sys\n",
    "import numpy as np\n",
    "import random\n",
    "import pandas as pd\n",
    "import matplotlib.pyplot as plt\n",
    "import seaborn as sns"
   ]
  },
  {
   "cell_type": "code",
   "execution_count": 3,
   "metadata": {},
   "outputs": [],
   "source": [
    "# =============================================================================\n",
    "# 2) NETWORKS FACTORY\n",
    "# =============================================================================\n",
    "\n",
    "# network_name = 'SiouxFalls'\n",
    "# network_name = 'Eastern-Massachusetts'\n",
    "# network_name =  'Berlin-Friedrichshain'\n",
    "# network_name =  'Berlin-Mitte-Center'\n",
    "network_name =  'Barcelona'\n",
    "\n",
    "# Reporter of estimation results\n",
    "estimation_reporter = tai.writer.Reporter(foldername=network_name, seed = 2022)"
   ]
  },
  {
   "cell_type": "markdown",
   "metadata": {},
   "source": [
    "## Read data from tntp repository"
   ]
  },
  {
   "cell_type": "code",
   "execution_count": 4,
   "metadata": {},
   "outputs": [],
   "source": [
    "links_df = tai.reader.read_tntp_linkdata(\n",
    "    folderpath=os.getcwd() + \"/input/public/networks/github/\",\n",
    "    subfoldername=network_name)\n",
    "\n",
    "links_df['link_key'] = [(i, j, '0') for i, j in zip(links_df['init_node'], links_df['term_node'])]"
   ]
  },
  {
   "cell_type": "markdown",
   "metadata": {},
   "source": [
    "## Build network"
   ]
  },
  {
   "cell_type": "code",
   "execution_count": 5,
   "metadata": {},
   "outputs": [
    {
     "name": "stdout",
     "output_type": "stream",
     "text": [
      "\n",
      "Creating Barcelona network\n",
      "\n",
      "Nodes: 930, Links: 2522\n"
     ]
    }
   ],
   "source": [
    "network_generator = tai.factory.NetworkGenerator()\n",
    "\n",
    "A = network_generator.generate_adjacency_matrix(links_keys=list(links_df['link_key'].values))\n",
    "\n",
    "tntp_network = network_generator.build_network(A=A,network_name=network_name)"
   ]
  },
  {
   "cell_type": "markdown",
   "metadata": {},
   "source": [
    "### Link performance functions"
   ]
  },
  {
   "cell_type": "code",
   "execution_count": 6,
   "metadata": {},
   "outputs": [],
   "source": [
    "bpr_parameters_df = pd.DataFrame({'link_key': tntp_network.links_dict.keys(),\n",
    "                                  'alpha': links_df.b,\n",
    "                                  'beta': links_df.power,\n",
    "                                  'tf': links_df.free_flow_time,\n",
    "                                  'k': links_df.capacity\n",
    "                                  })\n",
    "\n",
    "tntp_network.set_bpr_functions(bprdata=bpr_parameters_df)"
   ]
  },
  {
   "cell_type": "markdown",
   "metadata": {},
   "source": [
    "### Exogenous link attributes"
   ]
  },
  {
   "cell_type": "code",
   "execution_count": 7,
   "metadata": {},
   "outputs": [],
   "source": [
    "# Link features from TNTP repo\n",
    "\n",
    "link_features_df = links_df[['link_key','length', 'speed', 'link_type', 'toll']]\n",
    "\n",
    "# Synthetic link features\n",
    "\n",
    "linkdata_generator = tai.factory.LinkDataGenerator()\n",
    "\n",
    "synthetic_features_df = linkdata_generator.simulate_features(links=tntp_network.links,\n",
    "                                                             features_Z= ['c', 'w', 's'],\n",
    "                                                             option='continuous',\n",
    "                                                             range=(0, 1))\n",
    "# Sparse features\n",
    "\n",
    "n_sparse_features = 1 \n",
    "\n",
    "sparse_features_labels = ['k' + str(i) for i in np.arange(0, n_sparse_features)]\n",
    "\n",
    "sparse_features_df = linkdata_generator.simulate_features(\n",
    "    links=tntp_network.links,\n",
    "    features_Z=sparse_features_labels,\n",
    "    option='continuous',\n",
    "    range=(-1, 1))\n",
    "\n",
    "# Merge dataframes with existing dataframe\n",
    "link_features_df = link_features_df.merge(synthetic_features_df, left_on='link_key', right_on='link_key')\n",
    "link_features_df = link_features_df.merge(sparse_features_df, left_on='link_key', right_on='link_key')\n",
    "\n",
    "# Load features data\n",
    "tntp_network.load_features_data(linkdata=link_features_df)"
   ]
  },
  {
   "cell_type": "markdown",
   "metadata": {},
   "source": [
    "### Utility function"
   ]
  },
  {
   "cell_type": "code",
   "execution_count": 8,
   "metadata": {},
   "outputs": [],
   "source": [
    "utility_parameters = tai.estimation.Parameters(features_Y=['tt'],\n",
    "                                               # features_Z= [],\n",
    "                                               features_Z=['c', 's'],\n",
    "                                               # features_Z= ['s', 'c'],\n",
    "                                               # initial_values={'tt': -0.5, 'c': -4, 's': -2},\n",
    "                                               # initial_values={'tt': -1, 'c': -6, 's': -2},\n",
    "                                               # initial_values={'tt': -1.4, 'c': -6.4},\n",
    "                                               true_values={'tt': -1, 'c': -6, 's': -3}\n",
    "                                               )\n",
    "\n",
    "utility_function = tai.estimation.UtilityFunction(utility_parameters)\n",
    "\n",
    "# Add parameters for sparse features\n",
    "utility_function.add_sparse_features(Z=sparse_features_labels)"
   ]
  },
  {
   "cell_type": "markdown",
   "metadata": {},
   "source": [
    "### OD matrix"
   ]
  },
  {
   "cell_type": "code",
   "execution_count": 9,
   "metadata": {},
   "outputs": [
    {
     "name": "stdout",
     "output_type": "stream",
     "text": [
      "Reading Q from external file\n",
      "Matrix Q (110, 110) read in 0.1[s]\n",
      "184679.561 trips were loaded among 7922 o-d pairs\n"
     ]
    }
   ],
   "source": [
    "Q = tai.reader.read_tntp_od(folderpath=os.getcwd() + \"/input/public/networks/github/\",\n",
    "                            subfoldername=network_name)\n",
    "\n",
    "tntp_network.load_OD(Q= Q)"
   ]
  },
  {
   "cell_type": "markdown",
   "metadata": {},
   "source": [
    "## Paths"
   ]
  },
  {
   "cell_type": "code",
   "execution_count": 1,
   "metadata": {},
   "outputs": [
    {
     "ename": "NameError",
     "evalue": "name 'tai' is not defined",
     "output_type": "error",
     "traceback": [
      "\u001B[0;31m---------------------------------------------------------------------------\u001B[0m",
      "\u001B[0;31mNameError\u001B[0m                                 Traceback (most recent call last)",
      "\u001B[0;32m/var/folders/mg/t5yt0b_d1cg4ykytg0c22xcc0000gn/T/ipykernel_42961/3687795761.py\u001B[0m in \u001B[0;36m<module>\u001B[0;34m\u001B[0m\n\u001B[1;32m      1\u001B[0m \u001B[0;31m# Create path generator\u001B[0m\u001B[0;34m\u001B[0m\u001B[0;34m\u001B[0m\u001B[0;34m\u001B[0m\u001B[0m\n\u001B[0;32m----> 2\u001B[0;31m \u001B[0mpaths_generator\u001B[0m \u001B[0;34m=\u001B[0m \u001B[0mtai\u001B[0m\u001B[0;34m.\u001B[0m\u001B[0mfactory\u001B[0m\u001B[0;34m.\u001B[0m\u001B[0mPathsGenerator\u001B[0m\u001B[0;34m(\u001B[0m\u001B[0;34m)\u001B[0m\u001B[0;34m\u001B[0m\u001B[0;34m\u001B[0m\u001B[0m\n\u001B[0m\u001B[1;32m      3\u001B[0m \u001B[0;34m\u001B[0m\u001B[0m\n\u001B[1;32m      4\u001B[0m \u001B[0;31m# Generate and Load paths in network\u001B[0m\u001B[0;34m\u001B[0m\u001B[0;34m\u001B[0m\u001B[0;34m\u001B[0m\u001B[0m\n\u001B[1;32m      5\u001B[0m \u001B[0mpaths_generator\u001B[0m\u001B[0;34m.\u001B[0m\u001B[0mload_k_shortest_paths\u001B[0m\u001B[0;34m(\u001B[0m\u001B[0mnetwork\u001B[0m\u001B[0;34m=\u001B[0m\u001B[0mtntp_network\u001B[0m\u001B[0;34m,\u001B[0m \u001B[0mk\u001B[0m\u001B[0;34m=\u001B[0m\u001B[0;36m3\u001B[0m\u001B[0;34m)\u001B[0m\u001B[0;34m\u001B[0m\u001B[0;34m\u001B[0m\u001B[0m\n",
      "\u001B[0;31mNameError\u001B[0m: name 'tai' is not defined"
     ]
    }
   ],
   "source": [
    "paths_generator = tai.factory.PathsGenerator()\n",
    "\n",
    "paths_generator.load_k_shortest_paths(network=tntp_network, k=3)"
   ]
  },
  {
   "cell_type": "markdown",
   "metadata": {},
   "source": [
    "### Equilibrator"
   ]
  },
  {
   "cell_type": "code",
   "execution_count": null,
   "metadata": {},
   "outputs": [],
   "source": [
    "equilibrator = tai.equilibrium.LUE_Equilibrator(network=tntp_network,\n",
    "                                                utility_function=utility_function,\n",
    "                                                uncongested_mode=False,\n",
    "                                                max_iters=100,\n",
    "                                                method='fw',\n",
    "                                                iters_fw=100,\n",
    "                                                search_fw='grid'\n",
    "                                                # , path_size_correction = 20\n",
    "                                                )"
   ]
  },
  {
   "cell_type": "markdown",
   "metadata": {},
   "source": [
    "### Synthetic traffic counts"
   ]
  },
  {
   "cell_type": "code",
   "execution_count": 11,
   "metadata": {},
   "outputs": [
    {
     "name": "stdout",
     "output_type": "stream",
     "text": [
      "\n",
      "Generating synthetic link counts via Frank-Wolfe\n",
      "\n",
      "SUE via fw (max iters: 100)\n",
      "\n",
      "Equilibrium gaps: ['1E-02', '2E-04', '3E-05']\n",
      "Initial Fisk Objective: -257,713,281.64\n",
      "Final Fisk Objective: -203,952,328.08\n",
      "Improvement Fisk Objective: 20.86%\n",
      "Final gap: 3E-05. Acc. bound: 1E-04. Time: 605.4 [s]\n",
      "Ratio of counts versus capacity: 83276.7%\n",
      "Proportion of links over capacity: 54.5%\n",
      "Normalized RMSE: 0.0\n"
     ]
    }
   ],
   "source": [
    "counts, _ = linkdata_generator.simulate_counts(network=tntp_network,\n",
    "                                               equilibrator=equilibrator,\n",
    "                                               noise_params={'mu_x': 0, 'sd_x': 0},\n",
    "                                               coverage=0.75\n",
    "                                               )\n",
    "tntp_network.load_traffic_counts(counts=counts)"
   ]
  },
  {
   "cell_type": "markdown",
   "metadata": {},
   "source": [
    "## Descriptive statistics"
   ]
  },
  {
   "cell_type": "markdown",
   "metadata": {},
   "source": [
    "### Network topology"
   ]
  },
  {
   "cell_type": "code",
   "execution_count": 2,
   "metadata": {},
   "outputs": [
    {
     "ename": "NameError",
     "evalue": "name 'tai' is not defined",
     "output_type": "error",
     "traceback": [
      "\u001B[0;31m---------------------------------------------------------------------------\u001B[0m",
      "\u001B[0;31mNameError\u001B[0m                                 Traceback (most recent call last)",
      "\u001B[0;32m/var/folders/mg/t5yt0b_d1cg4ykytg0c22xcc0000gn/T/ipykernel_42961/295487982.py\u001B[0m in \u001B[0;36m<module>\u001B[0;34m\u001B[0m\n\u001B[0;32m----> 1\u001B[0;31m \u001B[0mtai\u001B[0m\u001B[0;34m.\u001B[0m\u001B[0mdescriptive_statistics\u001B[0m\u001B[0;34m.\u001B[0m\u001B[0msummary_table_networks\u001B[0m\u001B[0;34m(\u001B[0m\u001B[0;34m[\u001B[0m\u001B[0mtntp_network\u001B[0m\u001B[0;34m]\u001B[0m\u001B[0;34m)\u001B[0m\u001B[0;34m\u001B[0m\u001B[0;34m\u001B[0m\u001B[0m\n\u001B[0m",
      "\u001B[0;31mNameError\u001B[0m: name 'tai' is not defined"
     ]
    }
   ],
   "source": [
    "tai.descriptive_statistics.summary_table_networks([tntp_network])"
   ]
  },
  {
   "cell_type": "markdown",
   "metadata": {},
   "source": [
    "### Links data"
   ]
  },
  {
   "cell_type": "code",
   "execution_count": 3,
   "metadata": {},
   "outputs": [
    {
     "ename": "NameError",
     "evalue": "name 'tntp_network' is not defined",
     "output_type": "error",
     "traceback": [
      "\u001B[0;31m---------------------------------------------------------------------------\u001B[0m",
      "\u001B[0;31mNameError\u001B[0m                                 Traceback (most recent call last)",
      "\u001B[0;32m/var/folders/mg/t5yt0b_d1cg4ykytg0c22xcc0000gn/T/ipykernel_42961/739709856.py\u001B[0m in \u001B[0;36m<module>\u001B[0;34m\u001B[0m\n\u001B[0;32m----> 1\u001B[0;31m \u001B[0msummary_table_links_df\u001B[0m \u001B[0;34m=\u001B[0m \u001B[0mtntp_network\u001B[0m\u001B[0;34m.\u001B[0m\u001B[0mZ_data\u001B[0m\u001B[0;34m\u001B[0m\u001B[0;34m\u001B[0m\u001B[0m\n\u001B[0m\u001B[1;32m      2\u001B[0m \u001B[0mestimation_reporter\u001B[0m\u001B[0;34m.\u001B[0m\u001B[0mwrite_table\u001B[0m\u001B[0;34m(\u001B[0m\u001B[0mdf\u001B[0m \u001B[0;34m=\u001B[0m \u001B[0msummary_table_links_df\u001B[0m\u001B[0;34m,\u001B[0m \u001B[0mfilename\u001B[0m \u001B[0;34m=\u001B[0m \u001B[0;34m'links_data.csv'\u001B[0m\u001B[0;34m,\u001B[0m \u001B[0mfloat_format\u001B[0m \u001B[0;34m=\u001B[0m \u001B[0;34m'%.3f'\u001B[0m\u001B[0;34m)\u001B[0m\u001B[0;34m\u001B[0m\u001B[0;34m\u001B[0m\u001B[0m\n\u001B[1;32m      3\u001B[0m \u001B[0msummary_table_links_df\u001B[0m\u001B[0;34m\u001B[0m\u001B[0;34m\u001B[0m\u001B[0m\n",
      "\u001B[0;31mNameError\u001B[0m: name 'tntp_network' is not defined"
     ]
    }
   ],
   "source": [
    "summary_table_links_df = tntp_network.Z_data\n",
    "estimation_reporter.write_table(df = summary_table_links_df, filename = 'links_data.csv', float_format = '%.3f')\n",
    "summary_table_links_df"
   ]
  },
  {
   "cell_type": "code",
   "execution_count": 15,
   "metadata": {},
   "outputs": [
    {
     "data": {
      "text/html": [
       "<div>\n",
       "<style scoped>\n",
       "    .dataframe tbody tr th:only-of-type {\n",
       "        vertical-align: middle;\n",
       "    }\n",
       "\n",
       "    .dataframe tbody tr th {\n",
       "        vertical-align: top;\n",
       "    }\n",
       "\n",
       "    .dataframe thead th {\n",
       "        text-align: right;\n",
       "    }\n",
       "</style>\n",
       "<table border=\"1\" class=\"dataframe\">\n",
       "  <thead>\n",
       "    <tr style=\"text-align: right;\">\n",
       "      <th></th>\n",
       "      <th>link_type</th>\n",
       "      <th>alpha</th>\n",
       "      <th>beta</th>\n",
       "      <th>tf</th>\n",
       "      <th>k</th>\n",
       "      <th>length</th>\n",
       "      <th>speed</th>\n",
       "      <th>toll</th>\n",
       "      <th>c</th>\n",
       "      <th>w</th>\n",
       "      <th>s</th>\n",
       "      <th>k0</th>\n",
       "    </tr>\n",
       "  </thead>\n",
       "  <tbody>\n",
       "    <tr>\n",
       "      <th>count</th>\n",
       "      <td>2522.000000</td>\n",
       "      <td>2.522000e+03</td>\n",
       "      <td>2522.000000</td>\n",
       "      <td>2522.000000</td>\n",
       "      <td>2522.0</td>\n",
       "      <td>2522.000000</td>\n",
       "      <td>2522.0</td>\n",
       "      <td>2522.0</td>\n",
       "      <td>2522.000000</td>\n",
       "      <td>2522.000000</td>\n",
       "      <td>2522.000000</td>\n",
       "      <td>2522.000000</td>\n",
       "    </tr>\n",
       "    <tr>\n",
       "      <th>mean</th>\n",
       "      <td>2.792228</td>\n",
       "      <td>8.789544e-12</td>\n",
       "      <td>4.245316</td>\n",
       "      <td>0.645347</td>\n",
       "      <td>1.0</td>\n",
       "      <td>0.645347</td>\n",
       "      <td>0.0</td>\n",
       "      <td>0.0</td>\n",
       "      <td>0.499005</td>\n",
       "      <td>0.502402</td>\n",
       "      <td>0.495623</td>\n",
       "      <td>-0.005301</td>\n",
       "    </tr>\n",
       "    <tr>\n",
       "      <th>std</th>\n",
       "      <td>3.336189</td>\n",
       "      <td>1.029939e-10</td>\n",
       "      <td>3.607161</td>\n",
       "      <td>1.650823</td>\n",
       "      <td>0.0</td>\n",
       "      <td>1.650823</td>\n",
       "      <td>0.0</td>\n",
       "      <td>0.0</td>\n",
       "      <td>0.293243</td>\n",
       "      <td>0.290215</td>\n",
       "      <td>0.290686</td>\n",
       "      <td>0.571338</td>\n",
       "    </tr>\n",
       "    <tr>\n",
       "      <th>min</th>\n",
       "      <td>1.000000</td>\n",
       "      <td>0.000000e+00</td>\n",
       "      <td>0.000000</td>\n",
       "      <td>0.051429</td>\n",
       "      <td>1.0</td>\n",
       "      <td>0.051429</td>\n",
       "      <td>0.0</td>\n",
       "      <td>0.0</td>\n",
       "      <td>0.001002</td>\n",
       "      <td>0.000465</td>\n",
       "      <td>0.000416</td>\n",
       "      <td>-0.998784</td>\n",
       "    </tr>\n",
       "    <tr>\n",
       "      <th>25%</th>\n",
       "      <td>1.000000</td>\n",
       "      <td>1.967150e-67</td>\n",
       "      <td>4.217250</td>\n",
       "      <td>0.188571</td>\n",
       "      <td>1.0</td>\n",
       "      <td>0.188571</td>\n",
       "      <td>0.0</td>\n",
       "      <td>0.0</td>\n",
       "      <td>0.246293</td>\n",
       "      <td>0.249529</td>\n",
       "      <td>0.238235</td>\n",
       "      <td>-0.486158</td>\n",
       "    </tr>\n",
       "    <tr>\n",
       "      <th>50%</th>\n",
       "      <td>1.000000</td>\n",
       "      <td>1.087306e-18</td>\n",
       "      <td>4.446000</td>\n",
       "      <td>0.373333</td>\n",
       "      <td>1.0</td>\n",
       "      <td>0.373333</td>\n",
       "      <td>0.0</td>\n",
       "      <td>0.0</td>\n",
       "      <td>0.496151</td>\n",
       "      <td>0.498352</td>\n",
       "      <td>0.492623</td>\n",
       "      <td>-0.001136</td>\n",
       "    </tr>\n",
       "    <tr>\n",
       "      <th>75%</th>\n",
       "      <td>1.000000</td>\n",
       "      <td>7.010272e-18</td>\n",
       "      <td>4.924000</td>\n",
       "      <td>0.778333</td>\n",
       "      <td>1.0</td>\n",
       "      <td>0.778333</td>\n",
       "      <td>0.0</td>\n",
       "      <td>0.0</td>\n",
       "      <td>0.760901</td>\n",
       "      <td>0.754625</td>\n",
       "      <td>0.752403</td>\n",
       "      <td>0.496352</td>\n",
       "    </tr>\n",
       "    <tr>\n",
       "      <th>max</th>\n",
       "      <td>9.000000</td>\n",
       "      <td>2.176649e-09</td>\n",
       "      <td>16.830000</td>\n",
       "      <td>55.000000</td>\n",
       "      <td>1.0</td>\n",
       "      <td>55.000000</td>\n",
       "      <td>0.0</td>\n",
       "      <td>0.0</td>\n",
       "      <td>0.999948</td>\n",
       "      <td>0.999605</td>\n",
       "      <td>0.999842</td>\n",
       "      <td>0.998854</td>\n",
       "    </tr>\n",
       "  </tbody>\n",
       "</table>\n",
       "</div>"
      ],
      "text/plain": [
       "         link_type         alpha         beta           tf       k  \\\n",
       "count  2522.000000  2.522000e+03  2522.000000  2522.000000  2522.0   \n",
       "mean      2.792228  8.789544e-12     4.245316     0.645347     1.0   \n",
       "std       3.336189  1.029939e-10     3.607161     1.650823     0.0   \n",
       "min       1.000000  0.000000e+00     0.000000     0.051429     1.0   \n",
       "25%       1.000000  1.967150e-67     4.217250     0.188571     1.0   \n",
       "50%       1.000000  1.087306e-18     4.446000     0.373333     1.0   \n",
       "75%       1.000000  7.010272e-18     4.924000     0.778333     1.0   \n",
       "max       9.000000  2.176649e-09    16.830000    55.000000     1.0   \n",
       "\n",
       "            length   speed    toll            c            w            s  \\\n",
       "count  2522.000000  2522.0  2522.0  2522.000000  2522.000000  2522.000000   \n",
       "mean      0.645347     0.0     0.0     0.499005     0.502402     0.495623   \n",
       "std       1.650823     0.0     0.0     0.293243     0.290215     0.290686   \n",
       "min       0.051429     0.0     0.0     0.001002     0.000465     0.000416   \n",
       "25%       0.188571     0.0     0.0     0.246293     0.249529     0.238235   \n",
       "50%       0.373333     0.0     0.0     0.496151     0.498352     0.492623   \n",
       "75%       0.778333     0.0     0.0     0.760901     0.754625     0.752403   \n",
       "max      55.000000     0.0     0.0     0.999948     0.999605     0.999842   \n",
       "\n",
       "                k0  \n",
       "count  2522.000000  \n",
       "mean     -0.005301  \n",
       "std       0.571338  \n",
       "min      -0.998784  \n",
       "25%      -0.486158  \n",
       "50%      -0.001136  \n",
       "75%       0.496352  \n",
       "max       0.998854  "
      ]
     },
     "execution_count": 15,
     "metadata": {},
     "output_type": "execute_result"
    }
   ],
   "source": [
    "summary_table_links_df.describe()"
   ]
  },
  {
   "cell_type": "code",
   "execution_count": 16,
   "metadata": {},
   "outputs": [
    {
     "name": "stdout",
     "output_type": "stream",
     "text": [
      "\n",
      "Objective function under mean count prediction: 4,336,962,541.3\n",
      "Objective function under equilikely route choices: 270,160,496.7\n"
     ]
    }
   ],
   "source": [
    "# =============================================================================\n",
    "# BENCHMARK PREDICTIONS\n",
    "# =============================================================================\n",
    "\n",
    "# Naive prediction using mean counts\n",
    "mean_counts_prediction_loss, mean_count_benchmark_model, \\\n",
    "    = tai.estimation.mean_count_prediction(x_bar=np.array(list(counts.values()))[:, np.newaxis])\n",
    "\n",
    "print('\\nObjective function under mean count prediction: ' + '{:,}'.format(round(mean_counts_prediction_loss, 1)))\n",
    "\n",
    "# Naive prediction using uncongested network\n",
    "equilikely_prediction_loss, x_eq_equilikely \\\n",
    "    = tai.estimation.loss_counts_uncongested_network(\n",
    "    network = tntp_network,\n",
    "    equilibrator=equilibrator,\n",
    "    counts=tntp_network.counts_vector,\n",
    "    utility_function=utility_function)\n",
    "\n",
    "print('Objective function under equilikely route choices: ' + '{:,}'.format(round(equilikely_prediction_loss, 1)))"
   ]
  },
  {
   "cell_type": "code",
   "execution_count": 17,
   "metadata": {},
   "outputs": [],
   "source": [
    "# =============================================================================\n",
    "# 5) BILEVEL OPTIMIZATION\n",
    "# =============================================================================\n",
    "\n",
    "outer_optimizer_norefined = tai.estimation.LUE_OuterOptimizer(\n",
    "    method='ngd',\n",
    "    iters=1,  # 10\n",
    "    eta=1e-1,\n",
    "    # path_size_correction = 1\n",
    ")\n",
    "\n",
    "learner_norefined = tai.estimation.LUE_Learner(\n",
    "    equilibrator=equilibrator,\n",
    "    outer_optimizer=outer_optimizer_norefined,\n",
    "    utility_function=utility_function,\n",
    "    network=tntp_network,\n",
    "    name='norefined'\n",
    ")\n",
    "\n",
    "outer_optimizer_refined = tai.estimation.LUE_OuterOptimizer(\n",
    "    # method='gauss-newton',\n",
    "    method='lm',\n",
    "    # method='ngd',\n",
    "    # eta=1e-2,\n",
    "    iters=10,\n",
    "    # path_size_correction = 1\n",
    ")\n",
    "\n",
    "learner_refined = tai.estimation.LUE_Learner(\n",
    "    network=tntp_network,\n",
    "    equilibrator=equilibrator,\n",
    "    outer_optimizer=outer_optimizer_refined,\n",
    "    utility_function=utility_function,\n",
    "    name='refined'\n",
    ")"
   ]
  },
  {
   "cell_type": "markdown",
   "metadata": {},
   "source": [
    "## Estimation"
   ]
  },
  {
   "cell_type": "code",
   "execution_count": null,
   "metadata": {},
   "outputs": [
    {
     "name": "stdout",
     "output_type": "stream",
     "text": [
      "\n",
      "Statistical Inference with no refined solution\n",
      "\n",
      "Bilevel optimization for Barcelona network \n",
      "\n",
      "Iteration : 1/10\n",
      "\n",
      "Initial theta: {'tt': '0.0E+00', 'c': '0.0E+00', 's': '0.0E+00', 'k0': '0.0E+00'}\n",
      "\n",
      "SUE via fw (max iters: 100)\n",
      "\n",
      "Equilibrium gaps: ['0E+00']\n",
      "Initial Fisk Objective: -527,830.05\n",
      "Final Fisk Objective: -527,830.05\n",
      "Improvement Fisk Objective: 0.00%\n",
      "Final gap: 0E+00. Acc. bound: 1E-04. Time: 250.4 [s]\n",
      "Initial objective: 270,160,497\n",
      "Initial RMSE: 378.0\n",
      "Initial Normalized RMSE: 0.454\n",
      "\n",
      "Iteration : 2/10\n",
      "\n",
      "Learning params via ngd (1 iters, eta = 1.0E-01)\n",
      "\n",
      "theta: {'tt': '-1.0E-01', 'c': '-1.2E-05', 's': '1.6E-07', 'k0': '5.5E-06'}\n",
      "Current ratio theta: 8546.0467\n",
      "time: 1654.1[s]\n",
      "\n",
      "SUE via fw (max iters: 100)\n",
      "\n",
      "Equilibrium gaps: ['3E-03', '6E-05']\n",
      "Initial Fisk Objective: -26,891,439.62\n",
      "Final Fisk Objective: -20,003,722.58\n",
      "Improvement Fisk Objective: 25.61%\n",
      "Final gap: 6E-05. Acc. bound: 1E-04. Time: 444.1 [s]\n",
      "\n",
      "Time current iteration: 2098.4 [s]\n",
      "Current objective_value: 156,795,952\n",
      "Current objective improvement: 41.96%\n",
      "Current RMSE: 288.0\n",
      "Current Normalized RMSE: 0.346\n",
      "Marginal objective improvement: 41.96%\n",
      "Marginal objective improvement value: 113,364,545.1\n",
      "\n",
      "\n",
      "Iteration : 3/10\n",
      "\n",
      "Learning params via ngd (1 iters, eta = 1.0E-01)\n",
      "\n",
      "theta: {'tt': '-2.0E-01', 'c': '-2.7E-02', 's': '-5.9E-03', 'k0': '3.9E-03'}\n",
      "Current ratio theta: 7.3307\n",
      "time: 1787.1[s]\n",
      "\n",
      "SUE via fw (max iters: 100)\n",
      "\n",
      "Equilibrium gaps: ['3E-03', '3E-05']\n",
      "Initial Fisk Objective: -46,272,662.99\n",
      "Final Fisk Objective: -38,736,180.78\n",
      "Improvement Fisk Objective: 16.29%\n",
      "Final gap: 3E-05. Acc. bound: 1E-04. Time: 427.7 [s]\n",
      "\n",
      "Time current iteration: 2215.1 [s]\n",
      "Current objective_value: 150,096,839\n",
      "Current objective improvement: 44.44%\n",
      "Current RMSE: 281.7\n",
      "Current Normalized RMSE: 0.338\n",
      "Marginal objective improvement: 4.27%\n",
      "Marginal objective improvement value: 6,699,113.1\n",
      "\n",
      "\n",
      "Iteration : 4/10\n",
      "\n",
      "Learning params via ngd (1 iters, eta = 1.0E-01)\n",
      "\n",
      "Progress: |--------------------| 0.0% \r"
     ]
    }
   ],
   "source": [
    "print('\\nStatistical Inference with no refined solution')\n",
    "\n",
    "learning_results_norefined, inference_results_norefined, best_iter_norefined = \\\n",
    "    learner_norefined.statistical_inference(h0=0, bilevel_iters=10, alpha=0.05, iteration_report = True)\n",
    "\n",
    "theta_norefined = learning_results_norefined[best_iter_norefined]['theta']"
   ]
  },
  {
   "cell_type": "code",
   "execution_count": null,
   "metadata": {},
   "outputs": [],
   "source": [
    "print('\\nStatistical Inference with refined solution')\n",
    "\n",
    "learner_refined.utility_function.parameters.initial_values = theta_norefined\n",
    "\n",
    "learning_results_refined, inference_results_refined, best_iter_refined = \\\n",
    "    learner_refined.statistical_inference(h0=0, bilevel_iters=10, alpha=0.05, iteration_report = True)"
   ]
  },
  {
   "cell_type": "code",
   "execution_count": null,
   "metadata": {},
   "outputs": [],
   "source": [
    "# =============================================================================\n",
    "# 6) REPORTS\n",
    "# =============================================================================\n",
    "\n",
    "estimation_reporter.add_items_report(\n",
    "    theta_norefined=theta_norefined,\n",
    "    theta_refined=learning_results_refined[best_iter_refined]['theta'],\n",
    "    best_objective_norefined = learning_results_norefined[best_iter_norefined]['objective'],\n",
    "    best_objective_refined = learning_results_refined[best_iter_refined]['objective'],\n",
    "    mean_count=mean_count_benchmark_model,\n",
    "    mean_counts_prediction_loss = mean_counts_prediction_loss,\n",
    "    equilikely_prediction_loss = equilikely_prediction_loss\n",
    ")\n",
    "\n",
    "# Summary with most relevant options, prediction error, initial parameters, etc\n",
    "estimation_reporter.write_estimation_report(\n",
    "    network=tntp_network,\n",
    "    learners=[learner_norefined, learner_refined],\n",
    "    linkdata_generator=linkdata_generator,\n",
    "    utility_function=utility_function)\n",
    "\n",
    "# Write tables with results on learning and inference\n",
    "estimation_reporter.write_learning_tables(\n",
    "    results_norefined=learning_results_norefined,\n",
    "    results_refined=learning_results_refined,\n",
    "    network = tntp_network,\n",
    "    utility_function = utility_function,\n",
    "    simulated_data = True)\n",
    "\n",
    "estimation_reporter.write_inference_tables(\n",
    "    results_norefined=inference_results_norefined,\n",
    "    results_refined=inference_results_refined,\n",
    "    float_format = '%.3f')"
   ]
  },
  {
   "cell_type": "markdown",
   "metadata": {},
   "source": [
    "## Visualizations"
   ]
  },
  {
   "cell_type": "code",
   "execution_count": null,
   "metadata": {},
   "outputs": [],
   "source": [
    "#plt.rcParams['figure.figsize'] = [8, 6]\n",
    "\n",
    "# Convergence\n",
    "\n",
    "results_df = tai.descriptive_statistics \\\n",
    "    .get_loss_and_estimates_over_iterations(results_norefined=learning_results_norefined\n",
    "                                            , results_refined=learning_results_refined)\n",
    "\n",
    "fig = tai.visualization.Artist().convergence(\n",
    "    results_norefined_df=results_df[results_df['stage'] == 'norefined'],\n",
    "    results_refined_df=results_df[results_df['stage'] == 'refined'],\n",
    "    simulated_data= True,\n",
    "    filename='convergence_' + tntp_network.key,\n",
    "    methods=[outer_optimizer_norefined.options['method'], outer_optimizer_refined.options['method']],\n",
    "    theta_true = utility_function.parameters.true_values,\n",
    "    folder = estimation_reporter.dirs['estimation_folder']\n",
    ")\n",
    "\n",
    "fig.savefig(estimation_reporter.dirs['estimation_folder'] + '/' + 'bilevel_optimization_convergence.pdf',\n",
    "            pad_inches=0.1, bbox_inches=\"tight\")\n",
    "\n",
    "plt.show()\n",
    "\n",
    "plt.close(fig)"
   ]
  },
  {
   "cell_type": "code",
   "execution_count": null,
   "metadata": {},
   "outputs": [],
   "source": [
    "# Distribution of errors across link counts\n",
    "\n",
    "best_x_norefined = np.array(list(learning_results_norefined[best_iter_refined]['x'].values()))[:, np.newaxis]\n",
    "best_x_refined = np.array(list(learning_results_refined[best_iter_refined]['x'].values()))[:, np.newaxis]\n",
    "\n",
    "fig, axs = plt.subplots(1, 2, sharey=True, tight_layout=True, figsize=(8, 4))\n",
    "\n",
    "# We can set the number of bins with the `bins` kwarg\n",
    "axs[0].hist(tai.estimation.error_by_link(observed_counts=tntp_network.counts_vector, predicted_counts=best_x_norefined))\n",
    "axs[1].hist(tai.estimation.error_by_link(observed_counts=tntp_network.counts_vector, predicted_counts=best_x_refined))\n",
    "\n",
    "for axi in [axs[0], axs[1]]:\n",
    "    axi.tick_params(axis='x', labelsize=16)\n",
    "    axi.tick_params(axis='y', labelsize=16)\n",
    "\n",
    "fig.savefig(estimation_reporter.dirs['estimation_folder'] + '/' + 'distribution_predicted_count_error.pdf',\n",
    "            pad_inches=0.1, bbox_inches=\"tight\")\n",
    "\n",
    "plt.show()\n",
    "\n",
    "plt.close(fig)"
   ]
  },
  {
   "cell_type": "code",
   "execution_count": null,
   "metadata": {},
   "outputs": [],
   "source": [
    "# Heatmap O-D matrix\n",
    "rows, cols = tntp_network.Q.shape\n",
    "\n",
    "od_df = pd.DataFrame({'origin': pd.Series([], dtype=int)\n",
    "                         , 'destination': pd.Series([], dtype=int)\n",
    "                         , 'trips': pd.Series([], dtype=int)})\n",
    "\n",
    "counter = 0\n",
    "for origin in range(0, rows):\n",
    "    for destination in range(0, cols):\n",
    "        # od_df.loc[counter] = [(origin+1,destination+1), N['train'][current_network].Q[(origin,destination)]]\n",
    "        od_df.loc[counter] = [int(origin + 1), int(destination + 1), tntp_network.Q[(origin, destination)]]\n",
    "        counter += 1\n",
    "\n",
    "od_df.origin = od_df.origin.astype(int)\n",
    "od_df.destination = od_df.destination.astype(int)\n",
    "\n",
    "od_pivot_df = od_df.pivot_table(index='origin', columns='destination', values='trips')\n",
    "\n",
    "fig, ax = plt.subplots(figsize=(8, 6))\n",
    "ax = sns.heatmap(od_pivot_df, linewidth=0.5, cmap=\"Blues\")\n",
    "\n",
    "plt.show()\n",
    "\n",
    "fig.savefig(estimation_reporter.dirs['estimation_folder'] + '/' + 'heatmap_OD_matrix.pdf',\n",
    "            pad_inches=0.1, bbox_inches=\"tight\")\n",
    "plt.close(fig)"
   ]
  }
 ],
 "metadata": {
  "kernelspec": {
   "display_name": "venv-transportAI",
   "language": "python",
   "name": "venv-transportai"
  },
  "language_info": {
   "codemirror_mode": {
    "name": "ipython",
    "version": 3
   },
   "file_extension": ".py",
   "mimetype": "text/x-python",
   "name": "python",
   "nbconvert_exporter": "python",
   "pygments_lexer": "ipython3",
   "version": "3.7.11"
  }
 },
 "nbformat": 4,
 "nbformat_minor": 4
}