{
 "cells": [
  {
   "cell_type": "code",
   "execution_count": 1,
   "metadata": {},
   "outputs": [],
   "source": [
    "%matplotlib inline\n",
    "\n",
    "# External modules\n",
    "import numpy as np\n",
    "import pandas as pd\n",
    "import matplotlib.pyplot as plt\n",
    "import seaborn as sns\n",
    "import os\n",
    "from pathlib import Path"
   ]
  },
  {
   "cell_type": "code",
   "execution_count": 2,
   "outputs": [
    {
     "name": "stdout",
     "output_type": "stream",
     "text": [
      "main dir: /Users/pablo/OneDrive/data-science/github/isuelogit\n"
     ]
    }
   ],
   "source": [
    "# Path management\n",
    "main_dir = str(Path(os.path.abspath('')).parents[0])\n",
    "os.chdir(main_dir)\n",
    "print('main dir:',main_dir)"
   ],
   "metadata": {
    "collapsed": false,
    "pycharm": {
     "name": "#%%\n"
    }
   }
  },
  {
   "cell_type": "code",
   "execution_count": 3,
   "outputs": [],
   "source": [
    "# Internal modules\n",
    "from src import isuelogit as isl"
   ],
   "metadata": {
    "collapsed": false,
    "pycharm": {
     "name": "#%%\n"
    }
   }
  },
  {
   "cell_type": "markdown",
   "source": [
    "## Read network data from tntp repository"
   ],
   "metadata": {
    "collapsed": false,
    "pycharm": {
     "name": "#%% md\n"
    }
   }
  },
  {
   "cell_type": "code",
   "execution_count": 4,
   "outputs": [],
   "source": [
    "network_name = 'SiouxFalls'\n",
    "\n",
    "# Reporter of estimation results\n",
    "estimation_reporter = isl.writer.Reporter(\n",
    "    folderpath=isl.config.dirs['output_folder'] + 'estimations/' + network_name, seed = 2022)"
   ],
   "metadata": {
    "collapsed": false,
    "pycharm": {
     "name": "#%%\n"
    }
   }
  },
  {
   "cell_type": "markdown",
   "metadata": {},
   "source": [
    "## Read data from tntp repository"
   ]
  },
  {
   "cell_type": "code",
   "execution_count": 5,
   "metadata": {},
   "outputs": [],
   "source": [
    "links_df = isl.reader.read_tntp_linkdata(network_name=network_name)\n",
    "\n",
    "links_df['link_key'] = [(i, j, '0') for i, j in zip(links_df['init_node'], links_df['term_node'])]"
   ]
  },
  {
   "cell_type": "markdown",
   "metadata": {},
   "source": [
    "## Build network"
   ]
  },
  {
   "cell_type": "code",
   "execution_count": 6,
   "metadata": {},
   "outputs": [
    {
     "name": "stdout",
     "output_type": "stream",
     "text": [
      "\n",
      "Creating SiouxFalls network\n",
      "\n",
      "Nodes: 24, Links: 76\n"
     ]
    }
   ],
   "source": [
    "network_generator = isl.factory.NetworkGenerator()\n",
    "\n",
    "A = network_generator.generate_adjacency_matrix(links_keys=list(links_df['link_key'].values))\n",
    "\n",
    "tntp_network = network_generator.build_network(A=A,network_name=network_name)"
   ]
  },
  {
   "cell_type": "markdown",
   "metadata": {},
   "source": [
    "### Link performance functions"
   ]
  },
  {
   "cell_type": "code",
   "execution_count": 7,
   "metadata": {},
   "outputs": [],
   "source": [
    "bpr_parameters_df = pd.DataFrame({'link_key': tntp_network.links_dict.keys(),\n",
    "                                  'alpha': links_df.b,\n",
    "                                  'beta': links_df.power,\n",
    "                                  'tf': links_df.free_flow_time,\n",
    "                                  'k': links_df.capacity\n",
    "                                  })\n",
    "\n",
    "tntp_network.set_bpr_functions(bprdata=bpr_parameters_df)"
   ]
  },
  {
   "cell_type": "markdown",
   "metadata": {},
   "source": [
    "### Exogenous link attributes"
   ]
  },
  {
   "cell_type": "code",
   "execution_count": 8,
   "metadata": {},
   "outputs": [],
   "source": [
    "# Link features from TNTP repo\n",
    "\n",
    "link_features_df = links_df[['link_key','length', 'speed', 'link_type', 'toll']]\n",
    "\n",
    "# Synthetic link features\n",
    "\n",
    "linkdata_generator = isl.factory.LinkDataGenerator()\n",
    "\n",
    "synthetic_features_df = linkdata_generator.simulate_features(links=tntp_network.links,\n",
    "                                                             features_Z= ['c', 'w', 's'],\n",
    "                                                             option='continuous',\n",
    "                                                             range=(0, 1))\n",
    "# Sparse features\n",
    "\n",
    "n_sparse_features = 1 \n",
    "\n",
    "sparse_features_labels = ['k' + str(i) for i in np.arange(0, n_sparse_features)]\n",
    "\n",
    "sparse_features_df = linkdata_generator.simulate_features(\n",
    "    links=tntp_network.links,\n",
    "    features_Z=sparse_features_labels,\n",
    "    option='continuous',\n",
    "    range=(-1, 1))\n",
    "\n",
    "# Merge dataframes with existing dataframe\n",
    "link_features_df = link_features_df.merge(synthetic_features_df, left_on='link_key', right_on='link_key')\n",
    "link_features_df = link_features_df.merge(sparse_features_df, left_on='link_key', right_on='link_key')\n",
    "\n",
    "# Load features data\n",
    "tntp_network.load_features_data(linkdata=link_features_df)"
   ]
  },
  {
   "cell_type": "markdown",
   "metadata": {},
   "source": [
    "### Utility function"
   ]
  },
  {
   "cell_type": "code",
   "execution_count": 9,
   "metadata": {},
   "outputs": [],
   "source": [
    "utility_function = isl.estimation.UtilityFunction(features_Y=['tt'],\n",
    "                                                  features_Z=['c', 's'],\n",
    "                                                  true_values={'tt': -1, 'c': -6, 's': -3}\n",
    "                                                  )\n",
    "\n",
    "# Add parameters for sparse features\n",
    "utility_function.add_sparse_features(Z=sparse_features_labels)"
   ]
  },
  {
   "cell_type": "markdown",
   "metadata": {},
   "source": [
    "### OD matrix"
   ]
  },
  {
   "cell_type": "code",
   "execution_count": 10,
   "metadata": {},
   "outputs": [
    {
     "name": "stdout",
     "output_type": "stream",
     "text": [
      "Reading Q from external file\n",
      "Matrix Q (24, 24) read in 0.3[s]\n",
      "360600.0 trips were loaded among 528 o-d pairs\n"
     ]
    }
   ],
   "source": [
    "Q = isl.reader.read_tntp_od(network_name=network_name)\n",
    "\n",
    "tntp_network.load_OD(Q= Q)"
   ]
  },
  {
   "cell_type": "markdown",
   "metadata": {},
   "source": [
    "## Paths"
   ]
  },
  {
   "cell_type": "code",
   "execution_count": 11,
   "metadata": {},
   "outputs": [
    {
     "name": "stdout",
     "output_type": "stream",
     "text": [
      "Generating at most 3 paths per od\n",
      "1584 paths were generated among 528 od pairs in 0.3 [s]\n",
      "1584 paths were loaded in the network\n",
      "Updating incidence matrices\n",
      "Matrix D (76, 1584) generated in 0.2[s].0% \n",
      "Matrix M (528, 1584) generated in 0.1[s]0% \n",
      "Matrix C (1584, 1584) generated in 0.0[s]\n"
     ]
    }
   ],
   "source": [
    "paths_generator = isl.factory.PathsGenerator()\n",
    "\n",
    "paths_generator.load_k_shortest_paths(network=tntp_network, k=3)"
   ]
  },
  {
   "cell_type": "markdown",
   "metadata": {},
   "source": [
    "### Equilibrator"
   ]
  },
  {
   "cell_type": "code",
   "execution_count": 12,
   "metadata": {},
   "outputs": [],
   "source": [
    "equilibrator = isl.equilibrium.LUE_Equilibrator(network=tntp_network,\n",
    "                                                utility_function=utility_function,\n",
    "                                                uncongested_mode=False,\n",
    "                                                max_iters=100,\n",
    "                                                method='fw',\n",
    "                                                iters_fw=100,\n",
    "                                                search_fw='grid')"
   ]
  },
  {
   "cell_type": "markdown",
   "metadata": {},
   "source": [
    "### Synthetic traffic counts"
   ]
  },
  {
   "cell_type": "code",
   "execution_count": 13,
   "metadata": {},
   "outputs": [
    {
     "name": "stdout",
     "output_type": "stream",
     "text": [
      "\n",
      "Generating synthetic link counts via Frank-Wolfe\n",
      "\n",
      "SUE via fw (max iters: 100)\n",
      "\n",
      "Equilibrium gaps: ['1E-01', '3E-02', '2E-02', '9E-03', '2E-02', '8E-03', '2E-03', '2E-03', '2E-03', '1E-03', '8E-04', '5E-04', '5E-04', '3E-04', '6E-04', '4E-04', '9E-04', '4E-04', '1E-06']\n",
      "Initial Fisk Objective: -16,573,721.14\n",
      "Final Fisk Objective: -7,526,416.84\n",
      "Improvement Fisk Objective: 54.59%\n",
      "Final gap: 1E-06. Acc. bound: 1E-04. Time: 4.3 [s]\n",
      "Ratio of counts versus capacity: 101.1%\n",
      "Proportion of links over capacity: 53.9%\n",
      "Normalized RMSE: 0.0\n"
     ]
    }
   ],
   "source": [
    "counts, _ = linkdata_generator.simulate_counts(network=tntp_network,\n",
    "                                               equilibrator=equilibrator,\n",
    "                                               noise_params={'mu_x': 0, 'sd_x': 0},\n",
    "                                               coverage=0.75)\n",
    "tntp_network.load_traffic_counts(counts=counts)"
   ]
  },
  {
   "cell_type": "markdown",
   "metadata": {},
   "source": [
    "## Descriptive statistics"
   ]
  },
  {
   "cell_type": "markdown",
   "metadata": {},
   "source": [
    "### Network topology"
   ]
  },
  {
   "cell_type": "code",
   "execution_count": 14,
   "metadata": {},
   "outputs": [
    {
     "data": {
      "text/plain": "      network  nodes  links  ods  paths\n0  SiouxFalls     24     76  528   1584",
      "text/html": "<div>\n<style scoped>\n    .dataframe tbody tr th:only-of-type {\n        vertical-align: middle;\n    }\n\n    .dataframe tbody tr th {\n        vertical-align: top;\n    }\n\n    .dataframe thead th {\n        text-align: right;\n    }\n</style>\n<table border=\"1\" class=\"dataframe\">\n  <thead>\n    <tr style=\"text-align: right;\">\n      <th></th>\n      <th>network</th>\n      <th>nodes</th>\n      <th>links</th>\n      <th>ods</th>\n      <th>paths</th>\n    </tr>\n  </thead>\n  <tbody>\n    <tr>\n      <th>0</th>\n      <td>SiouxFalls</td>\n      <td>24</td>\n      <td>76</td>\n      <td>528</td>\n      <td>1584</td>\n    </tr>\n  </tbody>\n</table>\n</div>"
     },
     "execution_count": 14,
     "metadata": {},
     "output_type": "execute_result"
    }
   ],
   "source": [
    "isl.descriptive_statistics.summary_table_networks([tntp_network])"
   ]
  },
  {
   "cell_type": "markdown",
   "metadata": {},
   "source": [
    "### Links data"
   ]
  },
  {
   "cell_type": "code",
   "execution_count": 15,
   "metadata": {},
   "outputs": [
    {
     "data": {
      "text/plain": "    link_type  alpha  beta   tf             k  length  speed  toll         c  \\\n0           1   0.15   4.0  6.0  25900.200640       6      0     0  0.009359   \n1           1   0.15   4.0  4.0  23403.473190       4      0     0  0.499058   \n2           1   0.15   4.0  6.0  25900.200640       6      0     0  0.113384   \n3           1   0.15   4.0  5.0   4958.180928       5      0     0  0.049974   \n4           1   0.15   4.0  4.0  23403.473190       4      0     0  0.685408   \n..        ...    ...   ...  ...           ...     ...    ...   ...       ...   \n71          1   0.15   4.0  4.0   5000.000000       4      0     0  0.853911   \n72          1   0.15   4.0  2.0   5078.508436       2      0     0  0.401445   \n73          1   0.15   4.0  4.0   5091.256152       4      0     0  0.388206   \n74          1   0.15   4.0  3.0   4885.357564       3      0     0  0.884407   \n75          1   0.15   4.0  2.0   5078.508436       2      0     0  0.651973   \n\n           w         s        k0  \n0   0.776799  0.096403 -0.694451  \n1   0.096330  0.103100  0.865162  \n2   0.966162  0.628923  0.416777  \n3   0.322264  0.937743  0.795567  \n4   0.293168  0.822726 -0.300989  \n..       ...       ...       ...  \n71  0.089076  0.573723  0.411416  \n72  0.252352  0.331158 -0.079300  \n73  0.695309  0.543184 -0.517812  \n74  0.479084  0.968118  0.643136  \n75  0.980616  0.712866  0.698954  \n\n[76 rows x 12 columns]",
      "text/html": "<div>\n<style scoped>\n    .dataframe tbody tr th:only-of-type {\n        vertical-align: middle;\n    }\n\n    .dataframe tbody tr th {\n        vertical-align: top;\n    }\n\n    .dataframe thead th {\n        text-align: right;\n    }\n</style>\n<table border=\"1\" class=\"dataframe\">\n  <thead>\n    <tr style=\"text-align: right;\">\n      <th></th>\n      <th>link_type</th>\n      <th>alpha</th>\n      <th>beta</th>\n      <th>tf</th>\n      <th>k</th>\n      <th>length</th>\n      <th>speed</th>\n      <th>toll</th>\n      <th>c</th>\n      <th>w</th>\n      <th>s</th>\n      <th>k0</th>\n    </tr>\n  </thead>\n  <tbody>\n    <tr>\n      <th>0</th>\n      <td>1</td>\n      <td>0.15</td>\n      <td>4.0</td>\n      <td>6.0</td>\n      <td>25900.200640</td>\n      <td>6</td>\n      <td>0</td>\n      <td>0</td>\n      <td>0.009359</td>\n      <td>0.776799</td>\n      <td>0.096403</td>\n      <td>-0.694451</td>\n    </tr>\n    <tr>\n      <th>1</th>\n      <td>1</td>\n      <td>0.15</td>\n      <td>4.0</td>\n      <td>4.0</td>\n      <td>23403.473190</td>\n      <td>4</td>\n      <td>0</td>\n      <td>0</td>\n      <td>0.499058</td>\n      <td>0.096330</td>\n      <td>0.103100</td>\n      <td>0.865162</td>\n    </tr>\n    <tr>\n      <th>2</th>\n      <td>1</td>\n      <td>0.15</td>\n      <td>4.0</td>\n      <td>6.0</td>\n      <td>25900.200640</td>\n      <td>6</td>\n      <td>0</td>\n      <td>0</td>\n      <td>0.113384</td>\n      <td>0.966162</td>\n      <td>0.628923</td>\n      <td>0.416777</td>\n    </tr>\n    <tr>\n      <th>3</th>\n      <td>1</td>\n      <td>0.15</td>\n      <td>4.0</td>\n      <td>5.0</td>\n      <td>4958.180928</td>\n      <td>5</td>\n      <td>0</td>\n      <td>0</td>\n      <td>0.049974</td>\n      <td>0.322264</td>\n      <td>0.937743</td>\n      <td>0.795567</td>\n    </tr>\n    <tr>\n      <th>4</th>\n      <td>1</td>\n      <td>0.15</td>\n      <td>4.0</td>\n      <td>4.0</td>\n      <td>23403.473190</td>\n      <td>4</td>\n      <td>0</td>\n      <td>0</td>\n      <td>0.685408</td>\n      <td>0.293168</td>\n      <td>0.822726</td>\n      <td>-0.300989</td>\n    </tr>\n    <tr>\n      <th>...</th>\n      <td>...</td>\n      <td>...</td>\n      <td>...</td>\n      <td>...</td>\n      <td>...</td>\n      <td>...</td>\n      <td>...</td>\n      <td>...</td>\n      <td>...</td>\n      <td>...</td>\n      <td>...</td>\n      <td>...</td>\n    </tr>\n    <tr>\n      <th>71</th>\n      <td>1</td>\n      <td>0.15</td>\n      <td>4.0</td>\n      <td>4.0</td>\n      <td>5000.000000</td>\n      <td>4</td>\n      <td>0</td>\n      <td>0</td>\n      <td>0.853911</td>\n      <td>0.089076</td>\n      <td>0.573723</td>\n      <td>0.411416</td>\n    </tr>\n    <tr>\n      <th>72</th>\n      <td>1</td>\n      <td>0.15</td>\n      <td>4.0</td>\n      <td>2.0</td>\n      <td>5078.508436</td>\n      <td>2</td>\n      <td>0</td>\n      <td>0</td>\n      <td>0.401445</td>\n      <td>0.252352</td>\n      <td>0.331158</td>\n      <td>-0.079300</td>\n    </tr>\n    <tr>\n      <th>73</th>\n      <td>1</td>\n      <td>0.15</td>\n      <td>4.0</td>\n      <td>4.0</td>\n      <td>5091.256152</td>\n      <td>4</td>\n      <td>0</td>\n      <td>0</td>\n      <td>0.388206</td>\n      <td>0.695309</td>\n      <td>0.543184</td>\n      <td>-0.517812</td>\n    </tr>\n    <tr>\n      <th>74</th>\n      <td>1</td>\n      <td>0.15</td>\n      <td>4.0</td>\n      <td>3.0</td>\n      <td>4885.357564</td>\n      <td>3</td>\n      <td>0</td>\n      <td>0</td>\n      <td>0.884407</td>\n      <td>0.479084</td>\n      <td>0.968118</td>\n      <td>0.643136</td>\n    </tr>\n    <tr>\n      <th>75</th>\n      <td>1</td>\n      <td>0.15</td>\n      <td>4.0</td>\n      <td>2.0</td>\n      <td>5078.508436</td>\n      <td>2</td>\n      <td>0</td>\n      <td>0</td>\n      <td>0.651973</td>\n      <td>0.980616</td>\n      <td>0.712866</td>\n      <td>0.698954</td>\n    </tr>\n  </tbody>\n</table>\n<p>76 rows × 12 columns</p>\n</div>"
     },
     "execution_count": 15,
     "metadata": {},
     "output_type": "execute_result"
    }
   ],
   "source": [
    "summary_table_links_df = tntp_network.Z_data\n",
    "estimation_reporter.write_table(df = summary_table_links_df, filename = 'links_data.csv', float_format = '%.3f')\n",
    "summary_table_links_df"
   ]
  },
  {
   "cell_type": "code",
   "execution_count": 16,
   "metadata": {},
   "outputs": [
    {
     "data": {
      "text/plain": "       link_type  alpha  beta         tf             k     length  speed  \\\ncount       76.0  76.00  76.0  76.000000     76.000000  76.000000   76.0   \nmean         1.0   0.15   4.0   4.131579  10247.206327   4.131579    0.0   \nstd          0.0   0.00   0.0   1.730835   7358.655049   1.730835    0.0   \nmin          1.0   0.15   4.0   2.000000   4823.950831   2.000000    0.0   \n25%          1.0   0.15   4.0   3.000000   4958.180928   3.000000    0.0   \n50%          1.0   0.15   4.0   4.000000   5109.391136   4.000000    0.0   \n75%          1.0   0.15   4.0   5.000000  14564.753150   5.000000    0.0   \nmax          1.0   0.15   4.0  10.000000  25900.200640  10.000000    0.0   \n\n       toll          c          w          s         k0  \ncount  76.0  76.000000  76.000000  76.000000  76.000000  \nmean    0.0   0.500360   0.471362   0.541126   0.007762  \nstd     0.0   0.315522   0.308235   0.311072   0.578249  \nmin     0.0   0.008125   0.004125   0.037977  -0.983713  \n25%     0.0   0.247219   0.202505   0.243093  -0.518533  \n50%     0.0   0.492546   0.450669   0.570230   0.013101  \n75%     0.0   0.785213   0.753938   0.811681   0.540863  \nmax     0.0   0.988794   0.988080   0.999948   0.877657  ",
      "text/html": "<div>\n<style scoped>\n    .dataframe tbody tr th:only-of-type {\n        vertical-align: middle;\n    }\n\n    .dataframe tbody tr th {\n        vertical-align: top;\n    }\n\n    .dataframe thead th {\n        text-align: right;\n    }\n</style>\n<table border=\"1\" class=\"dataframe\">\n  <thead>\n    <tr style=\"text-align: right;\">\n      <th></th>\n      <th>link_type</th>\n      <th>alpha</th>\n      <th>beta</th>\n      <th>tf</th>\n      <th>k</th>\n      <th>length</th>\n      <th>speed</th>\n      <th>toll</th>\n      <th>c</th>\n      <th>w</th>\n      <th>s</th>\n      <th>k0</th>\n    </tr>\n  </thead>\n  <tbody>\n    <tr>\n      <th>count</th>\n      <td>76.0</td>\n      <td>76.00</td>\n      <td>76.0</td>\n      <td>76.000000</td>\n      <td>76.000000</td>\n      <td>76.000000</td>\n      <td>76.0</td>\n      <td>76.0</td>\n      <td>76.000000</td>\n      <td>76.000000</td>\n      <td>76.000000</td>\n      <td>76.000000</td>\n    </tr>\n    <tr>\n      <th>mean</th>\n      <td>1.0</td>\n      <td>0.15</td>\n      <td>4.0</td>\n      <td>4.131579</td>\n      <td>10247.206327</td>\n      <td>4.131579</td>\n      <td>0.0</td>\n      <td>0.0</td>\n      <td>0.500360</td>\n      <td>0.471362</td>\n      <td>0.541126</td>\n      <td>0.007762</td>\n    </tr>\n    <tr>\n      <th>std</th>\n      <td>0.0</td>\n      <td>0.00</td>\n      <td>0.0</td>\n      <td>1.730835</td>\n      <td>7358.655049</td>\n      <td>1.730835</td>\n      <td>0.0</td>\n      <td>0.0</td>\n      <td>0.315522</td>\n      <td>0.308235</td>\n      <td>0.311072</td>\n      <td>0.578249</td>\n    </tr>\n    <tr>\n      <th>min</th>\n      <td>1.0</td>\n      <td>0.15</td>\n      <td>4.0</td>\n      <td>2.000000</td>\n      <td>4823.950831</td>\n      <td>2.000000</td>\n      <td>0.0</td>\n      <td>0.0</td>\n      <td>0.008125</td>\n      <td>0.004125</td>\n      <td>0.037977</td>\n      <td>-0.983713</td>\n    </tr>\n    <tr>\n      <th>25%</th>\n      <td>1.0</td>\n      <td>0.15</td>\n      <td>4.0</td>\n      <td>3.000000</td>\n      <td>4958.180928</td>\n      <td>3.000000</td>\n      <td>0.0</td>\n      <td>0.0</td>\n      <td>0.247219</td>\n      <td>0.202505</td>\n      <td>0.243093</td>\n      <td>-0.518533</td>\n    </tr>\n    <tr>\n      <th>50%</th>\n      <td>1.0</td>\n      <td>0.15</td>\n      <td>4.0</td>\n      <td>4.000000</td>\n      <td>5109.391136</td>\n      <td>4.000000</td>\n      <td>0.0</td>\n      <td>0.0</td>\n      <td>0.492546</td>\n      <td>0.450669</td>\n      <td>0.570230</td>\n      <td>0.013101</td>\n    </tr>\n    <tr>\n      <th>75%</th>\n      <td>1.0</td>\n      <td>0.15</td>\n      <td>4.0</td>\n      <td>5.000000</td>\n      <td>14564.753150</td>\n      <td>5.000000</td>\n      <td>0.0</td>\n      <td>0.0</td>\n      <td>0.785213</td>\n      <td>0.753938</td>\n      <td>0.811681</td>\n      <td>0.540863</td>\n    </tr>\n    <tr>\n      <th>max</th>\n      <td>1.0</td>\n      <td>0.15</td>\n      <td>4.0</td>\n      <td>10.000000</td>\n      <td>25900.200640</td>\n      <td>10.000000</td>\n      <td>0.0</td>\n      <td>0.0</td>\n      <td>0.988794</td>\n      <td>0.988080</td>\n      <td>0.999948</td>\n      <td>0.877657</td>\n    </tr>\n  </tbody>\n</table>\n</div>"
     },
     "execution_count": 16,
     "metadata": {},
     "output_type": "execute_result"
    }
   ],
   "source": [
    "summary_table_links_df.describe()"
   ]
  },
  {
   "cell_type": "markdown",
   "source": [
    "### Benchmark predictions"
   ],
   "metadata": {
    "collapsed": false,
    "pycharm": {
     "name": "#%% md\n"
    }
   }
  },
  {
   "cell_type": "code",
   "execution_count": 17,
   "metadata": {},
   "outputs": [
    {
     "name": "stdout",
     "output_type": "stream",
     "text": [
      "\n",
      "Objective function under mean count prediction: 1,191,820,506.1\n",
      "Objective function under equilikely route choices: 1,871,377,870.5\n"
     ]
    }
   ],
   "source": [
    "mean_counts_prediction_loss, mean_count_benchmark_model, \\\n",
    "    = isl.estimation.mean_count_prediction(counts=np.array(list(counts.values()))[:, np.newaxis])\n",
    "\n",
    "print('\\nObjective function under mean count prediction: ' + '{:,}'.format(round(mean_counts_prediction_loss, 1)))\n",
    "\n",
    "equilikely_prediction_loss, x_eq_equilikely \\\n",
    "    = isl.estimation.loss_counts_equilikely_choices(\n",
    "    network = tntp_network,\n",
    "    equilibrator=equilibrator,\n",
    "    counts=tntp_network.counts_vector,\n",
    "    utility_function=utility_function)\n",
    "\n",
    "print('Objective function under equilikely route choices: ' + '{:,}'.format(round(equilikely_prediction_loss, 1)))"
   ]
  },
  {
   "cell_type": "markdown",
   "source": [
    "## Bilevel Estimation"
   ],
   "metadata": {
    "collapsed": false,
    "pycharm": {
     "name": "#%% md\n"
    }
   }
  },
  {
   "cell_type": "code",
   "execution_count": 18,
   "metadata": {},
   "outputs": [],
   "source": [
    "outer_optimizer_norefined = isl.estimation.OuterOptimizer(method='ngd',iters=1, eta=1e-1)\n",
    "\n",
    "learner_norefined = isl.estimation.Learner(\n",
    "    equilibrator=equilibrator,\n",
    "    outer_optimizer=outer_optimizer_norefined,\n",
    "    utility_function=utility_function,\n",
    "    network=tntp_network,\n",
    "    name='norefined')\n",
    "\n",
    "outer_optimizer_refined = isl.estimation.OuterOptimizer(method='lm', iters=1)\n",
    "\n",
    "learner_refined = isl.estimation.Learner(\n",
    "    network=tntp_network,\n",
    "    equilibrator=equilibrator,\n",
    "    outer_optimizer=outer_optimizer_refined,\n",
    "    utility_function=utility_function,\n",
    "    name='refined')"
   ]
  },
  {
   "cell_type": "markdown",
   "metadata": {},
   "source": [
    "### No refined stage"
   ]
  },
  {
   "cell_type": "code",
   "execution_count": 19,
   "metadata": {},
   "outputs": [
    {
     "name": "stdout",
     "output_type": "stream",
     "text": [
      "\n",
      "Bilevel optimization for SiouxFalls network \n",
      "\n",
      "Iteration : 1/10\n",
      "\n",
      "Initial theta: {'tt': '0.0E+00', 'c': '0.0E+00', 's': '0.0E+00', 'k0': '0.0E+00'}\n",
      "\n",
      "SUE via fw (max iters: 100)\n",
      "\n",
      "Equilibrium gaps: ['0E+00']\n",
      "Initial Fisk Objective: -2,099,207.0\n",
      "Final Fisk Objective: -2,099,207.0\n",
      "Improvement Fisk Objective: 0.00%\n",
      "Final gap: 0E+00. Acc. bound: 1E-04. Time: 0.4 [s]\n",
      "Initial objective: 1,871,377,870\n",
      "Initial RMSE: 5729.9\n",
      "Initial Normalized RMSE: 0.504\n",
      "\n",
      "Iteration : 2/10\n",
      "\n",
      "Learning params via ngd (1 iters, eta = 1.0E-01)\n",
      "\n",
      "theta: {'tt': '-1.0E-01', 'c': '-1.7E-04', 's': '-1.6E-04', 'k0': '-1.0E-04'}\n",
      "Current ratio theta: 574.0714\n",
      "time: 0.2[s]\n",
      "\n",
      "SUE via fw (max iters: 100)\n",
      "\n",
      "Equilibrium gaps: ['3E-02', '1E-02', '4E-03', '3E-03', '4E-04', '2E-04', '1E-04', '0E+00']\n",
      "Initial Fisk Objective: -3,254,246.74\n",
      "Final Fisk Objective: -2,424,249.88\n",
      "Improvement Fisk Objective: 25.51%\n",
      "Final gap: 0E+00. Acc. bound: 1E-04. Time: 2.4 [s]\n",
      "\n",
      "Time current iteration: 2.7 [s]\n",
      "Current objective_value: 163,724,629\n",
      "Current objective improvement: 91.25%\n",
      "Current RMSE: 1694.8\n",
      "Current Normalized RMSE: 0.149\n",
      "Marginal objective improvement: 91.25%\n",
      "Marginal objective improvement value: 1,707,653,241.9\n",
      "\n",
      "\n",
      "Iteration : 3/10\n",
      "\n",
      "Learning params via ngd (1 iters, eta = 1.0E-01)\n",
      "\n",
      "theta: {'tt': '-2.0E-01', 'c': '-2.3E-02', 's': '-1.5E-02', 'k0': '-1.4E-03'}\n",
      "Current ratio theta: 8.411\n",
      "time: 0.2[s]\n",
      "\n",
      "SUE via fw (max iters: 100)\n",
      "\n",
      "Equilibrium gaps: ['7E-02', '2E-02', '8E-03', '4E-03', '3E-03', '1E-03', '1E-03', '2E-04', '7E-05']\n",
      "Initial Fisk Objective: -3,921,516.16\n",
      "Final Fisk Objective: -2,588,508.86\n",
      "Improvement Fisk Objective: 33.99%\n",
      "Final gap: 7E-05. Acc. bound: 1E-04. Time: 2.5 [s]\n",
      "\n",
      "Time current iteration: 2.7 [s]\n",
      "Current objective_value: 105,643,823\n",
      "Current objective improvement: 94.35%\n",
      "Current RMSE: 1361.4\n",
      "Current Normalized RMSE: 0.12\n",
      "Marginal objective improvement: 35.47%\n",
      "Marginal objective improvement value: 58,080,805.2\n",
      "\n",
      "\n",
      "Iteration : 4/10\n",
      "\n",
      "Learning params via ngd (1 iters, eta = 1.0E-01)\n",
      "\n",
      "theta: {'tt': '-2.9E-01', 'c': '-6.1E-02', 's': '-3.8E-02', 'k0': '-3.7E-03'}\n",
      "Current ratio theta: 4.7024\n",
      "time: 0.2[s]\n",
      "\n",
      "SUE via fw (max iters: 100)\n",
      "\n",
      "Equilibrium gaps: ['1E-01', '3E-02', '1E-02', '8E-03', '5E-03', '3E-03', '2E-03', '1E-03', '1E-03', '3E-04', '7E-05']\n",
      "Initial Fisk Objective: -4,727,703.65\n",
      "Final Fisk Objective: -2,733,108.88\n",
      "Improvement Fisk Objective: 42.19%\n",
      "Final gap: 7E-05. Acc. bound: 1E-04. Time: 3.0 [s]\n",
      "\n",
      "Time current iteration: 3.2 [s]\n",
      "Current objective_value: 78,223,929\n",
      "Current objective improvement: 95.82%\n",
      "Current RMSE: 1171.5\n",
      "Current Normalized RMSE: 0.103\n",
      "Marginal objective improvement: 25.96%\n",
      "Marginal objective improvement value: 27,419,894.8\n",
      "\n",
      "\n",
      "Iteration : 5/10\n",
      "\n",
      "Learning params via ngd (1 iters, eta = 1.0E-01)\n",
      "\n",
      "theta: {'tt': '-3.7E-01', 'c': '-1.1E-01', 's': '-7.1E-02', 'k0': '-7.7E-03'}\n",
      "Current ratio theta: 3.2587\n",
      "time: 0.2[s]\n",
      "\n",
      "SUE via fw (max iters: 100)\n",
      "\n",
      "Equilibrium gaps: ['1E-01', '3E-02', '1E-02', '9E-03', '6E-03', '4E-03', '3E-03', '1E-03', '2E-03', '7E-04', '4E-04', '9E-05']\n",
      "Initial Fisk Objective: -5,626,450.73\n",
      "Final Fisk Objective: -2,867,184.36\n",
      "Improvement Fisk Objective: 49.04%\n",
      "Final gap: 9E-05. Acc. bound: 1E-04. Time: 3.3 [s]\n",
      "\n",
      "Time current iteration: 3.5 [s]\n",
      "Current objective_value: 65,665,265\n",
      "Current objective improvement: 96.49%\n",
      "Current RMSE: 1073.3\n",
      "Current Normalized RMSE: 0.094\n",
      "Marginal objective improvement: 16.05%\n",
      "Marginal objective improvement value: 12,558,663.9\n",
      "\n",
      "\n",
      "Iteration : 6/10\n",
      "\n",
      "Learning params via ngd (1 iters, eta = 1.0E-01)\n",
      "\n",
      "theta: {'tt': '-4.2E-01', 'c': '-1.8E-01', 's': '-1.1E-01', 'k0': '1.9E-03'}\n",
      "Current ratio theta: 2.317\n",
      "time: 0.2[s]\n",
      "\n",
      "SUE via fw (max iters: 100)\n",
      "\n",
      "Equilibrium gaps: ['1E-01', '3E-02', '2E-02', '1E-02', '7E-03', '4E-03', '4E-03', '2E-03', '2E-03', '1E-03', '1E-03', '2E-04', '5E-05']\n",
      "Initial Fisk Objective: -6,375,314.97\n",
      "Final Fisk Objective: -2,984,731.8\n",
      "Improvement Fisk Objective: 53.18%\n",
      "Final gap: 5E-05. Acc. bound: 1E-04. Time: 3.6 [s]\n",
      "\n",
      "Time current iteration: 3.8 [s]\n",
      "Current objective_value: 58,103,958\n",
      "Current objective improvement: 96.90%\n",
      "Current RMSE: 1009.6\n",
      "Current Normalized RMSE: 0.089\n",
      "Marginal objective improvement: 11.51%\n",
      "Marginal objective improvement value: 7,561,307.0\n",
      "\n",
      "\n",
      "Iteration : 7/10\n",
      "\n",
      "Learning params via ngd (1 iters, eta = 1.0E-01)\n",
      "\n",
      "theta: {'tt': '-4.7E-01', 'c': '-2.6E-01', 's': '-1.5E-01', 'k0': '-1.1E-02'}\n",
      "Current ratio theta: 1.8177\n",
      "time: 0.2[s]\n",
      "\n",
      "SUE via fw (max iters: 100)\n",
      "\n",
      "Equilibrium gaps: ['1E-01', '3E-02', '2E-02', '1E-02', '8E-03', '5E-03', '4E-03', '2E-03', '3E-03', '1E-03', '2E-03', '3E-04', '7E-05']\n",
      "Initial Fisk Objective: -7,033,158.64\n",
      "Final Fisk Objective: -3,093,031.75\n",
      "Improvement Fisk Objective: 56.02%\n",
      "Final gap: 7E-05. Acc. bound: 1E-04. Time: 3.6 [s]\n",
      "\n",
      "Time current iteration: 3.8 [s]\n",
      "Current objective_value: 53,431,501\n",
      "Current objective improvement: 97.14%\n",
      "Current RMSE: 968.2\n",
      "Current Normalized RMSE: 0.085\n",
      "Marginal objective improvement: 8.04%\n",
      "Marginal objective improvement value: 4,672,457.0\n",
      "\n",
      "\n",
      "Iteration : 8/10\n",
      "\n",
      "Learning params via ngd (1 iters, eta = 1.0E-01)\n",
      "\n",
      "theta: {'tt': '-5.2E-01', 'c': '-3.3E-01', 's': '-1.9E-01', 'k0': '-4.6E-02'}\n",
      "Current ratio theta: 1.5775\n",
      "time: 0.2[s]\n",
      "\n",
      "SUE via fw (max iters: 100)\n",
      "\n",
      "Equilibrium gaps: ['1E-01', '3E-02', '2E-02', '1E-02', '8E-03', '5E-03', '5E-03', '2E-03', '4E-03', '1E-03', '2E-03', '5E-04', '1E-04', '1E-04', '5E-05']\n",
      "Initial Fisk Objective: -7,769,494.83\n",
      "Final Fisk Objective: -3,197,465.4\n",
      "Improvement Fisk Objective: 58.85%\n",
      "Final gap: 5E-05. Acc. bound: 1E-04. Time: 4.0 [s]\n",
      "\n",
      "Time current iteration: 4.2 [s]\n",
      "Current objective_value: 49,107,927\n",
      "Current objective improvement: 97.38%\n",
      "Current RMSE: 928.2\n",
      "Current Normalized RMSE: 0.082\n",
      "Marginal objective improvement: 8.09%\n",
      "Marginal objective improvement value: 4,323,573.5\n",
      "\n",
      "\n",
      "Iteration : 9/10\n",
      "\n",
      "Learning params via ngd (1 iters, eta = 1.0E-01)\n",
      "\n",
      "theta: {'tt': '-6.0E-01', 'c': '-3.8E-01', 's': '-2.2E-01', 'k0': '-8.5E-02'}\n",
      "Current ratio theta: 1.5865\n",
      "time: 0.2[s]\n",
      "\n",
      "SUE via fw (max iters: 100)\n",
      "\n",
      "Equilibrium gaps: ['1E-01', '4E-02', '2E-02', '1E-02', '1E-02', '6E-03', '5E-03', '3E-03', '5E-03', '2E-03', '7E-04', '8E-04', '4E-04', '2E-04', '2E-04', '1E-04', '4E-04', '2E-04', '4E-05']\n",
      "Initial Fisk Objective: -8,956,965.37\n",
      "Final Fisk Objective: -3,313,765.13\n",
      "Improvement Fisk Objective: 63.00%\n",
      "Final gap: 4E-05. Acc. bound: 1E-04. Time: 4.9 [s]\n",
      "\n",
      "Time current iteration: 5.1 [s]\n",
      "Current objective_value: 46,361,895\n",
      "Current objective improvement: 97.52%\n",
      "Current RMSE: 901.9\n",
      "Current Normalized RMSE: 0.079\n",
      "Marginal objective improvement: 5.59%\n",
      "Marginal objective improvement value: 2,746,032.2\n",
      "\n",
      "\n",
      "Iteration : 10/10\n",
      "\n",
      "Learning params via ngd (1 iters, eta = 1.0E-01)\n",
      "\n",
      "theta: {'tt': '-6.1E-01', 'c': '-4.6E-01', 's': '-2.7E-01', 'k0': '-1.1E-01'}\n",
      "Current ratio theta: 1.3274\n",
      "time: 0.2[s]\n",
      "\n",
      "SUE via fw (max iters: 100)\n",
      "\n",
      "Equilibrium gaps: ['1E-01', '4E-02', '2E-02', '1E-02', '1E-02', '6E-03', '5E-03', '3E-03', '5E-03', '2E-03', '9E-04', '9E-04', '3E-04', '2E-04', '2E-04', '1E-04', '2E-04', '1E-04', '4E-04', '2E-06']\n",
      "Initial Fisk Objective: -9,144,576.27\n",
      "Final Fisk Objective: -3,385,907.1\n",
      "Improvement Fisk Objective: 62.97%\n",
      "Final gap: 2E-06. Acc. bound: 1E-04. Time: 5.3 [s]\n",
      "\n",
      "Time current iteration: 5.5 [s]\n",
      "Current objective_value: 43,096,678\n",
      "Current objective improvement: 97.70%\n",
      "Current RMSE: 869.5\n",
      "Current Normalized RMSE: 0.077\n",
      "Marginal objective improvement: 7.04%\n",
      "Marginal objective improvement value: 3,265,216.7\n",
      "\n",
      "Summary results of bilevel optimization\n",
      "best iter: 10\n",
      "best theta: {'tt': '-6.1E-01', 'c': '-4.6E-01', 's': '-2.7E-01', 'k0': '-1.1E-01'}\n",
      "best ratio theta: 1.3274\n",
      "best objective_value: 43,096,678\n",
      "Final best objective improvement: 97.70%\n",
      "Final best objective improvement value: 1,828,281,192.1\n",
      "Best RMSE: 869.5\n",
      "Best Normalized RMSE: 0.077\n",
      "Total time: 34.5 [s]\n",
      "\n",
      "Performing hypothesis testing (H0: theta = 0, alpha = 0.05)\n",
      "Hessian approximated as J^T J\n",
      "\n",
      "Summary of parameters: \n",
      " parameter    est              CI  width_CI  t-test  p-value\n",
      "       tt -0.606 [-0.81, -0.403]     0.204  -5.971    0.000\n",
      "        c -0.457 [-0.79, -0.123]     0.333  -2.749    0.008\n",
      "        s -0.265 [-0.706, 0.175]     0.440  -1.209    0.232\n",
      "       k0 -0.114 [-0.315, 0.087]     0.201  -1.137    0.261\n",
      "\n",
      "Computing F-test\n",
      "\n",
      "Summary of model: \n",
      "       F  critical-F     p  n  dof_m1  dof_m2         sse_m1       sse_m2\n",
      "371.626       2.546 0.000 57       0       4 1871377870.471 64425304.666\n",
      "Time: 0.3[s]\n"
     ]
    }
   ],
   "source": [
    "learning_results_norefined, inference_results_norefined, best_iter_norefined = \\\n",
    "    learner_norefined.statistical_inference(h0=0, bilevel_iters=10, alpha=0.05, iteration_report = True)\n",
    "\n",
    "theta_norefined = learning_results_norefined[best_iter_norefined]['theta']"
   ]
  },
  {
   "cell_type": "markdown",
   "source": [
    "### Refined stage"
   ],
   "metadata": {
    "collapsed": false,
    "pycharm": {
     "name": "#%% md\n"
    }
   }
  },
  {
   "cell_type": "code",
   "execution_count": 20,
   "metadata": {},
   "outputs": [
    {
     "name": "stdout",
     "output_type": "stream",
     "text": [
      "\n",
      "Bilevel optimization for SiouxFalls network \n",
      "\n",
      "Iteration : 1/10\n",
      "\n",
      "Initial theta: {'tt': '-6.1E-01', 'c': '-4.6E-01', 's': '-2.7E-01', 'k0': '-1.1E-01'}\n",
      "Initial ratio theta: 1.3274\n",
      "\n",
      "SUE via fw (max iters: 100)\n",
      "\n",
      "Equilibrium gaps: ['1E-01', '4E-02', '2E-02', '1E-02', '1E-02', '6E-03', '5E-03', '3E-03', '5E-03', '2E-03', '9E-04', '9E-04', '3E-04', '2E-04', '2E-04', '1E-04', '2E-04', '1E-04', '4E-04', '2E-06']\n",
      "Initial Fisk Objective: -9,144,576.27\n",
      "Final Fisk Objective: -3,385,907.1\n",
      "Improvement Fisk Objective: 62.97%\n",
      "Final gap: 2E-06. Acc. bound: 1E-04. Time: 5.5 [s]\n",
      "Initial objective: 43,096,678\n",
      "Initial RMSE: 869.5\n",
      "Initial Normalized RMSE: 0.077\n",
      "\n",
      "Iteration : 2/10\n",
      "\n",
      "Learning params via lm (1 iters)\n",
      "\n",
      "Damping factors: ['1.0E-02']---| 0.0% \n",
      "theta: {'tt': '-6.0E-01', 'c': '-6.0E-01', 's': '-8.7E-01', 'k0': '-1.3E-01'}\n",
      "Current ratio theta: 1.0059\n",
      "time: 0.3[s]\n",
      "\n",
      "SUE via fw (max iters: 100)\n",
      "\n",
      "Equilibrium gaps: ['1E-01', '4E-02', '2E-02', '1E-02', '1E-02', '6E-03', '6E-03', '3E-03', '5E-03', '2E-03', '1E-04', '1E-03', '6E-04', '1E-04', '2E-04', '7E-05']\n",
      "Initial Fisk Objective: -8,901,788.59\n",
      "Final Fisk Objective: -3,740,135.01\n",
      "Improvement Fisk Objective: 57.98%\n",
      "Final gap: 7E-05. Acc. bound: 1E-04. Time: 5.8 [s]\n",
      "\n",
      "Time current iteration: 6.1 [s]\n",
      "Current objective_value: 34,081,279\n",
      "Current objective improvement: 20.92%\n",
      "Current RMSE: 773.3\n",
      "Current Normalized RMSE: 0.068\n",
      "Marginal objective improvement: 20.92%\n",
      "Marginal objective improvement value: 9,015,398.9\n",
      "\n",
      "\n",
      "Iteration : 3/10\n",
      "\n",
      "Learning params via lm (1 iters)\n",
      "\n",
      "Damping factors: ['1.0E-02']---| 0.0% \n",
      "theta: {'tt': '-5.3E-01', 'c': '-1.6E+00', 's': '-1.6E+00', 'k0': '5.4E-02'}\n",
      "Current ratio theta: 0.3346\n",
      "time: 0.3[s]\n",
      "\n",
      "SUE via fw (max iters: 100)\n",
      "\n",
      "Equilibrium gaps: ['6E-02', '3E-02', '2E-02', '9E-03', '7E-03', '4E-03', '4E-03', '2E-03', '3E-03', '1E-03', '5E-04', '4E-04', '2E-04', '2E-04', '1E-04', '1E-04', '8E-05']\n",
      "Initial Fisk Objective: -7,931,080.61\n",
      "Final Fisk Objective: -4,431,107.14\n",
      "Improvement Fisk Objective: 44.13%\n",
      "Final gap: 8E-05. Acc. bound: 1E-04. Time: 6.3 [s]\n",
      "\n",
      "Time current iteration: 6.6 [s]\n",
      "Current objective_value: 12,840,857\n",
      "Current objective improvement: 70.20%\n",
      "Current RMSE: 474.6\n",
      "Current Normalized RMSE: 0.042\n",
      "Marginal objective improvement: 62.32%\n",
      "Marginal objective improvement value: 21,240,422.7\n",
      "\n",
      "\n",
      "Iteration : 4/10\n",
      "\n",
      "Learning params via lm (1 iters)\n",
      "\n",
      "Damping factors: ['1.0E-02']---| 0.0% \n",
      "theta: {'tt': '-8.4E-01', 'c': '-2.7E+00', 's': '-2.1E+00', 'k0': '-1.4E-01'}\n",
      "Current ratio theta: 0.3116\n",
      "time: 0.3[s]\n",
      "\n",
      "SUE via fw (max iters: 100)\n",
      "\n",
      "Equilibrium gaps: ['9E-02', '3E-02', '3E-02', '1E-02', '2E-02', '1E-02', '3E-03', '3E-03', '1E-03', '2E-03', '8E-04', '1E-03', '6E-04', '4E-04', '3E-04', '8E-05']\n",
      "Initial Fisk Objective: -12,149,413.4\n",
      "Final Fisk Objective: -5,496,390.42\n",
      "Improvement Fisk Objective: 54.76%\n",
      "Final gap: 8E-05. Acc. bound: 1E-04. Time: 6.8 [s]\n",
      "\n",
      "Time current iteration: 7.1 [s]\n",
      "Current objective_value: 7,560,385\n",
      "Current objective improvement: 82.46%\n",
      "Current RMSE: 364.2\n",
      "Current Normalized RMSE: 0.032\n",
      "Marginal objective improvement: 41.12%\n",
      "Marginal objective improvement value: 5,280,471.4\n",
      "\n",
      "\n",
      "Iteration : 5/10\n",
      "\n",
      "Learning params via lm (1 iters)\n",
      "\n",
      "Damping factors: ['1.0E-02']---| 0.0% \n",
      "theta: {'tt': '-1.1E+00', 'c': '-4.3E+00', 's': '-3.2E+00', 'k0': '-2.3E-01'}\n",
      "Current ratio theta: 0.2563\n",
      "time: 0.3[s]\n",
      "\n",
      "SUE via fw (max iters: 100)\n",
      "\n",
      "Equilibrium gaps: ['1E-01', '3E-02', '3E-02', '1E-02', '2E-02', '9E-03', '5E-03', '3E-03', '1E-03', '1E-03', '1E-03', '8E-04', '1E-03', '8E-04', '4E-04', '4E-04', '2E-04', '3E-04', '2E-04', '4E-04', '2E-04', '4E-04', '2E-04', '5E-05']\n",
      "Initial Fisk Objective: -16,109,230.41\n",
      "Final Fisk Objective: -6,996,248.86\n",
      "Improvement Fisk Objective: 56.57%\n",
      "Final gap: 5E-05. Acc. bound: 1E-04. Time: 9.7 [s]\n",
      "\n",
      "Time current iteration: 10.0 [s]\n",
      "Current objective_value: 2,787,590\n",
      "Current objective improvement: 93.53%\n",
      "Current RMSE: 221.1\n",
      "Current Normalized RMSE: 0.019\n",
      "Marginal objective improvement: 63.13%\n",
      "Marginal objective improvement value: 4,772,794.9\n",
      "\n",
      "\n",
      "Iteration : 6/10\n",
      "\n",
      "Learning params via lm (1 iters)\n",
      "\n",
      "Damping factors: ['1.0E-02']---| 0.0% \n",
      "theta: {'tt': '-1.4E+00', 'c': '-5.4E+00', 's': '-4.3E+00', 'k0': '-5.4E-01'}\n",
      "Current ratio theta: 0.2637\n",
      "time: 0.4[s]\n",
      "\n",
      "SUE via fw (max iters: 100)\n",
      "\n",
      "Equilibrium gaps: ['1E-01', '3E-02', '3E-02', '1E-02', '2E-02', '1E-02', '5E-03', '3E-03', '5E-03', '2E-03', '8E-04', '1E-03', '6E-04', '1E-03', '7E-04', '8E-04', '1E-03', '1E-04', '7E-05']\n",
      "Initial Fisk Objective: -20,654,449.86\n",
      "Final Fisk Objective: -8,389,612.06\n",
      "Improvement Fisk Objective: 59.38%\n",
      "Final gap: 7E-05. Acc. bound: 1E-04. Time: 7.7 [s]\n",
      "\n",
      "Time current iteration: 8.1 [s]\n",
      "Current objective_value: 2,699,533\n",
      "Current objective improvement: 93.74%\n",
      "Current RMSE: 217.6\n",
      "Current Normalized RMSE: 0.019\n",
      "Marginal objective improvement: 3.16%\n",
      "Marginal objective improvement value: 88,057.3\n",
      "\n",
      "\n",
      "Iteration : 7/10\n",
      "\n",
      "Learning params via lm (1 iters)\n",
      "\n",
      "Damping factors: ['1.0E-02']---| 0.0% \n",
      "theta: {'tt': '-1.9E+00', 'c': '-7.5E+00', 's': '-5.9E+00', 'k0': '-9.5E-01'}\n",
      "Current ratio theta: 0.2533\n",
      "time: 0.3[s]\n",
      "\n",
      "SUE via fw (max iters: 100)\n",
      "\n",
      "Equilibrium gaps: ['2E-01', '4E-02', '4E-02', '1E-02', '2E-02', '1E-02', '7E-03', '4E-03', '2E-03', '1E-03', '2E-03', '1E-03', '1E-03', '1E-03', '5E-04', '6E-04', '2E-04', '5E-04', '2E-04', '5E-04', '2E-04', '3E-04', '3E-04', '7E-05']\n",
      "Initial Fisk Objective: -27,957,043.96\n",
      "Final Fisk Objective: -10,526,219.68\n",
      "Improvement Fisk Objective: 62.35%\n",
      "Final gap: 7E-05. Acc. bound: 1E-04. Time: 8.5 [s]\n",
      "\n",
      "Time current iteration: 8.9 [s]\n",
      "Current objective_value: 2,417,999\n",
      "Current objective improvement: 94.39%\n",
      "Current RMSE: 206.0\n",
      "Current Normalized RMSE: 0.018\n",
      "Marginal objective improvement: 10.43%\n",
      "Marginal objective improvement value: 281,533.9\n",
      "\n",
      "\n",
      "Iteration : 8/10\n",
      "\n",
      "Learning params via lm (1 iters)\n",
      "\n",
      "Damping factors: ['1.0E-02']---| 0.0% \n",
      "theta: {'tt': '-3.0E+00', 'c': '-1.2E+01', 's': '-9.3E+00', 'k0': '-2.1E+00'}\n",
      "Current ratio theta: 0.2562\n",
      "time: 0.3[s]\n",
      "\n",
      "SUE via fw (max iters: 100)\n",
      "\n",
      "Equilibrium gaps: ['2E-01', '5E-02', '4E-02', '2E-02', '3E-02', '1E-02', '8E-03', '4E-03', '2E-03', '2E-03', '8E-04', '2E-03', '2E-03', '4E-04', '3E-04', '3E-04', '5E-04', '2E-04', '8E-04', '4E-04', '2E-04', '8E-05']\n",
      "Initial Fisk Objective: -47,137,542.68\n",
      "Final Fisk Objective: -15,300,693.9\n",
      "Improvement Fisk Objective: 67.54%\n",
      "Final gap: 8E-05. Acc. bound: 1E-04. Time: 7.4 [s]\n",
      "\n",
      "Time current iteration: 7.7 [s]\n",
      "Current objective_value: 2,504,354\n",
      "Current objective improvement: 94.39%\n",
      "Current RMSE: 209.6\n",
      "Current Normalized RMSE: 0.018\n",
      "Marginal objective improvement: -3.57%\n",
      "Marginal objective improvement value: -86,354.6\n",
      "\n",
      "\n",
      "Iteration : 9/10\n",
      "\n",
      "Learning params via lm (1 iters)\n",
      "\n",
      "Damping factors: ['1.0E-02']---| 0.0% \n",
      "theta: {'tt': '-5.0E+00', 'c': '-1.8E+01', 's': '-1.6E+01', 'k0': '-4.1E+00'}\n",
      "Current ratio theta: 0.2757\n",
      "time: 0.3[s]\n",
      "\n",
      "SUE via fw (max iters: 100)\n",
      "\n",
      "Equilibrium gaps: ['2E-01', '5E-02', '5E-02', '2E-02', '2E-02', '2E-02', '1E-02', '6E-03', '5E-03', '4E-03', '4E-03', '2E-03', '1E-03', '9E-04', '2E-03', '9E-04', '8E-04', '6E-04', '5E-04', '3E-04', '4E-04', '3E-04', '8E-04', '2E-04', '8E-05']\n",
      "Initial Fisk Objective: -75,288,037.14\n",
      "Final Fisk Objective: -23,206,691.1\n",
      "Improvement Fisk Objective: 69.18%\n",
      "Final gap: 8E-05. Acc. bound: 1E-04. Time: 7.7 [s]\n",
      "\n",
      "Time current iteration: 8.0 [s]\n",
      "Current objective_value: 3,133,906\n",
      "Current objective improvement: 94.39%\n",
      "Current RMSE: 234.5\n",
      "Current Normalized RMSE: 0.021\n",
      "Marginal objective improvement: -25.14%\n",
      "Marginal objective improvement value: -629,551.9\n",
      "\n",
      "\n",
      "Iteration : 10/10\n",
      "\n",
      "Learning params via lm (1 iters)\n",
      "\n",
      "Damping factors: ['1.0E-02']---| 0.0% \n",
      "theta: {'tt': '-7.8E+00', 'c': '-2.7E+01', 's': '-2.5E+01', 'k0': '-7.2E+00'}\n",
      "Current ratio theta: 0.2831\n",
      "time: 0.3[s]\n",
      "\n",
      "SUE via fw (max iters: 100)\n",
      "\n",
      "Equilibrium gaps: ['2E-01', '6E-02', '5E-02', '2E-02', '2E-02', '2E-02', '1E-02', '7E-03', '6E-03', '4E-03', '5E-03', '2E-03', '1E-03', '7E-04', '3E-03', '1E-03', '4E-04', '4E-04', '1E-03', '3E-04', '8E-05']\n",
      "Initial Fisk Objective: -119,490,171.28\n",
      "Final Fisk Objective: -34,835,340.93\n",
      "Improvement Fisk Objective: 70.85%\n",
      "Final gap: 8E-05. Acc. bound: 1E-04. Time: 6.4 [s]\n",
      "\n",
      "Time current iteration: 6.7 [s]\n",
      "Current objective_value: 4,488,777\n",
      "Current objective improvement: 94.39%\n",
      "Current RMSE: 280.6\n",
      "Current Normalized RMSE: 0.025\n",
      "Marginal objective improvement: -43.23%\n",
      "Marginal objective improvement value: -1,354,870.7\n",
      "\n",
      "Summary results of bilevel optimization\n",
      "best iter: 7\n",
      "best theta: {'tt': '-1.9E+00', 'c': '-7.5E+00', 's': '-5.9E+00', 'k0': '-9.5E-01'}\n",
      "best ratio theta: 0.2533\n",
      "best objective_value: 2,417,999\n",
      "Final best objective improvement: 94.39%\n",
      "Final best objective improvement value: 40,678,679.1\n",
      "Best RMSE: 206.0\n",
      "Best Normalized RMSE: 0.018\n",
      "Total time: 69.2 [s]\n",
      "\n",
      "Performing hypothesis testing (H0: theta = 0, alpha = 0.05)\n",
      "Hessian approximated as J^T J\n",
      "\n",
      "Summary of parameters: \n",
      " parameter    est               CI  width_CI  t-test  p-value\n",
      "       tt -1.893 [-2.036, -1.749]     0.143 -26.458    0.000\n",
      "        c -7.473 [-8.073, -6.873]     0.600 -24.974    0.000\n",
      "        s -5.878  [-6.32, -5.436]     0.442 -26.652    0.000\n",
      "       k0 -0.954 [-1.052, -0.856]     0.098 -19.433    0.000\n",
      "\n",
      "Computing F-test\n",
      "\n",
      "Summary of model: \n",
      "       F  critical-F     p  n  dof_m1  dof_m2         sse_m1       sse_m2\n",
      "643.920       2.546 0.000 57       0       4 1871377870.471 37731115.988\n",
      "Time: 0.3[s]\n"
     ]
    }
   ],
   "source": [
    "learner_refined.utility_function.initial_values = theta_norefined\n",
    "\n",
    "learning_results_refined, inference_results_refined, best_iter_refined = \\\n",
    "    learner_refined.statistical_inference(h0=0, bilevel_iters=10, alpha=0.05, iteration_report = True)"
   ]
  },
  {
   "cell_type": "markdown",
   "source": [
    "### Reports"
   ],
   "metadata": {
    "collapsed": false,
    "pycharm": {
     "name": "#%% md\n"
    }
   }
  },
  {
   "cell_type": "code",
   "execution_count": 21,
   "metadata": {},
   "outputs": [],
   "source": [
    "estimation_reporter.add_items_report(\n",
    "    theta_norefined=theta_norefined,\n",
    "    theta_refined=learning_results_refined[best_iter_refined]['theta'],\n",
    "    best_objective_norefined = learning_results_norefined[best_iter_norefined]['objective'],\n",
    "    best_objective_refined = learning_results_refined[best_iter_refined]['objective'],\n",
    "    mean_count=mean_count_benchmark_model,\n",
    "    mean_counts_prediction_loss = mean_counts_prediction_loss,\n",
    "    equilikely_prediction_loss = equilikely_prediction_loss\n",
    ")\n",
    "\n",
    "# Summary with most relevant options, prediction error, initial parameters, etc\n",
    "estimation_reporter.write_estimation_report(\n",
    "    network=tntp_network,\n",
    "    learners=[learner_norefined, learner_refined],\n",
    "    linkdata_generator=linkdata_generator,\n",
    "    utility_function=utility_function)\n",
    "\n",
    "# Write tables with results on learning and inference\n",
    "estimation_reporter.write_learning_tables(\n",
    "    results_norefined=learning_results_norefined,\n",
    "    results_refined=learning_results_refined,\n",
    "    network = tntp_network,\n",
    "    utility_function = utility_function,\n",
    "    simulated_data = True)\n",
    "\n",
    "estimation_reporter.write_inference_tables(\n",
    "    results_norefined=inference_results_norefined,\n",
    "    results_refined=inference_results_refined,\n",
    "    float_format = '%.3f')"
   ]
  },
  {
   "cell_type": "markdown",
   "metadata": {},
   "source": [
    "## Visualizations"
   ]
  },
  {
   "cell_type": "markdown",
   "source": [
    "### Convergence"
   ],
   "metadata": {
    "collapsed": false,
    "pycharm": {
     "name": "#%% md\n"
    }
   }
  },
  {
   "cell_type": "code",
   "execution_count": 22,
   "metadata": {},
   "outputs": [
    {
     "data": {
      "text/plain": "<Figure size 504x432 with 4 Axes>",
      "image/png": "[encoded data removed]"
     },
     "metadata": {
      "needs_background": "light"
     },
     "output_type": "display_data"
    }
   ],
   "source": [
    "results_df = isl.descriptive_statistics \\\n",
    "    .get_loss_and_estimates_over_iterations(results_norefined=learning_results_norefined\n",
    "                                            , results_refined=learning_results_refined)\n",
    "\n",
    "fig = isl.visualization.Artist().convergence(\n",
    "    results_norefined_df=results_df[results_df['stage'] == 'norefined'],\n",
    "    results_refined_df=results_df[results_df['stage'] == 'refined'],\n",
    "    simulated_data= True,\n",
    "    filename='convergence_' + tntp_network.key,\n",
    "    methods=[outer_optimizer_norefined.method.key, outer_optimizer_refined.method.key],\n",
    "    theta_true = utility_function.true_values,\n",
    "    folder = estimation_reporter.dirs['estimation_folder']\n",
    ")\n",
    "\n",
    "fig.savefig(estimation_reporter.dirs['estimation_folder'] + '/' + 'bilevel_optimization_convergence.pdf',\n",
    "            pad_inches=0.1, bbox_inches=\"tight\")\n",
    "\n",
    "plt.show()\n",
    "\n",
    "plt.close(fig)"
   ]
  },
  {
   "cell_type": "markdown",
   "source": [
    "### Distribution of errors across link counts"
   ],
   "metadata": {
    "collapsed": false,
    "pycharm": {
     "name": "#%% md\n"
    }
   }
  },
  {
   "cell_type": "code",
   "execution_count": 23,
   "metadata": {},
   "outputs": [
    {
     "data": {
      "text/plain": "<Figure size 576x288 with 2 Axes>",
      "image/png": "[encoded data removed]"
     },
     "metadata": {
      "needs_background": "light"
     },
     "output_type": "display_data"
    }
   ],
   "source": [
    "best_x_norefined = np.array(list(learning_results_norefined[best_iter_refined]['x'].values()))[:, np.newaxis]\n",
    "best_x_refined = np.array(list(learning_results_refined[best_iter_refined]['x'].values()))[:, np.newaxis]\n",
    "\n",
    "fig, axs = plt.subplots(1, 2, sharey=True, tight_layout=True, figsize=(8, 4))\n",
    "\n",
    "# We can set the number of bins with the `bins` kwarg\n",
    "axs[0].hist(isl.estimation.error_by_link(observed_counts=tntp_network.counts_vector, predicted_counts=best_x_norefined))\n",
    "axs[1].hist(isl.estimation.error_by_link(observed_counts=tntp_network.counts_vector, predicted_counts=best_x_refined))\n",
    "\n",
    "for axi in [axs[0], axs[1]]:\n",
    "    axi.tick_params(axis='x', labelsize=16)\n",
    "    axi.tick_params(axis='y', labelsize=16)\n",
    "\n",
    "fig.savefig(estimation_reporter.dirs['estimation_folder'] + '/' + 'distribution_predicted_count_error.pdf',\n",
    "            pad_inches=0.1, bbox_inches=\"tight\")\n",
    "\n",
    "plt.show()\n",
    "\n",
    "plt.close(fig)"
   ]
  },
  {
   "cell_type": "markdown",
   "source": [
    "### Heatmap of O-D matrix"
   ],
   "metadata": {
    "collapsed": false,
    "pycharm": {
     "name": "#%% md\n"
    }
   }
  },
  {
   "cell_type": "code",
   "execution_count": 24,
   "metadata": {
    "pycharm": {
     "name": "#%%\n"
    }
   },
   "outputs": [
    {
     "data": {
      "text/plain": "<Figure size 576x432 with 2 Axes>",
      "image/png": "[encoded data removed]"
     },
     "metadata": {
      "needs_background": "light"
     },
     "output_type": "display_data"
    }
   ],
   "source": [
    "rows, cols = tntp_network.Q.shape\n",
    "\n",
    "od_df = pd.DataFrame({'origin': pd.Series([], dtype=int)\n",
    "                         , 'destination': pd.Series([], dtype=int)\n",
    "                         , 'trips': pd.Series([], dtype=int)})\n",
    "\n",
    "counter = 0\n",
    "for origin in range(0, rows):\n",
    "    for destination in range(0, cols):\n",
    "        # od_df.loc[counter] = [(origin+1,destination+1), N['train'][current_network].Q[(origin,destination)]]\n",
    "        od_df.loc[counter] = [int(origin + 1), int(destination + 1), tntp_network.Q[(origin, destination)]]\n",
    "        counter += 1\n",
    "\n",
    "od_df.origin = od_df.origin.astype(int)\n",
    "od_df.destination = od_df.destination.astype(int)\n",
    "\n",
    "od_pivot_df = od_df.pivot_table(index='origin', columns='destination', values='trips')\n",
    "\n",
    "fig, ax = plt.subplots(figsize=(8, 6))\n",
    "ax = sns.heatmap(od_pivot_df, linewidth=0.5, cmap=\"Blues\")\n",
    "\n",
    "plt.show()\n",
    "\n",
    "fig.savefig(estimation_reporter.dirs['estimation_folder'] + '/' + 'heatmap_OD_matrix.pdf',\n",
    "            pad_inches=0.1, bbox_inches=\"tight\")\n",
    "plt.close(fig)"
   ]
  }
 ],
 "metadata": {
  "kernelspec": {
   "name": "venv-isuelogit",
   "language": "python",
   "display_name": "venv-isuelogit"
  },
  "language_info": {
   "codemirror_mode": {
    "name": "ipython",
    "version": 3
   },
   "file_extension": ".py",
   "mimetype": "text/x-python",
   "name": "python",
   "nbconvert_exporter": "python",
   "pygments_lexer": "ipython3",
   "version": "3.7.11"
  }
 },
 "nbformat": 4,
 "nbformat_minor": 4
}